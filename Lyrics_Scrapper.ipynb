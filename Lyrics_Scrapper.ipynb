{
  "nbformat": 4,
  "nbformat_minor": 0,
  "metadata": {
    "colab": {
      "name": "Lyrics Scrapper.ipynb",
      "provenance": [],
      "collapsed_sections": [],
      "authorship_tag": "ABX9TyNFAjKX2Ti3zGy0X984wS5P",
      "include_colab_link": true
    },
    "kernelspec": {
      "name": "python3",
      "display_name": "Python 3"
    },
    "language_info": {
      "name": "python"
    }
  },
  "cells": [
    {
      "cell_type": "markdown",
      "metadata": {
        "id": "view-in-github",
        "colab_type": "text"
      },
      "source": [
        "<a href=\"https://colab.research.google.com/github/hannahbhchou/song-recommendation/blob/main/Lyrics_Scrapper.ipynb\" target=\"_parent\"><img src=\"https://colab.research.google.com/assets/colab-badge.svg\" alt=\"Open In Colab\"/></a>"
      ]
    },
    {
      "cell_type": "code",
      "metadata": {
        "id": "z7e-jJdJNAlJ"
      },
      "source": [
        "GENIUS_API_TOKEN='zTJcf2nWD9L_uvBVw8MaGLF8gY1prbNKlNiKfhJdey-_ybEkXzBuX1lOTsHaMnSi'"
      ],
      "execution_count": null,
      "outputs": []
    },
    {
      "cell_type": "code",
      "metadata": {
        "id": "FGHp8fzjNLJv"
      },
      "source": [
        "import requests #Scrape data from an HTML document\n",
        "from bs4 import BeautifulSoup # I/O\n",
        "import os #Search and manipulate strings\n",
        "import re\n",
        "import pandas as pd\n",
        "import time\n",
        "import csv\n",
        "import random"
      ],
      "execution_count": null,
      "outputs": []
    },
    {
      "cell_type": "code",
      "metadata": {
        "id": "P03_MHGaNihn"
      },
      "source": [
        "artist_url = \"https://gist.githubusercontent.com/hannahbhchou/096fc3192c18436046f490fc195fa265/raw/e230da3dfc1f42d32078b00525167283deed8010/best_selling_artist.csv\"\n",
        "\n",
        "best_selling_artist_df = pd.read_csv(artist_url)"
      ],
      "execution_count": null,
      "outputs": []
    },
    {
      "cell_type": "code",
      "metadata": {
        "colab": {
          "base_uri": "https://localhost:8080/",
          "height": 206
        },
        "id": "YDWJTGNvPS4S",
        "outputId": "ff391732-e094-4950-95a0-70461f7fd355"
      },
      "source": [
        "best_selling_artist_df.head()"
      ],
      "execution_count": null,
      "outputs": [
        {
          "output_type": "execute_result",
          "data": {
            "text/html": [
              "<div>\n",
              "<style scoped>\n",
              "    .dataframe tbody tr th:only-of-type {\n",
              "        vertical-align: middle;\n",
              "    }\n",
              "\n",
              "    .dataframe tbody tr th {\n",
              "        vertical-align: top;\n",
              "    }\n",
              "\n",
              "    .dataframe thead th {\n",
              "        text-align: right;\n",
              "    }\n",
              "</style>\n",
              "<table border=\"1\" class=\"dataframe\">\n",
              "  <thead>\n",
              "    <tr style=\"text-align: right;\">\n",
              "      <th></th>\n",
              "      <th>Artist</th>\n",
              "      <th>Country / Market</th>\n",
              "      <th>Claimed sales</th>\n",
              "    </tr>\n",
              "  </thead>\n",
              "  <tbody>\n",
              "    <tr>\n",
              "      <th>0</th>\n",
              "      <td>The Beatles</td>\n",
              "      <td>United Kingdom</td>\n",
              "      <td>600 million[40][41]500 million[42]</td>\n",
              "    </tr>\n",
              "    <tr>\n",
              "      <th>1</th>\n",
              "      <td>Elvis Presley</td>\n",
              "      <td>United States</td>\n",
              "      <td>600 million[52][53]500 million[54]</td>\n",
              "    </tr>\n",
              "    <tr>\n",
              "      <th>2</th>\n",
              "      <td>Michael Jackson</td>\n",
              "      <td>United States</td>\n",
              "      <td>350 million[66][67]300 million[68][69]</td>\n",
              "    </tr>\n",
              "    <tr>\n",
              "      <th>3</th>\n",
              "      <td>Elton John</td>\n",
              "      <td>United Kingdom</td>\n",
              "      <td>300 million[74][75]250 million[76][77]</td>\n",
              "    </tr>\n",
              "    <tr>\n",
              "      <th>4</th>\n",
              "      <td>Madonna</td>\n",
              "      <td>United States</td>\n",
              "      <td>300 million[86][87]275 million[88]</td>\n",
              "    </tr>\n",
              "  </tbody>\n",
              "</table>\n",
              "</div>"
            ],
            "text/plain": [
              "            Artist Country / Market                           Claimed sales\n",
              "0      The Beatles   United Kingdom      600 million[40][41]500 million[42]\n",
              "1    Elvis Presley    United States      600 million[52][53]500 million[54]\n",
              "2  Michael Jackson    United States  350 million[66][67]300 million[68][69]\n",
              "3       Elton John   United Kingdom  300 million[74][75]250 million[76][77]\n",
              "4          Madonna    United States      300 million[86][87]275 million[88]"
            ]
          },
          "metadata": {
            "tags": []
          },
          "execution_count": 9
        }
      ]
    },
    {
      "cell_type": "code",
      "metadata": {
        "id": "HP8V6So3NsOn"
      },
      "source": [
        "best_selling_artist_df.iloc[75, 0] = \"P!nk\""
      ],
      "execution_count": null,
      "outputs": []
    },
    {
      "cell_type": "code",
      "metadata": {
        "id": "YI1r6oBMNtmC"
      },
      "source": [
        "broken_artist = [\"Celine Dion\", \"Guns N Roses\", \"The Carpenters\", \"R.E.M.\", \"The Black Eyed Peas\"]"
      ],
      "execution_count": null,
      "outputs": []
    },
    {
      "cell_type": "code",
      "metadata": {
        "id": "T31c2dijPAcl"
      },
      "source": [
        "index_names = []\n",
        "\n",
        "for i in range(0, len(broken_artist)):\n",
        "  index_names.append(best_selling_artist_df[best_selling_artist_df['Artist'] == broken_artist[i]].index)\n",
        "\n",
        "for index in index_names:\n",
        "  best_selling_artist_df.drop(index, inplace = True)"
      ],
      "execution_count": null,
      "outputs": []
    },
    {
      "cell_type": "code",
      "metadata": {
        "id": "vgNu2LETNXcD"
      },
      "source": [
        "# Get artist object from Genius API\n",
        "def request_artist_info(artist_name, page):\n",
        "    base_url = 'https://api.genius.com'\n",
        "    headers = {'Authorization': 'Bearer ' + GENIUS_API_TOKEN}\n",
        "    search_url = base_url + '/search?per_page=10&page=' + str(page)\n",
        "    data = {'q': artist_name}\n",
        "    response = requests.get(search_url, data=data, headers=headers, timeout = 10)\n",
        "    return response# Get Genius.com song url's from artist object\n",
        "    \n",
        "def request_song_url(artist_name, song_cap):\n",
        "    page = 1\n",
        "    songs = []\n",
        "    \n",
        "    while True:\n",
        "        response = request_artist_info(artist_name, page)\n",
        "        json = response.json()        # Collect up to song_cap song objects from artist\n",
        "        song_info = []\n",
        "        for hit in json['response']['hits']:\n",
        "            if artist_name.lower() in hit['result']['primary_artist']['name'].lower():\n",
        "                song_info.append(hit)\n",
        "    \n",
        "        # Collect song URL's from song objects\n",
        "        for song in song_info:\n",
        "            if (len(songs) < song_cap):\n",
        "                url = song['result']['url']\n",
        "                songs.append(url)\n",
        "            \n",
        "        if (len(songs) == song_cap):\n",
        "            break\n",
        "        else:\n",
        "            page += 1\n",
        "        \n",
        "    print('Found {} songs by {}'.format(len(songs), artist_name))\n",
        "    return songs"
      ],
      "execution_count": null,
      "outputs": []
    },
    {
      "cell_type": "code",
      "metadata": {
        "id": "ysC3ZSjMNYDe"
      },
      "source": [
        "def request_10_song_url(artist_name):\n",
        "    page = 1\n",
        "    songs = []\n",
        "    song_cap = 10\n",
        "    \n",
        "    while True:\n",
        "        response = request_artist_info(artist_name, page)\n",
        "        json = response.json()        # Collect up to song_cap song objects from artist\n",
        "        song_info = []\n",
        "        for hit in json['response']['hits']:\n",
        "            if artist_name.lower() in hit['result']['primary_artist']['name'].lower():\n",
        "                song_info.append(hit)\n",
        "    \n",
        "        # Collect song URL's from song objects\n",
        "        for song in song_info:\n",
        "            if (len(songs) < song_cap):\n",
        "                url = song['result']['url']\n",
        "                songs.append(url)\n",
        "            \n",
        "        if (len(songs) == song_cap):\n",
        "            break\n",
        "        else:\n",
        "            page += 1\n",
        "        \n",
        "    return songs"
      ],
      "execution_count": null,
      "outputs": []
    },
    {
      "cell_type": "code",
      "metadata": {
        "id": "_FtAbW2NOLeD"
      },
      "source": [
        "randomlist = []\n",
        "for i in range(0,1050):\n",
        "  n = random.randint(1,5)\n",
        "  randomlist.append(n)"
      ],
      "execution_count": null,
      "outputs": []
    },
    {
      "cell_type": "code",
      "metadata": {
        "id": "j6gJoomaNfxq"
      },
      "source": [
        "sleep_sequence = 0\n",
        "\n",
        "with open('artist_url.csv','w') as f1:\n",
        "    writer=csv.writer(f1, delimiter=',',lineterminator='\\n',)\n",
        "    for artist in best_selling_artist_df[\"Artist\"]:\n",
        "      song_urls = request_10_song_url(artist)\n",
        "      for song_url in song_urls:\n",
        "        writer.writerow([song_url])\n",
        "      time.sleep(randomlist[sleep_sequence])\n",
        "      sleep_sequence += 1"
      ],
      "execution_count": null,
      "outputs": []
    },
    {
      "cell_type": "code",
      "metadata": {
        "id": "cW0g-xHQRnLk"
      },
      "source": [
        "def find_tag(tag):\n",
        "    if tag.name != \"div\":\n",
        "        return False\n",
        "\n",
        "    cls = tag.attrs.get(\"class\", [])\n",
        "\n",
        "    return any(\n",
        "        c.startswith(w) for c in cls for w in (\"lyrics\", \"SongPage__Section\")\n",
        "    )\n",
        "\n",
        "\n",
        "def scrape_song_lyrics(url):\n",
        "    page = requests.get(url)\n",
        "    html = BeautifulSoup(page.text, \"html.parser\")\n",
        "    lyrics = html.find(find_tag).get_text(separator = \"\\n\")\n",
        "    # remove identifiers like chorus, verse, etc\n",
        "    lyrics = re.sub(r'[\\(\\[].*?[\\)\\]]', '', lyrics)\n",
        "    # remove empty lines\n",
        "    lyrics = os.linesep.join([s for s in lyrics.splitlines() if s]) \n",
        "    return lyrics"
      ],
      "execution_count": null,
      "outputs": []
    },
    {
      "cell_type": "code",
      "metadata": {
        "id": "Qy2ELjOaSbkO"
      },
      "source": [
        "path = '/content/drive/Shareddrives/MBD Term 3 Group 3/Natural Language Processing/Lyrics/song_urls.csv'\n",
        "song_df = pd.read_csv(path)"
      ],
      "execution_count": null,
      "outputs": []
    },
    {
      "cell_type": "code",
      "metadata": {
        "id": "iiGkkerHSBwC"
      },
      "source": [
        "sleep_sequence = 0\n",
        "\n",
        "with open('song_lyrics.csv','w') as f1:\n",
        "    writer=csv.writer(f1, delimiter=',',lineterminator='\\n',)\n",
        "    for url in song_df[\"URL\"]:\n",
        "      lyrics = scrape_song_lyrics(url)\n",
        "      writer.writerow([url, lyrics])\n",
        "      time.sleep(randomlist[sleep_sequence])\n",
        "      sleep_sequence += 1"
      ],
      "execution_count": null,
      "outputs": []
    },
    {
      "cell_type": "code",
      "metadata": {
        "id": "B4hcmU92SwE-"
      },
      "source": [
        ""
      ],
      "execution_count": null,
      "outputs": []
    }
  ]
}