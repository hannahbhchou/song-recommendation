{
  "nbformat": 4,
  "nbformat_minor": 0,
  "metadata": {
    "colab": {
      "name": "Lyrics Topic Recommeder.ipynb",
      "provenance": [],
      "collapsed_sections": [
        "ZeJrDmIh9YgW"
      ],
      "toc_visible": true,
      "mount_file_id": "13V6BhFxnvcwcjYNr40-k3xSbnR8cTESL",
      "authorship_tag": "ABX9TyN1eO1pDXDL4RyBdUf182Cp",
      "include_colab_link": true
    },
    "kernelspec": {
      "name": "python3",
      "display_name": "Python 3"
    },
    "language_info": {
      "name": "python"
    }
  },
  "cells": [
    {
      "cell_type": "markdown",
      "metadata": {
        "id": "view-in-github",
        "colab_type": "text"
      },
      "source": [
        "<a href=\"https://colab.research.google.com/github/hannahbhchou/song-recommendation/blob/main/Lyrics_Topic_Recommeder.ipynb\" target=\"_parent\"><img src=\"https://colab.research.google.com/assets/colab-badge.svg\" alt=\"Open In Colab\"/></a>"
      ]
    },
    {
      "cell_type": "markdown",
      "metadata": {
        "id": "CZBggFXlrDkG"
      },
      "source": [
        "### Preprocessing Lyrics Text"
      ]
    },
    {
      "cell_type": "code",
      "metadata": {
        "id": "WBdCOXsjTGQw"
      },
      "source": [
        "import numpy as np\n",
        "import pandas as pd\n",
        "import time\n",
        "import csv\n",
        "import random\n",
        "import re\n",
        "import os"
      ],
      "execution_count": null,
      "outputs": []
    },
    {
      "cell_type": "code",
      "metadata": {
        "id": "jOh65nQu_WhI"
      },
      "source": [
        "import warnings"
      ],
      "execution_count": null,
      "outputs": []
    },
    {
      "cell_type": "code",
      "metadata": {
        "id": "PCT4kzTN_NCj"
      },
      "source": [
        "warnings.filterwarnings(\"ignore\", category=DeprecationWarning)"
      ],
      "execution_count": null,
      "outputs": []
    },
    {
      "cell_type": "code",
      "metadata": {
        "id": "HpUCQwWV3c8P"
      },
      "source": [
        "lyrics_url = \"https://gist.githubusercontent.com/hannahbhchou/6c1608f211a85d4d013d95a51c32a3f8/raw/833566eb910c086081b3b06951d2dc789b095c5d/song_lyrics_final.csv\""
      ],
      "execution_count": null,
      "outputs": []
    },
    {
      "cell_type": "code",
      "metadata": {
        "id": "MI31LyFd3sRi"
      },
      "source": [
        "lyrics_df = pd.read_csv(url, names= [\"URL\", \"Lyrics\"])"
      ],
      "execution_count": null,
      "outputs": []
    },
    {
      "cell_type": "code",
      "metadata": {
        "colab": {
          "base_uri": "https://localhost:8080/",
          "height": 206
        },
        "id": "magwDr7F3yRn",
        "outputId": "a72b2647-de9c-4ef1-cea5-db266e5dddbd"
      },
      "source": [
        "lyrics_df.head()"
      ],
      "execution_count": null,
      "outputs": [
        {
          "output_type": "execute_result",
          "data": {
            "text/html": [
              "<div>\n",
              "<style scoped>\n",
              "    .dataframe tbody tr th:only-of-type {\n",
              "        vertical-align: middle;\n",
              "    }\n",
              "\n",
              "    .dataframe tbody tr th {\n",
              "        vertical-align: top;\n",
              "    }\n",
              "\n",
              "    .dataframe thead th {\n",
              "        text-align: right;\n",
              "    }\n",
              "</style>\n",
              "<table border=\"1\" class=\"dataframe\">\n",
              "  <thead>\n",
              "    <tr style=\"text-align: right;\">\n",
              "      <th></th>\n",
              "      <th>URL</th>\n",
              "      <th>Lyrics</th>\n",
              "    </tr>\n",
              "  </thead>\n",
              "  <tbody>\n",
              "    <tr>\n",
              "      <th>0</th>\n",
              "      <td>https://genius.com/The-beatles-let-it-be-lyrics</td>\n",
              "      <td>When I find myself in times of trouble, Mother...</td>\n",
              "    </tr>\n",
              "    <tr>\n",
              "      <th>1</th>\n",
              "      <td>https://genius.com/The-beatles-come-together-l...</td>\n",
              "      <td>Shoot me\\nShoot me\\nShoot me\\nShoot me\\nHere c...</td>\n",
              "    </tr>\n",
              "    <tr>\n",
              "      <th>2</th>\n",
              "      <td>https://genius.com/The-beatles-yesterday-lyrics</td>\n",
              "      <td>Yesterday\\nAll my troubles seemed so far away\\...</td>\n",
              "    </tr>\n",
              "    <tr>\n",
              "      <th>3</th>\n",
              "      <td>https://genius.com/The-beatles-something-lyrics</td>\n",
              "      <td>Something in the way she moves\\nAttracts me li...</td>\n",
              "    </tr>\n",
              "    <tr>\n",
              "      <th>4</th>\n",
              "      <td>https://genius.com/The-beatles-here-comes-the-...</td>\n",
              "      <td>Here comes the sun, doo da doo doo\\nHere comes...</td>\n",
              "    </tr>\n",
              "  </tbody>\n",
              "</table>\n",
              "</div>"
            ],
            "text/plain": [
              "                                                 URL                                             Lyrics\n",
              "0    https://genius.com/The-beatles-let-it-be-lyrics  When I find myself in times of trouble, Mother...\n",
              "1  https://genius.com/The-beatles-come-together-l...  Shoot me\\nShoot me\\nShoot me\\nShoot me\\nHere c...\n",
              "2    https://genius.com/The-beatles-yesterday-lyrics  Yesterday\\nAll my troubles seemed so far away\\...\n",
              "3    https://genius.com/The-beatles-something-lyrics  Something in the way she moves\\nAttracts me li...\n",
              "4  https://genius.com/The-beatles-here-comes-the-...  Here comes the sun, doo da doo doo\\nHere comes..."
            ]
          },
          "metadata": {
            "tags": []
          },
          "execution_count": 110
        }
      ]
    },
    {
      "cell_type": "code",
      "metadata": {
        "id": "XeoJWYdnHGBR"
      },
      "source": [
        "#remove non-English text using unicode\n",
        "lyrics_df['Lyrics'] = lyrics_df[\"Lyrics\"].apply(lambda x: ''.join([\" \" if ord(i) < 32 or ord(i) > 126 else i for i in x]))"
      ],
      "execution_count": null,
      "outputs": []
    },
    {
      "cell_type": "code",
      "metadata": {
        "id": "C02gc1YPcyvd"
      },
      "source": [
        "#remove newline commands\n",
        "lyrics_df[\"Lyrics\"] = lyrics_df[\"Lyrics\"].str.replace('\\n',' ')"
      ],
      "execution_count": null,
      "outputs": []
    },
    {
      "cell_type": "code",
      "metadata": {
        "id": "LEcuqEpzeEyx"
      },
      "source": [
        "lyrics_df['Lyrics'] = lyrics_df['Lyrics'].map(lambda x: x.lower())"
      ],
      "execution_count": null,
      "outputs": []
    },
    {
      "cell_type": "code",
      "metadata": {
        "id": "XnOhA11ZI-Ad"
      },
      "source": [
        "#remove the snippets such as [chorus]\n",
        "lyrics_df['Lyrics'] = lyrics_df['Lyrics'].map(lambda x: re.sub(r'[\\(\\[].*?[\\)\\]]', '', x))"
      ],
      "execution_count": null,
      "outputs": []
    },
    {
      "cell_type": "code",
      "metadata": {
        "id": "cQiPF3TkS0nA"
      },
      "source": [
        "#remove punctuations\n",
        "lyrics_df['Lyrics'] = lyrics_df['Lyrics'].map(lambda x: re.sub('[,!+?:\"()]', '', x))"
      ],
      "execution_count": null,
      "outputs": []
    },
    {
      "cell_type": "code",
      "metadata": {
        "colab": {
          "base_uri": "https://localhost:8080/"
        },
        "id": "9c7Ob5yuWS2X",
        "outputId": "eb6a7b01-8a61-4920-8ec7-dcc4e90ba366"
      },
      "source": [
        "import nltk\n",
        "nltk.download(\"stopwords\")\n",
        "from nltk.corpus import stopwords\n",
        "np.random.seed(2018)"
      ],
      "execution_count": null,
      "outputs": [
        {
          "output_type": "stream",
          "text": [
            "[nltk_data] Downloading package stopwords to /root/nltk_data...\n",
            "[nltk_data]   Package stopwords is already up-to-date!\n"
          ],
          "name": "stdout"
        }
      ]
    },
    {
      "cell_type": "code",
      "metadata": {
        "id": "HuKkPwu0wV-Z"
      },
      "source": [
        "stop_words = stopwords.words(\"english\")"
      ],
      "execution_count": null,
      "outputs": []
    },
    {
      "cell_type": "code",
      "metadata": {
        "id": "8g9zLY6QveY3"
      },
      "source": [
        "added_words = [\"oh\",\"yeah\",\"i'm\",\"ooh\",\"woo\",\"ya\",\"hoo\", \"hmm\",\"ooooooohhh\", \"na\", \"lalala\", \"ah\", \"hey\", \"la\", \"uh\", ]"
      ],
      "execution_count": null,
      "outputs": []
    },
    {
      "cell_type": "code",
      "metadata": {
        "id": "gPXwf1hRwYj4"
      },
      "source": [
        "for x in added_words:\n",
        "  stop_words.append(x)"
      ],
      "execution_count": null,
      "outputs": []
    },
    {
      "cell_type": "code",
      "metadata": {
        "id": "_lNBxVD8u8A0"
      },
      "source": [
        "def remove_stopwords(raw_text):\n",
        "\n",
        "    words = raw_text.split()\n",
        "    not_stop_words = [w for w in words if not w in stop_words]\n",
        "  \n",
        "    return( \" \".join(not_stop_words))"
      ],
      "execution_count": null,
      "outputs": []
    },
    {
      "cell_type": "code",
      "metadata": {
        "id": "scN4oYOw4PGQ"
      },
      "source": [
        "lyrics_df['Lyrics'] = lyrics_df['Lyrics'].apply(lambda x: remove_stopwords(x))"
      ],
      "execution_count": null,
      "outputs": []
    },
    {
      "cell_type": "markdown",
      "metadata": {
        "id": "ZeJrDmIh9YgW"
      },
      "source": [
        "### Lemmatizing & Stemming Text"
      ]
    },
    {
      "cell_type": "code",
      "metadata": {
        "id": "SNqDsjiPv2qC"
      },
      "source": [
        "import gensim\n",
        "from gensim.utils import simple_preprocess\n",
        "from nltk.stem import WordNetLemmatizer, SnowballStemmer\n",
        "from nltk.stem.porter import *"
      ],
      "execution_count": null,
      "outputs": []
    },
    {
      "cell_type": "code",
      "metadata": {
        "colab": {
          "base_uri": "https://localhost:8080/"
        },
        "id": "t49T8U1vVloa",
        "outputId": "1339b8aa-20d0-4000-adfb-68547a07a2e7"
      },
      "source": [
        "import nltk\n",
        "nltk.download('wordnet')"
      ],
      "execution_count": null,
      "outputs": [
        {
          "output_type": "stream",
          "text": [
            "[nltk_data] Downloading package wordnet to /root/nltk_data...\n",
            "[nltk_data]   Package wordnet is already up-to-date!\n"
          ],
          "name": "stdout"
        },
        {
          "output_type": "execute_result",
          "data": {
            "text/plain": [
              "True"
            ]
          },
          "metadata": {
            "tags": []
          },
          "execution_count": 123
        }
      ]
    },
    {
      "cell_type": "code",
      "metadata": {
        "colab": {
          "base_uri": "https://localhost:8080/"
        },
        "id": "7fN2-IPVVlrK",
        "outputId": "807ed738-a5a9-4d46-b439-03b039567747"
      },
      "source": [
        "#testing lemmatizer\n",
        "print(WordNetLemmatizer().lemmatize('went', pos='v'))"
      ],
      "execution_count": null,
      "outputs": [
        {
          "output_type": "stream",
          "text": [
            "go\n"
          ],
          "name": "stdout"
        }
      ]
    },
    {
      "cell_type": "code",
      "metadata": {
        "colab": {
          "base_uri": "https://localhost:8080/",
          "height": 426
        },
        "id": "N_fLhtj3Vltg",
        "outputId": "9e6912b0-b2dc-4742-c593-1193306c4aac"
      },
      "source": [
        "#testing stemmer\n",
        "stemmer = SnowballStemmer('english')\n",
        "original_words = ['candies', 'babies', 'dies', 'shoot' ,'died', 'agreed', 'owned', \n",
        "           'humbled', 'sized','meeting', 'stating','sensational']\n",
        "singles = [stemmer.stem(plural) for plural in original_words]\n",
        "pd.DataFrame(data = {'original word': original_words, 'stemmed': singles})"
      ],
      "execution_count": null,
      "outputs": [
        {
          "output_type": "execute_result",
          "data": {
            "text/html": [
              "<div>\n",
              "<style scoped>\n",
              "    .dataframe tbody tr th:only-of-type {\n",
              "        vertical-align: middle;\n",
              "    }\n",
              "\n",
              "    .dataframe tbody tr th {\n",
              "        vertical-align: top;\n",
              "    }\n",
              "\n",
              "    .dataframe thead th {\n",
              "        text-align: right;\n",
              "    }\n",
              "</style>\n",
              "<table border=\"1\" class=\"dataframe\">\n",
              "  <thead>\n",
              "    <tr style=\"text-align: right;\">\n",
              "      <th></th>\n",
              "      <th>original word</th>\n",
              "      <th>stemmed</th>\n",
              "    </tr>\n",
              "  </thead>\n",
              "  <tbody>\n",
              "    <tr>\n",
              "      <th>0</th>\n",
              "      <td>candies</td>\n",
              "      <td>candi</td>\n",
              "    </tr>\n",
              "    <tr>\n",
              "      <th>1</th>\n",
              "      <td>babies</td>\n",
              "      <td>babi</td>\n",
              "    </tr>\n",
              "    <tr>\n",
              "      <th>2</th>\n",
              "      <td>dies</td>\n",
              "      <td>die</td>\n",
              "    </tr>\n",
              "    <tr>\n",
              "      <th>3</th>\n",
              "      <td>shoot</td>\n",
              "      <td>shoot</td>\n",
              "    </tr>\n",
              "    <tr>\n",
              "      <th>4</th>\n",
              "      <td>died</td>\n",
              "      <td>die</td>\n",
              "    </tr>\n",
              "    <tr>\n",
              "      <th>5</th>\n",
              "      <td>agreed</td>\n",
              "      <td>agre</td>\n",
              "    </tr>\n",
              "    <tr>\n",
              "      <th>6</th>\n",
              "      <td>owned</td>\n",
              "      <td>own</td>\n",
              "    </tr>\n",
              "    <tr>\n",
              "      <th>7</th>\n",
              "      <td>humbled</td>\n",
              "      <td>humbl</td>\n",
              "    </tr>\n",
              "    <tr>\n",
              "      <th>8</th>\n",
              "      <td>sized</td>\n",
              "      <td>size</td>\n",
              "    </tr>\n",
              "    <tr>\n",
              "      <th>9</th>\n",
              "      <td>meeting</td>\n",
              "      <td>meet</td>\n",
              "    </tr>\n",
              "    <tr>\n",
              "      <th>10</th>\n",
              "      <td>stating</td>\n",
              "      <td>state</td>\n",
              "    </tr>\n",
              "    <tr>\n",
              "      <th>11</th>\n",
              "      <td>sensational</td>\n",
              "      <td>sensat</td>\n",
              "    </tr>\n",
              "  </tbody>\n",
              "</table>\n",
              "</div>"
            ],
            "text/plain": [
              "   original word stemmed\n",
              "0        candies   candi\n",
              "1         babies    babi\n",
              "2           dies     die\n",
              "3          shoot   shoot\n",
              "4           died     die\n",
              "5         agreed    agre\n",
              "6          owned     own\n",
              "7        humbled   humbl\n",
              "8          sized    size\n",
              "9        meeting    meet\n",
              "10       stating   state\n",
              "11   sensational  sensat"
            ]
          },
          "metadata": {
            "tags": []
          },
          "execution_count": 125
        }
      ]
    },
    {
      "cell_type": "code",
      "metadata": {
        "id": "Df16RWkWWjpE"
      },
      "source": [
        "def lemmatize_stemming(text):\n",
        "    return stemmer.stem(WordNetLemmatizer().lemmatize(text, pos='v'))\n",
        "\n",
        "def preprocess(text):\n",
        "    result = []\n",
        "    for token in gensim.utils.simple_preprocess(text):\n",
        "        if token not in gensim.parsing.preprocessing.STOPWORDS and len(token) > 3:\n",
        "            result.append(lemmatize_stemming(token))\n",
        "    return result"
      ],
      "execution_count": null,
      "outputs": []
    },
    {
      "cell_type": "code",
      "metadata": {
        "id": "tgtGKzYjWvHT"
      },
      "source": [
        "#using the song https://genius.com/Lady-gaga-and-blackpink-sour-candy-lyrics to test\n",
        "sample = lyrics_df.iloc[342,1]"
      ],
      "execution_count": null,
      "outputs": []
    },
    {
      "cell_type": "code",
      "metadata": {
        "colab": {
          "base_uri": "https://localhost:8080/"
        },
        "id": "OdHcuNKBWm1Y",
        "outputId": "02888ecd-77b9-4319-ce8b-777199bf4a1d"
      },
      "source": [
        "print('original document: ')\n",
        "words = []\n",
        "for word in sample.split(' '):\n",
        "    words.append(word)\n",
        "print(words)\n",
        "print('\\n\\n tokenized and lemmatized document: ')\n",
        "print(preprocess(sample))"
      ],
      "execution_count": null,
      "outputs": [
        {
          "output_type": "stream",
          "text": [
            "original document: \n",
            "['sou-sour', 'candy', 'sour', 'candy', 'sweet', 'get', 'little', 'angry', 'sour', 'candy', 'super', 'psycho', 'make', 'crazy', 'turn', 'lights', 'low', 'sour', 'candy', 'ask', 'nice', \"i'll\", 'extra', 'mean', 'wanna', 'fix', \"let's\", 'break', 'uh-huh', 'uh-huh', 'hard', 'outside', 'give', 'time', 'could', 'make', 'time', 'love', 'hard', 'outside', 'see', 'inside', 'inside', 'inside', 'might', 'messed', 'know', \"what's\", 'want', 'real', 'taste', 'least', 'fake', 'come', 'come', 'unwrap', 'come', 'come', 'unwrap', \"i'll\", 'show', \"what's\", 'close', 'eyes', 'peek', 'undressing', 'unwrap', 'sour', 'candy', 'come', 'come', 'unwrap', 'come', 'come', 'unwrap', 'come', 'sour', 'candy', 'hard', 'outside', 'give', 'time', 'could', 'make', 'time', 'love', 'hard', 'outside', 'see', 'inside', 'inside', 'inside', 'sour', 'candy', 'sweet', \"'til\", 'get', 'little', 'angry', 'sour', 'candy', 'super', 'psycho', 'make', 'crazy', 'turn', 'lights', 'low', 'sour', 'candy', 'take', 'bite', 'take', 'bite', 's-sour', 'candy', 'take', 'bite', 'take', 'bite', 's-sour', 'candy', 'take', 'bite', 'take', 'bite', 's-sour', 'candy', 'take', 'bite', 'take', 'bite', 'sour', 'candy']\n",
            "\n",
            "\n",
            " tokenized and lemmatized document: \n",
            "['sour', 'candi', 'sour', 'candi', 'sweet', 'littl', 'angri', 'sour', 'candi', 'super', 'psycho', 'crazi', 'turn', 'light', 'sour', 'candi', 'nice', 'extra', 'mean', 'wanna', 'break', 'hard', 'outsid', 'time', 'time', 'love', 'hard', 'outsid', 'insid', 'insid', 'insid', 'mess', 'know', 'want', 'real', 'tast', 'fake', 'come', 'come', 'unwrap', 'come', 'come', 'unwrap', 'close', 'eye', 'peek', 'undress', 'unwrap', 'sour', 'candi', 'come', 'come', 'unwrap', 'come', 'come', 'unwrap', 'come', 'sour', 'candi', 'hard', 'outsid', 'time', 'time', 'love', 'hard', 'outsid', 'insid', 'insid', 'insid', 'sour', 'candi', 'sweet', 'littl', 'angri', 'sour', 'candi', 'super', 'psycho', 'crazi', 'turn', 'light', 'sour', 'candi', 'bite', 'bite', 'sour', 'candi', 'bite', 'bite', 'sour', 'candi', 'bite', 'bite', 'sour', 'candi', 'bite', 'bite', 'sour', 'candi']\n"
          ],
          "name": "stdout"
        }
      ]
    },
    {
      "cell_type": "code",
      "metadata": {
        "id": "mQTFGBa6XXDO"
      },
      "source": [
        "processed_lyrics = lyrics_df[\"Lyrics\"].map(preprocess)"
      ],
      "execution_count": null,
      "outputs": []
    },
    {
      "cell_type": "code",
      "metadata": {
        "colab": {
          "base_uri": "https://localhost:8080/"
        },
        "id": "9oDSHdSWXfoU",
        "outputId": "25fbd321-2903-444e-f3e4-4057c11d4925"
      },
      "source": [
        "processed_lyrics[:10]"
      ],
      "execution_count": null,
      "outputs": [
        {
          "output_type": "execute_result",
          "data": {
            "text/plain": [
              "0    [time, troubl, mother, mari, come, speak, word...\n",
              "1    [shoot, shoot, shoot, shoot, come, flat, come,...\n",
              "2    [yesterday, troubl, away, look, stay, believ, ...\n",
              "3    [move, attract, like, lover, woo, want, leav, ...\n",
              "4    [come, come, right, littl, darl, long, cold, l...\n",
              "5    [jude, song, better, rememb, heart, start, bet...\n",
              "6    [read, news, today, lucki, grade, news, laugh,...\n",
              "7    [blackbird, sing, dead, night, break, wing, le...\n",
              "8    [like, pig, cri, sit, cornflak, wait, come, co...\n",
              "9    [look, lone, peopl, look, lone, peopl, eleanor...\n",
              "Name: Lyrics, dtype: object"
            ]
          },
          "metadata": {
            "tags": []
          },
          "execution_count": 130
        }
      ]
    },
    {
      "cell_type": "code",
      "metadata": {
        "colab": {
          "base_uri": "https://localhost:8080/"
        },
        "id": "-34ydqamt_ky",
        "outputId": "645fa179-6d6b-47cf-f947-b829775019ef"
      },
      "source": [
        "#displaying the most common tokens in the dataset\n",
        "from collections import Counter\n",
        "from itertools import *\n",
        "\n",
        "text_word_frequency = Counter(chain.from_iterable(processed_lyrics))\n",
        "text_word_frequency.most_common()[:20]"
      ],
      "execution_count": null,
      "outputs": [
        {
          "output_type": "execute_result",
          "data": {
            "text/plain": [
              "[('love', 3098),\n",
              " ('know', 2766),\n",
              " ('like', 2363),\n",
              " ('babi', 1631),\n",
              " ('come', 1575),\n",
              " ('want', 1287),\n",
              " ('time', 1259),\n",
              " ('feel', 1205),\n",
              " ('caus', 1151),\n",
              " ('girl', 997),\n",
              " ('wanna', 953),\n",
              " ('tell', 941),\n",
              " ('night', 854),\n",
              " ('gonna', 851),\n",
              " ('look', 845),\n",
              " ('think', 832),\n",
              " ('need', 814),\n",
              " ('right', 782),\n",
              " ('go', 751),\n",
              " ('away', 719)]"
            ]
          },
          "metadata": {
            "tags": []
          },
          "execution_count": 131
        }
      ]
    },
    {
      "cell_type": "code",
      "metadata": {
        "colab": {
          "base_uri": "https://localhost:8080/"
        },
        "id": "vWIarHJmRMSr",
        "outputId": "5d73312d-ed7d-4d14-89c1-dc955f7ec2d2"
      },
      "source": [
        "#display the least frequent tokens in the dataset\n",
        "text_word_frequency.most_common()[-20:]"
      ],
      "execution_count": null,
      "outputs": [
        {
          "output_type": "execute_result",
          "data": {
            "text/plain": [
              "[('gimmick', 1),\n",
              " ('crumb', 1),\n",
              " ('loxvill', 1),\n",
              " ('jada', 1),\n",
              " ('jackass', 1),\n",
              " ('knoxvill', 1),\n",
              " ('thousandair', 1),\n",
              " ('outrun', 1),\n",
              " ('distribut', 1),\n",
              " ('fluid', 1),\n",
              " ('beefin', 1),\n",
              " ('relatin', 1),\n",
              " ('jason', 1),\n",
              " ('scrappin', 1),\n",
              " ('olympus', 1),\n",
              " ('psychiatrist', 1),\n",
              " ('uninspir', 1),\n",
              " ('handout', 1),\n",
              " ('welfar', 1),\n",
              " ('backstabbin', 1)]"
            ]
          },
          "metadata": {
            "tags": []
          },
          "execution_count": 132
        }
      ]
    },
    {
      "cell_type": "markdown",
      "metadata": {
        "id": "a14vQDek8cAP"
      },
      "source": [
        "### LDA Model Training ###"
      ]
    },
    {
      "cell_type": "code",
      "metadata": {
        "id": "BYZAfN9NXteN"
      },
      "source": [
        "dictionary = gensim.corpora.Dictionary(processed_lyrics)"
      ],
      "execution_count": null,
      "outputs": []
    },
    {
      "cell_type": "code",
      "metadata": {
        "id": "mByckOtZYOWQ"
      },
      "source": [
        "#setting the threshold of what to incorporate in the the training, \n",
        "dictionary.filter_extremes(no_below=5, no_above=0.3)\n",
        "\n",
        "#the no_below is absolute frequency, no_above is percentage of of documents(songs) that has the token"
      ],
      "execution_count": null,
      "outputs": []
    },
    {
      "cell_type": "code",
      "metadata": {
        "id": "OAAQjPNuYUcM"
      },
      "source": [
        "#Bag-of-words transformation\n",
        "bow_corpus = [dictionary.doc2bow(doc) for doc in processed_lyrics]"
      ],
      "execution_count": null,
      "outputs": []
    },
    {
      "cell_type": "code",
      "metadata": {
        "colab": {
          "base_uri": "https://localhost:8080/"
        },
        "id": "8RxUr3HKYh1C",
        "outputId": "095560a9-352d-4ddd-f220-8954ce1d330a"
      },
      "source": [
        "#testing on the same song https://genius.com/Lady-gaga-and-blackpink-sour-candy-lyrics\n",
        "bow_doc_342 = bow_corpus[342]\n",
        "\n",
        "for i in range(len(bow_doc_342)):\n",
        "    print(\"Word {} (\\\"{}\\\") appears {} time.\".format(bow_doc_342[i][0], \n",
        "                                                     dictionary[bow_doc_342[i][0]], \n",
        "                                                     bow_doc_342[i][1]))"
      ],
      "execution_count": null,
      "outputs": [
        {
          "output_type": "stream",
          "text": [
            "Word 5 (\"light\") appears 2 time.\n",
            "Word 33 (\"hard\") appears 4 time.\n",
            "Word 75 (\"littl\") appears 2 time.\n",
            "Word 140 (\"turn\") appears 2 time.\n",
            "Word 142 (\"break\") appears 1 time.\n",
            "Word 144 (\"eye\") appears 1 time.\n",
            "Word 202 (\"mean\") appears 1 time.\n",
            "Word 242 (\"wanna\") appears 1 time.\n",
            "Word 246 (\"sweet\") appears 2 time.\n",
            "Word 259 (\"real\") appears 1 time.\n",
            "Word 315 (\"angri\") appears 2 time.\n",
            "Word 379 (\"close\") appears 1 time.\n",
            "Word 471 (\"insid\") appears 6 time.\n",
            "Word 496 (\"bite\") appears 8 time.\n",
            "Word 584 (\"candi\") appears 13 time.\n",
            "Word 618 (\"tast\") appears 1 time.\n",
            "Word 696 (\"mess\") appears 1 time.\n",
            "Word 718 (\"outsid\") appears 4 time.\n",
            "Word 896 (\"fake\") appears 1 time.\n",
            "Word 986 (\"crazi\") appears 2 time.\n",
            "Word 1027 (\"nice\") appears 1 time.\n",
            "Word 1296 (\"super\") appears 2 time.\n",
            "Word 1374 (\"psycho\") appears 2 time.\n",
            "Word 1384 (\"undress\") appears 1 time.\n",
            "Word 1761 (\"extra\") appears 1 time.\n"
          ],
          "name": "stdout"
        }
      ]
    },
    {
      "cell_type": "code",
      "metadata": {
        "id": "goQqxi9vZNzY"
      },
      "source": [
        "#training the model with 10 topics\n",
        "lda_model = gensim.models.LdaMulticore(bow_corpus, num_topics=10, id2word=dictionary, passes=2, workers=2)"
      ],
      "execution_count": null,
      "outputs": []
    },
    {
      "cell_type": "code",
      "metadata": {
        "colab": {
          "base_uri": "https://localhost:8080/"
        },
        "id": "0Gcdl-x6ZQPV",
        "outputId": "146754e6-df73-45f3-c3ca-13e73efe5791"
      },
      "source": [
        "#print out the most prominent tokens for each topic\n",
        "for idx, topic in lda_model.print_topics(-1):\n",
        "    print('Topic: {} \\nWords: {}'.format(idx, topic))"
      ],
      "execution_count": null,
      "outputs": [
        {
          "output_type": "stream",
          "text": [
            "Topic: 0 \n",
            "Words: 0.034*\"away\" + 0.024*\"gonna\" + 0.017*\"care\" + 0.017*\"littl\" + 0.015*\"heart\" + 0.012*\"wanna\" + 0.012*\"turn\" + 0.012*\"hear\" + 0.010*\"thing\" + 0.009*\"live\"\n",
            "Topic: 1 \n",
            "Words: 0.020*\"away\" + 0.015*\"sail\" + 0.013*\"bitch\" + 0.013*\"nigga\" + 0.010*\"girl\" + 0.010*\"song\" + 0.009*\"need\" + 0.009*\"gonna\" + 0.009*\"fuck\" + 0.008*\"beat\"\n",
            "Topic: 2 \n",
            "Words: 0.030*\"girl\" + 0.018*\"nigga\" + 0.011*\"say\" + 0.009*\"gonna\" + 0.008*\"gotta\" + 0.008*\"fuck\" + 0.007*\"light\" + 0.007*\"bitch\" + 0.007*\"high\" + 0.007*\"rain\"\n",
            "Topic: 3 \n",
            "Words: 0.026*\"gimm\" + 0.016*\"fuck\" + 0.013*\"live\" + 0.013*\"somebodi\" + 0.012*\"thing\" + 0.012*\"roll\" + 0.011*\"happi\" + 0.010*\"birthday\" + 0.009*\"burn\" + 0.008*\"real\"\n",
            "Topic: 4 \n",
            "Words: 0.017*\"need\" + 0.014*\"girl\" + 0.013*\"leav\" + 0.011*\"thing\" + 0.011*\"life\" + 0.011*\"live\" + 0.010*\"gonna\" + 0.010*\"take\" + 0.009*\"light\" + 0.009*\"say\"\n",
            "Topic: 5 \n",
            "Words: 0.024*\"need\" + 0.012*\"long\" + 0.011*\"gonna\" + 0.010*\"face\" + 0.010*\"thing\" + 0.009*\"mind\" + 0.009*\"nigga\" + 0.007*\"song\" + 0.007*\"play\" + 0.007*\"fuck\"\n",
            "Topic: 6 \n",
            "Words: 0.021*\"wanna\" + 0.017*\"home\" + 0.015*\"money\" + 0.013*\"bitch\" + 0.011*\"dream\" + 0.011*\"lose\" + 0.011*\"tonight\" + 0.011*\"say\" + 0.009*\"heart\" + 0.008*\"turn\"\n",
            "Topic: 7 \n",
            "Words: 0.017*\"work\" + 0.016*\"break\" + 0.015*\"girl\" + 0.014*\"babe\" + 0.013*\"heart\" + 0.013*\"nigga\" + 0.012*\"thing\" + 0.011*\"shit\" + 0.009*\"walk\" + 0.009*\"okay\"\n",
            "Topic: 8 \n",
            "Words: 0.027*\"good\" + 0.020*\"life\" + 0.015*\"stand\" + 0.014*\"woman\" + 0.013*\"gonna\" + 0.013*\"girl\" + 0.012*\"believ\" + 0.011*\"away\" + 0.010*\"danc\" + 0.010*\"need\"\n",
            "Topic: 9 \n",
            "Words: 0.039*\"wanna\" + 0.018*\"play\" + 0.017*\"rock\" + 0.014*\"mean\" + 0.013*\"roll\" + 0.013*\"bodi\" + 0.012*\"heart\" + 0.010*\"thing\" + 0.010*\"life\" + 0.008*\"wait\"\n"
          ],
          "name": "stdout"
        }
      ]
    },
    {
      "cell_type": "code",
      "metadata": {
        "colab": {
          "base_uri": "https://localhost:8080/"
        },
        "id": "NkPzQHfQaODQ",
        "outputId": "b60ec65e-0bdd-4d1b-e625-1ccba6f876da"
      },
      "source": [
        "#testing it on the same song https://genius.com/Lady-gaga-and-blackpink-sour-candy-lyrics\n",
        "for index, score in sorted(lda_model[bow_corpus[342]], key=lambda tup: -1*tup[1]):\n",
        "    print(\"\\nScore: {}\\t \\nTopic: {}\".format(score, lda_model.print_topic(index, 10)))"
      ],
      "execution_count": null,
      "outputs": [
        {
          "output_type": "stream",
          "text": [
            "\n",
            "Score: 0.5326701998710632\t \n",
            "Topic: 0.022*\"away\" + 0.015*\"gonna\" + 0.011*\"work\" + 0.010*\"gimm\" + 0.008*\"nigga\" + 0.008*\"leav\" + 0.008*\"real\" + 0.008*\"sorri\" + 0.007*\"say\" + 0.007*\"life\"\n",
            "\n",
            "Score: 0.45482686161994934\t \n",
            "Topic: 0.035*\"stand\" + 0.030*\"roll\" + 0.021*\"rock\" + 0.015*\"everybodi\" + 0.015*\"hear\" + 0.013*\"lose\" + 0.012*\"cold\" + 0.011*\"care\" + 0.011*\"reveng\" + 0.010*\"bodi\"\n"
          ],
          "name": "stdout"
        }
      ]
    },
    {
      "cell_type": "markdown",
      "metadata": {
        "id": "vrMyRdhd9p8S"
      },
      "source": [
        "### LDA Visualization ###"
      ]
    },
    {
      "cell_type": "code",
      "metadata": {
        "id": "KyCCACwD9_6a",
        "colab": {
          "base_uri": "https://localhost:8080/"
        },
        "outputId": "0de37806-64b7-4c45-ea9e-ac0b6ff4362c"
      },
      "source": [
        "!pip install pyldavis"
      ],
      "execution_count": null,
      "outputs": [
        {
          "output_type": "stream",
          "text": [
            "Requirement already satisfied: pyldavis in /usr/local/lib/python3.7/dist-packages (3.3.1)\n",
            "Requirement already satisfied: jinja2 in /usr/local/lib/python3.7/dist-packages (from pyldavis) (2.11.3)\n",
            "Requirement already satisfied: funcy in /usr/local/lib/python3.7/dist-packages (from pyldavis) (1.15)\n",
            "Requirement already satisfied: sklearn in /usr/local/lib/python3.7/dist-packages (from pyldavis) (0.0)\n",
            "Requirement already satisfied: future in /usr/local/lib/python3.7/dist-packages (from pyldavis) (0.16.0)\n",
            "Requirement already satisfied: gensim in /usr/local/lib/python3.7/dist-packages (from pyldavis) (3.6.0)\n",
            "Requirement already satisfied: scipy in /usr/local/lib/python3.7/dist-packages (from pyldavis) (1.4.1)\n",
            "Requirement already satisfied: numpy>=1.20.0 in /usr/local/lib/python3.7/dist-packages (from pyldavis) (1.20.2)\n",
            "Requirement already satisfied: numexpr in /usr/local/lib/python3.7/dist-packages (from pyldavis) (2.7.3)\n",
            "Requirement already satisfied: scikit-learn in /usr/local/lib/python3.7/dist-packages (from pyldavis) (0.22.2.post1)\n",
            "Requirement already satisfied: pandas>=1.2.0 in /usr/local/lib/python3.7/dist-packages (from pyldavis) (1.2.4)\n",
            "Requirement already satisfied: setuptools in /usr/local/lib/python3.7/dist-packages (from pyldavis) (56.1.0)\n",
            "Requirement already satisfied: joblib in /usr/local/lib/python3.7/dist-packages (from pyldavis) (1.0.1)\n",
            "Requirement already satisfied: MarkupSafe>=0.23 in /usr/local/lib/python3.7/dist-packages (from jinja2->pyldavis) (1.1.1)\n",
            "Requirement already satisfied: smart-open>=1.2.1 in /usr/local/lib/python3.7/dist-packages (from gensim->pyldavis) (5.0.0)\n",
            "Requirement already satisfied: six>=1.5.0 in /usr/local/lib/python3.7/dist-packages (from gensim->pyldavis) (1.15.0)\n",
            "Requirement already satisfied: pytz>=2017.3 in /usr/local/lib/python3.7/dist-packages (from pandas>=1.2.0->pyldavis) (2018.9)\n",
            "Requirement already satisfied: python-dateutil>=2.7.3 in /usr/local/lib/python3.7/dist-packages (from pandas>=1.2.0->pyldavis) (2.8.1)\n"
          ],
          "name": "stdout"
        }
      ]
    },
    {
      "cell_type": "code",
      "metadata": {
        "id": "8E7FmSfV94Tx"
      },
      "source": [
        "import pickle\n",
        "import pyLDAvis"
      ],
      "execution_count": null,
      "outputs": []
    },
    {
      "cell_type": "code",
      "metadata": {
        "id": "jrpnQxVd_R-l"
      },
      "source": [
        "import pyLDAvis.gensim_models as gensimvis"
      ],
      "execution_count": null,
      "outputs": []
    },
    {
      "cell_type": "code",
      "metadata": {
        "id": "4edo-vBWAUb1"
      },
      "source": [
        "pyLDAvis.enable_notebook()"
      ],
      "execution_count": null,
      "outputs": []
    },
    {
      "cell_type": "code",
      "metadata": {
        "id": "YE5YAJmeBf6M"
      },
      "source": [
        "LDAvis_prepared = gensimvis.prepare(lda_model, bow_corpus, dictionary)"
      ],
      "execution_count": null,
      "outputs": []
    },
    {
      "cell_type": "code",
      "metadata": {
        "id": "gQcY2YwHDkcg",
        "colab": {
          "base_uri": "https://localhost:8080/",
          "height": 882
        },
        "outputId": "63939ede-18ed-4d0f-f382-ff9ff3e940a8"
      },
      "source": [
        "LDAvis_prepared"
      ],
      "execution_count": null,
      "outputs": [
        {
          "output_type": "execute_result",
          "data": {
            "text/html": [
              "\n",
              "<link rel=\"stylesheet\" type=\"text/css\" href=\"https://cdn.jsdelivr.net/gh/bmabey/pyLDAvis@3.3.1/pyLDAvis/js/ldavis.v1.0.0.css\">\n",
              "\n",
              "\n",
              "<div id=\"ldavis_el9781401662052675365165493373\"></div>\n",
              "<script type=\"text/javascript\">\n",
              "\n",
              "var ldavis_el9781401662052675365165493373_data = {\"mdsDat\": {\"x\": [-0.008644377100275873, 0.016099391480420507, 0.016346934022506115, -0.04845477810604583, -0.029305295356231775, 0.004870371473025161, -0.07105298453859027, -0.004587652080935601, 0.01406686781463647, 0.11066152239149138], \"y\": [0.0080763475565331, -0.031306257415673965, -0.01462653642298137, -0.004981059275153014, 0.01520117445135415, 0.016827989754064958, 0.06799224072763199, -0.04852721557608928, -0.06730676166128917, 0.05865007786160259], \"topics\": [1, 2, 3, 4, 5, 6, 7, 8, 9, 10], \"cluster\": [1, 1, 1, 1, 1, 1, 1, 1, 1, 1], \"Freq\": [14.787532811791094, 12.357132337205861, 11.553718055020402, 11.53419752139778, 10.2083867829081, 9.780558366407503, 8.726654956192318, 8.282190745762136, 7.390016111373635, 5.379612311941171]}, \"tinfo\": {\"Term\": [\"away\", \"gimm\", \"wanna\", \"sail\", \"roll\", \"nigga\", \"good\", \"bitch\", \"rock\", \"work\", \"girl\", \"care\", \"woman\", \"fuck\", \"money\", \"need\", \"somebodi\", \"live\", \"babe\", \"home\", \"happi\", \"birthday\", \"gonna\", \"bodi\", \"play\", \"stand\", \"life\", \"thing\", \"burn\", \"cliqu\", \"purpl\", \"advic\", \"plead\", \"crumbl\", \"goodnight\", \"tortur\", \"georgia\", \"debt\", \"pillow\", \"harder\", \"unkind\", \"amaz\", \"terror\", \"hurri\", \"metal\", \"sink\", \"earli\", \"ought\", \"hungri\", \"center\", \"odd\", \"base\", \"moan\", \"rose\", \"edg\", \"honest\", \"back\", \"plane\", \"goal\", \"pressur\", \"exist\", \"pour\", \"bare\", \"highway\", \"insan\", \"belong\", \"pain\", \"leav\", \"get\", \"take\", \"doubt\", \"live\", \"chang\", \"need\", \"tryin\", \"bring\", \"hand\", \"light\", \"eye\", \"mountain\", \"life\", \"thing\", \"rain\", \"better\", \"chanc\", \"world\", \"hold\", \"worri\", \"girl\", \"walk\", \"kiss\", \"sleep\", \"say\", \"gonna\", \"bout\", \"close\", \"mind\", \"stop\", \"heart\", \"friend\", \"stay\", \"long\", \"away\", \"turn\", \"fuck\", \"play\", \"hear\", \"pink\", \"drippin\", \"christma\", \"super\", \"bump\", \"mami\", \"preach\", \"bind\", \"dealer\", \"shiver\", \"practic\", \"diamond\", \"seek\", \"bell\", \"wrist\", \"vision\", \"cryin\", \"smokin\", \"lesson\", \"fallin\", \"clip\", \"rubber\", \"doubl\", \"groov\", \"miseri\", \"obsess\", \"settl\", \"swimmin\", \"chill\", \"higher\", \"band\", \"send\", \"lie\", \"shake\", \"bottl\", \"bright\", \"girl\", \"nigga\", \"rain\", \"round\", \"shine\", \"read\", \"high\", \"pussi\", \"grind\", \"alright\", \"game\", \"gotta\", \"say\", \"free\", \"fall\", \"aliv\", \"light\", \"fuck\", \"bitch\", \"wrong\", \"gonna\", \"watch\", \"world\", \"head\", \"bring\", \"littl\", \"wanna\", \"leav\", \"chang\", \"need\", \"heart\", \"play\", \"good\", \"face\", \"nasti\", \"uptown\", \"hello\", \"candi\", \"lamborghini\", \"dammit\", \"winner\", \"dirt\", \"destroy\", \"work\", \"barefoot\", \"bugatti\", \"downtown\", \"babe\", \"ador\", \"teeth\", \"bedroom\", \"mansion\", \"doom\", \"whistl\", \"soldier\", \"merci\", \"boogi\", \"gun\", \"suit\", \"hurrican\", \"grass\", \"self\", \"attent\", \"wick\", \"boy\", \"ball\", \"okay\", \"break\", \"crazi\", \"learn\", \"swear\", \"deal\", \"shit\", \"sorri\", \"sound\", \"minut\", \"fuckin\", \"walk\", \"hurt\", \"nigga\", \"heart\", \"lone\", \"thing\", \"girl\", \"citi\", \"see\", \"bitch\", \"hard\", \"take\", \"friend\", \"word\", \"hold\", \"littl\", \"say\", \"world\", \"need\", \"gonna\", \"turn\", \"danc\", \"wisdom\", \"excit\", \"rear\", \"appear\", \"fever\", \"age\", \"fail\", \"toot\", \"film\", \"stuff\", \"closer\", \"defend\", \"woman\", \"faith\", \"glori\", \"beep\", \"brown\", \"numb\", \"dolphin\", \"view\", \"brave\", \"threat\", \"warn\", \"zero\", \"candl\", \"louder\", \"target\", \"hero\", \"dust\", \"blaze\", \"good\", \"stand\", \"paradis\", \"pray\", \"mirror\", \"shoot\", \"young\", \"believ\", \"life\", \"execut\", \"danc\", \"blood\", \"readi\", \"long\", \"gonna\", \"sign\", \"away\", \"bless\", \"girl\", \"gotta\", \"need\", \"peopl\", \"hear\", \"word\", \"wanna\", \"lose\", \"eye\", \"nigga\", \"better\", \"turn\", \"catch\", \"dream\", \"littl\", \"say\", \"heart\", \"boom\", \"funki\", \"lotta\", \"steadi\", \"strang\", \"heartach\", \"rock\", \"bittersweet\", \"vain\", \"admit\", \"gaze\", \"whore\", \"asleep\", \"darlin\", \"stare\", \"borrow\", \"cruel\", \"romant\", \"cell\", \"bodi\", \"shape\", \"god\", \"trash\", \"backstag\", \"quarter\", \"singin\", \"music\", \"sunlight\", \"paint\", \"joke\", \"roll\", \"mean\", \"wanna\", \"play\", \"straight\", \"mysteri\", \"dumb\", \"stop\", \"runnin\", \"fight\", \"wait\", \"everybodi\", \"dead\", \"face\", \"heart\", \"eye\", \"beat\", \"mayb\", \"fall\", \"thing\", \"life\", \"head\", \"mind\", \"damn\", \"talk\", \"hear\", \"say\", \"gonna\", \"danc\", \"need\", \"turn\", \"gotta\", \"leav\", \"girl\", \"cake\", \"deed\", \"butt\", \"liquor\", \"limit\", \"york\", \"humbl\", \"tommi\", \"brooklyn\", \"palm\", \"rhythm\", \"dancer\", \"grill\", \"brand\", \"church\", \"mornin\", \"tunnel\", \"imposs\", \"reput\", \"memori\", \"jungl\", \"golden\", \"harlem\", \"quit\", \"cheap\", \"burnin\", \"castl\", \"money\", \"shoe\", \"remain\", \"lane\", \"nothin\", \"home\", \"dirti\", \"tonight\", \"stori\", \"rememb\", \"bitch\", \"dream\", \"lose\", \"burn\", \"wanna\", \"lord\", \"game\", \"wish\", \"say\", \"blue\", \"turn\", \"heart\", \"place\", \"stay\", \"play\", \"bring\", \"light\", \"mind\", \"girl\", \"wait\", \"life\", \"walk\", \"gonna\", \"hear\", \"world\", \"fuck\", \"hopeless\", \"romanc\", \"amor\", \"prayer\", \"slowli\", \"daydream\", \"eventu\", \"fighter\", \"billi\", \"devot\", \"upsid\", \"social\", \"faster\", \"cocain\", \"master\", \"paul\", \"dive\", \"insecur\", \"despis\", \"hang\", \"degre\", \"slip\", \"solo\", \"prais\", \"situat\", \"wound\", \"texa\", \"lucki\", \"end\", \"care\", \"sit\", \"away\", \"confus\", \"wake\", \"thank\", \"whiskey\", \"littl\", \"million\", \"gonna\", \"town\", \"whoa\", \"hear\", \"turn\", \"heart\", \"everybodi\", \"star\", \"forev\", \"live\", \"place\", \"lover\", \"believ\", \"goodby\", \"wanna\", \"thing\", \"say\", \"friend\", \"world\", \"danc\", \"wait\", \"long\", \"hold\", \"need\", \"lose\", \"life\", \"rape\", \"deeper\", \"oooh\", \"dude\", \"teacher\", \"spark\", \"divid\", \"virgin\", \"will\", \"carriag\", \"bath\", \"bibl\", \"sudden\", \"photograph\", \"creep\", \"offic\", \"stream\", \"replac\", \"tonk\", \"appetit\", \"sexi\", \"child\", \"illus\", \"hall\", \"honki\", \"thee\", \"oven\", \"reli\", \"alien\", \"strap\", \"rocket\", \"yesterday\", \"reason\", \"yeah\", \"whoa\", \"ladi\", \"need\", \"brother\", \"reach\", \"dark\", \"face\", \"worri\", \"touch\", \"readi\", \"long\", \"mind\", \"song\", \"peopl\", \"sing\", \"fine\", \"gonna\", \"thing\", \"wonder\", \"nigga\", \"gotta\", \"play\", \"fuck\", \"better\", \"wrong\", \"littl\", \"hold\", \"world\", \"say\", \"heart\", \"wanna\", \"sail\", \"jackson\", \"havin\", \"titti\", \"rider\", \"rabbit\", \"strip\", \"commit\", \"gray\", \"lend\", \"trunk\", \"piano\", \"ahead\", \"engin\", \"sake\", \"generat\", \"class\", \"gambler\", \"beast\", \"corn\", \"zone\", \"spell\", \"mood\", \"sooner\", \"bowl\", \"finna\", \"chicken\", \"bear\", \"jump\", \"joint\", \"storm\", \"soon\", \"wrap\", \"ford\", \"write\", \"morn\", \"hoe\", \"rich\", \"easi\", \"song\", \"natur\", \"away\", \"bitch\", \"beat\", \"hous\", \"summer\", \"talkin\", \"bout\", \"guess\", \"nigga\", \"promis\", \"road\", \"fuck\", \"talk\", \"home\", \"girl\", \"friend\", \"need\", \"sing\", \"gonna\", \"hold\", \"high\", \"leav\", \"peopl\", \"littl\", \"wanna\", \"tonight\", \"gotta\", \"good\", \"turn\", \"thing\", \"gimm\", \"birthday\", \"cliqu\", \"doll\", \"sunday\", \"lot\", \"mamma\", \"reveng\", \"code\", \"cream\", \"flavor\", \"entertain\", \"wipe\", \"america\", \"wishin\", \"crack\", \"sippin\", \"forest\", \"clap\", \"extra\", \"happi\", \"molli\", \"shoppin\", \"fortun\", \"stab\", \"somebodi\", \"garden\", \"photo\", \"certain\", \"orlean\", \"sexi\", \"singl\", \"highway\", \"ring\", \"aliv\", \"roll\", \"cold\", \"fuck\", \"holi\", \"burn\", \"live\", \"real\", \"today\", \"goin\", \"miss\", \"smile\", \"thing\", \"cri\", \"hear\", \"shit\", \"world\", \"nigga\", \"danc\", \"bitch\", \"care\", \"wanna\", \"turn\", \"say\"], \"Freq\": [723.0, 137.0, 929.0, 122.0, 290.0, 631.0, 571.0, 446.0, 241.0, 292.0, 979.0, 304.0, 226.0, 473.0, 283.0, 803.0, 162.0, 437.0, 242.0, 387.0, 140.0, 59.0, 842.0, 255.0, 484.0, 319.0, 633.0, 669.0, 226.0, 50.0, 25.62356131037239, 14.439912496631045, 6.950589485641032, 8.766245644794466, 9.352519407582712, 9.1443561522044, 7.288530340656312, 9.388666968755551, 4.01702877276793, 19.984983612648662, 4.068757515363068, 21.536797518556675, 4.946807608314508, 7.905670458857645, 8.170423837416644, 8.100837544053958, 10.103413732574086, 4.746953137144826, 15.205096038901576, 6.409019342734966, 4.76138927518572, 5.583269431115348, 4.107485033990792, 8.779280801321102, 10.632515464889456, 9.536983297237215, 2.990510376787673, 4.4544494228663964, 3.889697205272321, 11.267044214768665, 5.8817268655985355, 26.152374976919045, 18.214808634362136, 37.69746185998284, 10.219260211727091, 30.83142364829071, 69.13246920808105, 160.61236167151156, 72.46085762855097, 121.94468852674586, 21.380524365922142, 136.18630203516133, 80.17071050783233, 209.8681946505089, 26.97633259963934, 76.00951600834799, 90.17329544560182, 112.4430983327158, 102.03135315190963, 21.40187155551946, 138.00930351043232, 141.9953020407458, 58.43563854801783, 87.56803152123152, 38.32267864924834, 106.62228113288998, 94.70187992969001, 38.99704133577671, 169.6440480096816, 79.3840584851145, 56.291031496134885, 51.8337429288187, 106.9901042991009, 124.97553894069364, 51.49896863135123, 48.52385425084883, 68.41581355731394, 57.7918729223368, 90.31650528490526, 57.43622504716244, 55.96071030558829, 63.09615859811562, 71.00258351493895, 62.15028634389636, 60.928575593792715, 59.80452130519108, 58.15121150480356, 24.353985838590468, 23.27642780516402, 19.327620768198106, 21.854985318432703, 11.33261552041927, 9.187146385138425, 14.531968793261182, 23.516246059549132, 10.289453413370929, 8.292639934084722, 13.552044464419199, 51.832674954329505, 11.609299653518702, 37.70815779999908, 9.709851405736936, 34.310857213670346, 14.160683193105811, 14.880696621591719, 12.079907020456075, 18.947725930173238, 4.681642619091652, 3.5827904472473504, 19.246908710688874, 20.106946838129403, 8.527634119373516, 6.30825283688667, 5.848058605592428, 4.346974032155073, 14.103390434518658, 42.82499648842824, 30.55162113009454, 48.27461630754488, 60.83000544209919, 56.99113722643717, 33.02704187079251, 33.86628751232314, 311.03547243370963, 191.5781425998001, 73.58257568606925, 67.93275337959359, 39.8056818663599, 32.54183560140481, 74.60230039488674, 30.302063034352372, 40.40125530735893, 63.755708025990785, 53.89234733295858, 87.68705811221676, 116.06231458696762, 51.962072945797566, 65.7541033848631, 39.537006074078946, 76.88913599121203, 80.15798698985202, 76.74209238031811, 51.81291533563983, 96.44902518879884, 49.42843034866248, 66.83955030367018, 51.70072858018725, 51.3542257602143, 60.894994026773475, 70.11273548344924, 58.46558414219878, 49.04463812615009, 63.48128389324588, 61.12710921534796, 54.31854985577047, 54.03177475472393, 50.48685379286196, 48.11360367894549, 18.072451082769458, 45.00778146599748, 24.6743015325202, 10.938572276648554, 16.4753878897047, 8.427757982567794, 30.08229133895843, 4.602875898243599, 168.2372840324376, 6.205754246928048, 4.456480808037695, 5.568779508020694, 133.42858041671406, 4.798252491553788, 12.425740366616276, 6.638231696898604, 3.5034143700536964, 5.019894025785875, 30.688412302821646, 13.530597370943758, 9.570826690924106, 18.081763003321385, 10.032736985004082, 13.348168792193109, 5.644600472950812, 7.246482646950581, 7.497703123391371, 6.718739646797582, 5.291801767450877, 36.18170083582759, 31.98698410509065, 83.02293560404019, 152.60473776974717, 63.441579967373514, 49.865779054792434, 36.22198555342731, 16.70218177929911, 106.36133868013812, 44.69803995747168, 44.963805374028254, 33.33316922150715, 38.48742893589182, 84.80299033301036, 48.19377148539324, 124.37510119748092, 127.73250997824591, 42.50513794785533, 117.32776210564364, 149.81083669102236, 39.43794881067424, 43.05013913853936, 78.11629580946418, 54.56933910685439, 64.32503235330559, 56.92923293620612, 50.940036686557534, 62.01819413332094, 65.2999703536545, 60.35424621505126, 54.003886438612184, 60.01042492750528, 59.68132852329389, 47.061647724605926, 45.45397295839949, 10.11364284040227, 12.06413257466852, 19.221720645584753, 19.729911485588026, 26.58879955506418, 8.753738082193529, 5.864591311129705, 28.18812450612218, 6.828858477644698, 25.850623240389357, 28.38810404051793, 5.503266495370293, 133.4231017069253, 48.11112954461634, 8.537152340065756, 36.18114070977777, 10.587742778588552, 9.826907147330555, 5.131413921682496, 25.802576794470667, 3.972513035482327, 3.9323828215549868, 6.838866464480926, 5.77323999306911, 5.63208244072255, 6.026411876135601, 2.6903481250540504, 21.154404137235566, 15.40236945320905, 5.233839799112957, 263.95820881142663, 147.9142431703106, 22.52292369302593, 57.28909994929194, 39.08049256397496, 84.84271628797399, 77.56549752228425, 112.15415421191143, 192.76572882956734, 18.43707127657465, 99.1524931175295, 30.1677214215493, 43.36307298905154, 91.78597508779849, 127.80914142602589, 22.696456283139852, 110.97775736898075, 26.673728912631848, 123.73850596997796, 67.66799723890733, 94.14089516113981, 50.80779882948564, 67.38729607132161, 46.93942246729291, 86.3941772479712, 56.42916993115733, 54.72241510925076, 62.833245342952544, 51.94447907914684, 49.97956640098854, 37.230875588317744, 43.92802531010053, 45.75835838404607, 44.73116906936921, 44.45463958569541, 21.025961863878898, 29.107619105036694, 14.263241931309867, 19.665919313091106, 25.320292913583227, 6.451483064091886, 142.2014706660122, 4.018882217077542, 11.966761018578833, 61.331852286762896, 4.386691499635559, 5.294184641922295, 7.1797103211373585, 4.3418268078899205, 7.520923603903373, 3.2465894565865763, 6.821000122584076, 2.736139391522647, 12.37856901865642, 112.77431579359863, 9.5009648251668, 4.744434299067805, 4.419202290292524, 3.2041943488928353, 6.943700322177302, 4.737645061135425, 62.18482618378849, 4.422037203327275, 10.88471139563335, 7.774646825306301, 114.39517632441272, 118.97474507971484, 331.2156090800436, 155.25427151740928, 29.644685604392347, 11.587239528063689, 8.08771183390501, 66.9281021956037, 18.788583505176152, 44.600478648243374, 68.47285468140045, 51.25899160346855, 26.949269429604392, 60.70981814075387, 102.33118197532235, 67.47968616100651, 43.96871169953698, 40.80746468823285, 51.564161419137676, 87.80397913824831, 84.66649196769534, 44.22010189915446, 54.676461324373456, 29.355195529242437, 41.63935018154424, 53.106382020578486, 61.2985271065316, 64.7463953885855, 46.95107210985082, 61.27759819159572, 49.28415769081748, 46.92652678686639, 46.15171435287908, 46.24322103944384, 46.48525503940427, 16.263080712667154, 16.142754665123316, 13.997127654671223, 42.24202944039179, 39.92243525349565, 9.454986490013356, 33.06829333965215, 5.326354375363058, 6.253102361726635, 35.11492488126296, 23.790199280730956, 4.2793362106678305, 18.081359026104614, 25.91441166990491, 22.94817671588503, 4.793413185206577, 4.1561737261978, 10.336145199235903, 30.44425492267772, 5.807618931823774, 9.842027381370743, 2.6916220181593173, 15.480553606134754, 7.539702988729284, 10.340227949356942, 6.453817520396402, 125.70120439231177, 20.835617593840176, 5.8001252946717905, 11.417064515374772, 57.288660723428414, 138.31351191241936, 31.553017162098175, 88.47649379399846, 20.32353854053025, 48.91513218606112, 106.39877168486059, 92.55960300604185, 91.74719398874053, 60.192026100730644, 171.52426505793235, 35.275117670573486, 50.28288308251636, 39.79478222140711, 86.7607798937771, 38.437364741632486, 68.6920157936599, 74.69335859239648, 45.99855302380575, 45.653905881658396, 55.78197980928715, 43.03807307615531, 51.350227612638754, 48.16869659059871, 61.77989978312692, 46.386505013084886, 51.30858833655051, 43.73763201502333, 48.19881439359685, 43.72565594800162, 44.09859105706947, 43.38640281116037, 11.737654314771271, 29.81827802146806, 9.178048981005226, 54.582034928970096, 32.78063964998237, 9.224096701975201, 6.217548382905958, 11.869813889963975, 11.660866359267127, 13.792303471069998, 12.035099636120387, 8.533592213223598, 9.53555002652618, 11.714150284579837, 24.48920038559359, 6.208174635158401, 10.958311187306037, 3.957845458951378, 2.846733184297706, 42.88616432592115, 8.129760542841735, 14.5004638894002, 3.5644441653072976, 4.883286290958599, 4.851679024168339, 4.360278800161499, 9.984155498248676, 20.62999933802118, 22.335308203508134, 125.37577848181598, 18.522510211009667, 247.4351871301055, 12.768956589796739, 44.832120443931856, 21.676261434459867, 10.59540770001248, 121.21195129636169, 29.97575323429834, 175.02134843135372, 34.917675191193126, 37.598816718199345, 84.9645460142571, 88.10116621414319, 111.86720631034616, 52.96478245589594, 46.487360433444906, 49.441132690812864, 69.29943497550533, 49.722284622708685, 31.86695892821232, 53.21385035977567, 26.568366742946154, 88.17733212193535, 72.76127194466025, 68.98188728761718, 44.55015388516939, 53.809219894000115, 46.15938620335967, 45.58324049979609, 43.0349036029387, 41.138479525205256, 46.444584001743856, 39.410407121940175, 40.8685721708538, 18.004879453051913, 37.422952068618216, 41.03452478101348, 28.642570719106462, 17.062147911961993, 10.875835086723832, 7.07784995508134, 8.600733874265268, 14.923626592225649, 3.326626235218754, 13.632153898516002, 5.5858874505858, 12.600197072709063, 5.434968949718556, 8.136586739721581, 3.132489123340432, 8.52100781635431, 4.327899410059504, 5.187834182853428, 4.694266618207767, 21.478662427390216, 43.57914653827053, 2.8655783184451606, 13.30875641775464, 5.234457707848859, 6.912382578831746, 5.015398065126919, 5.904625085880063, 5.497874437363951, 3.4825535442950355, 8.810797314110431, 14.667458016997067, 37.418365007964034, 19.15296121299042, 40.962936873907, 45.111101871304584, 168.02413527876502, 20.85773518837888, 27.301172496055294, 40.267288745953095, 70.26687892640341, 31.323513578639794, 43.22056649638445, 35.05698629571167, 81.51185432264772, 64.87193272786868, 50.851672415025824, 46.772044832353274, 44.32241210827628, 24.58954032451477, 78.88018192913964, 67.55449626256969, 29.594806339323302, 60.60126280312711, 46.81275903925983, 50.63504863737624, 48.064748398121395, 41.552141256567694, 33.33484262908018, 42.16162187066732, 39.80487550739716, 40.30419549842385, 38.84928208114433, 37.64779891268736, 33.08608678268732, 91.5169147783134, 19.558015582349377, 13.874771679264942, 21.328327464611938, 14.668141143547029, 7.4773874508167495, 14.384900363448773, 4.917532044147368, 5.67597916342124, 3.3501407391093534, 3.796529856685788, 4.280132048454528, 18.1731754409563, 10.544907988532625, 3.690575784487465, 15.645770527721629, 12.445743447679117, 5.295894190029853, 7.735791372264144, 4.672280422423963, 7.37675556261504, 9.659789570764888, 6.311260171478522, 6.03988687670442, 2.3756422105805135, 4.357586765239084, 3.9760131245593757, 38.091729932306, 24.122871305365322, 4.366662728796457, 16.80987948306304, 31.99420356118121, 10.444064670609404, 7.756253151046324, 33.981541918948544, 44.42921532688654, 23.381702612599067, 21.173293915301873, 28.839715412419054, 58.93312681064248, 16.219417607148888, 121.74245171240285, 81.80220832179457, 46.87237018651935, 30.80445604609474, 24.607166596954922, 21.78313227886799, 41.487268168479275, 33.067319803133024, 79.76605784088075, 26.570273521110124, 27.933728231695305, 55.50998581096321, 38.24652246616561, 43.75114505633327, 64.50479787863934, 37.59436352134624, 56.046702684631036, 34.9907327814831, 55.58125711039749, 42.29227420507909, 33.22699326066602, 39.781435856849406, 33.073441884215974, 39.081769447369865, 42.39348626220946, 33.01049211225087, 32.89040868967011, 33.10176913727963, 32.50864598896639, 32.77191279400855, 119.35196032777702, 44.13962271179849, 35.75165996053694, 7.3405332327347965, 25.515550745762923, 9.829701434697656, 8.67812464986874, 31.171758395518566, 5.7208137924870694, 6.984409927974381, 5.0497167625825385, 10.910426308545071, 5.331279042012105, 13.43333741793533, 19.276689086180838, 16.229179669823534, 6.5704005909302445, 2.6599886503626404, 6.348108498480692, 2.481504922726845, 51.71873903872712, 3.1804074405019547, 2.1092442652728707, 4.778864741256483, 4.1084878920307455, 57.95910304458298, 4.34001284786528, 2.682712950993272, 4.19192142775923, 2.6813755476320704, 15.599099844968524, 9.927757369744322, 21.63601569819274, 25.849508664730223, 27.18645186672366, 53.937324170864684, 35.1791105426414, 73.52372561845601, 10.293827677665664, 38.589795886511475, 59.32831832548404, 37.23993250656355, 22.29268179913461, 24.822433311733654, 26.85636642913059, 23.037845550928164, 54.406627730222326, 19.842542031944166, 34.0166811445201, 28.59237062274408, 32.42721139396529, 34.48569263935738, 27.413749503803572, 26.469248565091167, 24.001492474600933, 26.883765863270526, 22.795429897848493, 22.38882355592196], \"Total\": [723.0, 137.0, 929.0, 122.0, 290.0, 631.0, 571.0, 446.0, 241.0, 292.0, 979.0, 304.0, 226.0, 473.0, 283.0, 803.0, 162.0, 437.0, 242.0, 387.0, 140.0, 59.0, 842.0, 255.0, 484.0, 319.0, 633.0, 669.0, 226.0, 50.0, 30.726116200714262, 20.26881299065411, 10.11578565090194, 14.045058233302624, 15.405199401316361, 15.352489688979366, 12.285288466445817, 16.190587022180367, 6.956737645603472, 34.790280068411505, 7.124084966203137, 38.32852927094218, 8.840406876262245, 14.21679606298364, 15.118092006266496, 15.034483464289469, 19.02139290160978, 8.957601948621527, 28.88748333629056, 12.188747334483466, 9.134477698165385, 10.849945336706826, 8.032955649207556, 17.177290713379637, 21.011189633507744, 18.875822655915215, 6.010632693499046, 8.98466820838081, 7.88824270766412, 22.938427565734926, 12.042233517843858, 56.69114316834421, 39.219499102805415, 84.71653816500495, 21.499594719792697, 72.6338464593024, 180.58687536989927, 471.9554031235942, 195.16718368037522, 354.5032394612473, 49.27049361558904, 437.77027349396394, 247.9752618101079, 803.7981362907094, 68.50375258373657, 254.64153728229513, 316.85589288071276, 427.79090295239695, 385.7436495624187, 51.517955887688906, 633.5805499337249, 669.4226733252391, 202.62206493230354, 361.5770809375195, 115.02030654225912, 490.83871708548867, 416.41125549301296, 118.27006208532251, 979.3959600848686, 331.4958661594815, 202.39482113666062, 183.35174880349268, 635.72476296489, 842.1019328863226, 204.51484857802464, 186.25185890699714, 375.94991485379376, 267.6953736339771, 694.3814910652329, 284.8062162091417, 272.70630925784155, 470.4053324298807, 723.2191314008197, 483.41584213188935, 473.5442197166765, 484.0846832842514, 450.2907802844112, 30.621679212068386, 29.5989370227785, 25.734724564450406, 31.467564500263478, 16.48604064221888, 14.385128570642037, 22.761811878816882, 36.91986670747924, 16.66491294591319, 13.830873928258445, 22.956414548782245, 88.558512097527, 19.856508962258708, 65.07983191616123, 16.784405555531542, 59.78380179011935, 24.928638388434724, 27.763249189330423, 22.58606069132747, 35.81803553308146, 8.864047621831975, 6.882175397542887, 37.07748635143353, 39.18057182007512, 16.969794448691037, 12.604045398246608, 11.726048830946935, 8.77600726588609, 28.564622355748675, 88.75195682486103, 63.7312219816127, 101.9756093040454, 131.76256151249578, 133.8387312131997, 75.66606584430443, 78.34371218966392, 979.3959600848686, 631.5177953824781, 202.62206493230354, 184.36149060710596, 97.75139056590818, 79.19091597578021, 250.34391632030074, 75.52272325516167, 113.35297262990083, 222.95880729012092, 186.93536128685722, 400.55759298081466, 635.72476296489, 187.30120635933858, 280.0318355533554, 122.03472417990317, 427.79090295239695, 473.5442197166765, 446.248241960283, 207.30090418055778, 842.1019328863226, 203.25160921040697, 490.83871708548867, 248.8099236902229, 254.64153728229513, 500.7417229058399, 929.9828794106954, 471.9554031235942, 247.9752618101079, 803.7981362907094, 694.3814910652329, 484.0846832842514, 571.9538239196869, 329.09678464083504, 53.97399023078472, 23.811244719513063, 60.936134640816206, 34.61959403042274, 15.97122362708372, 24.7068786371823, 12.85466875514778, 49.92256287838135, 7.934886869559341, 292.69755964548676, 10.838892619393219, 7.790497825120938, 9.743606113517334, 242.31343721176538, 8.723386431241865, 23.981213242826527, 12.967028457913784, 6.958314479179756, 9.988186055885883, 61.45006101544416, 27.808703892704546, 19.693402719401213, 37.76922065988336, 21.338507931371424, 28.5097543552486, 12.07836029925715, 15.534126375186487, 16.09420022752132, 14.789841728379347, 11.695662034361547, 80.75655413614818, 71.37628486544489, 191.23190985979414, 398.4911291568348, 161.25101677354047, 124.72413313575372, 92.15305895231212, 38.59454171442065, 349.5189805570125, 129.79777764679775, 134.26831142103646, 93.3070779460355, 113.52490616315765, 331.4958661594815, 163.2482351820486, 631.5177953824781, 694.3814910652329, 144.891192408028, 669.4226733252391, 979.3959600848686, 131.90213160375671, 159.34356863038172, 446.248241960283, 251.1859643675424, 354.5032394612473, 284.8062162091417, 232.24802517958418, 416.41125549301296, 500.7417229058399, 635.72476296489, 490.83871708548867, 803.7981362907094, 842.1019328863226, 483.41584213188935, 359.5875175996045, 13.575654699661499, 16.364040843955546, 26.564690975794015, 30.609917172309007, 41.71885927114756, 13.790775649079876, 9.327932858443608, 45.36713950733304, 11.176509981931321, 42.70204292910566, 47.01568727699624, 9.338035869911021, 226.4211680756425, 82.02503643984409, 14.592859878170412, 61.996438742829746, 18.602954874557415, 17.487644158883867, 9.20513879841107, 47.66804608148499, 7.462539621228908, 7.580562747835938, 13.235749768561462, 11.255854646701883, 11.182356443471582, 12.112206178477518, 5.616049147470609, 44.461191938552936, 32.79588629662864, 11.195546688746864, 571.9538239196869, 319.2004354049701, 48.42590858190019, 132.48968674292507, 89.84996383049638, 211.3871765917734, 192.04562927880286, 302.3610605666659, 633.5805499337249, 41.58922444490155, 359.5875175996045, 80.99869357313683, 142.10185428201063, 470.4053324298807, 842.1019328863226, 60.33050136110544, 723.2191314008197, 78.3241554199563, 979.3959600848686, 400.55759298081466, 803.7981362907094, 258.75001771961075, 450.2907802844112, 232.24802517958418, 929.9828794106954, 380.0649201729123, 385.7436495624187, 631.5177953824781, 361.5770809375195, 483.41584213188935, 162.91809457348236, 380.28821199193624, 500.7417229058399, 635.72476296489, 694.3814910652329, 29.87686872786847, 43.708035977040595, 21.95607031136823, 30.725692764330443, 40.13968128470424, 10.858004922586103, 241.3736296886516, 7.804481068301592, 23.610801091145103, 122.77615215331038, 8.808225974865435, 10.794121691196791, 14.69130583758633, 9.036008197832754, 15.878100235306537, 7.029254345425706, 14.951410867193172, 6.0283706643977055, 27.84369138562873, 255.73266221412413, 22.04111526245839, 11.039053377589301, 10.540351070059218, 7.70226886794753, 17.026251625585896, 11.621309892904597, 154.00644447568433, 10.959221259804362, 27.288690779163527, 19.60560066052785, 290.6140807011342, 310.45397660122757, 929.9828794106954, 484.0846832842514, 87.25729230291189, 31.1083024014014, 20.821479705895385, 267.6953736339771, 60.89974481552004, 197.48386484541692, 357.943398675247, 248.01435943462124, 105.32932160574298, 329.09678464083504, 694.3814910652329, 385.7436495624187, 218.214318804623, 196.26228096320636, 280.0318355533554, 669.4226733252391, 633.5805499337249, 248.8099236902229, 375.94991485379376, 130.7117895397402, 257.1528247906679, 450.2907802844112, 635.72476296489, 842.1019328863226, 359.5875175996045, 803.7981362907094, 483.41584213188935, 400.55759298081466, 471.9554031235942, 979.3959600848686, 56.40306315865477, 19.959253738381197, 21.05498946939649, 19.10212403282135, 59.83349774041767, 58.148935941670466, 13.91258087595629, 51.12126598288176, 8.309480163064453, 10.176599922578811, 58.845017369252425, 40.688032573189425, 7.405884712508725, 31.321134185886457, 46.8812276256102, 43.547894535461, 9.466917218573583, 8.498981114427881, 21.351105236691126, 62.99540401034447, 12.077321195880625, 20.63979247172241, 5.6634931010752485, 32.77384079604268, 16.1170479451716, 22.359201974773182, 14.01002156564072, 283.7682777027188, 48.85971595164671, 13.978103787130959, 27.670325111590085, 151.6590173780259, 387.83570514926066, 85.32740138287208, 300.452947678498, 53.387603320330086, 168.40005966651344, 446.248241960283, 380.28821199193624, 380.0649201729123, 226.0095591338198, 929.9828794106954, 112.12749739212612, 186.93536128685722, 137.64187177579058, 635.72476296489, 165.73225056996955, 483.41584213188935, 694.3814910652329, 255.8916491464362, 272.70630925784155, 484.0846832842514, 254.64153728229513, 427.79090295239695, 375.94991485379376, 979.3959600848686, 357.943398675247, 633.5805499337249, 331.4958661594815, 842.1019328863226, 450.2907802844112, 490.83871708548867, 473.5442197166765, 14.646547516615362, 43.338884896949644, 13.49549001706105, 80.73122049326281, 50.183438818572476, 14.300071531917892, 10.115342621259366, 19.40638176720839, 19.248011135134163, 23.23838567815866, 20.870353439091435, 15.293870345663155, 17.272875231380116, 22.729112871594186, 47.53835902492338, 12.191818494956612, 22.09664333076753, 8.03773618927083, 6.050794608167685, 94.00275022579356, 18.043193360932754, 32.33488870185669, 7.956568203808192, 10.920980604478824, 11.1960232443645, 10.314682420646886, 24.06638889516727, 49.849166602251465, 54.22211596871101, 304.4381591766141, 45.313234098963825, 723.2191314008197, 31.34185033706311, 129.61789890202573, 57.75597406031293, 26.2495354624989, 500.7417229058399, 93.20128525499987, 842.1019328863226, 116.37644491152886, 132.4582133036952, 450.2907802844112, 483.41584213188935, 694.3814910652329, 248.01435943462124, 211.0790206847662, 236.54925468004578, 437.77027349396394, 255.8916491464362, 118.64464255944137, 302.3610605666659, 87.80812869603845, 929.9828794106954, 669.4226733252391, 635.72476296489, 284.8062162091417, 490.83871708548867, 359.5875175996045, 357.943398675247, 470.4053324298807, 416.41125549301296, 803.7981362907094, 380.0649201729123, 633.5805499337249, 23.748519013094093, 57.296312421890455, 64.37090452173615, 48.046442246329946, 28.86245383982628, 19.1016502529661, 12.559761417979571, 16.863579064424577, 30.07085088882584, 6.715676604184242, 28.358537265632645, 11.666352822664317, 26.8622424650987, 11.631668674509552, 17.640790113754644, 6.794448040487356, 18.622687521069455, 9.628432848236542, 11.660473150320007, 10.568424354026236, 49.19346606304494, 100.02778973509844, 6.72919974911841, 31.403057583792396, 12.68085133913263, 16.993209567877123, 12.353319625007899, 14.679094797871272, 13.757123352879935, 8.71913487730036, 22.26104843982415, 39.23063961348062, 110.74856013144864, 55.59861249738474, 132.4582133036952, 157.42849458781836, 803.7981362907094, 67.54198586702452, 95.88229094664166, 159.64663385219268, 329.09678464083504, 118.27006208532251, 187.99493387412406, 142.10185428201063, 470.4053324298807, 375.94991485379376, 266.8347135082044, 258.75001771961075, 243.1424272505487, 94.07772178972333, 842.1019328863226, 669.4226733252391, 137.73918441714378, 631.5177953824781, 400.55759298081466, 484.0846832842514, 473.5442197166765, 361.5770809375195, 207.30090418055778, 500.7417229058399, 416.41125549301296, 490.83871708548867, 635.72476296489, 694.3814910652329, 929.9828794106954, 122.41572856560582, 26.645444762882125, 22.473504191227267, 35.66775213856028, 25.34381473296962, 13.167461363597031, 27.027828688402554, 10.14862191700959, 11.83860262431931, 6.9926829396444585, 7.987698271409183, 9.058071018323279, 39.04074171580229, 23.143393420414014, 8.169523465831709, 34.88919143266203, 28.265234118572085, 12.102632511189618, 18.092737887712016, 11.062089574407821, 17.76668956215371, 23.459249664931576, 15.612835448990811, 14.989371015633791, 5.978063211221996, 10.998043326695676, 10.049099796585885, 97.00771554530624, 61.71898469437879, 11.20969615910018, 43.62651689472493, 89.49291231258334, 28.046243955806926, 20.565729025797186, 110.6524579058744, 153.29169581434908, 75.13568275752431, 67.0710643402947, 101.15268735628969, 266.8347135082044, 51.52372405414408, 723.2191314008197, 446.248241960283, 218.214318804623, 124.12716425237015, 93.07201241231948, 79.0915673992425, 204.51484857802464, 159.33017520877686, 631.5177953824781, 118.61467904987414, 132.27349594371026, 473.5442197166765, 257.1528247906679, 387.83570514926066, 979.3959600848686, 284.8062162091417, 803.7981362907094, 243.1424272505487, 842.1019328863226, 416.41125549301296, 250.34391632030074, 471.9554031235942, 258.75001771961075, 500.7417229058399, 929.9828794106954, 300.452947678498, 400.55759298081466, 571.9538239196869, 483.41584213188935, 669.4226733252391, 137.508443304374, 59.461329031792076, 50.87903659483041, 12.213173803910834, 44.59912565143435, 17.93215592748151, 16.21381520136803, 61.346995410447406, 11.43273976401678, 14.254671681645139, 10.38459602837058, 22.904616180644354, 11.361839890177727, 31.58684262201861, 46.5606684511485, 39.573916325567524, 16.153666991105336, 6.814031832859675, 16.290418642582253, 6.691754201714069, 140.89452343947926, 8.680536885490234, 5.783938265932723, 13.250377884175098, 11.47285719754116, 162.794683756293, 12.421841880125324, 7.747132640679356, 12.24255407442954, 8.38341278441381, 49.19346606304494, 31.568742246455088, 84.71653816500495, 106.14294446615789, 122.03472417990317, 290.6140807011342, 175.2740164413003, 473.5442197166765, 38.595851782369905, 226.0095591338198, 437.77027349396394, 240.28861329973333, 114.39219392456062, 152.70273245335778, 176.05021120460466, 139.01295980564814, 669.4226733252391, 124.39160417905525, 450.2907802844112, 349.5189805570125, 490.83871708548867, 631.5177953824781, 359.5875175996045, 446.248241960283, 304.4381591766141, 929.9828794106954, 483.41584213188935, 635.72476296489], \"Category\": [\"Default\", \"Default\", \"Default\", \"Default\", \"Default\", \"Default\", \"Default\", \"Default\", \"Default\", \"Default\", \"Default\", \"Default\", \"Default\", \"Default\", \"Default\", \"Default\", \"Default\", \"Default\", \"Default\", \"Default\", \"Default\", \"Default\", \"Default\", \"Default\", \"Default\", \"Default\", \"Default\", \"Default\", \"Default\", \"Default\", \"Topic1\", \"Topic1\", \"Topic1\", \"Topic1\", \"Topic1\", \"Topic1\", \"Topic1\", \"Topic1\", \"Topic1\", \"Topic1\", \"Topic1\", \"Topic1\", \"Topic1\", \"Topic1\", \"Topic1\", \"Topic1\", \"Topic1\", \"Topic1\", \"Topic1\", \"Topic1\", \"Topic1\", \"Topic1\", \"Topic1\", \"Topic1\", \"Topic1\", \"Topic1\", \"Topic1\", \"Topic1\", \"Topic1\", \"Topic1\", \"Topic1\", \"Topic1\", \"Topic1\", \"Topic1\", \"Topic1\", \"Topic1\", \"Topic1\", \"Topic1\", \"Topic1\", \"Topic1\", \"Topic1\", \"Topic1\", \"Topic1\", \"Topic1\", \"Topic1\", \"Topic1\", \"Topic1\", \"Topic1\", \"Topic1\", \"Topic1\", \"Topic1\", \"Topic1\", \"Topic1\", \"Topic1\", \"Topic1\", \"Topic1\", \"Topic1\", \"Topic1\", \"Topic1\", \"Topic1\", \"Topic1\", \"Topic1\", \"Topic1\", \"Topic1\", \"Topic1\", \"Topic1\", \"Topic1\", \"Topic1\", \"Topic1\", \"Topic1\", \"Topic1\", \"Topic1\", \"Topic1\", \"Topic1\", \"Topic1\", \"Topic1\", \"Topic1\", \"Topic2\", \"Topic2\", \"Topic2\", \"Topic2\", \"Topic2\", \"Topic2\", \"Topic2\", \"Topic2\", \"Topic2\", \"Topic2\", \"Topic2\", \"Topic2\", \"Topic2\", \"Topic2\", \"Topic2\", \"Topic2\", \"Topic2\", \"Topic2\", \"Topic2\", \"Topic2\", \"Topic2\", \"Topic2\", \"Topic2\", \"Topic2\", \"Topic2\", \"Topic2\", \"Topic2\", \"Topic2\", \"Topic2\", \"Topic2\", \"Topic2\", \"Topic2\", \"Topic2\", \"Topic2\", \"Topic2\", \"Topic2\", \"Topic2\", \"Topic2\", \"Topic2\", \"Topic2\", \"Topic2\", \"Topic2\", \"Topic2\", \"Topic2\", \"Topic2\", \"Topic2\", \"Topic2\", \"Topic2\", \"Topic2\", \"Topic2\", \"Topic2\", \"Topic2\", \"Topic2\", \"Topic2\", \"Topic2\", \"Topic2\", \"Topic2\", \"Topic2\", \"Topic2\", \"Topic2\", \"Topic2\", \"Topic2\", \"Topic2\", \"Topic2\", \"Topic2\", \"Topic2\", \"Topic2\", \"Topic2\", \"Topic2\", \"Topic2\", \"Topic3\", \"Topic3\", \"Topic3\", \"Topic3\", \"Topic3\", \"Topic3\", \"Topic3\", \"Topic3\", \"Topic3\", \"Topic3\", \"Topic3\", \"Topic3\", \"Topic3\", \"Topic3\", \"Topic3\", \"Topic3\", \"Topic3\", \"Topic3\", \"Topic3\", \"Topic3\", \"Topic3\", \"Topic3\", \"Topic3\", \"Topic3\", \"Topic3\", \"Topic3\", \"Topic3\", \"Topic3\", \"Topic3\", \"Topic3\", \"Topic3\", \"Topic3\", \"Topic3\", \"Topic3\", \"Topic3\", \"Topic3\", \"Topic3\", \"Topic3\", \"Topic3\", \"Topic3\", \"Topic3\", \"Topic3\", \"Topic3\", \"Topic3\", \"Topic3\", \"Topic3\", \"Topic3\", \"Topic3\", \"Topic3\", \"Topic3\", \"Topic3\", \"Topic3\", \"Topic3\", \"Topic3\", \"Topic3\", \"Topic3\", \"Topic3\", \"Topic3\", \"Topic3\", \"Topic3\", \"Topic3\", \"Topic3\", \"Topic3\", \"Topic3\", \"Topic3\", \"Topic4\", \"Topic4\", \"Topic4\", \"Topic4\", \"Topic4\", \"Topic4\", \"Topic4\", \"Topic4\", \"Topic4\", \"Topic4\", \"Topic4\", \"Topic4\", \"Topic4\", \"Topic4\", \"Topic4\", \"Topic4\", \"Topic4\", \"Topic4\", \"Topic4\", \"Topic4\", \"Topic4\", \"Topic4\", \"Topic4\", \"Topic4\", \"Topic4\", \"Topic4\", \"Topic4\", \"Topic4\", \"Topic4\", \"Topic4\", \"Topic4\", \"Topic4\", \"Topic4\", \"Topic4\", \"Topic4\", \"Topic4\", \"Topic4\", \"Topic4\", \"Topic4\", \"Topic4\", \"Topic4\", \"Topic4\", \"Topic4\", \"Topic4\", \"Topic4\", \"Topic4\", \"Topic4\", \"Topic4\", \"Topic4\", \"Topic4\", \"Topic4\", \"Topic4\", \"Topic4\", \"Topic4\", \"Topic4\", \"Topic4\", \"Topic4\", \"Topic4\", \"Topic4\", \"Topic4\", \"Topic4\", \"Topic4\", \"Topic4\", \"Topic4\", \"Topic4\", \"Topic5\", \"Topic5\", \"Topic5\", \"Topic5\", \"Topic5\", \"Topic5\", \"Topic5\", \"Topic5\", \"Topic5\", \"Topic5\", \"Topic5\", \"Topic5\", \"Topic5\", \"Topic5\", \"Topic5\", \"Topic5\", \"Topic5\", \"Topic5\", \"Topic5\", \"Topic5\", \"Topic5\", \"Topic5\", \"Topic5\", \"Topic5\", \"Topic5\", \"Topic5\", \"Topic5\", \"Topic5\", \"Topic5\", \"Topic5\", \"Topic5\", \"Topic5\", \"Topic5\", \"Topic5\", \"Topic5\", \"Topic5\", \"Topic5\", \"Topic5\", \"Topic5\", \"Topic5\", \"Topic5\", \"Topic5\", \"Topic5\", \"Topic5\", \"Topic5\", \"Topic5\", \"Topic5\", \"Topic5\", \"Topic5\", \"Topic5\", \"Topic5\", \"Topic5\", \"Topic5\", \"Topic5\", \"Topic5\", \"Topic5\", \"Topic5\", \"Topic5\", \"Topic5\", \"Topic5\", \"Topic5\", \"Topic5\", \"Topic5\", \"Topic5\", \"Topic6\", \"Topic6\", \"Topic6\", \"Topic6\", \"Topic6\", \"Topic6\", \"Topic6\", \"Topic6\", \"Topic6\", \"Topic6\", \"Topic6\", \"Topic6\", \"Topic6\", \"Topic6\", \"Topic6\", \"Topic6\", \"Topic6\", \"Topic6\", \"Topic6\", \"Topic6\", \"Topic6\", \"Topic6\", \"Topic6\", \"Topic6\", \"Topic6\", \"Topic6\", \"Topic6\", \"Topic6\", \"Topic6\", \"Topic6\", \"Topic6\", \"Topic6\", \"Topic6\", \"Topic6\", \"Topic6\", \"Topic6\", \"Topic6\", \"Topic6\", \"Topic6\", \"Topic6\", \"Topic6\", \"Topic6\", \"Topic6\", \"Topic6\", \"Topic6\", \"Topic6\", \"Topic6\", \"Topic6\", \"Topic6\", \"Topic6\", \"Topic6\", \"Topic6\", \"Topic6\", \"Topic6\", \"Topic6\", \"Topic6\", \"Topic6\", \"Topic6\", \"Topic6\", \"Topic6\", \"Topic6\", \"Topic6\", \"Topic6\", \"Topic7\", \"Topic7\", \"Topic7\", \"Topic7\", \"Topic7\", \"Topic7\", \"Topic7\", \"Topic7\", \"Topic7\", \"Topic7\", \"Topic7\", \"Topic7\", \"Topic7\", \"Topic7\", \"Topic7\", \"Topic7\", \"Topic7\", \"Topic7\", \"Topic7\", \"Topic7\", \"Topic7\", \"Topic7\", \"Topic7\", \"Topic7\", \"Topic7\", \"Topic7\", \"Topic7\", \"Topic7\", \"Topic7\", \"Topic7\", \"Topic7\", \"Topic7\", \"Topic7\", \"Topic7\", \"Topic7\", \"Topic7\", \"Topic7\", \"Topic7\", \"Topic7\", \"Topic7\", \"Topic7\", \"Topic7\", \"Topic7\", \"Topic7\", \"Topic7\", \"Topic7\", \"Topic7\", \"Topic7\", \"Topic7\", \"Topic7\", \"Topic7\", \"Topic7\", \"Topic7\", \"Topic7\", \"Topic7\", \"Topic7\", \"Topic7\", \"Topic7\", \"Topic7\", \"Topic7\", \"Topic7\", \"Topic7\", \"Topic7\", \"Topic7\", \"Topic8\", \"Topic8\", \"Topic8\", \"Topic8\", \"Topic8\", \"Topic8\", \"Topic8\", \"Topic8\", \"Topic8\", \"Topic8\", \"Topic8\", \"Topic8\", \"Topic8\", \"Topic8\", \"Topic8\", \"Topic8\", \"Topic8\", \"Topic8\", \"Topic8\", \"Topic8\", \"Topic8\", \"Topic8\", \"Topic8\", \"Topic8\", \"Topic8\", \"Topic8\", \"Topic8\", \"Topic8\", \"Topic8\", \"Topic8\", \"Topic8\", \"Topic8\", \"Topic8\", \"Topic8\", \"Topic8\", \"Topic8\", \"Topic8\", \"Topic8\", \"Topic8\", \"Topic8\", \"Topic8\", \"Topic8\", \"Topic8\", \"Topic8\", \"Topic8\", \"Topic8\", \"Topic8\", \"Topic8\", \"Topic8\", \"Topic8\", \"Topic8\", \"Topic8\", \"Topic8\", \"Topic8\", \"Topic8\", \"Topic8\", \"Topic8\", \"Topic8\", \"Topic8\", \"Topic8\", \"Topic8\", \"Topic8\", \"Topic8\", \"Topic8\", \"Topic8\", \"Topic9\", \"Topic9\", \"Topic9\", \"Topic9\", \"Topic9\", \"Topic9\", \"Topic9\", \"Topic9\", \"Topic9\", \"Topic9\", \"Topic9\", \"Topic9\", \"Topic9\", \"Topic9\", \"Topic9\", \"Topic9\", \"Topic9\", \"Topic9\", \"Topic9\", \"Topic9\", \"Topic9\", \"Topic9\", \"Topic9\", \"Topic9\", \"Topic9\", \"Topic9\", \"Topic9\", \"Topic9\", \"Topic9\", \"Topic9\", \"Topic9\", \"Topic9\", \"Topic9\", \"Topic9\", \"Topic9\", \"Topic9\", \"Topic9\", \"Topic9\", \"Topic9\", \"Topic9\", \"Topic9\", \"Topic9\", \"Topic9\", \"Topic9\", \"Topic9\", \"Topic9\", \"Topic9\", \"Topic9\", \"Topic9\", \"Topic9\", \"Topic9\", \"Topic9\", \"Topic9\", \"Topic9\", \"Topic9\", \"Topic9\", \"Topic9\", \"Topic9\", \"Topic9\", \"Topic9\", \"Topic9\", \"Topic9\", \"Topic9\", \"Topic9\", \"Topic9\", \"Topic9\", \"Topic9\", \"Topic9\", \"Topic9\", \"Topic9\", \"Topic9\", \"Topic10\", \"Topic10\", \"Topic10\", \"Topic10\", \"Topic10\", \"Topic10\", \"Topic10\", \"Topic10\", \"Topic10\", \"Topic10\", \"Topic10\", \"Topic10\", \"Topic10\", \"Topic10\", \"Topic10\", \"Topic10\", \"Topic10\", \"Topic10\", \"Topic10\", \"Topic10\", \"Topic10\", \"Topic10\", \"Topic10\", \"Topic10\", \"Topic10\", \"Topic10\", \"Topic10\", \"Topic10\", \"Topic10\", \"Topic10\", \"Topic10\", \"Topic10\", \"Topic10\", \"Topic10\", \"Topic10\", \"Topic10\", \"Topic10\", \"Topic10\", \"Topic10\", \"Topic10\", \"Topic10\", \"Topic10\", \"Topic10\", \"Topic10\", \"Topic10\", \"Topic10\", \"Topic10\", \"Topic10\", \"Topic10\", \"Topic10\", \"Topic10\", \"Topic10\", \"Topic10\", \"Topic10\", \"Topic10\", \"Topic10\", \"Topic10\", \"Topic10\"], \"logprob\": [30.0, 29.0, 28.0, 27.0, 26.0, 25.0, 24.0, 23.0, 22.0, 21.0, 20.0, 19.0, 18.0, 17.0, 16.0, 15.0, 14.0, 13.0, 12.0, 11.0, 10.0, 9.0, 8.0, 7.0, 6.0, 5.0, 4.0, 3.0, 2.0, 1.0, -6.1822, -6.7557, -7.4869, -7.2548, -7.1901, -7.2126, -7.4394, -7.1862, -8.0352, -6.4307, -8.0224, -6.356, -7.827, -7.3581, -7.3252, -7.3338, -7.1128, -7.8682, -6.7041, -7.568, -7.8652, -7.7059, -8.0129, -7.2533, -7.0618, -7.1705, -8.3303, -7.9318, -8.0674, -7.0038, -7.6539, -6.1618, -6.5235, -5.7961, -7.1014, -5.9972, -5.1897, -4.3467, -5.1427, -4.6222, -6.3632, -4.5117, -5.0416, -4.0792, -6.1308, -5.0949, -4.924, -4.7033, -4.8004, -6.3622, -4.4984, -4.4699, -5.3578, -4.9533, -5.7797, -4.7564, -4.875, -5.7622, -4.292, -5.0514, -5.3952, -5.4777, -4.753, -4.5976, -5.4842, -5.5437, -5.2001, -5.3689, -4.9224, -5.375, -5.4011, -5.2811, -5.163, -5.2962, -5.316, -5.3346, -5.3627, -6.0535, -6.0987, -6.2846, -6.1617, -6.8185, -7.0284, -6.5698, -6.0885, -6.9151, -7.1308, -6.6396, -5.2981, -6.7944, -5.6163, -6.973, -5.7107, -6.5957, -6.5461, -6.7546, -6.3045, -7.7025, -7.97, -6.2888, -6.2451, -7.1029, -7.4043, -7.4801, -7.7767, -6.5998, -5.489, -5.8268, -5.3693, -5.1381, -5.2033, -5.7488, -5.7237, -3.5063, -3.9909, -4.9478, -5.0277, -5.5622, -5.7636, -4.934, -5.835, -5.5473, -5.0911, -5.2592, -4.7724, -4.492, -5.2957, -5.0602, -5.5689, -4.9038, -4.8622, -4.9057, -5.2985, -4.6772, -5.3456, -5.0439, -5.3007, -5.3074, -5.137, -4.9961, -5.1777, -5.3534, -5.0954, -5.1332, -5.2513, -5.2566, -5.3245, -5.3054, -6.2846, -5.3721, -5.9732, -6.7866, -6.3771, -7.0474, -5.775, -7.6523, -4.0536, -7.3535, -7.6846, -7.4618, -4.2854, -7.6107, -6.6592, -7.2861, -7.9252, -7.5655, -5.7551, -6.574, -6.9202, -6.284, -6.8731, -6.5876, -7.4482, -7.1984, -7.1643, -7.274, -7.5128, -5.5904, -5.7136, -4.7598, -4.1511, -5.0288, -5.2696, -5.5893, -6.3634, -4.5121, -5.379, -5.3731, -5.6724, -5.5286, -4.7386, -5.3037, -4.3556, -4.329, -5.4293, -4.414, -4.1696, -5.5042, -5.4166, -4.8207, -5.1795, -5.015, -5.1371, -5.2483, -5.0515, -5.0, -5.0787, -5.1899, -5.0844, -5.0899, -5.3275, -5.3622, -6.8634, -6.687, -6.2212, -6.1951, -5.8968, -7.0078, -7.4083, -5.8384, -7.2561, -5.9249, -5.8313, -7.4719, -4.2837, -5.3037, -7.0328, -5.5887, -6.8176, -6.8921, -7.5419, -5.9268, -7.7979, -7.808, -7.2546, -7.424, -7.4488, -7.3811, -8.1876, -6.1254, -6.4427, -7.5221, -3.6015, -4.1806, -6.0627, -5.1291, -5.5116, -4.7365, -4.8261, -4.4574, -3.9158, -6.2629, -4.5806, -5.7705, -5.4076, -4.6578, -4.3267, -6.055, -4.4679, -5.8936, -4.3591, -4.9626, -4.6325, -5.2492, -4.9668, -5.3284, -4.7183, -5.1443, -5.175, -5.0368, -5.2271, -5.2656, -5.5601, -5.3947, -5.3539, -5.3766, -5.3828, -6.0094, -5.6841, -6.3975, -6.0763, -5.8235, -7.1908, -4.0979, -7.6641, -6.573, -4.9388, -7.5766, -7.3885, -7.0839, -7.5869, -7.0375, -7.8775, -7.1351, -8.0486, -6.5392, -4.3298, -6.8038, -7.4982, -7.5692, -7.8907, -7.1173, -7.4996, -4.925, -7.5685, -6.6678, -7.0043, -4.3155, -4.2762, -3.2524, -4.0101, -5.6659, -6.6052, -6.9648, -4.8515, -6.1219, -5.2574, -4.8287, -5.1183, -5.7612, -4.949, -4.4269, -4.8433, -5.2717, -5.3463, -5.1123, -4.58, -4.6164, -5.266, -5.0537, -5.6757, -5.3261, -5.0828, -4.9394, -4.8847, -5.206, -4.9397, -5.1575, -5.2066, -5.2232, -5.2212, -5.1732, -6.2234, -6.2309, -6.3735, -5.2689, -5.3254, -6.7658, -5.5138, -7.3397, -7.1793, -5.4537, -5.8431, -7.5585, -6.1175, -5.7575, -5.8791, -7.4451, -7.5877, -6.6767, -5.5964, -7.2532, -6.7257, -8.0222, -6.2727, -6.9922, -6.6763, -7.1477, -4.1784, -5.9757, -7.2545, -6.5772, -4.9642, -4.0828, -5.5607, -4.5296, -6.0006, -5.1222, -4.3451, -4.4845, -4.4933, -4.9148, -3.8676, -5.4492, -5.0947, -5.3286, -4.5492, -5.3633, -4.7827, -4.6989, -5.1837, -5.1912, -4.9909, -5.2502, -5.0737, -5.1376, -4.8888, -5.1753, -5.0745, -5.2341, -5.137, -5.2344, -5.2259, -5.2422, -6.4355, -5.5032, -6.6815, -4.8986, -5.4085, -6.6765, -7.0709, -6.4243, -6.4421, -6.2742, -6.4105, -6.7543, -6.6433, -6.4375, -5.7001, -7.0725, -6.5042, -7.5226, -7.8521, -5.1398, -6.8028, -6.2241, -7.6273, -7.3125, -7.319, -7.4258, -6.5973, -5.8716, -5.7921, -4.067, -5.9793, -3.3872, -6.3513, -5.0954, -5.8221, -6.5379, -4.1008, -5.4979, -3.7334, -5.3453, -5.2713, -4.4561, -4.4198, -4.181, -4.9287, -5.0591, -4.9975, -4.6599, -4.9919, -5.4367, -4.924, -5.6186, -4.419, -4.6111, -4.6645, -5.1017, -4.9129, -5.0662, -5.0788, -5.1363, -5.1814, -5.0601, -5.2243, -5.188, -5.9554, -5.2238, -5.1316, -5.4911, -6.0092, -6.4595, -6.8891, -6.6942, -6.1431, -7.6441, -6.2336, -7.1258, -6.3123, -7.1532, -6.7497, -7.7042, -6.7035, -7.381, -7.1997, -7.2997, -5.779, -5.0715, -7.7933, -6.2576, -7.1908, -6.9127, -7.2335, -7.0703, -7.1417, -7.5983, -6.6701, -6.1604, -5.2239, -5.8936, -5.1334, -5.0369, -3.7219, -5.8083, -5.5391, -5.1505, -4.5937, -5.4017, -5.0797, -5.2891, -4.4453, -4.6736, -4.9171, -5.0008, -5.0546, -5.6437, -4.4781, -4.6331, -5.4584, -4.7417, -4.9999, -4.9214, -4.9735, -5.1191, -5.3394, -5.1045, -5.1621, -5.1496, -5.1864, -5.2178, -5.3469, -4.2155, -5.7587, -6.102, -5.672, -6.0464, -6.7202, -6.0659, -7.1393, -6.9958, -7.5231, -7.398, -7.2781, -5.8321, -6.3764, -7.4263, -5.9819, -6.2107, -7.0651, -6.6862, -7.1904, -6.7337, -6.4641, -6.8897, -6.9337, -7.8668, -7.2601, -7.3518, -5.0921, -5.5489, -7.2581, -5.9101, -5.2665, -6.386, -6.6836, -5.2062, -4.9382, -5.5801, -5.6793, -5.3703, -4.6557, -5.9459, -3.9302, -4.3278, -4.8846, -5.3044, -5.529, -5.6509, -5.0067, -5.2335, -4.353, -5.4523, -5.4022, -4.7155, -5.088, -4.9535, -4.5653, -5.1052, -4.7059, -5.177, -4.7142, -4.9875, -5.2287, -5.0487, -5.2333, -5.0664, -4.9851, -5.2352, -5.2389, -5.2325, -5.2506, -5.2425, -3.6325, -4.6272, -4.838, -6.4211, -5.1753, -6.1291, -6.2537, -4.975, -6.6704, -6.4709, -6.7952, -6.0248, -6.741, -5.8168, -5.4557, -5.6277, -6.532, -7.4362, -6.5664, -7.5057, -4.4687, -7.2575, -7.6682, -6.8503, -7.0015, -4.3548, -6.9467, -7.4277, -6.9814, -7.4282, -5.6673, -6.1192, -5.3402, -5.1623, -5.1118, -4.4267, -4.8541, -4.1169, -6.083, -4.7616, -4.3315, -4.7972, -5.3103, -5.2028, -5.124, -5.2774, -4.4181, -5.4267, -4.8877, -5.0614, -4.9356, -4.874, -5.1035, -5.1386, -5.2364, -5.123, -5.288, -5.306], \"loglift\": [30.0, 29.0, 28.0, 27.0, 26.0, 25.0, 24.0, 23.0, 22.0, 21.0, 20.0, 19.0, 18.0, 17.0, 16.0, 15.0, 14.0, 13.0, 12.0, 11.0, 10.0, 9.0, 8.0, 7.0, 6.0, 5.0, 4.0, 3.0, 2.0, 1.0, 1.7298, 1.5723, 1.5361, 1.44, 1.4123, 1.3932, 1.3893, 1.3665, 1.3622, 1.357, 1.3512, 1.335, 1.3308, 1.3245, 1.296, 1.293, 1.2787, 1.2764, 1.2696, 1.2686, 1.2599, 1.247, 1.2406, 1.2402, 1.2302, 1.2287, 1.2133, 1.2098, 1.2043, 1.2005, 1.1948, 1.1377, 1.1444, 1.1017, 1.1676, 1.0545, 0.9512, 0.8335, 0.9206, 0.8442, 1.0765, 0.7437, 0.7822, 0.5685, 0.9795, 0.7024, 0.6547, 0.5752, 0.5815, 1.0329, 0.3873, 0.3608, 0.668, 0.4933, 0.8123, 0.3846, 0.4304, 0.8019, 0.1582, 0.4821, 0.6317, 0.648, 0.1294, 0.0036, 0.5323, 0.5663, 0.2075, 0.3784, -0.1283, 0.3103, 0.3276, -0.0975, -0.4096, -0.1399, -0.1392, -0.1798, -0.1355, 1.8619, 1.8506, 1.8046, 1.7264, 1.7161, 1.6425, 1.6422, 1.6399, 1.6088, 1.5794, 1.5639, 1.5553, 1.5542, 1.5452, 1.5436, 1.5357, 1.5254, 1.4673, 1.4651, 1.4542, 1.4526, 1.4381, 1.4353, 1.4238, 1.4028, 1.3988, 1.3952, 1.3884, 1.3852, 1.3622, 1.3557, 1.3431, 1.318, 1.2372, 1.2619, 1.2523, 0.9439, 0.8981, 1.078, 1.0926, 1.1925, 1.2016, 0.8803, 1.1777, 1.0593, 0.839, 0.8472, 0.5719, 0.3903, 0.8087, 0.642, 0.9639, 0.3747, 0.3147, 0.3305, 0.7044, -0.0759, 0.677, 0.0971, 0.5197, 0.4898, -0.016, -0.4941, 0.0025, 0.4703, -0.4477, -0.3391, -0.0965, -0.2685, 0.2163, 2.0432, 1.8824, 1.8552, 1.8195, 1.7797, 1.7529, 1.736, 1.6516, 1.6136, 1.6044, 1.6005, 1.5996, 1.5987, 1.5615, 1.5604, 1.5007, 1.4886, 1.472, 1.4702, 1.4638, 1.4378, 1.4366, 1.4216, 1.4035, 1.3993, 1.3974, 1.3956, 1.3943, 1.3691, 1.3651, 1.3553, 1.3555, 1.3238, 1.1983, 1.2253, 1.2414, 1.2244, 1.3206, 0.9684, 1.0921, 1.0642, 1.1288, 1.0765, 0.7949, 0.9381, 0.5333, 0.4651, 0.9318, 0.4167, 0.2806, 0.9508, 0.8495, 0.4155, 0.6314, 0.4514, 0.5482, 0.641, 0.2539, 0.1211, -0.1964, -0.0489, -0.4367, -0.4887, -0.1713, 0.0899, 1.8655, 1.855, 1.8363, 1.7207, 1.7094, 1.7053, 1.6958, 1.684, 1.6672, 1.6579, 1.6553, 1.6311, 1.631, 1.6263, 1.6237, 1.6213, 1.5962, 1.5835, 1.5755, 1.5461, 1.5294, 1.5035, 1.4996, 1.4922, 1.474, 1.4618, 1.4239, 1.4171, 1.4041, 1.3995, 1.3866, 1.3907, 1.3944, 1.3215, 1.3273, 1.247, 1.2532, 1.1681, 0.9699, 1.3464, 0.8716, 1.1722, 0.9729, 0.5257, 0.2745, 1.1822, 0.2855, 1.0827, 0.0911, 0.3816, 0.0153, 0.532, 0.2604, 0.5609, -0.2164, 0.2525, 0.207, -0.1478, 0.2196, -0.1094, 0.6837, 0.0015, -0.2329, -0.4942, -0.5887, 1.9306, 1.8754, 1.8506, 1.8357, 1.8212, 1.7614, 1.7529, 1.6183, 1.6024, 1.5879, 1.5848, 1.5696, 1.566, 1.549, 1.5347, 1.5095, 1.4972, 1.492, 1.4713, 1.4632, 1.4404, 1.4375, 1.4127, 1.4049, 1.385, 1.3847, 1.3751, 1.3744, 1.3628, 1.357, 1.3496, 1.3228, 1.2496, 1.1448, 1.2024, 1.2944, 1.3363, 0.8957, 1.106, 0.794, 0.628, 0.7054, 0.9188, 0.5917, 0.3672, 0.5386, 0.68, 0.7114, 0.5899, 0.2507, 0.2693, 0.5545, 0.3539, 0.7884, 0.4613, 0.1444, -0.057, -0.2835, 0.2461, -0.292, -0.0013, 0.1377, -0.043, -0.7711, 2.1314, 2.12, 2.0591, 2.0138, 1.9766, 1.9487, 1.9385, 1.8891, 1.88, 1.8378, 1.8085, 1.7881, 1.7763, 1.7754, 1.732, 1.6842, 1.6442, 1.6094, 1.5993, 1.5976, 1.5926, 1.5842, 1.5809, 1.5747, 1.5651, 1.5536, 1.5497, 1.5105, 1.4725, 1.4452, 1.4395, 1.3512, 1.2937, 1.3299, 1.1022, 1.359, 1.0885, 0.8911, 0.9117, 0.9035, 1.0017, 0.6343, 1.1683, 1.0117, 1.0839, 0.3332, 0.8634, 0.3735, 0.0951, 0.6086, 0.5375, 0.164, 0.547, 0.2048, 0.27, -0.4386, 0.2814, -0.1888, 0.2994, -0.5358, -0.0072, -0.0849, -0.0653, 2.2174, 2.0649, 2.0532, 2.0474, 2.0129, 2.0003, 1.9521, 1.9472, 1.9376, 1.9171, 1.8883, 1.8553, 1.8447, 1.7759, 1.7755, 1.7639, 1.7375, 1.7303, 1.6848, 1.654, 1.6416, 1.6368, 1.6358, 1.6339, 1.6026, 1.5778, 1.559, 1.5565, 1.5519, 1.5516, 1.5442, 1.3662, 1.5409, 1.3771, 1.4588, 1.5316, 1.0202, 1.3044, 0.8678, 1.235, 1.1795, 0.7711, 0.7364, 0.6131, 0.8949, 0.9257, 0.8734, 0.5955, 0.8005, 1.1242, 0.7015, 1.2434, 0.083, 0.2196, 0.2179, 0.5836, 0.2281, 0.3859, 0.378, 0.0472, 0.1241, -0.4123, 0.1725, -0.3022, 2.2142, 2.0651, 2.0408, 1.9738, 1.9654, 1.9278, 1.9175, 1.8178, 1.7905, 1.7886, 1.7586, 1.7546, 1.7341, 1.7302, 1.7172, 1.7168, 1.7092, 1.6914, 1.6812, 1.6795, 1.6624, 1.6602, 1.6374, 1.6326, 1.6062, 1.5916, 1.5897, 1.5804, 1.5739, 1.5733, 1.5642, 1.5072, 1.406, 1.4254, 1.3175, 1.2412, 0.9258, 1.316, 1.2349, 1.1136, 0.947, 1.1625, 1.021, 1.0915, 0.7382, 0.734, 0.8333, 0.7805, 0.7889, 1.1493, 0.1231, 0.1976, 0.9533, 0.1473, 0.3444, 0.2334, 0.2034, 0.3275, 0.6635, 0.0165, 0.1434, -0.0086, -0.304, -0.4237, -0.845, 2.3141, 2.2958, 2.1228, 2.0908, 2.0582, 2.0392, 1.9744, 1.8805, 1.8699, 1.8692, 1.8612, 1.8554, 1.8404, 1.819, 1.8104, 1.8031, 1.7848, 1.7785, 1.7554, 1.7432, 1.726, 1.7177, 1.6993, 1.6961, 1.6822, 1.6792, 1.6778, 1.6702, 1.6656, 1.6623, 1.6513, 1.5764, 1.6172, 1.6299, 1.4245, 1.3666, 1.4377, 1.452, 1.3502, 1.0948, 1.4492, 0.8232, 0.9085, 1.067, 1.2114, 1.2747, 1.3156, 1.0098, 1.0326, 0.536, 1.109, 1.05, 0.4614, 0.6994, 0.423, -0.1152, 0.5801, -0.0581, 0.6665, -0.113, 0.318, 0.5856, 0.1316, 0.5479, 0.0546, -0.4831, 0.3966, 0.1054, -0.2444, -0.0943, -0.4118, 2.7809, 2.6246, 2.5697, 2.4135, 2.3641, 2.3214, 2.2975, 2.2455, 2.2302, 2.2091, 2.2016, 2.1809, 2.1659, 2.0676, 2.0407, 2.0312, 2.023, 1.9819, 1.9801, 1.9305, 1.9204, 1.9185, 1.9138, 1.9027, 1.8956, 1.8898, 1.871, 1.8621, 1.8508, 1.7826, 1.774, 1.7657, 1.5576, 1.5101, 1.421, 1.2384, 1.3167, 1.0599, 1.601, 1.155, 0.9239, 1.0581, 1.2872, 1.1058, 1.0423, 1.1251, 0.4126, 1.0869, 0.3395, 0.4191, 0.2054, 0.015, 0.3486, 0.0977, 0.3822, -0.6211, -0.1318, -0.4236]}, \"token.table\": {\"Topic\": [1, 2, 3, 4, 5, 6, 7, 8, 9, 10, 2, 3, 6, 1, 2, 3, 4, 6, 7, 10, 1, 4, 6, 8, 9, 10, 1, 2, 3, 4, 5, 6, 7, 8, 9, 1, 4, 5, 7, 8, 9, 1, 2, 3, 4, 5, 6, 7, 8, 9, 10, 1, 2, 3, 4, 5, 6, 7, 8, 9, 10, 1, 2, 3, 6, 7, 8, 1, 2, 3, 5, 8, 9, 10, 1, 3, 7, 1, 2, 4, 5, 7, 8, 9, 4, 5, 8, 10, 2, 4, 5, 7, 9, 10, 1, 2, 3, 4, 5, 9, 10, 1, 2, 3, 4, 5, 6, 7, 8, 9, 10, 1, 2, 3, 4, 5, 6, 7, 8, 9, 10, 1, 2, 8, 4, 5, 6, 8, 1, 2, 3, 4, 5, 6, 7, 8, 9, 10, 1, 2, 3, 4, 5, 6, 8, 9, 10, 1, 2, 3, 4, 5, 6, 7, 8, 9, 3, 4, 7, 1, 2, 6, 1, 2, 3, 4, 5, 6, 8, 10, 1, 2, 3, 4, 5, 6, 7, 8, 9, 10, 1, 2, 3, 5, 6, 7, 8, 9, 10, 1, 2, 3, 4, 5, 6, 7, 8, 9, 10, 1, 3, 6, 7, 9, 1, 2, 4, 5, 6, 9, 10, 1, 2, 3, 4, 5, 6, 7, 8, 9, 10, 1, 2, 3, 4, 5, 6, 7, 10, 1, 2, 3, 4, 5, 6, 7, 8, 9, 1, 2, 3, 4, 5, 6, 7, 8, 9, 10, 3, 4, 5, 7, 8, 9, 10, 1, 2, 4, 6, 7, 10, 1, 2, 3, 4, 5, 6, 7, 10, 2, 3, 4, 6, 10, 1, 2, 3, 4, 5, 6, 7, 8, 9, 10, 5, 6, 8, 4, 5, 6, 9, 10, 1, 2, 3, 4, 5, 6, 7, 8, 9, 10, 1, 2, 3, 4, 5, 6, 7, 8, 9, 10, 1, 2, 3, 4, 5, 6, 7, 8, 9, 10, 1, 2, 3, 4, 5, 6, 7, 8, 9, 10, 1, 2, 3, 4, 5, 6, 9, 10, 1, 2, 4, 5, 6, 7, 1, 5, 9, 10, 1, 2, 3, 4, 5, 6, 7, 8, 9, 10, 1, 2, 3, 4, 5, 6, 7, 8, 9, 10, 4, 6, 7, 9, 1, 2, 3, 4, 5, 6, 7, 8, 9, 10, 1, 2, 3, 4, 5, 6, 7, 8, 9, 2, 4, 5, 1, 2, 3, 4, 5, 6, 7, 8, 9, 10, 1, 2, 3, 4, 5, 6, 7, 8, 9, 10, 1, 2, 3, 4, 5, 6, 7, 8, 9, 10, 1, 6, 8, 1, 2, 3, 4, 5, 6, 7, 8, 9, 10, 1, 2, 3, 4, 5, 6, 7, 8, 3, 4, 10, 2, 4, 8, 1, 2, 3, 4, 5, 6, 7, 8, 9, 10, 1, 2, 4, 6, 8, 9, 1, 2, 6, 8, 9, 1, 3, 4, 5, 6, 8, 10, 2, 3, 4, 7, 8, 2, 3, 4, 5, 10, 1, 2, 3, 4, 5, 6, 7, 8, 9, 10, 1, 4, 8, 1, 2, 6, 10, 1, 2, 3, 4, 5, 6, 7, 8, 9, 10, 1, 2, 3, 4, 5, 6, 7, 9, 10, 1, 2, 3, 7, 8, 10, 2, 4, 6, 8, 9, 10, 1, 2, 3, 4, 5, 6, 7, 8, 9, 10, 1, 2, 3, 4, 5, 6, 7, 8, 9, 10, 1, 2, 3, 4, 5, 6, 9, 1, 6, 9, 10, 1, 2, 3, 4, 5, 6, 7, 8, 9, 10, 1, 2, 3, 5, 6, 9, 10, 2, 5, 7, 8, 1, 2, 3, 4, 5, 6, 7, 8, 9, 1, 2, 3, 4, 5, 6, 7, 8, 9, 10, 1, 3, 4, 9, 10, 1, 2, 3, 4, 5, 6, 8, 9, 1, 2, 3, 4, 6, 7, 4, 5, 6, 7, 8, 9, 10, 1, 2, 3, 4, 5, 6, 7, 8, 9, 10, 1, 2, 3, 4, 5, 7, 8, 9, 10, 1, 2, 3, 6, 7, 9, 1, 6, 7, 10, 1, 2, 3, 4, 5, 6, 7, 8, 9, 10, 1, 2, 3, 6, 8, 9, 1, 2, 4, 5, 7, 8, 9, 10, 2, 3, 4, 9, 1, 2, 3, 4, 5, 6, 7, 8, 9, 10, 1, 2, 3, 4, 5, 6, 7, 8, 9, 10, 1, 2, 3, 8, 9, 10, 1, 2, 3, 5, 8, 1, 2, 3, 4, 5, 6, 7, 8, 9, 10, 1, 3, 4, 5, 6, 7, 1, 2, 4, 6, 7, 1, 2, 3, 5, 6, 7, 9, 1, 2, 3, 4, 5, 6, 8, 1, 2, 3, 4, 5, 6, 7, 8, 9, 10, 1, 2, 3, 4, 5, 6, 7, 8, 9, 10, 1, 5, 6, 8, 10, 1, 2, 3, 4, 5, 6, 7, 8, 9, 10, 2, 5, 7, 9, 10, 2, 4, 7, 9, 1, 2, 3, 4, 5, 6, 7, 8, 9, 10, 1, 2, 3, 4, 5, 6, 8, 9, 10, 2, 4, 6, 9, 1, 2, 5, 6, 7, 9, 1, 4, 6, 1, 2, 4, 5, 6, 7, 8, 10, 1, 4, 5, 1, 2, 4, 7, 8, 5, 7, 3, 5, 8, 1, 4, 5, 6, 7, 1, 2, 3, 4, 5, 6, 7, 8, 9, 10, 1, 2, 3, 4, 6, 7, 8, 9, 1, 2, 3, 4, 5, 6, 7, 8, 9, 10, 1, 2, 3, 4, 5, 6, 7, 8, 2, 3, 8, 2, 3, 5, 10, 1, 3, 4, 6, 1, 3, 6, 7, 10, 1, 2, 3, 4, 6, 7, 8, 10, 1, 2, 3, 4, 5, 6, 7, 8, 9, 10, 2, 3, 4, 1, 2, 3, 4, 5, 6, 7, 8, 9, 10, 2, 5, 8, 1, 2, 3, 5, 6, 7, 8, 9, 1, 2, 3, 4, 5, 6, 7, 1, 2, 3, 4, 5, 6, 7, 8, 1, 3, 4, 5, 8, 1, 2, 3, 4, 5, 6, 7, 8, 9, 10, 1, 2, 3, 4, 5, 6, 9, 1, 2, 3, 4, 5, 6, 7, 8, 9, 1, 2, 3, 4, 5, 6, 8, 9, 10, 3, 6, 7, 10, 5, 6, 7, 10, 1, 2, 3, 4, 5, 6, 7, 8, 9, 10, 1, 4, 10, 1, 2, 3, 4, 7, 1, 2, 7, 10, 1, 3, 4, 10, 1, 2, 3, 4, 5, 6, 7, 8, 9, 10, 1, 2, 3, 4, 5, 6, 7, 8, 9, 10, 1, 4, 7, 1, 2, 3, 4, 5, 6, 7, 8, 1, 2, 3, 4, 5, 6, 7, 8, 9, 10, 1, 2, 4, 5, 6, 7, 8, 10, 1, 5, 6, 7, 1, 3, 4, 5, 6, 7, 9, 1, 2, 3, 4, 5, 6, 7, 8, 9, 10, 1, 2, 4, 5, 6, 7, 10, 1, 4, 5, 7, 8, 1, 2, 3, 4, 5, 6, 7, 8, 9, 10, 1, 2, 3, 4, 6, 8, 9, 1, 4, 5, 9, 10, 3, 4, 5, 6, 9, 10, 5, 9, 10, 1, 2, 3, 4, 5, 6, 7, 8, 9, 10, 1, 2, 4, 5, 6, 9, 10, 1, 2, 3, 4, 5, 6, 7, 8, 9, 10, 1, 2, 3, 4, 5, 6, 7, 8, 9, 10, 1, 2, 3, 4, 5, 6, 7, 8, 9, 10, 1, 2, 3, 4, 5, 6, 7, 8, 9, 10, 2, 3, 5, 6, 8, 9, 3, 4, 5, 6, 9, 1, 2, 3, 4, 5, 6, 7, 8, 9, 10, 3, 4, 6, 7, 8, 9, 10, 3, 5, 6, 8, 10, 1, 3, 4, 5, 7, 8, 9, 1, 2, 9, 1, 2, 3, 4, 5, 6, 7, 8, 9, 10, 2, 3, 4, 6, 7, 8, 10, 1, 2, 3, 4, 5, 6, 7, 8, 9, 10, 1, 3, 4, 6, 8, 10, 1, 5, 6, 1, 2, 3, 5, 8, 1, 2, 3, 4, 5, 6, 7, 8, 9, 10, 1, 2, 4, 6, 7, 8, 9, 10, 1, 2, 3, 4, 5, 6, 7, 8, 9, 10, 1, 2, 3, 4, 5, 6, 7, 8, 9, 10, 1, 2, 3, 4, 5, 6, 7, 8, 9, 10, 1, 3, 7, 8, 1, 2, 3, 4, 5, 6, 7, 8, 9, 10, 2, 3, 4, 6, 8, 10, 1, 2, 4, 6, 9, 10, 2, 6, 1, 2, 3, 4, 5, 6, 7, 8, 9, 10, 1, 2, 3, 4, 5, 8, 9, 1, 2, 3, 4, 5, 6, 7, 8, 9, 10, 3, 4, 5, 6, 8, 9, 10, 1, 2, 3, 4, 5, 8, 9, 1, 2, 3, 4, 5, 6, 7, 8, 9, 10, 1, 2, 3, 4, 5, 6, 7, 8, 9, 10, 1, 2, 3, 4, 5, 6, 7, 8, 9, 10, 1, 2, 3, 4, 5, 6, 7, 8, 9, 10, 1, 2, 3, 4, 6, 7, 8, 9, 10, 1, 6, 2, 3, 4, 5, 6, 7, 8, 9, 1, 2, 3, 4, 5, 6, 7, 8, 9, 10, 1, 2, 3, 4, 5, 6, 7, 8, 9, 10, 1, 2, 3, 4, 5, 6, 7, 8, 9, 10, 4, 5, 7, 8, 1, 3, 4, 6, 8, 9, 1, 2, 3, 4, 5, 6, 7, 8, 1, 2, 3, 4, 5, 6, 7, 8, 9, 10, 1, 2, 3, 4, 5, 6, 7, 8, 9, 10, 1, 2, 3, 4, 5, 6, 7, 8, 9, 10, 1, 2, 3, 4, 5, 6, 7, 8, 9, 10, 1, 2, 3, 4, 5, 6, 7, 8, 9, 10, 1, 2, 3, 4, 6, 7, 8, 9, 10, 1, 2, 3, 4, 5, 6, 7, 8, 9, 10, 1, 2, 4, 5, 6, 8, 9, 1, 2, 4, 5, 7, 8, 7, 8, 9, 1, 2, 3, 4, 5, 6, 7, 8, 9, 10, 5, 6, 9, 1, 2, 3, 4, 5, 6, 7, 8, 9, 10, 1, 3, 5, 6, 7, 2, 3, 5, 7, 1, 2, 3, 4, 5, 6, 7, 8, 9, 10, 1, 2, 8, 10, 2, 4, 6, 7, 9, 1, 2, 3, 7, 8, 9, 10, 1, 6, 7, 1, 3, 5, 6, 9, 10, 1, 5, 9, 1, 4, 5, 6, 7, 8, 9, 1, 2, 3, 4, 5, 6, 7, 8, 9, 10, 1, 3, 4, 6, 8, 1, 2, 3, 4, 5, 6, 7, 8, 9, 10, 1, 2, 3, 4, 5, 6, 7, 8, 9, 10, 2, 3, 4, 9, 1, 2, 3, 4, 5, 6, 8, 10, 1, 2, 3, 4, 5, 6, 7, 8, 9, 10, 1, 2, 3, 4, 5, 6, 7, 8, 9, 10, 1, 6, 8, 9, 1, 2, 4, 5, 6, 7, 8, 1, 2, 3, 4, 5, 6, 7, 8, 9, 10, 1, 2, 3, 4, 5, 6, 7, 8, 9, 10, 1, 2, 3, 4, 5, 6, 7, 8, 9, 10, 1, 2, 3, 4, 5, 6, 8, 2, 4, 5, 6, 10, 1, 2, 3, 4, 5, 6, 7, 8, 9, 10, 1, 2, 3, 4, 5, 6, 7, 8, 9, 10, 1, 2, 3, 4, 5, 6, 7, 8, 9, 10, 1, 2, 3, 4, 5, 6, 7, 8, 9, 10, 1, 2, 3, 4, 5, 6, 7, 8, 9, 10, 1, 2, 3, 4, 5, 6, 7, 8, 9, 10, 1, 2, 3, 4, 5, 7, 10, 2, 3, 4, 5, 8, 2, 4, 6, 7, 1, 2, 3, 4, 5, 6, 7, 8, 9, 10, 1, 2, 3, 4, 5, 6, 7, 8, 9, 2, 4, 6, 4, 5, 7, 9, 10, 1, 3, 5, 1, 2, 3, 4, 5, 6, 7, 8, 9, 10, 1, 2, 3, 4, 5, 6, 7, 8, 9, 10, 1, 2, 3, 4, 5, 6, 7, 8, 9, 10, 1, 2, 3, 4, 5, 6, 7, 8, 9, 10, 1, 2, 3, 5, 6, 9, 1, 2, 5, 6, 7, 8, 1, 2, 3, 4, 5, 6, 7, 8, 9, 10, 1, 2, 3, 4, 5, 6, 7, 8, 9, 10, 1, 2, 3, 4, 5, 6, 8, 9, 10, 1, 2, 3, 4, 5, 6, 7, 8, 9, 10, 2, 5, 7, 8, 9, 1, 2, 3, 4, 5, 6, 7, 8, 9, 10, 1, 3, 8, 10, 2, 3, 6, 7, 9, 10, 1, 2, 3, 4, 5, 6, 7, 8, 9, 10, 1, 4, 5, 8, 9, 1, 2, 3, 4, 5, 6, 7, 8, 9, 10, 2, 3, 4, 5, 6, 7, 8, 9, 10, 1, 2, 3, 4, 5, 6, 7, 8, 10, 1, 2, 3, 4, 5, 6, 7, 8, 9, 10, 1, 3, 4, 5, 6, 7, 8, 10, 1, 3, 5, 6, 8, 1, 2, 3, 4, 5, 6, 7, 8, 9, 1, 2, 3, 4, 5, 6, 7, 8, 9, 10, 1, 2, 3, 4, 5, 6, 7, 8, 9, 10, 1, 2, 3, 4, 5, 6, 7, 8, 9, 10, 3, 4, 6, 7, 8, 1, 2, 3, 6, 7, 8, 1, 3, 5, 8, 5, 8, 9, 1, 2, 3, 4, 5, 6, 7, 8, 9, 10, 2, 3, 4, 5, 6, 8, 1, 4, 6, 10, 1, 3, 10, 3, 4, 5, 6, 8, 1, 2, 3, 4, 5, 6, 7, 8, 9, 10, 2, 3, 4, 5, 7, 8, 10, 2, 6, 1, 2, 3, 4, 5, 6, 7, 10, 1, 6, 7, 8, 9, 1, 2, 3, 4, 5, 6, 7, 8, 9, 10, 1, 7, 8, 10, 1, 3, 4, 8, 9, 1, 8, 9, 10, 1, 4, 6, 1, 2, 3, 4, 5, 1, 2, 3, 4, 5, 6, 7, 8, 9, 10, 1, 2, 5, 10, 1, 2, 3, 4, 5, 6, 7, 8, 9, 10, 1, 4, 8, 1, 2, 3, 4, 5, 6, 7, 8, 9, 1, 2, 3, 4, 7, 8, 9, 4, 7, 9, 10, 1, 2, 3, 4, 5, 6, 7, 8, 9, 10, 1, 2, 3, 4, 5, 6, 7, 8, 10, 1, 2, 3, 4, 7, 8, 1, 2, 4, 5, 7, 1, 2, 3, 4, 5, 6, 7, 8, 9, 10, 1, 5, 10, 1, 2, 3, 4, 5, 6, 7, 8, 9, 10, 1, 2, 3, 4, 5, 7, 8, 9, 10, 1, 3, 4, 5, 6, 7, 8, 2, 4, 5, 6, 9, 1, 2, 3, 4, 5, 6, 7, 8, 9, 10, 4, 5, 8, 1, 2, 3, 4, 5, 6, 7, 8, 9, 10, 1, 2, 3, 4, 5, 6, 7, 8, 9, 10, 1, 2, 3, 4, 5, 6, 7, 8, 9, 10, 1, 2, 3, 4, 5, 6, 7, 8, 9, 10, 2, 4, 5, 7, 9, 1, 2, 3, 4, 5, 6, 7, 8, 9, 10, 2, 4, 6, 7, 8, 9, 1, 2, 4, 5, 6, 1, 2, 3, 4, 5, 6, 7, 8, 9, 10, 1, 2, 4, 5, 8, 2, 3, 4, 5, 6, 10, 2, 5, 6, 7, 9, 10, 1, 3, 4, 5, 6, 7, 1, 2, 3, 4, 5, 6, 7, 8, 9, 10, 1, 4, 5, 8, 9, 1, 2, 3, 4, 5, 6, 7, 8, 9, 10, 1, 2, 3, 4, 5, 6, 7, 8, 9, 10, 1, 2, 3, 4, 5, 6, 7, 8, 9, 10, 2, 3, 4, 8, 9, 1, 2, 3, 4, 5, 6, 7, 8, 9, 10, 1, 2, 3, 4, 5, 6, 7, 9, 10, 2, 5, 7, 1, 3, 9, 10, 1, 2, 3, 4, 5, 6, 7, 8, 9, 10, 2, 5, 1, 2, 3, 4, 5, 6, 7, 8, 9, 10, 1, 2, 3, 4, 6, 7, 8, 9, 10, 5, 7, 9, 1, 2, 3, 4, 5, 6, 7, 8, 9, 10, 1, 2, 3, 4, 5, 6, 7, 8, 9, 10, 1, 2, 3, 6, 7, 9, 10, 1, 2, 3, 5, 7, 1, 2, 3, 4, 5, 6, 7, 8, 9, 10, 1, 2, 4, 5, 6, 8, 9, 1, 3, 4, 6, 8, 9, 10, 1, 2, 3, 4, 5, 6, 7, 8, 9, 10, 1, 4, 5, 6, 1, 2, 3, 4, 5, 6, 7, 8, 9, 10, 1, 2, 3, 4, 5, 6, 7, 8, 9, 10, 1, 2, 4, 6, 7, 1, 2, 3, 4, 5, 6, 7, 8, 9, 10, 1, 2, 3, 4, 5, 6, 7, 8, 9, 10, 1, 3, 9, 10, 1, 2, 3, 4, 5, 6, 7, 8, 9, 10, 1, 2, 3, 4, 5, 6, 7, 8, 9, 10, 1, 5, 6, 9, 10, 1, 2, 3, 4, 5, 6, 7, 8, 9, 10, 1, 2, 4, 6, 7, 8, 1, 2, 4, 5, 6, 9, 10, 1, 2, 3, 4, 5, 6, 7, 8, 9, 10, 5, 6, 7, 8, 1, 2, 3, 4, 5, 6, 7, 8, 9, 10, 1, 2, 3, 4, 5, 6, 7, 8, 10, 1, 2, 3, 4, 5, 7, 8, 9, 10, 1, 2, 3, 4, 5, 6, 7, 8, 9, 10, 1, 2, 3, 4, 7, 9, 3, 4, 6, 7, 2, 3, 4, 6, 7, 10, 2, 4, 5, 6, 7, 1, 2, 3, 4, 5, 6, 7, 8, 9, 10, 1, 2, 3, 4, 5, 6, 7, 8, 9, 10, 1, 2, 3, 4, 5, 6, 7, 8, 9, 10, 1, 4, 5, 6, 8, 9, 1, 2, 3, 4, 5, 6, 7, 8, 9, 10, 1, 2, 3, 4, 5, 6, 7, 8, 9, 10, 2, 3, 4, 5, 6, 8, 9, 10, 1, 2, 4, 6, 7, 8, 9, 10, 2, 3, 4, 5, 8, 9, 10, 1, 2, 3, 4, 5, 6, 7, 8, 9, 10, 1, 2, 3, 4, 5, 6, 7, 8, 9, 10, 1, 3, 4, 5, 6, 7, 9, 1, 2, 3, 4, 5, 6, 7, 8, 9, 10, 1, 2, 3, 4, 5, 7, 8, 10, 1, 2, 3, 4, 5, 6, 7, 8, 9, 10, 1, 2, 3, 4, 5, 6, 7, 8, 9, 10, 1, 2, 3, 4, 5, 6, 7, 8, 9, 10, 1, 2, 3, 4, 5, 6, 7, 8, 9, 10, 1, 2, 3, 4, 5, 6, 7, 9, 3, 6, 8, 1, 2, 3, 6, 7, 8, 9, 10, 1, 2, 4, 5, 6, 8, 9, 10, 1, 3, 4, 6, 8, 9, 10, 1, 2, 3, 4, 5, 6, 8, 10, 2, 3, 4, 5, 6, 7, 8, 9, 10, 1, 2, 3, 4, 5, 6, 7, 8, 9, 10, 1, 3, 6, 8, 9, 10, 2, 4, 5, 7, 1, 2, 3, 4, 6, 7, 1, 2, 3, 4, 5, 6, 7, 8, 9, 10, 1, 2, 3, 4, 1, 2, 3, 4, 5, 6, 7, 8, 9, 10, 1, 2, 3, 4, 5, 6, 7, 8, 9, 10, 1, 2, 3, 4, 5, 6, 7, 8, 9, 10, 3, 4, 8, 1, 2, 4, 7, 8, 10, 1, 2, 3, 4, 7, 9, 1, 4, 6, 10, 1, 2, 3, 4, 6, 7, 8, 9, 1, 2, 3, 4, 5, 6, 7, 8, 9, 10, 1, 2, 6, 8, 10, 1, 2, 3, 4, 5, 6, 7, 8, 9, 10, 1, 4, 7, 9, 1, 2, 3, 5, 6, 8, 9, 10, 1, 2, 3, 4, 5, 6, 7, 8, 9, 10, 1, 2, 3, 5, 6, 7, 8, 10, 1, 2, 3, 4, 5, 6, 7, 8, 9, 10, 1, 2, 4, 5, 7, 8, 1, 2, 4, 5, 9, 10, 1, 2, 3, 5, 7, 1, 2, 3, 4, 5, 6, 7, 8, 9, 10, 1, 2, 3, 4, 5, 6, 7, 8, 9, 10, 4, 5, 6, 8, 2, 3, 6, 9, 1, 2, 3, 4, 5, 6, 7, 8, 9, 1, 2, 3, 5, 6, 9, 1, 2, 3, 4, 5, 6, 7, 8, 9, 10, 1, 3, 1, 4, 6, 7, 8, 1, 2, 3, 4, 8, 1, 2, 3, 4, 5, 6, 7, 8, 1, 2, 3, 4, 5, 6, 7, 9, 1, 2, 4, 6, 8, 10, 1, 2, 3, 4, 6, 7, 8, 9, 1, 2, 3, 4, 5, 6, 7, 8, 9, 10, 1, 2, 3, 4, 5, 6, 7, 8, 9, 10, 1, 2, 3, 4, 5, 6, 7, 8, 9, 10, 1, 2, 3, 4, 5, 6, 7, 8, 9, 10, 1, 2, 3, 4, 7, 9, 1, 2, 3, 4, 5, 6, 7, 8, 9, 10, 1, 2, 3, 6, 7, 8, 10, 1, 2, 3, 4, 5, 10, 1, 2, 3, 4, 5, 6, 7, 8, 9, 10, 1, 2, 5, 6, 8, 10, 3, 4, 5, 6, 10, 1, 3, 5, 7, 8, 10, 3, 4, 6, 9, 1, 6, 9, 10, 2, 4, 6, 7, 1, 2, 3, 4, 5, 6, 7, 8, 9, 10, 2, 5, 7, 10, 1, 2, 3, 4, 5, 6, 7, 8, 9, 10, 1, 2, 3, 4, 5, 6, 7, 8, 9, 10, 1, 2, 3, 4, 5, 6, 7, 8, 9, 10, 1, 2, 3, 4, 5, 6, 7, 8, 9, 10, 1, 2, 3, 4, 5, 6, 7, 8, 9, 10, 1, 2, 3, 4, 5, 6, 7, 8, 9, 10, 1, 3, 7, 1, 2, 3, 5, 6, 7, 8, 9, 1, 2, 3, 4, 5, 1, 2, 3, 4, 5, 6, 7, 8, 9, 10, 1, 2, 3, 4, 5, 6, 7, 8, 9, 10, 1, 2, 3, 4, 5, 6, 7, 8, 1, 2, 3, 4, 5, 6, 7, 8, 1, 2, 3, 4, 6, 7, 10, 1, 2, 3, 4, 5, 6, 7, 8, 9, 10, 3, 4, 7, 5, 6, 8, 9, 10], \"Freq\": [0.10588375488235632, 0.02443471266515915, 0.016289808443439434, 0.26878183931675065, 0.4968391575249027, 0.02443471266515915, 0.03257961688687887, 0.008144904221719717, 0.016289808443439434, 0.008144904221719717, 0.11463438056791891, 0.5731719028395946, 0.22926876113583783, 0.6907163239630935, 0.0493368802830781, 0.0493368802830781, 0.0493368802830781, 0.0493368802830781, 0.0493368802830781, 0.0493368802830781, 0.07251223755980109, 0.6526101380382098, 0.07251223755980109, 0.07251223755980109, 0.07251223755980109, 0.07251223755980109, 0.05122853491255449, 0.025614267456277245, 0.07684280236883173, 0.10245706982510898, 0.10245706982510898, 0.07684280236883173, 0.025614267456277245, 0.07684280236883173, 0.4610568142129904, 0.14537922999587827, 0.07268961499793913, 0.14537922999587827, 0.07268961499793913, 0.36344807498969567, 0.14537922999587827, 0.14749900178792114, 0.3277755595287136, 0.016388777976435683, 0.057360722917524885, 0.057360722917524885, 0.016388777976435683, 0.0983326678586141, 0.024583166964653524, 0.0409719449410892, 0.2212485026818817, 0.18389047061347763, 0.28704853949420894, 0.049336467725567164, 0.1210986025991194, 0.06279186801435821, 0.03588106743677612, 0.04485133429597015, 0.12558373602871642, 0.06727700144395522, 0.026910800577582092, 0.5739849772080546, 0.10436090494691902, 0.05218045247345951, 0.05218045247345951, 0.026090226236729755, 0.1826315836571083, 0.03165875146074012, 0.12663500584296047, 0.25327001168592095, 0.03165875146074012, 0.03165875146074012, 0.03165875146074012, 0.41156376898962155, 0.0740988284779431, 0.1481976569558862, 0.6668894563014878, 0.06533830159492501, 0.03266915079746251, 0.6533830159492501, 0.0980074523923875, 0.06533830159492501, 0.03266915079746251, 0.03266915079746251, 0.09462148438608368, 0.18924296877216737, 0.4731074219304184, 0.09462148438608368, 0.06806746868216396, 0.06806746868216396, 0.47647228077514764, 0.06806746868216396, 0.06806746868216396, 0.20420240604649184, 0.06761397575209743, 0.06761397575209743, 0.47329783026468203, 0.06761397575209743, 0.13522795150419487, 0.06761397575209743, 0.06761397575209743, 0.09817218173208232, 0.056690978183315144, 0.045629323903643895, 0.15348045313043857, 0.055308271398356236, 0.03041954926909593, 0.34152857588484975, 0.027654135699178118, 0.16869022776498652, 0.022123308559342497, 0.14856790615593662, 0.0330150902568748, 0.5488758755205436, 0.06190329423164026, 0.05777640794953091, 0.04126886282109351, 0.028888203974765454, 0.020634431410546755, 0.0165075451284374, 0.04126886282109351, 0.49911550962758494, 0.16637183654252832, 0.16637183654252832, 0.2596637476942495, 0.38949562154137424, 0.12983187384712475, 0.12983187384712475, 0.07005127836823895, 0.05604102269459115, 0.4483281815567292, 0.08406153404188672, 0.028020511347295576, 0.05604102269459115, 0.028020511347295576, 0.04203076702094336, 0.16812306808377345, 0.028020511347295576, 0.09414537825323795, 0.4864177876417294, 0.04707268912661897, 0.06276358550215863, 0.09414537825323795, 0.07845448187769828, 0.015690896375539658, 0.07845448187769828, 0.031381792751079315, 0.45895537708977113, 0.07649256284829518, 0.05099504189886346, 0.05099504189886346, 0.05099504189886346, 0.12748760474715864, 0.07649256284829518, 0.02549752094943173, 0.10199008379772692, 0.5535620852322727, 0.18452069507742422, 0.09226034753871211, 0.5529981777605083, 0.09216636296008472, 0.27649908888025415, 0.1763137482432649, 0.10578824894595894, 0.03526274964865298, 0.03526274964865298, 0.10578824894595894, 0.03526274964865298, 0.4936784950811417, 0.03526274964865298, 0.07215920878716846, 0.030925375194500768, 0.05154229199083461, 0.10308458398166923, 0.010308458398166923, 0.08246766718533538, 0.07215920878716846, 0.10308458398166923, 0.39172141913034303, 0.08246766718533538, 0.16581238387571512, 0.11054158925047675, 0.05527079462523837, 0.05527079462523837, 0.11054158925047675, 0.05527079462523837, 0.05527079462523837, 0.442166357001907, 0.05527079462523837, 0.03666120556993676, 0.09623566462108399, 0.0870703632285998, 0.11456626740605237, 0.20163663063465218, 0.07790506183611562, 0.06415710974738933, 0.10081831531732609, 0.21538458272337846, 0.00916530139248419, 0.077118670884824, 0.539830696193768, 0.077118670884824, 0.077118670884824, 0.154237341769648, 0.03225991751391223, 0.12903967005564893, 0.5806785152504201, 0.16129958756956114, 0.04838987627086835, 0.03225991751391223, 0.016129958756956116, 0.1091410379966041, 0.08929721290631246, 0.08598990872459718, 0.3704180683521109, 0.02645843345372221, 0.04299495436229859, 0.17528712163090962, 0.04299495436229859, 0.03638034599886804, 0.01653652090857638, 0.10756020404320828, 0.5838982505202736, 0.0768287171737202, 0.03073148686948808, 0.06146297373897616, 0.01536574343474404, 0.03073148686948808, 0.06146297373897616, 0.4267982698309894, 0.04130305837074091, 0.09637380286506211, 0.16521223348296363, 0.04130305837074091, 0.05507074449432121, 0.08260611674148181, 0.027535372247160603, 0.04130305837074091, 0.2433782577474992, 0.05531324039715891, 0.1216891288737496, 0.14381442503261316, 0.07190721251630658, 0.11062648079431782, 0.0912668466553122, 0.1161578048340337, 0.03871926827801123, 0.011062648079431782, 0.1714331831379713, 0.08571659156898565, 0.08571659156898565, 0.08571659156898565, 0.5142995494139139, 0.08571659156898565, 0.08571659156898565, 0.10390683930711782, 0.05195341965355891, 0.05195341965355891, 0.10390683930711782, 0.6234410358427069, 0.05195341965355891, 0.08125706476053607, 0.6500565180842885, 0.027085688253512024, 0.13542844126756012, 0.027085688253512024, 0.027085688253512024, 0.027085688253512024, 0.027085688253512024, 0.01681765302395666, 0.06727061209582665, 0.01681765302395666, 0.11772357116769663, 0.7399767330540931, 0.029131767428132584, 0.17254969938201606, 0.1747906045687955, 0.029131767428132584, 0.011204525933897147, 0.23753594979861953, 0.035854482988470875, 0.06498625041660346, 0.1837542253159132, 0.05826353485626517, 0.5125260686769119, 0.25626303433845593, 0.12813151716922797, 0.44660614966000006, 0.178642459864, 0.089321229932, 0.089321229932, 0.089321229932, 0.17874434681019138, 0.0638372667179255, 0.038302360030755295, 0.3447212402767977, 0.0255349066871702, 0.29365142690245727, 0.0255349066871702, 0.0255349066871702, 0.0127674533435851, 0.0127674533435851, 0.11111290322076064, 0.172842293898961, 0.06172939067820036, 0.37037634406920217, 0.06172939067820036, 0.012345878135640071, 0.03703763440692021, 0.09876702508512057, 0.06172939067820036, 0.024691756271280143, 0.06637211503596865, 0.07240594367560216, 0.07240594367560216, 0.07843977231523568, 0.0844736009548692, 0.2292854883060735, 0.18101485918900542, 0.06637211503596865, 0.10860891551340325, 0.03620297183780108, 0.04692400218300015, 0.0664756697592502, 0.04692400218300015, 0.11339967194225035, 0.44186768722325137, 0.15641334061000048, 0.01564133406100005, 0.04692400218300015, 0.03910333515250012, 0.01955166757625006, 0.05295317099630555, 0.13238292749076389, 0.47657853896674995, 0.026476585498152776, 0.18533609848706945, 0.026476585498152776, 0.026476585498152776, 0.05295317099630555, 0.03347070970215907, 0.1004121291064772, 0.03347070970215907, 0.7028849037453404, 0.06694141940431814, 0.03347070970215907, 0.1422626001078978, 0.42678780032369334, 0.1422626001078978, 0.1422626001078978, 0.07929578382396678, 0.4361268110318173, 0.07929578382396678, 0.03964789191198339, 0.03964789191198339, 0.06607981985330565, 0.052863855882644514, 0.06607981985330565, 0.06607981985330565, 0.052863855882644514, 0.24937064645720794, 0.14179899504429472, 0.07334430778153175, 0.10757165141291324, 0.0293377231126127, 0.0586754462252254, 0.03422734363138148, 0.05378582570645662, 0.2004744412695201, 0.048896205187687836, 0.167278257968702, 0.167278257968702, 0.167278257968702, 0.334556515937404, 0.21050922964518212, 0.1485947503377756, 0.44578425101332686, 0.024765791722962602, 0.0371486875844439, 0.0371486875844439, 0.012382895861481301, 0.012382895861481301, 0.012382895861481301, 0.049531583445925204, 0.03192732402553314, 0.03192732402553314, 0.09578197207659941, 0.1596366201276657, 0.06385464805106628, 0.5746918324595965, 0.03192732402553314, 0.03192732402553314, 0.03192732402553314, 0.13400263861317002, 0.5360105544526801, 0.13400263861317002, 0.1254733075383503, 0.10790704448298125, 0.3839483210673519, 0.09535971372914623, 0.0451703907138061, 0.027604127658437064, 0.05520825531687413, 0.07026505222147617, 0.03764199226150509, 0.05520825531687413, 0.06382133116050713, 0.4339850518914485, 0.06382133116050713, 0.012764266232101426, 0.12764266232101426, 0.11487839608891283, 0.06382133116050713, 0.051057064928405706, 0.012764266232101426, 0.051057064928405706, 0.29845876996786486, 0.2002815430047514, 0.04712506894229445, 0.09032304880606436, 0.05497924709934352, 0.16886483037655511, 0.02748962354967176, 0.05497924709934352, 0.023562534471147225, 0.0314167126281963, 0.12034447166081326, 0.6017223583040663, 0.12034447166081326, 0.08883363322797015, 0.0592224221519801, 0.07402802768997513, 0.10363923876596517, 0.10363923876596517, 0.0592224221519801, 0.044416816613985076, 0.31091771629789555, 0.0592224221519801, 0.08883363322797015, 0.05375490112958687, 0.05375490112958687, 0.05375490112958687, 0.5913039124254555, 0.05375490112958687, 0.05375490112958687, 0.05375490112958687, 0.05375490112958687, 0.5134460068908246, 0.12836150172270616, 0.12836150172270616, 0.6672311586949656, 0.12131475612635739, 0.12131475612635739, 0.07521805743594383, 0.1194639735747343, 0.04867050775266953, 0.09291642389146001, 0.07079346582206478, 0.2654754968327429, 0.02212295806939524, 0.11503938196085525, 0.02212295806939524, 0.1725590729412829, 0.04472431534579151, 0.26834589207474907, 0.13417294603737454, 0.4472431534579151, 0.04472431534579151, 0.04472431534579151, 0.04749468060544528, 0.04749468060544528, 0.7599148896871245, 0.04749468060544528, 0.04749468060544528, 0.0354590670789324, 0.0354590670789324, 0.0177295335394662, 0.0354590670789324, 0.8155585428154452, 0.0177295335394662, 0.0177295335394662, 0.057770752546735686, 0.722134406834196, 0.08665612882010353, 0.028885376273367843, 0.028885376273367843, 0.0894265895614349, 0.0894265895614349, 0.5365595373686094, 0.1788531791228698, 0.0894265895614349, 0.09525744104626581, 0.0558405688891903, 0.042701611503498466, 0.03613213281065254, 0.07554900496772805, 0.05912530823561326, 0.41059241830286985, 0.06897952627488213, 0.07883374431415101, 0.07883374431415101, 0.14890532390689332, 0.14890532390689332, 0.44671597172067995, 0.07137747756595027, 0.28550991026380107, 0.42826486539570163, 0.07137747756595027, 0.15958939409442327, 0.04910442895213024, 0.07979469704721164, 0.22710798390360237, 0.0613805361901628, 0.1227610723803256, 0.1227610723803256, 0.06751858980917907, 0.08593275066622792, 0.01841416085704884, 0.0718295563724098, 0.0359147781862049, 0.2154886691172294, 0.0359147781862049, 0.4309773382344588, 0.0718295563724098, 0.0359147781862049, 0.0359147781862049, 0.0359147781862049, 0.49225731203938095, 0.08204288533989681, 0.08204288533989681, 0.16408577067979363, 0.08204288533989681, 0.08204288533989681, 0.08168230206870428, 0.08168230206870428, 0.16336460413740855, 0.16336460413740855, 0.08168230206870428, 0.3267292082748171, 0.33037644518916826, 0.06085881885063626, 0.12171763770127252, 0.1477999886372595, 0.0782470528079609, 0.06085881885063626, 0.0782470528079609, 0.06085881885063626, 0.05216470187197393, 0.008694116978662323, 0.3226128260377103, 0.19760035594809755, 0.07258788585848482, 0.0927511874858417, 0.06452256520754206, 0.06452256520754206, 0.09678384781131308, 0.04032660325471379, 0.012097980976414135, 0.04435926358018517, 0.12409220390755038, 0.12409220390755038, 0.06204610195377519, 0.06204610195377519, 0.06204610195377519, 0.4963688156302015, 0.06204610195377519, 0.29853420313521317, 0.09951140104507106, 0.39804560418028423, 0.09951140104507106, 0.09997221798544981, 0.13996110517962973, 0.00999722179854498, 0.06998055258981487, 0.059983330791269884, 0.03998888719417992, 0.029991665395634942, 0.43987775913597915, 0.01999444359708996, 0.09997221798544981, 0.10502501880254143, 0.49011675441186003, 0.17504169800423572, 0.03500833960084714, 0.07001667920169428, 0.03500833960084714, 0.03500833960084714, 0.7383020538034566, 0.03885800283176087, 0.11657400849528263, 0.03885800283176087, 0.14931349613754677, 0.08532199779288387, 0.021330499448220967, 0.0639914983446629, 0.021330499448220967, 0.5545929856537452, 0.021330499448220967, 0.04266099889644193, 0.0639914983446629, 0.05306965031489023, 0.03790689308206445, 0.2956737660401027, 0.02274413584923867, 0.08339516478054179, 0.2274413584923867, 0.05306965031489023, 0.01516275723282578, 0.136464815095432, 0.068232407547716, 0.18415732988949504, 0.12277155325966337, 0.12277155325966337, 0.12277155325966337, 0.3683146597789901, 0.07075830299547636, 0.07075830299547636, 0.14151660599095273, 0.07075830299547636, 0.07075830299547636, 0.03537915149773818, 0.10613745449321456, 0.42454981797285823, 0.11281527837655335, 0.5640763918827667, 0.11281527837655335, 0.11281527837655335, 0.11281527837655335, 0.11281527837655335, 0.019654460204570883, 0.039308920409141766, 0.019654460204570883, 0.019654460204570883, 0.1375812214319962, 0.039308920409141766, 0.7075605673645519, 0.26308462255116405, 0.09127425680346507, 0.12348870038115863, 0.15570314395885218, 0.11811962645154303, 0.032214443577693555, 0.08053610894423388, 0.03758351750730914, 0.03758351750730914, 0.06442888715538711, 0.06380848975630811, 0.04253899317087207, 0.04253899317087207, 0.595545904392209, 0.04253899317087207, 0.021269496585436035, 0.06380848975630811, 0.04253899317087207, 0.08507798634174414, 0.175985751076058, 0.087992875538029, 0.0439964377690145, 0.0439964377690145, 0.527957253228174, 0.087992875538029, 0.26240429345222666, 0.0874680978174089, 0.0874680978174089, 0.5248085869044533, 0.18257127125695144, 0.22821408907118929, 0.09699098785525545, 0.05134817004101759, 0.02282140890711893, 0.07416957894813651, 0.03993746558745812, 0.03993746558745812, 0.07416957894813651, 0.19968732793729063, 0.09853554582853764, 0.09853554582853764, 0.09853554582853764, 0.09853554582853764, 0.09853554582853764, 0.4926777291426882, 0.12762488356565932, 0.19143732534848898, 0.09571866267424449, 0.03190622089141483, 0.41478087158839283, 0.06381244178282966, 0.03190622089141483, 0.03190622089141483, 0.09039883407864488, 0.27119650223593467, 0.09039883407864488, 0.4519941703932244, 0.07580750854475804, 0.050538339029838696, 0.025269169514919348, 0.07580750854475804, 0.050538339029838696, 0.07580750854475804, 0.025269169514919348, 0.17688418660443544, 0.025269169514919348, 0.40430671223870956, 0.12403022567037718, 0.08061964668574516, 0.3906952108616881, 0.05581360155166973, 0.14263475952093374, 0.04341057898463201, 0.06201511283518859, 0.04341057898463201, 0.031007556417594295, 0.024806045134075437, 0.0701524400093787, 0.0701524400093787, 0.1403048800187574, 0.1403048800187574, 0.0701524400093787, 0.4910670800656509, 0.11337360668673148, 0.05668680334336574, 0.22674721337346296, 0.05668680334336574, 0.4534944267469259, 0.16078255547867235, 0.15274342770473873, 0.02411738332180085, 0.07235214996540255, 0.07235214996540255, 0.05627389441753532, 0.05627389441753532, 0.08843040551326978, 0.16078255547867235, 0.16078255547867235, 0.20064996050524495, 0.06688332016841499, 0.13376664033682997, 0.46818324117890486, 0.06688332016841499, 0.06688332016841499, 0.6407947799504207, 0.0711994199944912, 0.0711994199944912, 0.1423988399889824, 0.0711994199944912, 0.08022901086037136, 0.5616030760225995, 0.08022901086037136, 0.08022901086037136, 0.04011450543018568, 0.12034351629055705, 0.04011450543018568, 0.040474558307623, 0.040474558307623, 0.647592932921968, 0.080949116615246, 0.040474558307623, 0.040474558307623, 0.040474558307623, 0.061203354557147774, 0.30601677278573886, 0.015300838639286943, 0.09945545115536514, 0.22186216026966069, 0.09180503183572167, 0.10710587047500861, 0.03825209659821736, 0.03825209659821736, 0.007650419319643472, 0.10289567404060718, 0.019466749142817572, 0.1251433873466844, 0.2753154521627057, 0.1307053156732037, 0.08342892489778961, 0.12792435150994405, 0.02502867746933688, 0.030590605795856186, 0.07508603240801064, 0.024577251264268064, 0.1966180101141445, 0.5898540303424336, 0.04915450252853613, 0.12288625632134033, 0.19417885145452585, 0.15659584794719827, 0.07516600701465517, 0.10648517660409482, 0.09395750876831896, 0.025055335671551722, 0.037583003507327586, 0.2505533567155172, 0.03131916958943965, 0.03131916958943965, 0.11066833695877407, 0.44267334783509626, 0.22133667391754813, 0.11066833695877407, 0.11066833695877407, 0.1398594402507695, 0.1398594402507695, 0.6293674811284626, 0.06992972012538475, 0.08544629228400237, 0.19937468199600553, 0.03797612990400105, 0.09494032476000264, 0.2563388768520071, 0.02848209742800079, 0.11392838971200316, 0.02848209742800079, 0.10443435723600289, 0.03797612990400105, 0.05182079929330293, 0.05182079929330293, 0.4404767939930749, 0.1554623978799088, 0.05182079929330293, 0.0777311989399544, 0.025910399646651466, 0.025910399646651466, 0.10364159858660586, 0.600063140590983, 0.0600063140590983, 0.0600063140590983, 0.18001894217729492, 0.5558785476814652, 0.06176428307571835, 0.06176428307571835, 0.1235285661514367, 0.06176428307571835, 0.06176428307571835, 0.05010207360994778, 0.05010207360994778, 0.8016331777591644, 0.13962504150517624, 0.01745313018814703, 0.01745313018814703, 0.01745313018814703, 0.01745313018814703, 0.08726565094073516, 0.6457658169614401, 0.05235939056444109, 0.21417780225543911, 0.6425334067663173, 0.10708890112771956, 0.2216902473960528, 0.0554225618490132, 0.2216902473960528, 0.4433804947921056, 0.0554225618490132, 0.1652675499264422, 0.49580264977932653, 0.63012870658327, 0.126025741316654, 0.126025741316654, 0.08606449809806556, 0.08606449809806556, 0.04303224904903278, 0.12909674714709835, 0.6024514866864589, 0.056459846507963464, 0.58718240368282, 0.04516787720637077, 0.022583938603185385, 0.056459846507963464, 0.022583938603185385, 0.04516787720637077, 0.06775181580955615, 0.033875907904778076, 0.06775181580955615, 0.08012409158048604, 0.04006204579024302, 0.6009306868536453, 0.06009306868536453, 0.1802792060560936, 0.02003102289512151, 0.02003102289512151, 0.02003102289512151, 0.08203695280242206, 0.11719564686060295, 0.10547608217454266, 0.04687825874424118, 0.02343912937212059, 0.37502606995392945, 0.03515869405818088, 0.11719564686060295, 0.058597823430301475, 0.058597823430301475, 0.09051148493740609, 0.04525574246870304, 0.09051148493740609, 0.04525574246870304, 0.04525574246870304, 0.13576722740610914, 0.4978131671557335, 0.04525574246870304, 0.15923869358990822, 0.15923869358990822, 0.5573354275646788, 0.08187879875088534, 0.08187879875088534, 0.08187879875088534, 0.5731515912561974, 0.1086349724756582, 0.1086349724756582, 0.5431748623782909, 0.1086349724756582, 0.20023655835099619, 0.5005913958774905, 0.10011827917549809, 0.10011827917549809, 0.10011827917549809, 0.10788217847581644, 0.5124403477601281, 0.08091163385686233, 0.05394108923790822, 0.10788217847581644, 0.05394108923790822, 0.02697054461895411, 0.05394108923790822, 0.42621858355719133, 0.04059224605306584, 0.20296123026532922, 0.04059224605306584, 0.04059224605306584, 0.04059224605306584, 0.04059224605306584, 0.10148061513266461, 0.04059224605306584, 0.02029612302653292, 0.1026314065192657, 0.6157884391155942, 0.2052628130385314, 0.1393679802021416, 0.052591690642317585, 0.06048044423866523, 0.11570171941309869, 0.11044255034886694, 0.24455136148677678, 0.08414670502770814, 0.07625795143136051, 0.08151712049559226, 0.03681418344962231, 0.7770549321517815, 0.1351399882003098, 0.03378499705007745, 0.10406597796285172, 0.020813195592570343, 0.020813195592570343, 0.06243958677771103, 0.041626391185140686, 0.10406597796285172, 0.60358267218454, 0.06243958677771103, 0.04802732630557762, 0.04802732630557762, 0.19210930522231048, 0.04802732630557762, 0.38421861044462097, 0.14408197891673286, 0.09605465261115524, 0.030491629070649583, 0.030491629070649583, 0.21344140349454707, 0.4573744360597437, 0.060983258141299165, 0.030491629070649583, 0.030491629070649583, 0.12196651628259833, 0.5257238548052756, 0.10514477096105512, 0.10514477096105512, 0.10514477096105512, 0.05257238548052756, 0.04943022405710805, 0.04943022405710805, 0.11863253773705933, 0.16806276179416738, 0.07908835849137288, 0.04943022405710805, 0.03954417924568644, 0.1087464929256377, 0.2866952995312267, 0.03954417924568644, 0.523530565944618, 0.09518737562629419, 0.09518737562629419, 0.14278106343944127, 0.047593687813147094, 0.047593687813147094, 0.09518737562629419, 0.18442659090933525, 0.018442659090933525, 0.03688531818186705, 0.1290986136365347, 0.0737706363637341, 0.09221329545466762, 0.40573850000053757, 0.018442659090933525, 0.03688531818186705, 0.08641775057221586, 0.08641775057221586, 0.1296266258583238, 0.04320887528610793, 0.04320887528610793, 0.04320887528610793, 0.1296266258583238, 0.47529762814718723, 0.04320887528610793, 0.3492745714185089, 0.04365932142731361, 0.08731864285462722, 0.4802525357004497, 0.09885972600654228, 0.09885972600654228, 0.5931583560392536, 0.09885972600654228, 0.09273656594896879, 0.040320246064769034, 0.07660846752306116, 0.1330568120137378, 0.20563325493032208, 0.12096073819430711, 0.2136973041432759, 0.04838429527772284, 0.04838429527772284, 0.02419214763886142, 0.12221920117846372, 0.7333152070707822, 0.06110960058923186, 0.0240446897807586, 0.3847150364921376, 0.0240446897807586, 0.43280441605365483, 0.0961787591230344, 0.4982464416679316, 0.08304107361132193, 0.16608214722264386, 0.16608214722264386, 0.14943764667026377, 0.29887529334052754, 0.14943764667026377, 0.29887529334052754, 0.26442431421931933, 0.09332622854799506, 0.06221748569866337, 0.14258173805943689, 0.17369048090876857, 0.049255509511441836, 0.08036425236077352, 0.05962509046121907, 0.031108742849331687, 0.041478323799108915, 0.13673789018969437, 0.1519309890996604, 0.06988825498584379, 0.08508135389580983, 0.18535580670158572, 0.072926874767837, 0.01823171869195925, 0.21270338473952458, 0.0364634373839185, 0.027347578037938875, 0.10720488828291726, 0.6432293296975035, 0.21440977656583451, 0.03657419893010538, 0.03657419893010538, 0.09753119714694766, 0.585187182881686, 0.024382799286736916, 0.03657419893010538, 0.1462967957204215, 0.04876559857347383, 0.17855112759303873, 0.23568748842281112, 0.04999431572605085, 0.09641760890024091, 0.18569317269676028, 0.02142613531116465, 0.11070169910768402, 0.07142045103721549, 0.028568180414886197, 0.024997157863025424, 0.027918895749500332, 0.5304590192405063, 0.027918895749500332, 0.055837791499000665, 0.027918895749500332, 0.08375668724850101, 0.055837791499000665, 0.22335116599600266, 0.11578848183691758, 0.11578848183691758, 0.11578848183691758, 0.5789424091845878, 0.09587989868089153, 0.023969974670222882, 0.6471893160960178, 0.07190992401066865, 0.047939949340445764, 0.047939949340445764, 0.07190992401066865, 0.1569748496884323, 0.0708918676012275, 0.1620385545170914, 0.0810192772585457, 0.2278667172896598, 0.0810192772585457, 0.025318524143295534, 0.06076445794390928, 0.09114668691586392, 0.04557334345793196, 0.10305888155717242, 0.05152944077858621, 0.05152944077858621, 0.05152944077858621, 0.05152944077858621, 0.6183532893430346, 0.05152944077858621, 0.08947336884382205, 0.6263135819067543, 0.08947336884382205, 0.08947336884382205, 0.08947336884382205, 0.1275541092164376, 0.1275541092164376, 0.0956655819123282, 0.0956655819123282, 0.0637770546082188, 0.0318885273041094, 0.07440656370958859, 0.26573772753424496, 0.0850360728109584, 0.0425180364054792, 0.09092526463981904, 0.18185052927963807, 0.09092526463981904, 0.09092526463981904, 0.09092526463981904, 0.09092526463981904, 0.36370105855927615, 0.09629647578663754, 0.09629647578663754, 0.09629647578663754, 0.09629647578663754, 0.4814823789331877, 0.09724916619737843, 0.048624583098689216, 0.09724916619737843, 0.09724916619737843, 0.3889966647895137, 0.24312291549344606, 0.14675599183109855, 0.2935119836621971, 0.44026797549329566, 0.21982736775194955, 0.11836858263566515, 0.07186663945736813, 0.16487052581396217, 0.06763919007752295, 0.07186663945736813, 0.20714501961241402, 0.02113724689922592, 0.04227449379845184, 0.012682348139535551, 0.15093909150988036, 0.07546954575494018, 0.15093909150988036, 0.07546954575494018, 0.07546954575494018, 0.07546954575494018, 0.3773477287747009, 0.09076289646199817, 0.2776276832955238, 0.048050945185763735, 0.06406792691435165, 0.06406792691435165, 0.17084780510493772, 0.08008490864293956, 0.1334748477382326, 0.048050945185763735, 0.02669496954764652, 0.20013608115260798, 0.06320086773240252, 0.20013608115260798, 0.0526673897770021, 0.03160043386620126, 0.06671202705086933, 0.1580021693310063, 0.06320086773240252, 0.13342405410173866, 0.03160043386620126, 0.12881584751788663, 0.1689388164169005, 0.09080461382408402, 0.059128585745915174, 0.06124032095112643, 0.09080461382408402, 0.023229087257323817, 0.1013632898501403, 0.11825717149183035, 0.15626840518563295, 0.0528518384448327, 0.0528518384448327, 0.33472831015060706, 0.044043198704027245, 0.0704691179264436, 0.0704691179264436, 0.06166047818563815, 0.044043198704027245, 0.09689503714885994, 0.1585555153344981, 0.022879087967377216, 0.022879087967377216, 0.6634935510539393, 0.022879087967377216, 0.022879087967377216, 0.22879087967377218, 0.24787995481365876, 0.08262665160455292, 0.08262665160455292, 0.08262665160455292, 0.41313325802276457, 0.058843869475931905, 0.2888699047000294, 0.1390855096703845, 0.06419331215556208, 0.026747213398150865, 0.26747213398150865, 0.03209665607778104, 0.06419331215556208, 0.03209665607778104, 0.021397770718520694, 0.08050335929649677, 0.08050335929649677, 0.08050335929649677, 0.16100671859299354, 0.08050335929649677, 0.08050335929649677, 0.3220134371859871, 0.11353023898950063, 0.4541209559580025, 0.11353023898950063, 0.11353023898950063, 0.11353023898950063, 0.02866217183422128, 0.02866217183422128, 0.05732434366844256, 0.02866217183422128, 0.31528389017643405, 0.11464868733688512, 0.45859474934754046, 0.5697871905180528, 0.1627963401480151, 0.1627963401480151, 0.3689144795874813, 0.1434667420617983, 0.08710480768037754, 0.06660955881440635, 0.05636193438142076, 0.04099049773194237, 0.10247624432985593, 0.05636193438142076, 0.06148574659791355, 0.005123812216492796, 0.014544561424297515, 0.021816842136446274, 0.05817824569719006, 0.007272280712148757, 0.007272280712148757, 0.014544561424297515, 0.8654014047457022, 0.17357637454954256, 0.3175426616759279, 0.15315562460253757, 0.12660864967143104, 0.046967724878111516, 0.06330432483571552, 0.012252449968203004, 0.02961008742315726, 0.06636743732776627, 0.012252449968203004, 0.06852666361142197, 0.06852666361142197, 0.6167399725027978, 0.13705332722284394, 0.06852666361142197, 0.06852666361142197, 0.5070837889044222, 0.12677094722610555, 0.2535418944522111, 0.1811749550971696, 0.0905874775485848, 0.0905874775485848, 0.45293738774292397, 0.0905874775485848, 0.03929202774307046, 0.2684955229109815, 0.006548671290511744, 0.08513272677665266, 0.1964601387153523, 0.01964601387153523, 0.05238937032409395, 0.026194685162046975, 0.14407076839125835, 0.1637167822627936, 0.0484500995526022, 0.0969001991052044, 0.0484500995526022, 0.48450099552602194, 0.0484500995526022, 0.0969001991052044, 0.0969001991052044, 0.0484500995526022, 0.14843808702773048, 0.114000450837297, 0.07125028177331062, 0.152000601116396, 0.07718780525441984, 0.0570002254186485, 0.20781332183882265, 0.09381287100152566, 0.06650026298842325, 0.013062551658440282, 0.09616160903178617, 0.09441321614029914, 0.0664389298765068, 0.46157572335257363, 0.06294214409353277, 0.04196142939568851, 0.061193751202045746, 0.031471072046766385, 0.057696965419071704, 0.02622589337230532, 0.17082700910213952, 0.022776934546951937, 0.045553869093903875, 0.20499241092256743, 0.06833080364085581, 0.10249620546128371, 0.30748861638385117, 0.022776934546951937, 0.056942336367379845, 0.011388467273475969, 0.5842183385974841, 0.06491314873305377, 0.12982629746610755, 0.06491314873305377, 0.10984687538330462, 0.21969375076660924, 0.05741995758672741, 0.16976335286510713, 0.11733643506852993, 0.07739211674732825, 0.039944318321201676, 0.11733643506852993, 0.08238515653747847, 0.009986079580300419, 0.1287487916407523, 0.4506207707426331, 0.1287487916407523, 0.06437439582037616, 0.1287487916407523, 0.06437439582037616, 0.08446942867613123, 0.08446942867613123, 0.08446942867613123, 0.08446942867613123, 0.5068165720567873, 0.25340828602839366, 0.13502775682032625, 0.540111027281305, 0.12350800931979271, 0.3528800266279792, 0.0441100033284974, 0.15879601198259063, 0.0441100033284974, 0.026466001997098438, 0.061754004659896354, 0.07057600532559584, 0.07939800599129532, 0.03528800266279792, 0.05104570727513607, 0.5104570727513607, 0.10209141455027214, 0.10209141455027214, 0.10209141455027214, 0.0765685609127041, 0.025522853637568035, 0.13807805063399006, 0.06276275028817731, 0.1506306006916255, 0.08786785040344822, 0.10669667548990142, 0.10042040046108368, 0.04393392520172411, 0.08786785040344822, 0.20711707595098508, 0.02510510011527092, 0.4686363279082982, 0.14059089837248945, 0.09372726558165963, 0.046863632790829814, 0.09372726558165963, 0.046863632790829814, 0.09372726558165963, 0.1273761317453515, 0.1273761317453515, 0.03184403293633788, 0.06368806587267575, 0.06368806587267575, 0.4139724281723924, 0.1273761317453515, 0.28404079590175857, 0.06312017686705745, 0.13255237142082066, 0.0915242564572333, 0.11361631836070342, 0.08205622992717469, 0.0347160972768816, 0.08836824761388043, 0.08205622992717469, 0.028404079590175855, 0.0638279197745605, 0.0638279197745605, 0.0638279197745605, 0.0638279197745605, 0.11701785292002757, 0.021275973258186833, 0.45743342505101686, 0.08510389303274733, 0.021275973258186833, 0.042551946516373666, 0.14195015896832164, 0.08517009538099299, 0.042585047690496494, 0.1206576351230734, 0.03548753974208041, 0.08517009538099299, 0.03548753974208041, 0.05678006358732866, 0.03548753974208041, 0.36907041331763624, 0.20303682225403072, 0.06767894075134358, 0.21896127890140568, 0.08360339739871853, 0.03583002745659366, 0.09554673988424975, 0.07166005491318732, 0.051754484103968615, 0.12341453901715593, 0.051754484103968615, 0.5748732105827277, 0.028743660529136385, 0.05748732105827277, 0.028743660529136385, 0.028743660529136385, 0.1724619631748183, 0.028743660529136385, 0.05748732105827277, 0.028743660529136385, 0.17656947437794954, 0.5297084231338486, 0.0889936870984596, 0.0444968435492298, 0.0444968435492298, 0.0444968435492298, 0.0444968435492298, 0.0444968435492298, 0.0889936870984596, 0.6229558096892173, 0.1406696303784741, 0.20899487941944722, 0.10449743970972361, 0.04421045526180615, 0.1768418210472246, 0.0884209105236123, 0.10449743970972361, 0.02813392607569482, 0.05626785215138964, 0.052248719854861805, 0.12880565745398168, 0.10659778547915726, 0.07328597751692062, 0.1487927422313237, 0.11770172146656947, 0.09771463668922749, 0.18876691178600766, 0.04219495675216642, 0.019987084777341985, 0.07550676471440305, 0.12961174967658382, 0.0878479636696846, 0.18433671065114143, 0.06336574428632988, 0.14689331630012833, 0.1080097913971532, 0.16129462181974877, 0.05472496097455762, 0.033123002695126975, 0.030242741591202892, 0.18419590102042893, 0.5525877030612868, 0.09209795051021447, 0.09209795051021447, 0.032821248209930945, 0.7384780847234462, 0.016410624104965472, 0.16410624104965474, 0.016410624104965472, 0.016410624104965472, 0.08996609909892098, 0.022491524774730244, 0.06747457432419074, 0.4723220202693351, 0.2024237229725722, 0.04498304954946049, 0.08996609909892098, 0.022491524774730244, 0.08787910776250803, 0.29958786737218646, 0.1637747008301286, 0.05991757347443729, 0.03994504898295819, 0.09586811755909966, 0.04793405877954983, 0.04393955388125401, 0.13181866164376205, 0.027961534288070737, 0.11267357202876703, 0.4844963597236982, 0.16901035804315054, 0.04506942881150681, 0.03380207160863011, 0.011267357202876702, 0.011267357202876702, 0.06760414321726022, 0.022534714405753404, 0.04506942881150681, 0.4485546839270776, 0.023608141259319874, 0.011804070629659937, 0.03541221188897981, 0.023608141259319874, 0.04721628251863975, 0.08262849440761956, 0.03541221188897981, 0.03541221188897981, 0.25968955385251863, 0.026618511026968928, 0.17302032167529804, 0.13309255513484464, 0.053237022053937856, 0.013309255513484464, 0.09316478859439126, 0.026618511026968928, 0.17302032167529804, 0.3061128768101427, 0.013309255513484464, 0.22813984671841805, 0.06964269005088551, 0.1488912683846518, 0.07924857833376628, 0.03602208106080285, 0.09365741075808742, 0.0984603548995278, 0.0960588828288076, 0.10086182697024798, 0.0480294414144038, 0.2590952016394641, 0.07772856049183922, 0.025909520163946407, 0.051819040327892814, 0.10363808065578563, 0.07772856049183922, 0.10363808065578563, 0.025909520163946407, 0.2590952016394641, 0.07735234173051277, 0.07735234173051277, 0.07735234173051277, 0.05930346199339312, 0.09024439868559822, 0.3558207719603587, 0.04125458225627347, 0.054146639211358934, 0.11345010120475206, 0.054146639211358934, 0.52977823442658, 0.052977823442657994, 0.10595564688531599, 0.052977823442657994, 0.10595564688531599, 0.10595564688531599, 0.052977823442657994, 0.07885905869064466, 0.236577176071934, 0.07885905869064466, 0.07885905869064466, 0.07885905869064466, 0.3942952934532233, 0.8193057091705017, 0.06827547576420848, 0.06827547576420848, 0.25780013740537033, 0.10473130582093171, 0.07250628864526042, 0.06445003435134258, 0.016112508587835646, 0.10473130582093171, 0.08056254293917824, 0.024168762881753472, 0.24974388311145254, 0.024168762881753472, 0.07187738989019636, 0.6468965090117673, 0.14375477978039272, 0.5192560329807584, 0.06923413773076778, 0.03461706886538389, 0.03461706886538389, 0.03461706886538389, 0.10385120659615167, 0.03461706886538389, 0.10385120659615167, 0.03461706886538389, 0.06923413773076778, 0.5627146907473513, 0.0703393363434189, 0.1406786726868378, 0.0703393363434189, 0.0703393363434189, 0.1655853899409678, 0.49675616982290344, 0.0827926949704839, 0.1655853899409678, 0.05513076444571374, 0.14088973136126845, 0.2940307437104733, 0.0918846074095229, 0.17151793383110941, 0.08575896691555471, 0.04900512395174555, 0.05513076444571374, 0.042879483457777354, 0.0061256404939681935, 0.1486060805567571, 0.1486060805567571, 0.44581824167027123, 0.1486060805567571, 0.11766116273660131, 0.11766116273660131, 0.47064465094640523, 0.11766116273660131, 0.11766116273660131, 0.4651250467895528, 0.04651250467895528, 0.04651250467895528, 0.1860500187158211, 0.04651250467895528, 0.09302500935791055, 0.04651250467895528, 0.12441314027385592, 0.24882628054771183, 0.49765256109542366, 0.03752986707105107, 0.07505973414210214, 0.03752986707105107, 0.07505973414210214, 0.7505973414210214, 0.03752986707105107, 0.17841696791900766, 0.2676254518785115, 0.3568339358380153, 0.1530175000473171, 0.20402333339642278, 0.40804666679284557, 0.051005833349105696, 0.051005833349105696, 0.051005833349105696, 0.051005833349105696, 0.14582223030022878, 0.06480988013343501, 0.06480988013343501, 0.04860741010007626, 0.11341729023351128, 0.08101235016679377, 0.06480988013343501, 0.03240494006671751, 0.3888592808006101, 0.016202470033358753, 0.16559963650566542, 0.08279981825283271, 0.16559963650566542, 0.4967989095169963, 0.08279981825283271, 0.27668692156005215, 0.0790534061600149, 0.19763351540003724, 0.06917173039001304, 0.09881675770001862, 0.0790534061600149, 0.024704189425004654, 0.12352094712502328, 0.014822513655002792, 0.029645027310005585, 0.17150643579926114, 0.11433762386617409, 0.10798553365138665, 0.06987299236266195, 0.08892926300702429, 0.025408360859149798, 0.044464631503512146, 0.28584405966543525, 0.0635209021478745, 0.03176045107393725, 0.12522522047768683, 0.6887387126272776, 0.06261261023884342, 0.06261261023884342, 0.2891183955279619, 0.07227959888199048, 0.03613979944099524, 0.07227959888199048, 0.03613979944099524, 0.3975377938509477, 0.03613979944099524, 0.03613979944099524, 0.12828311247980445, 0.06414155623990223, 0.40088472649938894, 0.1122477234198289, 0.024053083589963335, 0.05612386170991445, 0.08819463982986556, 0.05612386170991445, 0.016035389059975556, 0.05612386170991445, 0.34113392692283223, 0.12289296746288365, 0.08899145919726058, 0.06568417226464471, 0.09746683626366635, 0.0550899509316375, 0.05932763946484039, 0.04449572959863029, 0.08475377066405769, 0.038139196798825964, 0.14300662687429738, 0.14300662687429738, 0.14300662687429738, 0.42901988062289215, 0.08855019152445447, 0.5313011491467268, 0.08855019152445447, 0.04427509576222723, 0.04427509576222723, 0.08855019152445447, 0.1328252872866817, 0.129019956844022, 0.4629539627932554, 0.06830468303507048, 0.0910729107134273, 0.06830468303507048, 0.03794704613059471, 0.06830468303507048, 0.022768227678356824, 0.015178818452237883, 0.03794704613059471, 0.2178097165615885, 0.07260323885386284, 0.04103661326522682, 0.30461793693033756, 0.13415815875170306, 0.08049489525102184, 0.06471158245670383, 0.04103661326522682, 0.015783312794318008, 0.029988294309204216, 0.26181014889992404, 0.17999447736869778, 0.0677901278401589, 0.09116603399193783, 0.09116603399193783, 0.11921712137407256, 0.04207663107320208, 0.06311494660980312, 0.04207663107320208, 0.039739040458024184, 0.033426091997443015, 0.050139137996164526, 0.11699132199105057, 0.016713045998721508, 0.016713045998721508, 0.7019479319463033, 0.033426091997443015, 0.05235019929102103, 0.05235019929102103, 0.05235019929102103, 0.7329027900742944, 0.05235019929102103, 0.08187853762629181, 0.12181928768789757, 0.12980743770021874, 0.09186372514169326, 0.08786965013553268, 0.04792890007392692, 0.24164153787271486, 0.0838755751293721, 0.07788446262013124, 0.03594667505544519, 0.3106652238274356, 0.04797036544394226, 0.09365642777150632, 0.059391881025833274, 0.061676184142211474, 0.04797036544394226, 0.157616915030096, 0.03883315297842945, 0.04568606232756406, 0.13477388386631398, 0.10352596145222209, 0.11732942297918504, 0.29677442282970334, 0.13803461526962946, 0.06901730763481473, 0.04831211534437031, 0.062115576871333254, 0.05521384610785178, 0.09662423068874063, 0.013803461526962945, 0.13392705323847678, 0.1062913120940292, 0.07652974470770102, 0.1955760142530137, 0.05952313477265635, 0.061648961014536936, 0.09141052840086511, 0.1743177518342079, 0.06802643974017869, 0.03613904611196993, 0.15161312252023726, 0.08026577074600796, 0.06242893280245063, 0.12485786560490127, 0.03567367588711465, 0.31214466401225316, 0.10702102766134394, 0.03567367588711465, 0.06242893280245063, 0.026755256915335986, 0.06577823596196707, 0.06840936540044575, 0.09735178922371125, 0.1473432485548062, 0.07893388315436047, 0.24206390834003877, 0.10261404810066861, 0.07893388315436047, 0.06840936540044575, 0.049991459331094966, 0.055765743062019285, 0.055765743062019285, 0.16729722918605786, 0.055765743062019285, 0.055765743062019285, 0.055765743062019285, 0.5576574306201928, 0.09109098174842593, 0.09109098174842593, 0.04554549087421297, 0.6376368722389816, 0.09109098174842593, 0.08256134227445079, 0.4953680536467048, 0.16512268454890158, 0.16512268454890158, 0.12642795895722767, 0.12642795895722767, 0.06742824477718809, 0.05057118358289107, 0.0758567753743366, 0.033714122388594045, 0.26971297910875236, 0.1517135507486732, 0.04214265298574255, 0.058999714180039575, 0.040121031831045074, 0.14042361140865775, 0.08024206366209015, 0.08024206366209015, 0.020060515915522537, 0.020060515915522537, 0.4212708342259733, 0.040121031831045074, 0.18054464323970282, 0.6256461286253427, 0.2085487095417809, 0.06951623651392697, 0.06167579854466491, 0.06167579854466491, 0.12335159708932981, 0.12335159708932981, 0.5550821869019842, 0.14371296425192323, 0.5748518570076929, 0.14371296425192323, 0.10517822033736174, 0.04207128813494469, 0.06310693220241705, 0.04207128813494469, 0.021035644067472346, 0.14724950847230642, 0.5048554576193364, 0.021035644067472346, 0.04207128813494469, 0.021035644067472346, 0.18852323441067342, 0.0713331157229575, 0.15285667654919466, 0.06114267061967786, 0.2089041246172327, 0.1579518991008345, 0.05095222551639822, 0.04076178041311858, 0.06114267061967786, 0.010190445103279645, 0.10951703815239698, 0.04831634036135161, 0.10951703815239698, 0.05797960843362193, 0.3833096335333894, 0.06764287650589225, 0.0869694126504329, 0.05153742971877505, 0.05153742971877505, 0.03543198293165785, 0.19049008715031784, 0.0317483478583863, 0.01587417392919315, 0.0317483478583863, 0.04762252178757946, 0.4762252178757946, 0.11111921750435207, 0.0317483478583863, 0.0317483478583863, 0.01587417392919315, 0.10155685274387213, 0.10155685274387213, 0.5077842637193607, 0.05077842637193607, 0.1523352791158082, 0.05077842637193607, 0.5291673047553869, 0.13229182618884672, 0.06614591309442336, 0.06614591309442336, 0.06614591309442336, 0.06614591309442336, 0.2038598496578214, 0.07510626040024998, 0.053647328857321416, 0.021458931542928567, 0.11802412348610712, 0.03218839731439285, 0.3218839731439285, 0.10729465771464283, 0.021458931542928567, 0.03218839731439285, 0.18087515733696888, 0.07181807717791411, 0.08777764988411725, 0.10905708015905477, 0.14629608314019543, 0.1276765816496251, 0.05319857568734379, 0.1728953709838673, 0.03191914541240627, 0.021279430274937516, 0.17147680917897418, 0.0750211040158012, 0.3536709189316342, 0.11789030631054474, 0.0750211040158012, 0.021434601147371772, 0.11789030631054474, 0.021434601147371772, 0.032151901721057655, 0.12242631528212637, 0.11129665025647852, 0.05564832512823926, 0.4340569360002662, 0.10016698523083066, 0.0667779901538871, 0.04451866010259141, 0.011129665025647852, 0.03338899507694355, 0.022259330051295705, 0.5303540963452397, 0.23571293170899543, 0.05892823292724886, 0.05892823292724886, 0.05892823292724886, 0.11360395345823301, 0.16472573251443787, 0.12496434880405631, 0.09088316276658641, 0.11928415113114466, 0.1363247441498796, 0.028400988364558254, 0.05112177905620485, 0.022720790691646602, 0.15336533716861456, 0.49794872207399726, 0.12448718051849932, 0.12448718051849932, 0.12448718051849932, 0.11520024777171659, 0.11520024777171659, 0.11520024777171659, 0.11520024777171659, 0.11520024777171659, 0.3456007433151498, 0.05638403323137448, 0.07752804569313991, 0.1444840851553971, 0.031716018692648146, 0.0669560394622572, 0.44402426169707404, 0.010572006230882716, 0.03524002076960905, 0.08105204777010082, 0.05638403323137448, 0.06404986482225676, 0.3202493241112838, 0.12809972964451352, 0.06404986482225676, 0.3842991889335406, 0.20222882808696935, 0.026094042333802497, 0.08480563758485811, 0.04566457408415437, 0.08480563758485811, 0.019570531750351873, 0.13699372225246312, 0.06523510583450624, 0.28703446567182744, 0.04566457408415437, 0.02296322269233249, 0.11481611346166244, 0.06888966807699747, 0.02296322269233249, 0.5281541219236473, 0.04592644538466498, 0.09185289076932995, 0.02296322269233249, 0.06888966807699747, 0.4076248686143681, 0.03882141605851124, 0.03882141605851124, 0.058232124087766866, 0.03882141605851124, 0.13587495620478934, 0.13587495620478934, 0.07764283211702248, 0.058232124087766866, 0.09739852154283264, 0.01947970430856653, 0.025972939078088706, 0.1883038083161431, 0.40258055571037493, 0.05194587815617741, 0.01947970430856653, 0.03246617384761088, 0.12337146062092134, 0.03895940861713306, 0.09643727778166554, 0.03214575926055518, 0.09643727778166554, 0.38574911112666216, 0.03214575926055518, 0.2571660740844414, 0.06429151852111036, 0.03214575926055518, 0.0185274424908025, 0.8893172395585202, 0.037054884981605, 0.0185274424908025, 0.0185274424908025, 0.13585974477784252, 0.09704267484131608, 0.09704267484131608, 0.09704267484131608, 0.058225604904789646, 0.13585974477784252, 0.019408534968263214, 0.058225604904789646, 0.31053655949221143, 0.2612596254192475, 0.07837788762577426, 0.07464560726264215, 0.1169447847114727, 0.07588970071701952, 0.03483461672256633, 0.05722829890135898, 0.209007700335398, 0.06966923344513266, 0.021149588724415275, 0.04275413962586356, 0.3040294373394742, 0.19635234494841042, 0.09975965912701497, 0.02216881313933666, 0.04433762627867332, 0.014251379875287852, 0.09659268582139545, 0.1266789322247809, 0.05383854619553188, 0.16484347869460933, 0.03296869573892187, 0.11868730466011872, 0.04615617403449061, 0.13846852210347182, 0.3758431314237093, 0.03956243488670624, 0.01978121744335312, 0.04615617403449061, 0.026374956591137495, 0.057183231252563645, 0.5718323125256364, 0.057183231252563645, 0.057183231252563645, 0.22873292501025458, 0.07933960632505445, 0.47603763795032666, 0.07933960632505445, 0.1586792126501089, 0.07933960632505445, 0.07933960632505445, 0.5473766716847123, 0.21895066867388488, 0.10947533433694244, 0.10947533433694244, 0.14717898996962106, 0.4415369699088632, 0.14717898996962106, 0.2143993647820599, 0.07843879199343655, 0.43402798236368223, 0.026146263997812183, 0.03137551679737462, 0.020917011198249746, 0.04183402239649949, 0.03137551679737462, 0.026146263997812183, 0.09412655039212385, 0.06213987561180406, 0.015534968902951016, 0.17088465793246116, 0.06213987561180406, 0.04660490670885305, 0.6369337250209917, 0.11928316375631294, 0.11928316375631294, 0.23856632751262588, 0.35784949126893884, 0.558185106759454, 0.1116370213518908, 0.2232740427037816, 0.08094990094610789, 0.08094990094610789, 0.08094990094610789, 0.24284970283832366, 0.40474950473053944, 0.3820875678737233, 0.19381253442870022, 0.0664500118041258, 0.09967501770618868, 0.055375009836771495, 0.06091251082044864, 0.08860001573883439, 0.022150003934708597, 0.022150003934708597, 0.011075001967354298, 0.07329043434825075, 0.036645217174125375, 0.1465808686965015, 0.4030973889153791, 0.07329043434825075, 0.10993565152237612, 0.10993565152237612, 0.19652929418622445, 0.5895878825586733, 0.1858509269842356, 0.0413002059964968, 0.0619503089947452, 0.4749523689597132, 0.0206501029982484, 0.0206501029982484, 0.0206501029982484, 0.1858509269842356, 0.08202221845852363, 0.08202221845852363, 0.49213331075114175, 0.08202221845852363, 0.08202221845852363, 0.17777776560327418, 0.03864734034853787, 0.06570047859251436, 0.1971014357775431, 0.10821255297590603, 0.02318840420912272, 0.04251207438339165, 0.18164249963812795, 0.12753622315017496, 0.04251207438339165, 0.2581600306542083, 0.12908001532710414, 0.12908001532710414, 0.3872400459813124, 0.0859721874808444, 0.0859721874808444, 0.1719443749616888, 0.429860937404222, 0.0859721874808444, 0.11039878115076955, 0.11039878115076955, 0.4415951246030782, 0.11039878115076955, 0.5749821545344498, 0.14374553863361245, 0.14374553863361245, 0.06531320461393166, 0.7837584553671799, 0.03265660230696583, 0.03265660230696583, 0.03265660230696583, 0.06643436804876585, 0.046894848034422947, 0.08597388806310874, 0.12505292809179452, 0.14068454410326883, 0.17976358413195462, 0.19539520014342893, 0.12114502408892594, 0.03126323202294863, 0.007815808005737158, 0.44520286194529024, 0.11130071548632256, 0.11130071548632256, 0.11130071548632256, 0.12394525600961513, 0.11155073040865361, 0.047512348137019135, 0.05784111947115373, 0.32019191135817243, 0.11568223894230746, 0.04338083960336529, 0.10535346760817287, 0.061972628004807566, 0.014460279867788433, 0.6919877745112036, 0.09885539635874337, 0.09885539635874337, 0.4586254315386279, 0.12347607772193828, 0.14111551739650088, 0.01763943967456261, 0.01763943967456261, 0.03527887934912522, 0.03527887934912522, 0.08819719837281305, 0.07055775869825044, 0.08712161891614267, 0.6098513324129987, 0.04356080945807134, 0.04356080945807134, 0.17424323783228535, 0.04356080945807134, 0.04356080945807134, 0.09156686896686622, 0.4578343448343311, 0.09156686896686622, 0.27470060690059867, 0.173598417849895, 0.06038205838257217, 0.037738786489107605, 0.43022216597582674, 0.05283430108475065, 0.09057308757385826, 0.1056686021695013, 0.04528654378692913, 0.007547757297821521, 0.007547757297821521, 0.03716034492814779, 0.012386781642715932, 0.04954712657086373, 0.03716034492814779, 0.04954712657086373, 0.06193390821357966, 0.6812729903493763, 0.012386781642715932, 0.04954712657086373, 0.04393323366891732, 0.6589985050337598, 0.13179970100675195, 0.04393323366891732, 0.08786646733783464, 0.04393323366891732, 0.47954464047185313, 0.04359496731562301, 0.21797483657811506, 0.04359496731562301, 0.13078490194686904, 0.16018253518193168, 0.1770438546747666, 0.07587593771775711, 0.08430659746417457, 0.042153298732087285, 0.03372263898566983, 0.059014618224922204, 0.13489055594267932, 0.22762781315327135, 0.008430659746417457, 0.8461856952619219, 0.03254560366392007, 0.09763681099176022, 0.0397231438525353, 0.39723143852535303, 0.132410479508451, 0.0397231438525353, 0.052964191803380405, 0.132410479508451, 0.013241047950845101, 0.026482095901690202, 0.132410479508451, 0.013241047950845101, 0.058732833391071694, 0.11746566678214339, 0.058732833391071694, 0.058732833391071694, 0.41112983373750184, 0.058732833391071694, 0.058732833391071694, 0.11746566678214339, 0.058732833391071694, 0.06102427885844532, 0.06102427885844532, 0.1525606971461133, 0.06102427885844532, 0.45768209143833993, 0.09153641828766798, 0.03051213942922266, 0.15188956661982173, 0.07594478330991086, 0.07594478330991086, 0.07594478330991086, 0.5316134831693761, 0.28624720619335275, 0.36521195272945006, 0.04935296658506082, 0.039482373268048654, 0.05922355990207298, 0.02961177995103649, 0.03454707660954257, 0.06415885656057906, 0.0542882632435669, 0.019741186634024327, 0.1263236666819479, 0.04210788889398263, 0.7579420000916873, 0.08343563676896276, 0.04171781838448138, 0.07300618217284241, 0.0938650913650831, 0.052147272980601726, 0.04171781838448138, 0.1355829097495645, 0.2815952740952493, 0.19815963732628655, 0.010429454596120345, 0.1389048208933995, 0.4167144626801985, 0.07576626594185427, 0.07576626594185427, 0.05051084396123618, 0.12627710990309046, 0.05051084396123618, 0.02525542198061809, 0.02525542198061809, 0.02525542198061809, 0.05629764678596991, 0.04222323508947743, 0.07037205848246238, 0.30259985147458823, 0.021111617544738715, 0.10555808772369357, 0.1266697052684323, 0.24630220468861835, 0.014074411696492477, 0.014074411696492477, 0.07907157871147066, 0.1206881990859289, 0.15814315742294133, 0.09571822686125396, 0.07907157871147066, 0.07490991667402484, 0.1206881990859289, 0.06242493056168737, 0.05410160648679572, 0.1539814953854955, 0.0376439538073757, 0.7152351223401383, 0.11293186142212709, 0.0376439538073757, 0.0376439538073757, 0.16253032977255513, 0.08126516488627757, 0.06320623935599366, 0.12641247871198732, 0.027088388295425855, 0.018058925530283904, 0.14447140424227123, 0.3340901223102522, 0.018058925530283904, 0.018058925530283904, 0.13624818338866748, 0.06812409169433374, 0.06812409169433374, 0.13624818338866748, 0.4087445501660025, 0.13624818338866748, 0.1430809235971845, 0.07154046179859225, 0.21462138539577674, 0.07154046179859225, 0.4292427707915535, 0.17814720528846426, 0.08907360264423213, 0.03562944105769285, 0.06532064193910356, 0.07719712229166785, 0.290973768637825, 0.16033248475961784, 0.03562944105769285, 0.017814720528846424, 0.04750592141025713, 0.20771812313841936, 0.10385906156920968, 0.10385906156920968, 0.10385906156920968, 0.4154362462768387, 0.23417991455578963, 0.046835982911157925, 0.09367196582231585, 0.046835982911157925, 0.46835982911157925, 0.046835982911157925, 0.04890215046276088, 0.2608114691347247, 0.016300716820920293, 0.11410501774644205, 0.04890215046276088, 0.5053222214485291, 0.05098137674384567, 0.03398758449589711, 0.08496896123974278, 0.05098137674384567, 0.5947827286781995, 0.16993792247948555, 0.10436691394197195, 0.11927647307653937, 0.16400515048024164, 0.04472867740370226, 0.02981911826913484, 0.02981911826913484, 0.01490955913456742, 0.16400515048024164, 0.31310074182591585, 0.01490955913456742, 0.039457359144087566, 0.039457359144087566, 0.07891471828817513, 0.19728679572043784, 0.5918603871613135, 0.13189760346683896, 0.25437394954318937, 0.06594880173341948, 0.037685029561953985, 0.037685029561953985, 0.028263772171465487, 0.10363383129537346, 0.06594880173341948, 0.037685029561953985, 0.2449526921527009, 0.09828121580405061, 0.052920654663719556, 0.08316102875727359, 0.24192299274843226, 0.11340140285082762, 0.030240374093554033, 0.08316102875727359, 0.060480748187108066, 0.21168261865487822, 0.030240374093554033, 0.04557250108136886, 0.029000682506325634, 0.029000682506325634, 0.11600273002530254, 0.5882995594140343, 0.04142954643760805, 0.01657181857504322, 0.049715455725129656, 0.037286591793847246, 0.04557250108136886, 0.13476454211532626, 0.04492151403844209, 0.17968605615376837, 0.4042936263459788, 0.17968605615376837, 0.05849682148568259, 0.044732863489051394, 0.061937810984840386, 0.05161484248736699, 0.39227280290398914, 0.07914275848062939, 0.013763957996631198, 0.034409894991578, 0.07914275848062939, 0.18581343295452116, 0.04614793400327583, 0.023073967001637916, 0.06922190100491375, 0.06922190100491375, 0.023073967001637916, 0.023073967001637916, 0.6922190100491376, 0.04614793400327583, 0.023073967001637916, 0.16588230148252006, 0.4976469044475602, 0.16588230148252006, 0.523947585808149, 0.2910819921156384, 0.058216398423127674, 0.11643279684625535, 0.18442029237254126, 0.3688405847450825, 0.03796888372375849, 0.10848252492502426, 0.04881713621626092, 0.10305839867877305, 0.04881713621626092, 0.04339300997000971, 0.021696504985004854, 0.03254475747750728, 0.5812115746756618, 0.14530289366891544, 0.09852258031910383, 0.19704516063820765, 0.21346559069139162, 0.03284086010636794, 0.3119881710104955, 0.01642043005318397, 0.03284086010636794, 0.06568172021273588, 0.03284086010636794, 0.01642043005318397, 0.02450665478327175, 0.04084442463878625, 0.0163377698555145, 0.098026619133087, 0.02450665478327175, 0.00816888492775725, 0.032675539711029, 0.751537413353667, 0.00816888492775725, 0.2448123208611639, 0.12240616043058195, 0.4896246417223278, 0.16831183278275008, 0.18246890282989728, 0.09438046698098135, 0.07078535023573601, 0.09595347476399771, 0.13685167712242297, 0.10853753702812856, 0.06134730353763788, 0.04561722570747432, 0.03460617122635983, 0.12551494968957685, 0.11296345472061918, 0.26985714183259024, 0.11296345472061918, 0.11923920220509802, 0.10041195975166149, 0.031378737422394214, 0.03765448490687306, 0.0439302323913519, 0.050205979875830746, 0.05036131990274329, 0.6043358388329195, 0.05036131990274329, 0.05036131990274329, 0.15108395970822988, 0.05036131990274329, 0.05036131990274329, 0.06213418410751379, 0.06213418410751379, 0.4349392887525965, 0.18640255232254135, 0.12426836821502758, 0.08825639838214693, 0.47070079137145027, 0.02941879946071564, 0.05883759892143128, 0.019612532973810427, 0.0686438654083365, 0.02941879946071564, 0.16670653027738863, 0.019612532973810427, 0.04903133243452607, 0.08528021795038399, 0.5116813077023039, 0.08528021795038399, 0.08528021795038399, 0.08528021795038399, 0.08528021795038399, 0.08528021795038399, 0.04065580574129209, 0.06098370861193814, 0.020327902870646047, 0.06098370861193814, 0.42688596028356696, 0.04065580574129209, 0.32524644593033675, 0.08966014464740019, 0.4258856870751509, 0.11954685952986692, 0.14943357441233365, 0.04483007232370009, 0.014943357441233365, 0.07471678720616683, 0.02988671488246673, 0.022415036161850047, 0.04483007232370009, 0.36295804022340145, 0.04536975502792518, 0.4536975502792518, 0.09073951005585036, 0.030690100495064276, 0.40920133993419033, 0.030690100495064276, 0.0716102344884833, 0.04092013399341903, 0.20460066996709517, 0.1227604019802571, 0.0716102344884833, 0.010230033498354758, 0.010230033498354758, 0.11730407297097331, 0.10872084811943868, 0.3032739447542237, 0.06580472386176552, 0.05436042405971934, 0.0972765483173925, 0.025749674554603898, 0.06866579881227707, 0.0772490236638117, 0.08297117356483479, 0.14460402215898413, 0.5784160886359365, 0.07230201107949207, 0.07230201107949207, 0.07230201107949207, 0.040933516723250504, 0.2046675836162525, 0.08186703344650101, 0.08186703344650101, 0.040933516723250504, 0.4298019255941303, 0.020466758361625252, 0.020466758361625252, 0.040933516723250504, 0.020466758361625252, 0.1088050863388801, 0.16557295747220885, 0.03311459149444177, 0.40210575386107866, 0.1277277100499897, 0.03311459149444177, 0.028383935566664374, 0.08042115077221573, 0.009461311855554792, 0.009461311855554792, 0.17289257838209984, 0.17289257838209984, 0.17289257838209984, 0.3457851567641997, 0.13260290929983107, 0.049726090987436654, 0.1160275456373522, 0.3812333642370143, 0.016575363662478883, 0.06630145464991553, 0.1160275456373522, 0.03315072732495777, 0.08287681831239442, 0.016575363662478883, 0.19741515515322997, 0.07403068318246123, 0.04112815732358958, 0.06580505171774331, 0.07403068318246123, 0.12338447197076872, 0.016451262929435828, 0.18096389222379414, 0.1439485506325635, 0.08225631464717915, 0.08604881972991281, 0.43024409864956403, 0.17209763945982562, 0.08604881972991281, 0.17209763945982562, 0.12670761377733278, 0.06335380688866639, 0.09503071033299959, 0.06335380688866639, 0.06335380688866639, 0.09503071033299959, 0.06335380688866639, 0.06335380688866639, 0.031676903444333195, 0.31676903444333193, 0.5321100667676367, 0.06651375834595459, 0.13302751669190918, 0.06651375834595459, 0.06651375834595459, 0.06651375834595459, 0.061905448499751055, 0.24762179399900422, 0.061905448499751055, 0.061905448499751055, 0.061905448499751055, 0.061905448499751055, 0.4333381394982574, 0.11034303994016474, 0.06620582396409884, 0.022068607988032948, 0.022068607988032948, 0.08827443195213179, 0.06620582396409884, 0.419303551772626, 0.11034303994016474, 0.044137215976065895, 0.06620582396409884, 0.3572697119946936, 0.0893174279986734, 0.44658713999336697, 0.0893174279986734, 0.28360787578705354, 0.11453394983707932, 0.059993973724184406, 0.05453997611289492, 0.07090196894676339, 0.2072519092290007, 0.03272398566773695, 0.059993973724184406, 0.021815990445157966, 0.09817195700321085, 0.12370538945972365, 0.030926347364930912, 0.09277904209479274, 0.030926347364930912, 0.09277904209479274, 0.061852694729861823, 0.4638952104739637, 0.061852694729861823, 0.030926347364930912, 0.03985378537390739, 0.019926892686953693, 0.03985378537390739, 0.07970757074781477, 0.019926892686953693, 0.6575874586694719, 0.019926892686953693, 0.07970757074781477, 0.059780678060861084, 0.1942264954127175, 0.08632288685009666, 0.12229075637097028, 0.0647421651375725, 0.03596786952087361, 0.08632288685009666, 0.057548591233397776, 0.13667790417931971, 0.057548591233397776, 0.1654521997960186, 0.03601883890392432, 0.5402825835588648, 0.03601883890392432, 0.10805651671177297, 0.03601883890392432, 0.21611303342354593, 0.26154269060704244, 0.06538567265176061, 0.06538567265176061, 0.5884710538658455, 0.0719199286567501, 0.5034395005972507, 0.0719199286567501, 0.03595996432837505, 0.21575978597025033, 0.0719199286567501, 0.12568232614676483, 0.12568232614676483, 0.12568232614676483, 0.12568232614676483, 0.5027293045870593, 0.036856240397764604, 0.08599789426145074, 0.07985518752848998, 0.09828330772737229, 0.10442601446033305, 0.11671142792625458, 0.030713533664803838, 0.07371248079552921, 0.018428120198882302, 0.3562769905117245, 0.15740080984144, 0.056214574943371426, 0.07870040492072, 0.08244804325027809, 0.07870040492072, 0.05996221327292952, 0.03372874496602286, 0.19112955480746285, 0.2211106614439276, 0.04497165995469714, 0.0782184847840263, 0.1005666232937481, 0.1229147618034699, 0.0446962770194436, 0.0223481385097218, 0.0335222077645827, 0.0670444155291654, 0.1676110388229135, 0.3575702161555488, 0.0111740692548609, 0.13342788019017052, 0.13342788019017052, 0.13342788019017052, 0.06671394009508526, 0.06671394009508526, 0.4002836405705115, 0.1849030117087841, 0.03852146077266335, 0.3466931469539702, 0.12326867447252274, 0.0770429215453267, 0.015408584309065342, 0.10015579800892471, 0.015408584309065342, 0.08474721369985938, 0.015408584309065342, 0.05958218968669179, 0.10426883195171063, 0.33514981698764135, 0.12661215308422005, 0.022343321132509423, 0.044686642265018846, 0.05958218968669179, 0.044686642265018846, 0.1712987953492389, 0.029791094843345894, 0.05235149773746487, 0.05235149773746487, 0.10470299547492974, 0.05235149773746487, 0.05235149773746487, 0.5758664751121135, 0.05235149773746487, 0.05235149773746487, 0.04262710931862691, 0.08525421863725383, 0.21313554659313455, 0.04262710931862691, 0.04262710931862691, 0.04262710931862691, 0.4262710931862691, 0.08525421863725383, 0.17432449176031198, 0.08716224588015599, 0.08716224588015599, 0.17432449176031198, 0.08716224588015599, 0.08716224588015599, 0.34864898352062396, 0.15664139034323346, 0.10964897324026342, 0.04699241710297004, 0.46365851541597103, 0.05325807271669938, 0.025062622454917353, 0.05012524490983471, 0.028195450261782024, 0.04699241710297004, 0.018796966841188013, 0.1373893052275894, 0.08053855823686276, 0.0900136827353172, 0.10896393173222609, 0.10422636948299886, 0.10896393173222609, 0.21792786346445217, 0.04737562249227221, 0.08053855823686276, 0.018950248996908885, 0.125959653255797, 0.0629798266278985, 0.125959653255797, 0.503838613023188, 0.0629798266278985, 0.0629798266278985, 0.0629798266278985, 0.20534911770982336, 0.091673713263314, 0.0366694853053256, 0.07700591914118377, 0.13567709562970473, 0.16867963240449776, 0.10267455885491168, 0.0733389706106512, 0.091673713263314, 0.014667794122130241, 0.03254605218082839, 0.03254605218082839, 0.06509210436165679, 0.09763815654248519, 0.6509210436165679, 0.03254605218082839, 0.03254605218082839, 0.03254605218082839, 0.21666418516184016, 0.09712532438289387, 0.07471178798684143, 0.08218296678552557, 0.2502844897559188, 0.06350501978881522, 0.037355893993420715, 0.08591855618486764, 0.044827072792104856, 0.052298251590789005, 0.13111658071630253, 0.056192820306986795, 0.07492376040931573, 0.07492376040931573, 0.03746188020465786, 0.3746188020465786, 0.11238564061397359, 0.01873094010232893, 0.01873094010232893, 0.056192820306986795, 0.06876551724812904, 0.04584367816541936, 0.02292183908270968, 0.04584367816541936, 0.02292183908270968, 0.18337471266167743, 0.09168735633083872, 0.09168735633083872, 0.38967126440606453, 0.04584367816541936, 0.05730180100756053, 0.13752432241814527, 0.06876216120907264, 0.06876216120907264, 0.3438108060453632, 0.04584144080604842, 0.03438108060453632, 0.20628648362721788, 0.011460360201512105, 0.03438108060453632, 0.12456501496700514, 0.02491300299340103, 0.02491300299340103, 0.02491300299340103, 0.6228250748350258, 0.0747390089802031, 0.04982600598680206, 0.02491300299340103, 0.34407083296879415, 0.11469027765626472, 0.34407083296879415, 0.10739588460243599, 0.21479176920487197, 0.053697942301217993, 0.053697942301217993, 0.053697942301217993, 0.48328148071096194, 0.053697942301217993, 0.053697942301217993, 0.03699890255812864, 0.07399780511625728, 0.11099670767438594, 0.07399780511625728, 0.03699890255812864, 0.03699890255812864, 0.517984635813801, 0.03699890255812864, 0.16392658336327062, 0.07025425001283027, 0.6088701667778623, 0.023418083337610092, 0.07025425001283027, 0.023418083337610092, 0.023418083337610092, 0.037226973931877426, 0.11168092179563227, 0.11168092179563227, 0.11168092179563227, 0.037226973931877426, 0.037226973931877426, 0.4839506611144065, 0.037226973931877426, 0.03507571435163564, 0.45598428657126333, 0.03507571435163564, 0.10522714305490692, 0.10522714305490692, 0.03507571435163564, 0.03507571435163564, 0.07015142870327128, 0.07015142870327128, 0.10744368517249714, 0.04297747406899886, 0.075210579620748, 0.08595494813799771, 0.150421159241496, 0.09669931665524742, 0.13967679072424627, 0.02148873703449943, 0.26860921293124285, 0.02148873703449943, 0.022421964228974498, 0.044843928457948996, 0.044843928457948996, 0.044843928457948996, 0.2466416065187195, 0.582971069953337, 0.18249471861066366, 0.09124735930533183, 0.3649894372213273, 0.18249471861066366, 0.031778754278604146, 0.6991325941292913, 0.09533626283581244, 0.031778754278604146, 0.06355750855720829, 0.06355750855720829, 0.18447569937745914, 0.09766360555277248, 0.3906544222110899, 0.04340604691234332, 0.09766360555277248, 0.04340604691234332, 0.02170302345617166, 0.032554535184257494, 0.01085151172808583, 0.06510907036851499, 0.1139470341925512, 0.4557881367702048, 0.1139470341925512, 0.1139470341925512, 0.3441435406497505, 0.08744630950936284, 0.1805343164064265, 0.07898376342781159, 0.09026715820321325, 0.07898376342781159, 0.03667103302005539, 0.022566789550803313, 0.03385018432620497, 0.04795442779545704, 0.12055088263267248, 0.14777204967875981, 0.10110719188546724, 0.13221709708099563, 0.16332700227652402, 0.07388602483937991, 0.05055359594273362, 0.03499864334496943, 0.14777204967875981, 0.031109905195528382, 0.07586143753749233, 0.08850501046040772, 0.050574291691661555, 0.08850501046040772, 0.037930718768746166, 0.1137921563062385, 0.050574291691661555, 0.050574291691661555, 0.2781586043041385, 0.16436644799790004, 0.17806111979101646, 0.5341833593730494, 0.17806111979101646, 0.10394126627793532, 0.06929417751862355, 0.10394126627793532, 0.06929417751862355, 0.5890005089083001, 0.03464708875931177, 0.041699308115661284, 0.16679723246264513, 0.5003916973879354, 0.041699308115661284, 0.08339861623132257, 0.08339861623132257, 0.5655848277103301, 0.11311696554206604, 0.11311696554206604, 0.11311696554206604, 0.041551726117116314, 0.12465517835134894, 0.041551726117116314, 0.041551726117116314, 0.16620690446846526, 0.41551726117116317, 0.08310345223423263, 0.08310345223423263, 0.06925690484975482, 0.051942678637316116, 0.06925690484975482, 0.03462845242487741, 0.12119958348707092, 0.15582803591194833, 0.3809129766736515, 0.06925690484975482, 0.017314226212438704, 0.03462845242487741, 0.058847035105736356, 0.058847035105736356, 0.058847035105736356, 0.4119292457401545, 0.2942351755286818, 0.21212308106422514, 0.05527150703786148, 0.17477746820080522, 0.05377768252332468, 0.1314565572792381, 0.034357963834346326, 0.10904918956118617, 0.10158006698850218, 0.0492962089797143, 0.08066652378498702, 0.1319163277535662, 0.5276653110142648, 0.1319163277535662, 0.1319163277535662, 0.028036529919666663, 0.14018264959833332, 0.028036529919666663, 0.05607305983933333, 0.028036529919666663, 0.05607305983933333, 0.5887671283129999, 0.028036529919666663, 0.31470678867949053, 0.06119298668767872, 0.052451131446581756, 0.06993484192877568, 0.03496742096438784, 0.1311278286164544, 0.052451131446581756, 0.06119298668767872, 0.026225565723290878, 0.1923208153041331, 0.03912266180320556, 0.05868399270480834, 0.17605197811442502, 0.01956133090160278, 0.6455239197528918, 0.03912266180320556, 0.01956133090160278, 0.01956133090160278, 0.14311725124431957, 0.11981909406501173, 0.0898643205487588, 0.0898643205487588, 0.03661138985319803, 0.2928911188255842, 0.01996984901083529, 0.06323785520097841, 0.10983416955959409, 0.033283081684725484, 0.08575981326903157, 0.25727943980709467, 0.08575981326903157, 0.08575981326903157, 0.08575981326903157, 0.4287990663451578, 0.04408477196753224, 0.1322543159025967, 0.6171868075454513, 0.15429670188636282, 0.02204238598376612, 0.02204238598376612, 0.5862241357804371, 0.06513601508671522, 0.13027203017343045, 0.06513601508671522, 0.06513601508671522, 0.13298230694205448, 0.05851221505450397, 0.09574726099827922, 0.11170513783132575, 0.14362089149741883, 0.14362089149741883, 0.026596461388410896, 0.2287295679403337, 0.026596461388410896, 0.037235045943775254, 0.06874243328262623, 0.09452084576361107, 0.06014962912229795, 0.0859280416032828, 0.06014962912229795, 0.11170645408426763, 0.30074814561148977, 0.06014962912229795, 0.1202992582445959, 0.03437121664131312, 0.18974700052270305, 0.3794940010454061, 0.18974700052270305, 0.09487350026135152, 0.12519251053577676, 0.12519251053577676, 0.12519251053577676, 0.500770042143107, 0.3941389921230396, 0.32115028987803224, 0.07298870224500732, 0.014597740449001466, 0.058390961796005864, 0.0437932213470044, 0.029195480898002932, 0.014597740449001466, 0.0437932213470044, 0.10563100710736688, 0.10563100710736688, 0.10563100710736688, 0.10563100710736688, 0.5281550355368344, 0.10563100710736688, 0.128253968108651, 0.09515616988706364, 0.09722478227591284, 0.10343061944246047, 0.10136200705361127, 0.14273425483059546, 0.18203789021873043, 0.03309779822158735, 0.06826420883202391, 0.04757808494353182, 0.5614756167249709, 0.14036890418124273, 0.04791485697251967, 0.23957428486259832, 0.04791485697251967, 0.574978283670236, 0.04791485697251967, 0.04199696453417702, 0.04199696453417702, 0.7559453616151864, 0.08399392906835404, 0.08399392906835404, 0.0423534972887911, 0.1270604918663733, 0.0423534972887911, 0.1270604918663733, 0.5082419674654932, 0.0423534972887911, 0.0423534972887911, 0.0423534972887911, 0.04195682777895172, 0.04195682777895172, 0.02097841388947586, 0.5454387611263724, 0.06293524166842758, 0.08391365555790344, 0.18880572500528273, 0.02097841388947586, 0.05929939286195781, 0.05929939286195781, 0.17789817858587345, 0.05929939286195781, 0.5336945357576203, 0.11859878572391562, 0.08363469452065468, 0.5687159227404518, 0.016726938904130937, 0.2341771446578331, 0.033453877808261874, 0.033453877808261874, 0.016726938904130937, 0.016726938904130937, 0.13968688956145198, 0.08381213373687117, 0.08939960931932926, 0.11733698723161964, 0.18997416980357468, 0.1285119383965358, 0.1285119383965358, 0.07263718257195502, 0.013968688956145196, 0.03631859128597751, 0.06943485487913077, 0.1542996775091795, 0.08486482263004871, 0.07714983875458975, 0.11572475813188461, 0.054004887128212824, 0.34717427439565385, 0.015429967750917949, 0.054004887128212824, 0.030859935501835897, 0.23831368069607653, 0.06334920626098237, 0.25641345391350007, 0.048266061913129425, 0.06636583513055296, 0.1327316702611059, 0.060332577391411776, 0.06334920626098237, 0.051282690782700015, 0.024133030956564713, 0.04086096727294545, 0.0752702028712153, 0.046237410335175116, 0.09247482067035023, 0.3559205307196038, 0.18494964134070047, 0.09462539789524209, 0.03548452421071578, 0.04516212172272918, 0.029032792536040186, 0.07555295449716604, 0.07555295449716604, 0.07555295449716604, 0.5288706814801623, 0.07555295449716604, 0.15110590899433207, 0.09840020493661092, 0.24108050209469672, 0.09348019468978037, 0.09840020493661092, 0.08364017419611927, 0.14268029715808583, 0.02460005123415273, 0.13776028691125528, 0.01968004098732218, 0.05904012296196655, 0.11428773679770127, 0.03809591226590042, 0.1523836490636017, 0.03809591226590042, 0.41905503492490465, 0.1904795613295021, 0.03809591226590042, 0.01627337684414457, 0.01627337684414457, 0.5044746821684817, 0.3254675368828914, 0.09764026106486742, 0.03254675368828914, 0.1283423622891775, 0.1207928115662847, 0.03774775361446397, 0.045297304337356764, 0.022648652168678382, 0.022648652168678382, 0.28688292746992616, 0.30953157963860456, 0.015099101445785587, 0.015099101445785587, 0.09264301706136552, 0.09264301706136552, 0.46321508530682765, 0.09264301706136552, 0.09264301706136552, 0.18528603412273104, 0.4275089332532123, 0.08550178665064247, 0.17100357330128493, 0.08550178665064247, 0.17100357330128493, 0.033254795605786945, 0.13301918242314778, 0.09976438681736083, 0.06650959121157389, 0.49882193408680414, 0.13301918242314778, 0.6223419795859244, 0.07779274744824055, 0.07779274744824055, 0.07779274744824055, 0.17602782818027504, 0.17602782818027504, 0.08801391409013752, 0.4400695704506876, 0.07366127248543929, 0.7366127248543928, 0.07366127248543929, 0.07366127248543929, 0.12350892777520393, 0.24701785555040787, 0.07265231045600232, 0.05085661731920162, 0.07991754150160255, 0.29060924182400927, 0.05085661731920162, 0.05085661731920162, 0.014530462091200463, 0.021795693136800694, 0.2147735488482518, 0.08590941953930073, 0.25772825861790216, 0.40806974281167846, 0.14574609026385466, 0.01766619275925511, 0.048582030087951554, 0.5874009092452325, 0.026499289138882668, 0.02208274094906889, 0.02208274094906889, 0.02208274094906889, 0.10158060836571689, 0.008833096379627555, 0.11616157063587602, 0.06534088348268026, 0.07260098164742251, 0.05082068715319576, 0.16698225778907178, 0.16698225778907178, 0.05808078531793801, 0.21780294494226754, 0.07986107981216477, 0.0072600981647422515, 0.08611483341800276, 0.08611483341800276, 0.219592825215907, 0.20236985853230646, 0.08611483341800276, 0.12917225012700412, 0.08611483341800276, 0.047363158379901515, 0.02152870835450069, 0.0344459333672011, 0.08541239643500897, 0.03074846271660323, 0.5739713040432604, 0.04783094200360503, 0.017082479287001795, 0.1161608591516122, 0.0580804295758061, 0.03074846271660323, 0.010249487572201076, 0.023915471001802514, 0.21799421332397453, 0.1365010494645448, 0.11001577121023014, 0.08760515114888696, 0.059082543798086556, 0.0896424802453727, 0.11001577121023014, 0.08149316385942973, 0.040746581929714865, 0.06519453108754379, 0.3297537797170055, 0.025365675362846576, 0.042276125604744294, 0.05918657584664201, 0.033820900483795435, 0.08455225120948859, 0.033820900483795435, 0.2621119787494146, 0.08455225120948859, 0.033820900483795435, 0.29084753923154283, 0.0969491797438476, 0.3877967189753904, 0.07131079666679942, 0.10696619500019913, 0.03565539833339971, 0.03565539833339971, 0.10696619500019913, 0.10696619500019913, 0.14262159333359883, 0.3565539833339971, 0.059579113284142234, 0.5957911328414224, 0.11915822656828447, 0.059579113284142234, 0.059579113284142234, 0.054223829398383994, 0.054223829398383994, 0.10844765879676799, 0.06326113429811467, 0.036149219598922665, 0.08133574409757599, 0.11748496369649866, 0.16267148819515198, 0.30726836659084267, 0.009037304899730666, 0.12542154653292859, 0.25084309306585717, 0.08200639580999178, 0.04341515072293682, 0.11577373526116486, 0.033767339451173085, 0.08200639580999178, 0.1591888859841017, 0.0771824901741099, 0.028943433815291214, 0.08993030177210251, 0.08993030177210251, 0.0179860603544205, 0.12590242248094352, 0.035972120708841, 0.26979090531630756, 0.0179860603544205, 0.3417351467339895, 0.2549028029755536, 0.1274514014877768, 0.050980560595110726, 0.07647084089266609, 0.025490280297555363, 0.025490280297555363, 0.050980560595110726, 0.38235420446333046, 0.06878887696263992, 0.01719721924065998, 0.06878887696263992, 0.03439443848131996, 0.6878887696263992, 0.06878887696263992, 0.05159165772197994, 0.06248515024822023, 0.06769224610223859, 0.12497030049644046, 0.40615347661343154, 0.04686386268616518, 0.05207095854018353, 0.06769224610223859, 0.06248515024822023, 0.06248515024822023, 0.04686386268616518, 0.266527962039652, 0.533055924079304, 0.08884265401321734, 0.056285105703100836, 0.11257021140620167, 0.22514042281240335, 0.3939957399217059, 0.056285105703100836], \"Term\": [\"admit\", \"admit\", \"admit\", \"admit\", \"admit\", \"admit\", \"admit\", \"admit\", \"admit\", \"admit\", \"ador\", \"ador\", \"ador\", \"advic\", \"advic\", \"advic\", \"advic\", \"advic\", \"advic\", \"advic\", \"age\", \"age\", \"age\", \"age\", \"age\", \"age\", \"ahead\", \"ahead\", \"ahead\", \"ahead\", \"ahead\", \"ahead\", \"ahead\", \"ahead\", \"ahead\", \"alien\", \"alien\", \"alien\", \"alien\", \"alien\", \"alien\", \"aliv\", \"aliv\", \"aliv\", \"aliv\", \"aliv\", \"aliv\", \"aliv\", \"aliv\", \"aliv\", \"aliv\", \"alright\", \"alright\", \"alright\", \"alright\", \"alright\", \"alright\", \"alright\", \"alright\", \"alright\", \"alright\", \"amaz\", \"amaz\", \"amaz\", \"amaz\", \"amaz\", \"amaz\", \"america\", \"america\", \"america\", \"america\", \"america\", \"america\", \"america\", \"amor\", \"amor\", \"amor\", \"appear\", \"appear\", \"appear\", \"appear\", \"appear\", \"appear\", \"appear\", \"appetit\", \"appetit\", \"appetit\", \"appetit\", \"asleep\", \"asleep\", \"asleep\", \"asleep\", \"asleep\", \"asleep\", \"attent\", \"attent\", \"attent\", \"attent\", \"attent\", \"attent\", \"attent\", \"away\", \"away\", \"away\", \"away\", \"away\", \"away\", \"away\", \"away\", \"away\", \"away\", \"babe\", \"babe\", \"babe\", \"babe\", \"babe\", \"babe\", \"babe\", \"babe\", \"babe\", \"babe\", \"back\", \"back\", \"back\", \"backstag\", \"backstag\", \"backstag\", \"backstag\", \"ball\", \"ball\", \"ball\", \"ball\", \"ball\", \"ball\", \"ball\", \"ball\", \"ball\", \"ball\", \"band\", \"band\", \"band\", \"band\", \"band\", \"band\", \"band\", \"band\", \"band\", \"bare\", \"bare\", \"bare\", \"bare\", \"bare\", \"bare\", \"bare\", \"bare\", \"bare\", \"barefoot\", \"barefoot\", \"barefoot\", \"base\", \"base\", \"base\", \"bath\", \"bath\", \"bath\", \"bath\", \"bath\", \"bath\", \"bath\", \"bath\", \"bear\", \"bear\", \"bear\", \"bear\", \"bear\", \"bear\", \"bear\", \"bear\", \"bear\", \"bear\", \"beast\", \"beast\", \"beast\", \"beast\", \"beast\", \"beast\", \"beast\", \"beast\", \"beast\", \"beat\", \"beat\", \"beat\", \"beat\", \"beat\", \"beat\", \"beat\", \"beat\", \"beat\", \"beat\", \"bedroom\", \"bedroom\", \"bedroom\", \"bedroom\", \"bedroom\", \"beep\", \"beep\", \"beep\", \"beep\", \"beep\", \"beep\", \"beep\", \"believ\", \"believ\", \"believ\", \"believ\", \"believ\", \"believ\", \"believ\", \"believ\", \"believ\", \"believ\", \"bell\", \"bell\", \"bell\", \"bell\", \"bell\", \"bell\", \"bell\", \"bell\", \"belong\", \"belong\", \"belong\", \"belong\", \"belong\", \"belong\", \"belong\", \"belong\", \"belong\", \"better\", \"better\", \"better\", \"better\", \"better\", \"better\", \"better\", \"better\", \"better\", \"better\", \"bibl\", \"bibl\", \"bibl\", \"bibl\", \"bibl\", \"bibl\", \"bibl\", \"billi\", \"billi\", \"billi\", \"billi\", \"billi\", \"billi\", \"bind\", \"bind\", \"bind\", \"bind\", \"bind\", \"bind\", \"bind\", \"bind\", \"birthday\", \"birthday\", \"birthday\", \"birthday\", \"birthday\", \"bitch\", \"bitch\", \"bitch\", \"bitch\", \"bitch\", \"bitch\", \"bitch\", \"bitch\", \"bitch\", \"bitch\", \"bittersweet\", \"bittersweet\", \"bittersweet\", \"blaze\", \"blaze\", \"blaze\", \"blaze\", \"blaze\", \"bless\", \"bless\", \"bless\", \"bless\", \"bless\", \"bless\", \"bless\", \"bless\", \"bless\", \"bless\", \"blood\", \"blood\", \"blood\", \"blood\", \"blood\", \"blood\", \"blood\", \"blood\", \"blood\", \"blood\", \"blue\", \"blue\", \"blue\", \"blue\", \"blue\", \"blue\", \"blue\", \"blue\", \"blue\", \"blue\", \"bodi\", \"bodi\", \"bodi\", \"bodi\", \"bodi\", \"bodi\", \"bodi\", \"bodi\", \"bodi\", \"bodi\", \"boogi\", \"boogi\", \"boogi\", \"boogi\", \"boogi\", \"boogi\", \"boogi\", \"boogi\", \"boom\", \"boom\", \"boom\", \"boom\", \"boom\", \"boom\", \"borrow\", \"borrow\", \"borrow\", \"borrow\", \"bottl\", \"bottl\", \"bottl\", \"bottl\", \"bottl\", \"bottl\", \"bottl\", \"bottl\", \"bottl\", \"bottl\", \"bout\", \"bout\", \"bout\", \"bout\", \"bout\", \"bout\", \"bout\", \"bout\", \"bout\", \"bout\", \"bowl\", \"bowl\", \"bowl\", \"bowl\", \"boy\", \"boy\", \"boy\", \"boy\", \"boy\", \"boy\", \"boy\", \"boy\", \"boy\", \"boy\", \"brand\", \"brand\", \"brand\", \"brand\", \"brand\", \"brand\", \"brand\", \"brand\", \"brand\", \"brave\", \"brave\", \"brave\", \"break\", \"break\", \"break\", \"break\", \"break\", \"break\", \"break\", \"break\", \"break\", \"break\", \"bright\", \"bright\", \"bright\", \"bright\", \"bright\", \"bright\", \"bright\", \"bright\", \"bright\", \"bright\", \"bring\", \"bring\", \"bring\", \"bring\", \"bring\", \"bring\", \"bring\", \"bring\", \"bring\", \"bring\", \"brooklyn\", \"brooklyn\", \"brooklyn\", \"brother\", \"brother\", \"brother\", \"brother\", \"brother\", \"brother\", \"brother\", \"brother\", \"brother\", \"brother\", \"brown\", \"brown\", \"brown\", \"brown\", \"brown\", \"brown\", \"brown\", \"brown\", \"bugatti\", \"bugatti\", \"bugatti\", \"bump\", \"bump\", \"bump\", \"burn\", \"burn\", \"burn\", \"burn\", \"burn\", \"burn\", \"burn\", \"burn\", \"burn\", \"burn\", \"burnin\", \"burnin\", \"burnin\", \"burnin\", \"burnin\", \"burnin\", \"butt\", \"butt\", \"butt\", \"butt\", \"butt\", \"cake\", \"cake\", \"cake\", \"cake\", \"cake\", \"cake\", \"cake\", \"candi\", \"candi\", \"candi\", \"candi\", \"candi\", \"candl\", \"candl\", \"candl\", \"candl\", \"candl\", \"care\", \"care\", \"care\", \"care\", \"care\", \"care\", \"care\", \"care\", \"care\", \"care\", \"carriag\", \"carriag\", \"carriag\", \"castl\", \"castl\", \"castl\", \"castl\", \"catch\", \"catch\", \"catch\", \"catch\", \"catch\", \"catch\", \"catch\", \"catch\", \"catch\", \"catch\", \"cell\", \"cell\", \"cell\", \"cell\", \"cell\", \"cell\", \"cell\", \"cell\", \"cell\", \"center\", \"center\", \"center\", \"center\", \"center\", \"center\", \"certain\", \"certain\", \"certain\", \"certain\", \"certain\", \"certain\", \"chanc\", \"chanc\", \"chanc\", \"chanc\", \"chanc\", \"chanc\", \"chanc\", \"chanc\", \"chanc\", \"chanc\", \"chang\", \"chang\", \"chang\", \"chang\", \"chang\", \"chang\", \"chang\", \"chang\", \"chang\", \"chang\", \"cheap\", \"cheap\", \"cheap\", \"cheap\", \"cheap\", \"cheap\", \"cheap\", \"chicken\", \"chicken\", \"chicken\", \"chicken\", \"child\", \"child\", \"child\", \"child\", \"child\", \"child\", \"child\", \"child\", \"child\", \"child\", \"chill\", \"chill\", \"chill\", \"chill\", \"chill\", \"chill\", \"chill\", \"christma\", \"christma\", \"christma\", \"christma\", \"church\", \"church\", \"church\", \"church\", \"church\", \"church\", \"church\", \"church\", \"church\", \"citi\", \"citi\", \"citi\", \"citi\", \"citi\", \"citi\", \"citi\", \"citi\", \"citi\", \"citi\", \"clap\", \"clap\", \"clap\", \"clap\", \"clap\", \"class\", \"class\", \"class\", \"class\", \"class\", \"class\", \"class\", \"class\", \"clip\", \"clip\", \"clip\", \"clip\", \"clip\", \"clip\", \"cliqu\", \"cliqu\", \"cliqu\", \"cliqu\", \"cliqu\", \"cliqu\", \"cliqu\", \"close\", \"close\", \"close\", \"close\", \"close\", \"close\", \"close\", \"close\", \"close\", \"close\", \"closer\", \"closer\", \"closer\", \"closer\", \"closer\", \"closer\", \"closer\", \"closer\", \"closer\", \"cocain\", \"cocain\", \"cocain\", \"cocain\", \"cocain\", \"cocain\", \"code\", \"code\", \"code\", \"code\", \"cold\", \"cold\", \"cold\", \"cold\", \"cold\", \"cold\", \"cold\", \"cold\", \"cold\", \"cold\", \"commit\", \"commit\", \"commit\", \"commit\", \"commit\", \"commit\", \"confus\", \"confus\", \"confus\", \"confus\", \"confus\", \"confus\", \"confus\", \"confus\", \"corn\", \"corn\", \"corn\", \"corn\", \"crack\", \"crack\", \"crack\", \"crack\", \"crack\", \"crack\", \"crack\", \"crack\", \"crack\", \"crack\", \"crazi\", \"crazi\", \"crazi\", \"crazi\", \"crazi\", \"crazi\", \"crazi\", \"crazi\", \"crazi\", \"crazi\", \"cream\", \"cream\", \"cream\", \"cream\", \"cream\", \"cream\", \"creep\", \"creep\", \"creep\", \"creep\", \"creep\", \"cri\", \"cri\", \"cri\", \"cri\", \"cri\", \"cri\", \"cri\", \"cri\", \"cri\", \"cri\", \"cruel\", \"cruel\", \"cruel\", \"cruel\", \"cruel\", \"cruel\", \"crumbl\", \"crumbl\", \"crumbl\", \"crumbl\", \"crumbl\", \"cryin\", \"cryin\", \"cryin\", \"cryin\", \"cryin\", \"cryin\", \"cryin\", \"dammit\", \"dammit\", \"dammit\", \"dammit\", \"dammit\", \"dammit\", \"dammit\", \"damn\", \"damn\", \"damn\", \"damn\", \"damn\", \"damn\", \"damn\", \"damn\", \"damn\", \"damn\", \"danc\", \"danc\", \"danc\", \"danc\", \"danc\", \"danc\", \"danc\", \"danc\", \"danc\", \"danc\", \"dancer\", \"dancer\", \"dancer\", \"dancer\", \"dancer\", \"dark\", \"dark\", \"dark\", \"dark\", \"dark\", \"dark\", \"dark\", \"dark\", \"dark\", \"dark\", \"darlin\", \"darlin\", \"darlin\", \"darlin\", \"darlin\", \"daydream\", \"daydream\", \"daydream\", \"daydream\", \"dead\", \"dead\", \"dead\", \"dead\", \"dead\", \"dead\", \"dead\", \"dead\", \"dead\", \"dead\", \"deal\", \"deal\", \"deal\", \"deal\", \"deal\", \"deal\", \"deal\", \"deal\", \"deal\", \"dealer\", \"dealer\", \"dealer\", \"dealer\", \"debt\", \"debt\", \"debt\", \"debt\", \"debt\", \"debt\", \"deed\", \"deed\", \"deed\", \"deeper\", \"deeper\", \"deeper\", \"deeper\", \"deeper\", \"deeper\", \"deeper\", \"deeper\", \"defend\", \"defend\", \"defend\", \"degre\", \"degre\", \"degre\", \"degre\", \"degre\", \"despis\", \"despis\", \"destroy\", \"destroy\", \"destroy\", \"devot\", \"devot\", \"devot\", \"devot\", \"devot\", \"diamond\", \"diamond\", \"diamond\", \"diamond\", \"diamond\", \"diamond\", \"diamond\", \"diamond\", \"diamond\", \"diamond\", \"dirt\", \"dirt\", \"dirt\", \"dirt\", \"dirt\", \"dirt\", \"dirt\", \"dirt\", \"dirti\", \"dirti\", \"dirti\", \"dirti\", \"dirti\", \"dirti\", \"dirti\", \"dirti\", \"dirti\", \"dirti\", \"dive\", \"dive\", \"dive\", \"dive\", \"dive\", \"dive\", \"dive\", \"dive\", \"divid\", \"divid\", \"divid\", \"doll\", \"doll\", \"doll\", \"doll\", \"dolphin\", \"dolphin\", \"dolphin\", \"dolphin\", \"doom\", \"doom\", \"doom\", \"doom\", \"doom\", \"doubl\", \"doubl\", \"doubl\", \"doubl\", \"doubl\", \"doubl\", \"doubl\", \"doubl\", \"doubt\", \"doubt\", \"doubt\", \"doubt\", \"doubt\", \"doubt\", \"doubt\", \"doubt\", \"doubt\", \"doubt\", \"downtown\", \"downtown\", \"downtown\", \"dream\", \"dream\", \"dream\", \"dream\", \"dream\", \"dream\", \"dream\", \"dream\", \"dream\", \"dream\", \"drippin\", \"drippin\", \"drippin\", \"dude\", \"dude\", \"dude\", \"dude\", \"dude\", \"dude\", \"dude\", \"dude\", \"dumb\", \"dumb\", \"dumb\", \"dumb\", \"dumb\", \"dumb\", \"dumb\", \"dust\", \"dust\", \"dust\", \"dust\", \"dust\", \"dust\", \"dust\", \"dust\", \"earli\", \"earli\", \"earli\", \"earli\", \"earli\", \"easi\", \"easi\", \"easi\", \"easi\", \"easi\", \"easi\", \"easi\", \"easi\", \"easi\", \"easi\", \"edg\", \"edg\", \"edg\", \"edg\", \"edg\", \"edg\", \"edg\", \"end\", \"end\", \"end\", \"end\", \"end\", \"end\", \"end\", \"end\", \"end\", \"engin\", \"engin\", \"engin\", \"engin\", \"engin\", \"engin\", \"engin\", \"engin\", \"engin\", \"entertain\", \"entertain\", \"entertain\", \"entertain\", \"eventu\", \"eventu\", \"eventu\", \"eventu\", \"everybodi\", \"everybodi\", \"everybodi\", \"everybodi\", \"everybodi\", \"everybodi\", \"everybodi\", \"everybodi\", \"everybodi\", \"everybodi\", \"excit\", \"excit\", \"excit\", \"execut\", \"execut\", \"execut\", \"execut\", \"execut\", \"exist\", \"exist\", \"exist\", \"exist\", \"extra\", \"extra\", \"extra\", \"extra\", \"eye\", \"eye\", \"eye\", \"eye\", \"eye\", \"eye\", \"eye\", \"eye\", \"eye\", \"eye\", \"face\", \"face\", \"face\", \"face\", \"face\", \"face\", \"face\", \"face\", \"face\", \"face\", \"fail\", \"fail\", \"fail\", \"faith\", \"faith\", \"faith\", \"faith\", \"faith\", \"faith\", \"faith\", \"faith\", \"fall\", \"fall\", \"fall\", \"fall\", \"fall\", \"fall\", \"fall\", \"fall\", \"fall\", \"fall\", \"fallin\", \"fallin\", \"fallin\", \"fallin\", \"fallin\", \"fallin\", \"fallin\", \"fallin\", \"faster\", \"faster\", \"faster\", \"faster\", \"fever\", \"fever\", \"fever\", \"fever\", \"fever\", \"fever\", \"fever\", \"fight\", \"fight\", \"fight\", \"fight\", \"fight\", \"fight\", \"fight\", \"fight\", \"fight\", \"fight\", \"fighter\", \"fighter\", \"fighter\", \"fighter\", \"fighter\", \"fighter\", \"fighter\", \"film\", \"film\", \"film\", \"film\", \"film\", \"fine\", \"fine\", \"fine\", \"fine\", \"fine\", \"fine\", \"fine\", \"fine\", \"fine\", \"fine\", \"finna\", \"finna\", \"finna\", \"finna\", \"finna\", \"finna\", \"finna\", \"flavor\", \"flavor\", \"flavor\", \"flavor\", \"flavor\", \"ford\", \"ford\", \"ford\", \"ford\", \"ford\", \"ford\", \"forest\", \"forest\", \"forest\", \"forev\", \"forev\", \"forev\", \"forev\", \"forev\", \"forev\", \"forev\", \"forev\", \"forev\", \"forev\", \"fortun\", \"fortun\", \"fortun\", \"fortun\", \"fortun\", \"fortun\", \"fortun\", \"free\", \"free\", \"free\", \"free\", \"free\", \"free\", \"free\", \"free\", \"free\", \"free\", \"friend\", \"friend\", \"friend\", \"friend\", \"friend\", \"friend\", \"friend\", \"friend\", \"friend\", \"friend\", \"fuck\", \"fuck\", \"fuck\", \"fuck\", \"fuck\", \"fuck\", \"fuck\", \"fuck\", \"fuck\", \"fuck\", \"fuckin\", \"fuckin\", \"fuckin\", \"fuckin\", \"fuckin\", \"fuckin\", \"fuckin\", \"fuckin\", \"fuckin\", \"fuckin\", \"funki\", \"funki\", \"funki\", \"funki\", \"funki\", \"funki\", \"gambler\", \"gambler\", \"gambler\", \"gambler\", \"gambler\", \"game\", \"game\", \"game\", \"game\", \"game\", \"game\", \"game\", \"game\", \"game\", \"game\", \"garden\", \"garden\", \"garden\", \"garden\", \"garden\", \"garden\", \"garden\", \"gaze\", \"gaze\", \"gaze\", \"gaze\", \"gaze\", \"generat\", \"generat\", \"generat\", \"generat\", \"generat\", \"generat\", \"generat\", \"georgia\", \"georgia\", \"georgia\", \"get\", \"get\", \"get\", \"get\", \"get\", \"get\", \"get\", \"get\", \"get\", \"get\", \"gimm\", \"gimm\", \"gimm\", \"gimm\", \"gimm\", \"gimm\", \"gimm\", \"girl\", \"girl\", \"girl\", \"girl\", \"girl\", \"girl\", \"girl\", \"girl\", \"girl\", \"girl\", \"glori\", \"glori\", \"glori\", \"glori\", \"glori\", \"glori\", \"goal\", \"goal\", \"goal\", \"god\", \"god\", \"god\", \"god\", \"god\", \"goin\", \"goin\", \"goin\", \"goin\", \"goin\", \"goin\", \"goin\", \"goin\", \"goin\", \"goin\", \"golden\", \"golden\", \"golden\", \"golden\", \"golden\", \"golden\", \"golden\", \"golden\", \"gonna\", \"gonna\", \"gonna\", \"gonna\", \"gonna\", \"gonna\", \"gonna\", \"gonna\", \"gonna\", \"gonna\", \"good\", \"good\", \"good\", \"good\", \"good\", \"good\", \"good\", \"good\", \"good\", \"good\", \"goodby\", \"goodby\", \"goodby\", \"goodby\", \"goodby\", \"goodby\", \"goodby\", \"goodby\", \"goodby\", \"goodby\", \"goodnight\", \"goodnight\", \"goodnight\", \"goodnight\", \"gotta\", \"gotta\", \"gotta\", \"gotta\", \"gotta\", \"gotta\", \"gotta\", \"gotta\", \"gotta\", \"gotta\", \"grass\", \"grass\", \"grass\", \"grass\", \"grass\", \"grass\", \"gray\", \"gray\", \"gray\", \"gray\", \"gray\", \"gray\", \"grill\", \"grill\", \"grind\", \"grind\", \"grind\", \"grind\", \"grind\", \"grind\", \"grind\", \"grind\", \"grind\", \"grind\", \"groov\", \"groov\", \"groov\", \"groov\", \"groov\", \"groov\", \"groov\", \"guess\", \"guess\", \"guess\", \"guess\", \"guess\", \"guess\", \"guess\", \"guess\", \"guess\", \"guess\", \"gun\", \"gun\", \"gun\", \"gun\", \"gun\", \"gun\", \"gun\", \"hall\", \"hall\", \"hall\", \"hall\", \"hall\", \"hall\", \"hall\", \"hand\", \"hand\", \"hand\", \"hand\", \"hand\", \"hand\", \"hand\", \"hand\", \"hand\", \"hand\", \"hang\", \"hang\", \"hang\", \"hang\", \"hang\", \"hang\", \"hang\", \"hang\", \"hang\", \"hang\", \"happi\", \"happi\", \"happi\", \"happi\", \"happi\", \"happi\", \"happi\", \"happi\", \"happi\", \"happi\", \"hard\", \"hard\", \"hard\", \"hard\", \"hard\", \"hard\", \"hard\", \"hard\", \"hard\", \"hard\", \"harder\", \"harder\", \"harder\", \"harder\", \"harder\", \"harder\", \"harder\", \"harder\", \"harder\", \"harlem\", \"harlem\", \"havin\", \"havin\", \"havin\", \"havin\", \"havin\", \"havin\", \"havin\", \"havin\", \"head\", \"head\", \"head\", \"head\", \"head\", \"head\", \"head\", \"head\", \"head\", \"head\", \"hear\", \"hear\", \"hear\", \"hear\", \"hear\", \"hear\", \"hear\", \"hear\", \"hear\", \"hear\", \"heart\", \"heart\", \"heart\", \"heart\", \"heart\", \"heart\", \"heart\", \"heart\", \"heart\", \"heart\", \"heartach\", \"heartach\", \"heartach\", \"heartach\", \"hello\", \"hello\", \"hello\", \"hello\", \"hello\", \"hello\", \"hero\", \"hero\", \"hero\", \"hero\", \"hero\", \"hero\", \"hero\", \"hero\", \"high\", \"high\", \"high\", \"high\", \"high\", \"high\", \"high\", \"high\", \"high\", \"high\", \"higher\", \"higher\", \"higher\", \"higher\", \"higher\", \"higher\", \"higher\", \"higher\", \"higher\", \"higher\", \"highway\", \"highway\", \"highway\", \"highway\", \"highway\", \"highway\", \"highway\", \"highway\", \"highway\", \"highway\", \"hoe\", \"hoe\", \"hoe\", \"hoe\", \"hoe\", \"hoe\", \"hoe\", \"hoe\", \"hoe\", \"hoe\", \"hold\", \"hold\", \"hold\", \"hold\", \"hold\", \"hold\", \"hold\", \"hold\", \"hold\", \"hold\", \"holi\", \"holi\", \"holi\", \"holi\", \"holi\", \"holi\", \"holi\", \"holi\", \"holi\", \"home\", \"home\", \"home\", \"home\", \"home\", \"home\", \"home\", \"home\", \"home\", \"home\", \"honest\", \"honest\", \"honest\", \"honest\", \"honest\", \"honest\", \"honest\", \"honki\", \"honki\", \"honki\", \"honki\", \"honki\", \"honki\", \"hopeless\", \"hopeless\", \"hopeless\", \"hous\", \"hous\", \"hous\", \"hous\", \"hous\", \"hous\", \"hous\", \"hous\", \"hous\", \"hous\", \"humbl\", \"humbl\", \"humbl\", \"hungri\", \"hungri\", \"hungri\", \"hungri\", \"hungri\", \"hungri\", \"hungri\", \"hungri\", \"hungri\", \"hungri\", \"hurri\", \"hurri\", \"hurri\", \"hurri\", \"hurri\", \"hurrican\", \"hurrican\", \"hurrican\", \"hurrican\", \"hurt\", \"hurt\", \"hurt\", \"hurt\", \"hurt\", \"hurt\", \"hurt\", \"hurt\", \"hurt\", \"hurt\", \"illus\", \"illus\", \"illus\", \"illus\", \"imposs\", \"imposs\", \"imposs\", \"imposs\", \"imposs\", \"insan\", \"insan\", \"insan\", \"insan\", \"insan\", \"insan\", \"insan\", \"insecur\", \"insecur\", \"insecur\", \"jackson\", \"jackson\", \"jackson\", \"jackson\", \"jackson\", \"jackson\", \"joint\", \"joint\", \"joint\", \"joke\", \"joke\", \"joke\", \"joke\", \"joke\", \"joke\", \"joke\", \"jump\", \"jump\", \"jump\", \"jump\", \"jump\", \"jump\", \"jump\", \"jump\", \"jump\", \"jump\", \"jungl\", \"jungl\", \"jungl\", \"jungl\", \"jungl\", \"kiss\", \"kiss\", \"kiss\", \"kiss\", \"kiss\", \"kiss\", \"kiss\", \"kiss\", \"kiss\", \"kiss\", \"ladi\", \"ladi\", \"ladi\", \"ladi\", \"ladi\", \"ladi\", \"ladi\", \"ladi\", \"ladi\", \"ladi\", \"lamborghini\", \"lamborghini\", \"lamborghini\", \"lamborghini\", \"lane\", \"lane\", \"lane\", \"lane\", \"lane\", \"lane\", \"lane\", \"lane\", \"learn\", \"learn\", \"learn\", \"learn\", \"learn\", \"learn\", \"learn\", \"learn\", \"learn\", \"learn\", \"leav\", \"leav\", \"leav\", \"leav\", \"leav\", \"leav\", \"leav\", \"leav\", \"leav\", \"leav\", \"lend\", \"lend\", \"lend\", \"lend\", \"lesson\", \"lesson\", \"lesson\", \"lesson\", \"lesson\", \"lesson\", \"lesson\", \"lie\", \"lie\", \"lie\", \"lie\", \"lie\", \"lie\", \"lie\", \"lie\", \"lie\", \"lie\", \"life\", \"life\", \"life\", \"life\", \"life\", \"life\", \"life\", \"life\", \"life\", \"life\", \"light\", \"light\", \"light\", \"light\", \"light\", \"light\", \"light\", \"light\", \"light\", \"light\", \"limit\", \"limit\", \"limit\", \"limit\", \"limit\", \"limit\", \"limit\", \"liquor\", \"liquor\", \"liquor\", \"liquor\", \"liquor\", \"littl\", \"littl\", \"littl\", \"littl\", \"littl\", \"littl\", \"littl\", \"littl\", \"littl\", \"littl\", \"live\", \"live\", \"live\", \"live\", \"live\", \"live\", \"live\", \"live\", \"live\", \"live\", \"lone\", \"lone\", \"lone\", \"lone\", \"lone\", \"lone\", \"lone\", \"lone\", \"lone\", \"lone\", \"long\", \"long\", \"long\", \"long\", \"long\", \"long\", \"long\", \"long\", \"long\", \"long\", \"lord\", \"lord\", \"lord\", \"lord\", \"lord\", \"lord\", \"lord\", \"lord\", \"lord\", \"lord\", \"lose\", \"lose\", \"lose\", \"lose\", \"lose\", \"lose\", \"lose\", \"lose\", \"lose\", \"lose\", \"lot\", \"lot\", \"lot\", \"lot\", \"lot\", \"lot\", \"lot\", \"lotta\", \"lotta\", \"lotta\", \"lotta\", \"lotta\", \"louder\", \"louder\", \"louder\", \"louder\", \"lover\", \"lover\", \"lover\", \"lover\", \"lover\", \"lover\", \"lover\", \"lover\", \"lover\", \"lover\", \"lucki\", \"lucki\", \"lucki\", \"lucki\", \"lucki\", \"lucki\", \"lucki\", \"lucki\", \"lucki\", \"mami\", \"mami\", \"mami\", \"mamma\", \"mamma\", \"mamma\", \"mamma\", \"mamma\", \"mansion\", \"mansion\", \"mansion\", \"master\", \"master\", \"master\", \"master\", \"master\", \"master\", \"master\", \"master\", \"master\", \"master\", \"mayb\", \"mayb\", \"mayb\", \"mayb\", \"mayb\", \"mayb\", \"mayb\", \"mayb\", \"mayb\", \"mayb\", \"mean\", \"mean\", \"mean\", \"mean\", \"mean\", \"mean\", \"mean\", \"mean\", \"mean\", \"mean\", \"memori\", \"memori\", \"memori\", \"memori\", \"memori\", \"memori\", \"memori\", \"memori\", \"memori\", \"memori\", \"merci\", \"merci\", \"merci\", \"merci\", \"merci\", \"merci\", \"metal\", \"metal\", \"metal\", \"metal\", \"metal\", \"metal\", \"million\", \"million\", \"million\", \"million\", \"million\", \"million\", \"million\", \"million\", \"million\", \"million\", \"mind\", \"mind\", \"mind\", \"mind\", \"mind\", \"mind\", \"mind\", \"mind\", \"mind\", \"mind\", \"minut\", \"minut\", \"minut\", \"minut\", \"minut\", \"minut\", \"minut\", \"minut\", \"minut\", \"mirror\", \"mirror\", \"mirror\", \"mirror\", \"mirror\", \"mirror\", \"mirror\", \"mirror\", \"mirror\", \"mirror\", \"miseri\", \"miseri\", \"miseri\", \"miseri\", \"miseri\", \"miss\", \"miss\", \"miss\", \"miss\", \"miss\", \"miss\", \"miss\", \"miss\", \"miss\", \"miss\", \"moan\", \"moan\", \"moan\", \"moan\", \"molli\", \"molli\", \"molli\", \"molli\", \"molli\", \"molli\", \"money\", \"money\", \"money\", \"money\", \"money\", \"money\", \"money\", \"money\", \"money\", \"money\", \"mood\", \"mood\", \"mood\", \"mood\", \"mood\", \"morn\", \"morn\", \"morn\", \"morn\", \"morn\", \"morn\", \"morn\", \"morn\", \"morn\", \"morn\", \"mornin\", \"mornin\", \"mornin\", \"mornin\", \"mornin\", \"mornin\", \"mornin\", \"mornin\", \"mornin\", \"mountain\", \"mountain\", \"mountain\", \"mountain\", \"mountain\", \"mountain\", \"mountain\", \"mountain\", \"mountain\", \"music\", \"music\", \"music\", \"music\", \"music\", \"music\", \"music\", \"music\", \"music\", \"music\", \"mysteri\", \"mysteri\", \"mysteri\", \"mysteri\", \"mysteri\", \"mysteri\", \"mysteri\", \"mysteri\", \"nasti\", \"nasti\", \"nasti\", \"nasti\", \"nasti\", \"natur\", \"natur\", \"natur\", \"natur\", \"natur\", \"natur\", \"natur\", \"natur\", \"natur\", \"need\", \"need\", \"need\", \"need\", \"need\", \"need\", \"need\", \"need\", \"need\", \"need\", \"nigga\", \"nigga\", \"nigga\", \"nigga\", \"nigga\", \"nigga\", \"nigga\", \"nigga\", \"nigga\", \"nigga\", \"nothin\", \"nothin\", \"nothin\", \"nothin\", \"nothin\", \"nothin\", \"nothin\", \"nothin\", \"nothin\", \"nothin\", \"numb\", \"numb\", \"numb\", \"numb\", \"numb\", \"obsess\", \"obsess\", \"obsess\", \"obsess\", \"obsess\", \"obsess\", \"odd\", \"odd\", \"odd\", \"odd\", \"offic\", \"offic\", \"offic\", \"okay\", \"okay\", \"okay\", \"okay\", \"okay\", \"okay\", \"okay\", \"okay\", \"okay\", \"okay\", \"oooh\", \"oooh\", \"oooh\", \"oooh\", \"oooh\", \"oooh\", \"orlean\", \"orlean\", \"orlean\", \"orlean\", \"ought\", \"ought\", \"ought\", \"oven\", \"oven\", \"oven\", \"oven\", \"oven\", \"pain\", \"pain\", \"pain\", \"pain\", \"pain\", \"pain\", \"pain\", \"pain\", \"pain\", \"pain\", \"paint\", \"paint\", \"paint\", \"paint\", \"paint\", \"paint\", \"paint\", \"palm\", \"palm\", \"paradis\", \"paradis\", \"paradis\", \"paradis\", \"paradis\", \"paradis\", \"paradis\", \"paradis\", \"paul\", \"paul\", \"paul\", \"paul\", \"paul\", \"peopl\", \"peopl\", \"peopl\", \"peopl\", \"peopl\", \"peopl\", \"peopl\", \"peopl\", \"peopl\", \"peopl\", \"photo\", \"photo\", \"photo\", \"photo\", \"photograph\", \"photograph\", \"photograph\", \"photograph\", \"photograph\", \"piano\", \"piano\", \"piano\", \"piano\", \"pillow\", \"pillow\", \"pillow\", \"pink\", \"pink\", \"pink\", \"pink\", \"pink\", \"place\", \"place\", \"place\", \"place\", \"place\", \"place\", \"place\", \"place\", \"place\", \"place\", \"plane\", \"plane\", \"plane\", \"plane\", \"play\", \"play\", \"play\", \"play\", \"play\", \"play\", \"play\", \"play\", \"play\", \"play\", \"plead\", \"plead\", \"plead\", \"pour\", \"pour\", \"pour\", \"pour\", \"pour\", \"pour\", \"pour\", \"pour\", \"pour\", \"practic\", \"practic\", \"practic\", \"practic\", \"practic\", \"practic\", \"practic\", \"prais\", \"prais\", \"prais\", \"prais\", \"pray\", \"pray\", \"pray\", \"pray\", \"pray\", \"pray\", \"pray\", \"pray\", \"pray\", \"pray\", \"prayer\", \"prayer\", \"prayer\", \"prayer\", \"prayer\", \"prayer\", \"prayer\", \"prayer\", \"prayer\", \"preach\", \"preach\", \"preach\", \"preach\", \"preach\", \"preach\", \"pressur\", \"pressur\", \"pressur\", \"pressur\", \"pressur\", \"promis\", \"promis\", \"promis\", \"promis\", \"promis\", \"promis\", \"promis\", \"promis\", \"promis\", \"promis\", \"purpl\", \"purpl\", \"purpl\", \"pussi\", \"pussi\", \"pussi\", \"pussi\", \"pussi\", \"pussi\", \"pussi\", \"pussi\", \"pussi\", \"pussi\", \"quarter\", \"quarter\", \"quarter\", \"quarter\", \"quarter\", \"quarter\", \"quarter\", \"quarter\", \"quarter\", \"quit\", \"quit\", \"quit\", \"quit\", \"quit\", \"quit\", \"quit\", \"rabbit\", \"rabbit\", \"rabbit\", \"rabbit\", \"rabbit\", \"rain\", \"rain\", \"rain\", \"rain\", \"rain\", \"rain\", \"rain\", \"rain\", \"rain\", \"rain\", \"rape\", \"rape\", \"rape\", \"reach\", \"reach\", \"reach\", \"reach\", \"reach\", \"reach\", \"reach\", \"reach\", \"reach\", \"reach\", \"read\", \"read\", \"read\", \"read\", \"read\", \"read\", \"read\", \"read\", \"read\", \"read\", \"readi\", \"readi\", \"readi\", \"readi\", \"readi\", \"readi\", \"readi\", \"readi\", \"readi\", \"readi\", \"real\", \"real\", \"real\", \"real\", \"real\", \"real\", \"real\", \"real\", \"real\", \"real\", \"rear\", \"rear\", \"rear\", \"rear\", \"rear\", \"reason\", \"reason\", \"reason\", \"reason\", \"reason\", \"reason\", \"reason\", \"reason\", \"reason\", \"reason\", \"reli\", \"reli\", \"reli\", \"reli\", \"reli\", \"reli\", \"remain\", \"remain\", \"remain\", \"remain\", \"remain\", \"rememb\", \"rememb\", \"rememb\", \"rememb\", \"rememb\", \"rememb\", \"rememb\", \"rememb\", \"rememb\", \"rememb\", \"replac\", \"replac\", \"replac\", \"replac\", \"replac\", \"reput\", \"reput\", \"reput\", \"reput\", \"reput\", \"reput\", \"reveng\", \"reveng\", \"reveng\", \"reveng\", \"reveng\", \"reveng\", \"rhythm\", \"rhythm\", \"rhythm\", \"rhythm\", \"rhythm\", \"rhythm\", \"rich\", \"rich\", \"rich\", \"rich\", \"rich\", \"rich\", \"rich\", \"rich\", \"rich\", \"rich\", \"rider\", \"rider\", \"rider\", \"rider\", \"rider\", \"ring\", \"ring\", \"ring\", \"ring\", \"ring\", \"ring\", \"ring\", \"ring\", \"ring\", \"ring\", \"road\", \"road\", \"road\", \"road\", \"road\", \"road\", \"road\", \"road\", \"road\", \"road\", \"rock\", \"rock\", \"rock\", \"rock\", \"rock\", \"rock\", \"rock\", \"rock\", \"rock\", \"rock\", \"rocket\", \"rocket\", \"rocket\", \"rocket\", \"rocket\", \"roll\", \"roll\", \"roll\", \"roll\", \"roll\", \"roll\", \"roll\", \"roll\", \"roll\", \"roll\", \"romanc\", \"romanc\", \"romanc\", \"romanc\", \"romanc\", \"romanc\", \"romanc\", \"romanc\", \"romanc\", \"romant\", \"romant\", \"romant\", \"rose\", \"rose\", \"rose\", \"rose\", \"round\", \"round\", \"round\", \"round\", \"round\", \"round\", \"round\", \"round\", \"round\", \"round\", \"rubber\", \"rubber\", \"runnin\", \"runnin\", \"runnin\", \"runnin\", \"runnin\", \"runnin\", \"runnin\", \"runnin\", \"runnin\", \"runnin\", \"sail\", \"sail\", \"sail\", \"sail\", \"sail\", \"sail\", \"sail\", \"sail\", \"sail\", \"sake\", \"sake\", \"sake\", \"say\", \"say\", \"say\", \"say\", \"say\", \"say\", \"say\", \"say\", \"say\", \"say\", \"see\", \"see\", \"see\", \"see\", \"see\", \"see\", \"see\", \"see\", \"see\", \"see\", \"seek\", \"seek\", \"seek\", \"seek\", \"seek\", \"seek\", \"seek\", \"self\", \"self\", \"self\", \"self\", \"self\", \"send\", \"send\", \"send\", \"send\", \"send\", \"send\", \"send\", \"send\", \"send\", \"send\", \"settl\", \"settl\", \"settl\", \"settl\", \"settl\", \"settl\", \"settl\", \"sexi\", \"sexi\", \"sexi\", \"sexi\", \"sexi\", \"sexi\", \"sexi\", \"shake\", \"shake\", \"shake\", \"shake\", \"shake\", \"shake\", \"shake\", \"shake\", \"shake\", \"shake\", \"shape\", \"shape\", \"shape\", \"shape\", \"shine\", \"shine\", \"shine\", \"shine\", \"shine\", \"shine\", \"shine\", \"shine\", \"shine\", \"shine\", \"shit\", \"shit\", \"shit\", \"shit\", \"shit\", \"shit\", \"shit\", \"shit\", \"shit\", \"shit\", \"shiver\", \"shiver\", \"shiver\", \"shiver\", \"shiver\", \"shoe\", \"shoe\", \"shoe\", \"shoe\", \"shoe\", \"shoe\", \"shoe\", \"shoe\", \"shoe\", \"shoe\", \"shoot\", \"shoot\", \"shoot\", \"shoot\", \"shoot\", \"shoot\", \"shoot\", \"shoot\", \"shoot\", \"shoot\", \"shoppin\", \"shoppin\", \"shoppin\", \"shoppin\", \"sign\", \"sign\", \"sign\", \"sign\", \"sign\", \"sign\", \"sign\", \"sign\", \"sign\", \"sign\", \"sing\", \"sing\", \"sing\", \"sing\", \"sing\", \"sing\", \"sing\", \"sing\", \"sing\", \"sing\", \"singin\", \"singin\", \"singin\", \"singin\", \"singin\", \"singl\", \"singl\", \"singl\", \"singl\", \"singl\", \"singl\", \"singl\", \"singl\", \"singl\", \"singl\", \"sink\", \"sink\", \"sink\", \"sink\", \"sink\", \"sink\", \"sippin\", \"sippin\", \"sippin\", \"sippin\", \"sippin\", \"sippin\", \"sippin\", \"sit\", \"sit\", \"sit\", \"sit\", \"sit\", \"sit\", \"sit\", \"sit\", \"sit\", \"sit\", \"situat\", \"situat\", \"situat\", \"situat\", \"sleep\", \"sleep\", \"sleep\", \"sleep\", \"sleep\", \"sleep\", \"sleep\", \"sleep\", \"sleep\", \"sleep\", \"slip\", \"slip\", \"slip\", \"slip\", \"slip\", \"slip\", \"slip\", \"slip\", \"slip\", \"slowli\", \"slowli\", \"slowli\", \"slowli\", \"slowli\", \"slowli\", \"slowli\", \"slowli\", \"slowli\", \"smile\", \"smile\", \"smile\", \"smile\", \"smile\", \"smile\", \"smile\", \"smile\", \"smile\", \"smile\", \"smokin\", \"smokin\", \"smokin\", \"smokin\", \"smokin\", \"smokin\", \"social\", \"social\", \"social\", \"social\", \"soldier\", \"soldier\", \"soldier\", \"soldier\", \"soldier\", \"soldier\", \"solo\", \"solo\", \"solo\", \"solo\", \"solo\", \"somebodi\", \"somebodi\", \"somebodi\", \"somebodi\", \"somebodi\", \"somebodi\", \"somebodi\", \"somebodi\", \"somebodi\", \"somebodi\", \"song\", \"song\", \"song\", \"song\", \"song\", \"song\", \"song\", \"song\", \"song\", \"song\", \"soon\", \"soon\", \"soon\", \"soon\", \"soon\", \"soon\", \"soon\", \"soon\", \"soon\", \"soon\", \"sooner\", \"sooner\", \"sooner\", \"sooner\", \"sooner\", \"sooner\", \"sorri\", \"sorri\", \"sorri\", \"sorri\", \"sorri\", \"sorri\", \"sorri\", \"sorri\", \"sorri\", \"sorri\", \"sound\", \"sound\", \"sound\", \"sound\", \"sound\", \"sound\", \"sound\", \"sound\", \"sound\", \"sound\", \"spark\", \"spark\", \"spark\", \"spark\", \"spark\", \"spark\", \"spark\", \"spark\", \"spell\", \"spell\", \"spell\", \"spell\", \"spell\", \"spell\", \"spell\", \"spell\", \"stab\", \"stab\", \"stab\", \"stab\", \"stab\", \"stab\", \"stab\", \"stand\", \"stand\", \"stand\", \"stand\", \"stand\", \"stand\", \"stand\", \"stand\", \"stand\", \"stand\", \"star\", \"star\", \"star\", \"star\", \"star\", \"star\", \"star\", \"star\", \"star\", \"star\", \"stare\", \"stare\", \"stare\", \"stare\", \"stare\", \"stare\", \"stare\", \"stay\", \"stay\", \"stay\", \"stay\", \"stay\", \"stay\", \"stay\", \"stay\", \"stay\", \"stay\", \"steadi\", \"steadi\", \"steadi\", \"steadi\", \"steadi\", \"steadi\", \"steadi\", \"steadi\", \"stop\", \"stop\", \"stop\", \"stop\", \"stop\", \"stop\", \"stop\", \"stop\", \"stop\", \"stop\", \"stori\", \"stori\", \"stori\", \"stori\", \"stori\", \"stori\", \"stori\", \"stori\", \"stori\", \"stori\", \"storm\", \"storm\", \"storm\", \"storm\", \"storm\", \"storm\", \"storm\", \"storm\", \"storm\", \"storm\", \"straight\", \"straight\", \"straight\", \"straight\", \"straight\", \"straight\", \"straight\", \"straight\", \"straight\", \"straight\", \"strang\", \"strang\", \"strang\", \"strang\", \"strang\", \"strang\", \"strang\", \"strang\", \"strap\", \"strap\", \"strap\", \"stream\", \"stream\", \"stream\", \"stream\", \"stream\", \"stream\", \"stream\", \"stream\", \"strip\", \"strip\", \"strip\", \"strip\", \"strip\", \"strip\", \"strip\", \"strip\", \"stuff\", \"stuff\", \"stuff\", \"stuff\", \"stuff\", \"stuff\", \"stuff\", \"sudden\", \"sudden\", \"sudden\", \"sudden\", \"sudden\", \"sudden\", \"sudden\", \"sudden\", \"suit\", \"suit\", \"suit\", \"suit\", \"suit\", \"suit\", \"suit\", \"suit\", \"suit\", \"summer\", \"summer\", \"summer\", \"summer\", \"summer\", \"summer\", \"summer\", \"summer\", \"summer\", \"summer\", \"sunday\", \"sunday\", \"sunday\", \"sunday\", \"sunday\", \"sunday\", \"sunlight\", \"sunlight\", \"sunlight\", \"sunlight\", \"super\", \"super\", \"super\", \"super\", \"super\", \"super\", \"swear\", \"swear\", \"swear\", \"swear\", \"swear\", \"swear\", \"swear\", \"swear\", \"swear\", \"swear\", \"swimmin\", \"swimmin\", \"swimmin\", \"swimmin\", \"take\", \"take\", \"take\", \"take\", \"take\", \"take\", \"take\", \"take\", \"take\", \"take\", \"talk\", \"talk\", \"talk\", \"talk\", \"talk\", \"talk\", \"talk\", \"talk\", \"talk\", \"talk\", \"talkin\", \"talkin\", \"talkin\", \"talkin\", \"talkin\", \"talkin\", \"talkin\", \"talkin\", \"talkin\", \"talkin\", \"target\", \"target\", \"target\", \"teacher\", \"teacher\", \"teacher\", \"teacher\", \"teacher\", \"teacher\", \"teeth\", \"teeth\", \"teeth\", \"teeth\", \"teeth\", \"teeth\", \"terror\", \"terror\", \"terror\", \"terror\", \"texa\", \"texa\", \"texa\", \"texa\", \"texa\", \"texa\", \"texa\", \"texa\", \"thank\", \"thank\", \"thank\", \"thank\", \"thank\", \"thank\", \"thank\", \"thank\", \"thank\", \"thank\", \"thee\", \"thee\", \"thee\", \"thee\", \"thee\", \"thing\", \"thing\", \"thing\", \"thing\", \"thing\", \"thing\", \"thing\", \"thing\", \"thing\", \"thing\", \"threat\", \"threat\", \"threat\", \"threat\", \"titti\", \"titti\", \"titti\", \"titti\", \"titti\", \"titti\", \"titti\", \"titti\", \"today\", \"today\", \"today\", \"today\", \"today\", \"today\", \"today\", \"today\", \"today\", \"today\", \"tommi\", \"tommi\", \"tommi\", \"tommi\", \"tommi\", \"tommi\", \"tommi\", \"tommi\", \"tonight\", \"tonight\", \"tonight\", \"tonight\", \"tonight\", \"tonight\", \"tonight\", \"tonight\", \"tonight\", \"tonight\", \"tonk\", \"tonk\", \"tonk\", \"tonk\", \"tonk\", \"tonk\", \"toot\", \"toot\", \"toot\", \"toot\", \"toot\", \"toot\", \"tortur\", \"tortur\", \"tortur\", \"tortur\", \"tortur\", \"touch\", \"touch\", \"touch\", \"touch\", \"touch\", \"touch\", \"touch\", \"touch\", \"touch\", \"touch\", \"town\", \"town\", \"town\", \"town\", \"town\", \"town\", \"town\", \"town\", \"town\", \"town\", \"trash\", \"trash\", \"trash\", \"trash\", \"trunk\", \"trunk\", \"trunk\", \"trunk\", \"tryin\", \"tryin\", \"tryin\", \"tryin\", \"tryin\", \"tryin\", \"tryin\", \"tryin\", \"tryin\", \"tunnel\", \"tunnel\", \"tunnel\", \"tunnel\", \"tunnel\", \"tunnel\", \"turn\", \"turn\", \"turn\", \"turn\", \"turn\", \"turn\", \"turn\", \"turn\", \"turn\", \"turn\", \"unkind\", \"unkind\", \"upsid\", \"upsid\", \"upsid\", \"upsid\", \"upsid\", \"uptown\", \"uptown\", \"uptown\", \"uptown\", \"uptown\", \"vain\", \"vain\", \"vain\", \"vain\", \"vain\", \"vain\", \"vain\", \"vain\", \"view\", \"view\", \"view\", \"view\", \"view\", \"view\", \"view\", \"view\", \"virgin\", \"virgin\", \"virgin\", \"virgin\", \"virgin\", \"virgin\", \"vision\", \"vision\", \"vision\", \"vision\", \"vision\", \"vision\", \"vision\", \"vision\", \"wait\", \"wait\", \"wait\", \"wait\", \"wait\", \"wait\", \"wait\", \"wait\", \"wait\", \"wait\", \"wake\", \"wake\", \"wake\", \"wake\", \"wake\", \"wake\", \"wake\", \"wake\", \"wake\", \"wake\", \"walk\", \"walk\", \"walk\", \"walk\", \"walk\", \"walk\", \"walk\", \"walk\", \"walk\", \"walk\", \"wanna\", \"wanna\", \"wanna\", \"wanna\", \"wanna\", \"wanna\", \"wanna\", \"wanna\", \"wanna\", \"wanna\", \"warn\", \"warn\", \"warn\", \"warn\", \"warn\", \"warn\", \"watch\", \"watch\", \"watch\", \"watch\", \"watch\", \"watch\", \"watch\", \"watch\", \"watch\", \"watch\", \"whiskey\", \"whiskey\", \"whiskey\", \"whiskey\", \"whiskey\", \"whiskey\", \"whiskey\", \"whistl\", \"whistl\", \"whistl\", \"whistl\", \"whistl\", \"whistl\", \"whoa\", \"whoa\", \"whoa\", \"whoa\", \"whoa\", \"whoa\", \"whoa\", \"whoa\", \"whoa\", \"whoa\", \"whore\", \"whore\", \"whore\", \"whore\", \"whore\", \"whore\", \"wick\", \"wick\", \"wick\", \"wick\", \"wick\", \"will\", \"will\", \"will\", \"will\", \"will\", \"will\", \"winner\", \"winner\", \"winner\", \"winner\", \"wipe\", \"wipe\", \"wipe\", \"wipe\", \"wisdom\", \"wisdom\", \"wisdom\", \"wisdom\", \"wish\", \"wish\", \"wish\", \"wish\", \"wish\", \"wish\", \"wish\", \"wish\", \"wish\", \"wish\", \"wishin\", \"wishin\", \"wishin\", \"wishin\", \"woman\", \"woman\", \"woman\", \"woman\", \"woman\", \"woman\", \"woman\", \"woman\", \"woman\", \"woman\", \"wonder\", \"wonder\", \"wonder\", \"wonder\", \"wonder\", \"wonder\", \"wonder\", \"wonder\", \"wonder\", \"wonder\", \"word\", \"word\", \"word\", \"word\", \"word\", \"word\", \"word\", \"word\", \"word\", \"word\", \"work\", \"work\", \"work\", \"work\", \"work\", \"work\", \"work\", \"work\", \"work\", \"work\", \"world\", \"world\", \"world\", \"world\", \"world\", \"world\", \"world\", \"world\", \"world\", \"world\", \"worri\", \"worri\", \"worri\", \"worri\", \"worri\", \"worri\", \"worri\", \"worri\", \"worri\", \"worri\", \"wound\", \"wound\", \"wound\", \"wrap\", \"wrap\", \"wrap\", \"wrap\", \"wrap\", \"wrap\", \"wrap\", \"wrap\", \"wrist\", \"wrist\", \"wrist\", \"wrist\", \"wrist\", \"write\", \"write\", \"write\", \"write\", \"write\", \"write\", \"write\", \"write\", \"write\", \"write\", \"wrong\", \"wrong\", \"wrong\", \"wrong\", \"wrong\", \"wrong\", \"wrong\", \"wrong\", \"wrong\", \"wrong\", \"yeah\", \"yeah\", \"yeah\", \"yeah\", \"yeah\", \"yeah\", \"yeah\", \"yeah\", \"yesterday\", \"yesterday\", \"yesterday\", \"yesterday\", \"yesterday\", \"yesterday\", \"yesterday\", \"yesterday\", \"york\", \"york\", \"york\", \"york\", \"york\", \"york\", \"york\", \"young\", \"young\", \"young\", \"young\", \"young\", \"young\", \"young\", \"young\", \"young\", \"young\", \"zero\", \"zero\", \"zero\", \"zone\", \"zone\", \"zone\", \"zone\", \"zone\"]}, \"R\": 30, \"lambda.step\": 0.01, \"plot.opts\": {\"xlab\": \"PC1\", \"ylab\": \"PC2\"}, \"topic.order\": [5, 3, 8, 9, 10, 7, 1, 6, 2, 4]};\n",
              "\n",
              "function LDAvis_load_lib(url, callback){\n",
              "  var s = document.createElement('script');\n",
              "  s.src = url;\n",
              "  s.async = true;\n",
              "  s.onreadystatechange = s.onload = callback;\n",
              "  s.onerror = function(){console.warn(\"failed to load library \" + url);};\n",
              "  document.getElementsByTagName(\"head\")[0].appendChild(s);\n",
              "}\n",
              "\n",
              "if(typeof(LDAvis) !== \"undefined\"){\n",
              "   // already loaded: just create the visualization\n",
              "   !function(LDAvis){\n",
              "       new LDAvis(\"#\" + \"ldavis_el9781401662052675365165493373\", ldavis_el9781401662052675365165493373_data);\n",
              "   }(LDAvis);\n",
              "}else if(typeof define === \"function\" && define.amd){\n",
              "   // require.js is available: use it to load d3/LDAvis\n",
              "   require.config({paths: {d3: \"https://d3js.org/d3.v5\"}});\n",
              "   require([\"d3\"], function(d3){\n",
              "      window.d3 = d3;\n",
              "      LDAvis_load_lib(\"https://cdn.jsdelivr.net/gh/bmabey/pyLDAvis@3.3.1/pyLDAvis/js/ldavis.v3.0.0.js\", function(){\n",
              "        new LDAvis(\"#\" + \"ldavis_el9781401662052675365165493373\", ldavis_el9781401662052675365165493373_data);\n",
              "      });\n",
              "    });\n",
              "}else{\n",
              "    // require.js not available: dynamically load d3 & LDAvis\n",
              "    LDAvis_load_lib(\"https://d3js.org/d3.v5.js\", function(){\n",
              "         LDAvis_load_lib(\"https://cdn.jsdelivr.net/gh/bmabey/pyLDAvis@3.3.1/pyLDAvis/js/ldavis.v3.0.0.js\", function(){\n",
              "                 new LDAvis(\"#\" + \"ldavis_el9781401662052675365165493373\", ldavis_el9781401662052675365165493373_data);\n",
              "            })\n",
              "         });\n",
              "}\n",
              "</script>"
            ],
            "text/plain": [
              "PreparedData(topic_coordinates=              x         y  topics  cluster       Freq\n",
              "topic                                                \n",
              "4     -0.008644  0.008076       1        1  14.787533\n",
              "2      0.016099 -0.031306       2        1  12.357132\n",
              "7      0.016347 -0.014627       3        1  11.553718\n",
              "8     -0.048455 -0.004981       4        1  11.534198\n",
              "9     -0.029305  0.015201       5        1  10.208387\n",
              "6      0.004870  0.016828       6        1   9.780558\n",
              "0     -0.071053  0.067992       7        1   8.726655\n",
              "5     -0.004588 -0.048527       8        1   8.282191\n",
              "1      0.014067 -0.067307       9        1   7.390016\n",
              "3      0.110662  0.058650      10        1   5.379612, topic_info=       Term        Freq       Total Category  logprob  loglift\n",
              "44     away  723.000000  723.000000  Default  30.0000  30.0000\n",
              "1501   gimm  137.000000  137.000000  Default  29.0000  29.0000\n",
              "242   wanna  929.000000  929.000000  Default  28.0000  28.0000\n",
              "772    sail  122.000000  122.000000  Default  27.0000  27.0000\n",
              "598    roll  290.000000  290.000000  Default  26.0000  26.0000\n",
              "...     ...         ...         ...      ...      ...      ...\n",
              "687   bitch   26.469249  446.248242  Topic10  -5.1386   0.0977\n",
              "182    care   24.001492  304.438159  Topic10  -5.2364   0.3822\n",
              "242   wanna   26.883766  929.982879  Topic10  -5.1230  -0.6211\n",
              "140    turn   22.795430  483.415842  Topic10  -5.2880  -0.1318\n",
              "55      say   22.388824  635.724763  Topic10  -5.3060  -0.4236\n",
              "\n",
              "[692 rows x 6 columns], token_table=      Topic      Freq   Term\n",
              "term                        \n",
              "1056      1  0.105884  admit\n",
              "1056      2  0.024435  admit\n",
              "1056      3  0.016290  admit\n",
              "1056      4  0.268782  admit\n",
              "1056      5  0.496839  admit\n",
              "...     ...       ...    ...\n",
              "710       5  0.056285   zone\n",
              "710       6  0.112570   zone\n",
              "710       8  0.225140   zone\n",
              "710       9  0.393996   zone\n",
              "710      10  0.056285   zone\n",
              "\n",
              "[3571 rows x 3 columns], R=30, lambda_step=0.01, plot_opts={'xlab': 'PC1', 'ylab': 'PC2'}, topic_order=[5, 3, 8, 9, 10, 7, 1, 6, 2, 4])"
            ]
          },
          "metadata": {
            "tags": []
          },
          "execution_count": 157
        }
      ]
    },
    {
      "cell_type": "markdown",
      "metadata": {
        "id": "8HlHVudH_8A-"
      },
      "source": [
        "### Recommender ###"
      ]
    },
    {
      "cell_type": "code",
      "metadata": {
        "id": "jNmX881yc3-V"
      },
      "source": [
        "doc_lda = lda_model[bow_corpus]"
      ],
      "execution_count": null,
      "outputs": []
    },
    {
      "cell_type": "code",
      "metadata": {
        "id": "oG15x2NxwqKZ"
      },
      "source": [
        "from gensim import similarities"
      ],
      "execution_count": null,
      "outputs": []
    },
    {
      "cell_type": "code",
      "metadata": {
        "id": "a2qqwHWWFXVU"
      },
      "source": [
        "index = similarities.MatrixSimilarity(doc_lda)"
      ],
      "execution_count": null,
      "outputs": []
    },
    {
      "cell_type": "code",
      "metadata": {
        "id": "6xuq9SVKcmBt"
      },
      "source": [
        "def song_recommender(url):\n",
        "    songs_checked = 0\n",
        "    for i in range(len(lyrics_df)):\n",
        "        recommendation_scores = []\n",
        "        if lyrics_df.iloc[i,0] == url:\n",
        "            lda_vectors = doc_lda[i]\n",
        "            sims = index[lda_vectors]\n",
        "            sims = list(enumerate(sims))\n",
        "            for sim in sims:\n",
        "                song_num = sim[0]\n",
        "                recommendation_score = [lyrics_df.iloc[song_num, 0], sim[1]]\n",
        "                recommendation_scores.append(recommendation_score)\n",
        "            \n",
        "            recommendation = sorted(recommendation_scores, key=lambda x: x[1], reverse=True)\n",
        "            print(\"Your song's most prominent tokens are:\")\n",
        "            article_tokens = bow_corpus[i]\n",
        "            sorted_tokens = sorted(article_tokens, key=lambda x: x[1], reverse=True)\n",
        "            sorted_tokens_10 = sorted_tokens[:10]\n",
        "            for i in range(len(sorted_tokens_10)):\n",
        "                print(\"Word {} (\\\"{}\\\") appears {} time(s).\".format(sorted_tokens_10[i][0], \n",
        "                                                             dictionary[sorted_tokens_10[i][0]], \n",
        "                                                             sorted_tokens_10[i][1]))\n",
        "            print('-----')\n",
        "            print(\"Your song's most prominant topic is:\")\n",
        "            print(lda_model.print_topic(max(lda_vectors, key=lambda item: item[1])[0]))\n",
        "            print('-----')\n",
        "            print('Here are your recommendations for \"{}\":'.format(url))\n",
        "            display(recommendation[1:21])\n",
        "        \n",
        "        else:\n",
        "            songs_checked +=1\n",
        "            \n",
        "        if songs_checked == len(lyrics_df):\n",
        "            book_suggestions = []\n",
        "            print('Sorry, but it looks like \"{}\" is not available.'.format(url))\n",
        "           "
      ],
      "execution_count": null,
      "outputs": []
    },
    {
      "cell_type": "code",
      "metadata": {
        "colab": {
          "base_uri": "https://localhost:8080/",
          "height": 772
        },
        "id": "P3LJlvtVLRu5",
        "outputId": "3112b31c-afef-4a61-df0d-bbea5cf80d94"
      },
      "source": [
        "song_recommender('https://genius.com/The-beatles-yesterday-lyrics')"
      ],
      "execution_count": null,
      "outputs": [
        {
          "output_type": "stream",
          "text": [
            "Your song's most prominent tokens are:\n",
            "Word 60 (\"yesterday\") appears 9 time(s).\n",
            "Word 44 (\"away\") appears 3 time(s).\n",
            "Word 45 (\"believ\") appears 3 time(s).\n",
            "Word 46 (\"easi\") appears 2 time(s).\n",
            "Word 47 (\"game\") appears 2 time(s).\n",
            "Word 50 (\"hide\") appears 2 time(s).\n",
            "Word 51 (\"long\") appears 2 time(s).\n",
            "Word 52 (\"need\") appears 2 time(s).\n",
            "Word 53 (\"place\") appears 2 time(s).\n",
            "Word 54 (\"play\") appears 2 time(s).\n",
            "-----\n",
            "Your song's most prominant topic is:\n",
            "0.027*\"wanna\" + 0.025*\"gonna\" + 0.018*\"long\" + 0.017*\"danc\" + 0.016*\"girl\" + 0.013*\"wait\" + 0.012*\"hold\" + 0.011*\"life\" + 0.011*\"home\" + 0.010*\"away\"\n",
            "-----\n",
            "Here are your recommendations for \"https://genius.com/The-beatles-yesterday-lyrics\":\n"
          ],
          "name": "stdout"
        },
        {
          "output_type": "display_data",
          "data": {
            "text/plain": [
              "[['https://genius.com/Elvis-presley-love-me-tender-lyrics', 1.0],\n",
              " ['https://genius.com/Elton-john-rocket-man-i-think-its-going-to-be-a-long-long-time-lyrics',\n",
              "  1.0],\n",
              " ['https://genius.com/Eagles-new-kid-in-town-lyrics', 1.0],\n",
              " ['https://genius.com/Whitney-houston-i-have-nothing-lyrics', 1.0],\n",
              " ['https://genius.com/Whitney-houston-i-wanna-dance-with-somebody-who-loves-me-lyrics',\n",
              "  1.0],\n",
              " ['https://genius.com/Whitney-houston-its-not-right-but-its-okay-lyrics', 1.0],\n",
              " ['https://genius.com/Whitney-houston-run-to-you-lyrics', 1.0],\n",
              " ['https://genius.com/Drake-hold-on-were-going-home-lyrics', 1.0],\n",
              " ['https://genius.com/Garth-brooks-friends-in-low-places-live-version-lyrics',\n",
              "  1.0],\n",
              " ['https://genius.com/Garth-brooks-friends-in-low-places-lyrics', 1.0],\n",
              " ['https://genius.com/Ed-sheeran-and-justin-bieber-i-dont-care-lyrics', 1.0],\n",
              " ['https://genius.com/Billy-joel-vienna-lyrics', 1.0],\n",
              " ['https://genius.com/Phil-collins-another-day-in-paradise-lyrics', 1.0],\n",
              " ['https://genius.com/Abba-dancing-queen-lyrics', 1.0],\n",
              " ['https://genius.com/Abba-super-trouper-lyrics', 1.0],\n",
              " ['https://genius.com/Katy-perry-rise-lyrics', 1.0],\n",
              " ['https://genius.com/Lady-gaga-ill-never-love-again-extended-version-lyrics',\n",
              "  1.0],\n",
              " ['https://genius.com/Adele-water-under-the-bridge-lyrics', 1.0],\n",
              " ['https://genius.com/Bee-gees-how-deep-is-your-love-lyrics', 1.0],\n",
              " ['https://genius.com/Bee-gees-you-should-be-dancing-lyrics', 1.0]]"
            ]
          },
          "metadata": {
            "tags": []
          }
        }
      ]
    },
    {
      "cell_type": "code",
      "metadata": {
        "colab": {
          "base_uri": "https://localhost:8080/",
          "height": 753
        },
        "id": "DjbpOKUWkAhu",
        "outputId": "f342470d-8e1c-4c1a-b1d2-f776a77df0ff"
      },
      "source": [
        "song_recommender('https://genius.com/Lady-gaga-and-blackpink-sour-candy-lyrics')"
      ],
      "execution_count": null,
      "outputs": [
        {
          "output_type": "stream",
          "text": [
            "Your song's most prominent tokens are:\n",
            "Word 584 (\"candi\") appears 13 time(s).\n",
            "Word 496 (\"bite\") appears 8 time(s).\n",
            "Word 471 (\"insid\") appears 6 time(s).\n",
            "Word 33 (\"hard\") appears 4 time(s).\n",
            "Word 718 (\"outsid\") appears 4 time(s).\n",
            "Word 5 (\"light\") appears 2 time(s).\n",
            "Word 75 (\"littl\") appears 2 time(s).\n",
            "Word 140 (\"turn\") appears 2 time(s).\n",
            "Word 246 (\"sweet\") appears 2 time(s).\n",
            "Word 315 (\"angri\") appears 2 time(s).\n",
            "-----\n",
            "Your song's most prominant topic is:\n",
            "0.022*\"away\" + 0.015*\"gonna\" + 0.011*\"work\" + 0.010*\"gimm\" + 0.008*\"nigga\" + 0.008*\"leav\" + 0.008*\"real\" + 0.008*\"sorri\" + 0.007*\"say\" + 0.007*\"life\"\n",
            "-----\n",
            "Here are your recommendations for \"https://genius.com/Lady-gaga-and-blackpink-sour-candy-lyrics\":\n"
          ],
          "name": "stdout"
        },
        {
          "output_type": "display_data",
          "data": {
            "text/plain": [
              "[['https://genius.com/The-rolling-stones-wild-horses-lyrics', 0.9145169],\n",
              " ['https://genius.com/Coldplay-everglow-lyrics', 0.91349584],\n",
              " ['https://genius.com/Green-day-holiday-lyrics', 0.88754],\n",
              " ['https://genius.com/Alabama-shakes-future-people-lyrics', 0.87743235],\n",
              " ['https://genius.com/Adele-hello-lyrics', 0.8600359],\n",
              " ['https://genius.com/Bruce-springsteen-the-river-lyrics', 0.8502728],\n",
              " ['https://genius.com/George-strait-jingle-bell-rock-lyrics', 0.82873297],\n",
              " ['https://genius.com/Aretha-franklin-walk-in-the-light-lyrics', 0.82347643],\n",
              " ['https://genius.com/James-taylor-shower-the-people-lyrics', 0.8118189],\n",
              " ['https://genius.com/Lady-gaga-and-ariana-grande-rain-on-me-lyrics',\n",
              "  0.8086614],\n",
              " ['https://genius.com/Chicago-mass-choir-i-pray-well-be-ready-live-lyrics',\n",
              "  0.7891511],\n",
              " ['https://genius.com/Eminem-river-lyrics', 0.7828656],\n",
              " ['https://genius.com/Kanye-west-ultralight-beam-lyrics', 0.7787315],\n",
              " ['https://genius.com/Gloria-estefan-hoy-lyrics', 0.76895267],\n",
              " ['https://genius.com/Elvis-presley-heartbreak-hotel-lyrics', 0.7604913],\n",
              " ['https://genius.com/Elton-john-goodbye-yellow-brick-road-lyrics', 0.7604913],\n",
              " ['https://genius.com/Elton-john-bennie-and-the-jets-lyrics', 0.7604913],\n",
              " ['https://genius.com/Elton-john-dont-let-the-sun-go-down-on-me-lyrics',\n",
              "  0.7604913],\n",
              " ['https://genius.com/Rihanna-work-lyrics', 0.7604913],\n",
              " ['https://genius.com/Rihanna-kiss-it-better-lyrics', 0.7604913]]"
            ]
          },
          "metadata": {
            "tags": []
          }
        }
      ]
    },
    {
      "cell_type": "code",
      "metadata": {
        "colab": {
          "base_uri": "https://localhost:8080/",
          "height": 717
        },
        "id": "5t3yicIsogDQ",
        "outputId": "508b2f8f-7323-4176-a646-4f926004a188"
      },
      "source": [
        "song_recommender(\"https://genius.com/Eminem-lose-yourself-lyrics\")"
      ],
      "execution_count": null,
      "outputs": [
        {
          "output_type": "stream",
          "text": [
            "Your song's most prominent tokens are:\n",
            "Word 84 (\"better\") appears 16 time(s).\n",
            "Word 39 (\"shoot\") appears 9 time(s).\n",
            "Word 147 (\"moment\") appears 8 time(s).\n",
            "Word 100 (\"blow\") appears 7 time(s).\n",
            "Word 2 (\"chanc\") appears 6 time(s).\n",
            "Word 9 (\"music\") appears 6 time(s).\n",
            "Word 289 (\"miss\") appears 6 time(s).\n",
            "Word 605 (\"lose\") appears 6 time(s).\n",
            "Word 1143 (\"lifetim\") appears 6 time(s).\n",
            "Word 63 (\"grow\") appears 4 time(s).\n",
            "-----\n",
            "Your song's most prominant topic is:\n",
            "0.022*\"away\" + 0.015*\"gonna\" + 0.011*\"work\" + 0.010*\"gimm\" + 0.008*\"nigga\" + 0.008*\"leav\" + 0.008*\"real\" + 0.008*\"sorri\" + 0.007*\"say\" + 0.007*\"life\"\n",
            "-----\n",
            "Here are your recommendations for \"https://genius.com/Eminem-lose-yourself-lyrics\":\n"
          ],
          "name": "stdout"
        },
        {
          "output_type": "display_data",
          "data": {
            "text/plain": [
              "[['https://genius.com/Eminem-stan-lyrics', 0.9898183],\n",
              " ['https://genius.com/Nicki-minaj-feeling-myself-lyrics', 0.9811677],\n",
              " ['https://genius.com/Bj-the-chicago-kid-smokin-and-ridin-lyrics', 0.9807108],\n",
              " ['https://genius.com/Elvis-presley-in-the-ghetto-lyrics', 0.9806458],\n",
              " ['https://genius.com/The-rolling-stones-gimme-shelter-lyrics', 0.9765784],\n",
              " ['https://genius.com/Gloria-estefan-hoy-lyrics', 0.97617775],\n",
              " ['https://genius.com/Red-hot-chili-peppers-cant-stop-lyrics', 0.9750625],\n",
              " ['https://genius.com/Mariah-carey-gtfo-lyrics', 0.9731284],\n",
              " ['https://genius.com/Dire-straits-brothers-in-arms-lyrics', 0.971901],\n",
              " ['https://genius.com/Elvis-presley-heartbreak-hotel-lyrics', 0.9717324],\n",
              " ['https://genius.com/Elton-john-goodbye-yellow-brick-road-lyrics', 0.9717324],\n",
              " ['https://genius.com/Elton-john-bennie-and-the-jets-lyrics', 0.9717324],\n",
              " ['https://genius.com/Elton-john-dont-let-the-sun-go-down-on-me-lyrics',\n",
              "  0.9717324],\n",
              " ['https://genius.com/Rihanna-work-lyrics', 0.9717324],\n",
              " ['https://genius.com/Rihanna-kiss-it-better-lyrics', 0.9717324],\n",
              " ['https://genius.com/Rihanna-sex-with-me-lyrics', 0.9717324],\n",
              " ['https://genius.com/Rihanna-diamonds-lyrics', 0.9717324],\n",
              " ['https://genius.com/Taylor-swift-the-1-lyrics', 0.9717324],\n",
              " ['https://genius.com/Justin-bieber-sorry-lyrics', 0.9717324],\n",
              " ['https://genius.com/Justin-bieber-peaches-lyrics', 0.9717324]]"
            ]
          },
          "metadata": {
            "tags": []
          }
        }
      ]
    }
  ]
}