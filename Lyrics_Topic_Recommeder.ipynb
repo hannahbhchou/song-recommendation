{
  "nbformat": 4,
  "nbformat_minor": 0,
  "metadata": {
    "colab": {
      "name": "Lyrics Topic Recommeder.ipynb",
      "provenance": [],
      "collapsed_sections": [
        "ZeJrDmIh9YgW"
      ],
      "toc_visible": true,
      "mount_file_id": "13V6BhFxnvcwcjYNr40-k3xSbnR8cTESL",
      "authorship_tag": "ABX9TyN1eO1pDXDL4RyBdUf182Cp",
      "include_colab_link": true
    },
    "kernelspec": {
      "name": "python3",
      "display_name": "Python 3"
    },
    "language_info": {
      "name": "python"
    }
  },
  "cells": [
    {
      "cell_type": "markdown",
      "metadata": {
        "id": "view-in-github",
        "colab_type": "text"
      },
      "source": [
        "<a href=\"https://colab.research.google.com/github/hannahbhchou/song-recommendation/blob/main/Lyrics_Topic_Recommeder.ipynb\" target=\"_parent\"><img src=\"https://colab.research.google.com/assets/colab-badge.svg\" alt=\"Open In Colab\"/></a>"
      ]
    },
    {
      "cell_type": "markdown",
      "metadata": {
        "id": "CZBggFXlrDkG"
      },
      "source": [
        "### Preprocessing Lyrics Text"
      ]
    },
    {
      "cell_type": "code",
      "metadata": {
        "id": "WBdCOXsjTGQw"
      },
      "source": [
        "import numpy as np\n",
        "import pandas as pd\n",
        "import time\n",
        "import csv\n",
        "import random\n",
        "import re\n",
        "import os"
      ],
      "execution_count": null,
      "outputs": []
    },
    {
      "cell_type": "code",
      "metadata": {
        "id": "jOh65nQu_WhI"
      },
      "source": [
        "import warnings"
      ],
      "execution_count": 101,
      "outputs": []
    },
    {
      "cell_type": "code",
      "metadata": {
        "id": "PCT4kzTN_NCj"
      },
      "source": [
        "warnings.filterwarnings(\"ignore\", category=DeprecationWarning)"
      ],
      "execution_count": 102,
      "outputs": []
    },
    {
      "cell_type": "code",
      "metadata": {
        "id": "HpUCQwWV3c8P"
      },
      "source": [
        "lyrics_url = \"https://gist.githubusercontent.com/hannahbhchou/6c1608f211a85d4d013d95a51c32a3f8/raw/833566eb910c086081b3b06951d2dc789b095c5d/song_lyrics_final.csv\""
      ],
      "execution_count": 91,
      "outputs": []
    },
    {
      "cell_type": "code",
      "metadata": {
        "id": "MI31LyFd3sRi"
      },
      "source": [
        "lyrics_df = pd.read_csv(url, names= [\"URL\", \"Lyrics\"])"
      ],
      "execution_count": 94,
      "outputs": []
    },
    {
      "cell_type": "code",
      "metadata": {
        "colab": {
          "base_uri": "https://localhost:8080/",
          "height": 206
        },
        "id": "magwDr7F3yRn",
        "outputId": "c8beccbf-445e-41fa-eebf-2a0d81c42af9"
      },
      "source": [
        "lyrics_df.head()"
      ],
      "execution_count": 95,
      "outputs": [
        {
          "output_type": "execute_result",
          "data": {
            "text/html": [
              "<div>\n",
              "<style scoped>\n",
              "    .dataframe tbody tr th:only-of-type {\n",
              "        vertical-align: middle;\n",
              "    }\n",
              "\n",
              "    .dataframe tbody tr th {\n",
              "        vertical-align: top;\n",
              "    }\n",
              "\n",
              "    .dataframe thead th {\n",
              "        text-align: right;\n",
              "    }\n",
              "</style>\n",
              "<table border=\"1\" class=\"dataframe\">\n",
              "  <thead>\n",
              "    <tr style=\"text-align: right;\">\n",
              "      <th></th>\n",
              "      <th>URL</th>\n",
              "      <th>Lyrics</th>\n",
              "    </tr>\n",
              "  </thead>\n",
              "  <tbody>\n",
              "    <tr>\n",
              "      <th>0</th>\n",
              "      <td>https://genius.com/The-beatles-let-it-be-lyrics</td>\n",
              "      <td>When I find myself in times of trouble, Mother...</td>\n",
              "    </tr>\n",
              "    <tr>\n",
              "      <th>1</th>\n",
              "      <td>https://genius.com/The-beatles-come-together-l...</td>\n",
              "      <td>Shoot me\\nShoot me\\nShoot me\\nShoot me\\nHere c...</td>\n",
              "    </tr>\n",
              "    <tr>\n",
              "      <th>2</th>\n",
              "      <td>https://genius.com/The-beatles-yesterday-lyrics</td>\n",
              "      <td>Yesterday\\nAll my troubles seemed so far away\\...</td>\n",
              "    </tr>\n",
              "    <tr>\n",
              "      <th>3</th>\n",
              "      <td>https://genius.com/The-beatles-something-lyrics</td>\n",
              "      <td>Something in the way she moves\\nAttracts me li...</td>\n",
              "    </tr>\n",
              "    <tr>\n",
              "      <th>4</th>\n",
              "      <td>https://genius.com/The-beatles-here-comes-the-...</td>\n",
              "      <td>Here comes the sun, doo da doo doo\\nHere comes...</td>\n",
              "    </tr>\n",
              "  </tbody>\n",
              "</table>\n",
              "</div>"
            ],
            "text/plain": [
              "                                                 URL                                             Lyrics\n",
              "0    https://genius.com/The-beatles-let-it-be-lyrics  When I find myself in times of trouble, Mother...\n",
              "1  https://genius.com/The-beatles-come-together-l...  Shoot me\\nShoot me\\nShoot me\\nShoot me\\nHere c...\n",
              "2    https://genius.com/The-beatles-yesterday-lyrics  Yesterday\\nAll my troubles seemed so far away\\...\n",
              "3    https://genius.com/The-beatles-something-lyrics  Something in the way she moves\\nAttracts me li...\n",
              "4  https://genius.com/The-beatles-here-comes-the-...  Here comes the sun, doo da doo doo\\nHere comes..."
            ]
          },
          "metadata": {
            "tags": []
          },
          "execution_count": 95
        }
      ]
    },
    {
      "cell_type": "code",
      "metadata": {
        "id": "XeoJWYdnHGBR"
      },
      "source": [
        "#remove non-English text using unicode\n",
        "lyrics_df['Lyrics'] = lyrics_df[\"Lyrics\"].apply(lambda x: ''.join([\" \" if ord(i) < 32 or ord(i) > 126 else i for i in x]))"
      ],
      "execution_count": null,
      "outputs": []
    },
    {
      "cell_type": "code",
      "metadata": {
        "id": "C02gc1YPcyvd"
      },
      "source": [
        "#remove newline commands\n",
        "lyrics_df[\"Lyrics\"] = lyrics_df[\"Lyrics\"].str.replace('\\n',' ')"
      ],
      "execution_count": null,
      "outputs": []
    },
    {
      "cell_type": "code",
      "metadata": {
        "id": "LEcuqEpzeEyx"
      },
      "source": [
        "lyrics_df['Lyrics'] = lyrics_df['Lyrics'].map(lambda x: x.lower())"
      ],
      "execution_count": null,
      "outputs": []
    },
    {
      "cell_type": "code",
      "metadata": {
        "id": "XnOhA11ZI-Ad"
      },
      "source": [
        "#remove the snippets such as [chorus]\n",
        "lyrics_df['Lyrics'] = lyrics_df['Lyrics'].map(lambda x: re.sub(r'[\\(\\[].*?[\\)\\]]', '', x))"
      ],
      "execution_count": null,
      "outputs": []
    },
    {
      "cell_type": "code",
      "metadata": {
        "id": "cQiPF3TkS0nA"
      },
      "source": [
        "#remove punctuations\n",
        "lyrics_df['Lyrics'] = lyrics_df['Lyrics'].map(lambda x: re.sub('[,!+?:\"()]', '', x))"
      ],
      "execution_count": null,
      "outputs": []
    },
    {
      "cell_type": "code",
      "metadata": {
        "colab": {
          "base_uri": "https://localhost:8080/"
        },
        "id": "9c7Ob5yuWS2X",
        "outputId": "f2985e9a-3134-46b6-a6c6-89f474de0c26"
      },
      "source": [
        "import nltk\n",
        "nltk.download(\"stopwords\")\n",
        "from nltk.corpus import stopwords\n",
        "np.random.seed(2018)"
      ],
      "execution_count": null,
      "outputs": [
        {
          "output_type": "stream",
          "text": [
            "[nltk_data] Downloading package stopwords to /root/nltk_data...\n",
            "[nltk_data]   Package stopwords is already up-to-date!\n"
          ],
          "name": "stdout"
        }
      ]
    },
    {
      "cell_type": "code",
      "metadata": {
        "id": "HuKkPwu0wV-Z"
      },
      "source": [
        "stop_words = stopwords.words(\"english\")"
      ],
      "execution_count": null,
      "outputs": []
    },
    {
      "cell_type": "code",
      "metadata": {
        "id": "8g9zLY6QveY3"
      },
      "source": [
        "added_words = [\"oh\",\"yeah\",\"i'm\",\"ooh\",\"woo\",\"ya\",\"hoo\", \"hmm\",\"ooooooohhh\", \"na\", \"lalala\", \"ah\", \"hey\", \"la\", \"uh\", ]"
      ],
      "execution_count": null,
      "outputs": []
    },
    {
      "cell_type": "code",
      "metadata": {
        "id": "gPXwf1hRwYj4"
      },
      "source": [
        "for x in added_words:\n",
        "  stop_words.append(x)"
      ],
      "execution_count": null,
      "outputs": []
    },
    {
      "cell_type": "code",
      "metadata": {
        "id": "_lNBxVD8u8A0"
      },
      "source": [
        "def remove_stopwords(raw_text):\n",
        "\n",
        "    words = raw_text.split()\n",
        "    not_stop_words = [w for w in words if not w in stop_words]\n",
        "  \n",
        "    return( \" \".join(not_stop_words))"
      ],
      "execution_count": null,
      "outputs": []
    },
    {
      "cell_type": "code",
      "metadata": {
        "id": "scN4oYOw4PGQ"
      },
      "source": [
        "lyrics_df['Lyrics'] = lyrics_df['Lyrics'].apply(lambda x: remove_stopwords(x))"
      ],
      "execution_count": null,
      "outputs": []
    },
    {
      "cell_type": "markdown",
      "metadata": {
        "id": "ZeJrDmIh9YgW"
      },
      "source": [
        "### Lemmatizing & Stemming Text"
      ]
    },
    {
      "cell_type": "code",
      "metadata": {
        "id": "SNqDsjiPv2qC"
      },
      "source": [
        "import gensim\n",
        "from gensim.utils import simple_preprocess\n",
        "from nltk.stem import WordNetLemmatizer, SnowballStemmer\n",
        "from nltk.stem.porter import *"
      ],
      "execution_count": null,
      "outputs": []
    },
    {
      "cell_type": "code",
      "metadata": {
        "colab": {
          "base_uri": "https://localhost:8080/"
        },
        "id": "t49T8U1vVloa",
        "outputId": "a4532a2c-f762-4eff-ee41-05fc8c0eeada"
      },
      "source": [
        "import nltk\n",
        "nltk.download('wordnet')"
      ],
      "execution_count": null,
      "outputs": [
        {
          "output_type": "stream",
          "text": [
            "[nltk_data] Downloading package wordnet to /root/nltk_data...\n",
            "[nltk_data]   Package wordnet is already up-to-date!\n"
          ],
          "name": "stdout"
        },
        {
          "output_type": "execute_result",
          "data": {
            "text/plain": [
              "True"
            ]
          },
          "metadata": {
            "tags": []
          },
          "execution_count": 16
        }
      ]
    },
    {
      "cell_type": "code",
      "metadata": {
        "colab": {
          "base_uri": "https://localhost:8080/"
        },
        "id": "7fN2-IPVVlrK",
        "outputId": "176a749b-8e77-48fb-eb9f-54d981e152a6"
      },
      "source": [
        "#testing lemmatizer\n",
        "print(WordNetLemmatizer().lemmatize('went', pos='v'))"
      ],
      "execution_count": null,
      "outputs": [
        {
          "output_type": "stream",
          "text": [
            "go\n"
          ],
          "name": "stdout"
        }
      ]
    },
    {
      "cell_type": "code",
      "metadata": {
        "colab": {
          "base_uri": "https://localhost:8080/",
          "height": 426
        },
        "id": "N_fLhtj3Vltg",
        "outputId": "4ff503c5-6f39-4208-da9e-38e3068af693"
      },
      "source": [
        "#testing stemmer\n",
        "stemmer = SnowballStemmer('english')\n",
        "original_words = ['candies', 'babies', 'dies', 'shoot' ,'died', 'agreed', 'owned', \n",
        "           'humbled', 'sized','meeting', 'stating','sensational']\n",
        "singles = [stemmer.stem(plural) for plural in original_words]\n",
        "pd.DataFrame(data = {'original word': original_words, 'stemmed': singles})"
      ],
      "execution_count": 89,
      "outputs": [
        {
          "output_type": "execute_result",
          "data": {
            "text/html": [
              "<div>\n",
              "<style scoped>\n",
              "    .dataframe tbody tr th:only-of-type {\n",
              "        vertical-align: middle;\n",
              "    }\n",
              "\n",
              "    .dataframe tbody tr th {\n",
              "        vertical-align: top;\n",
              "    }\n",
              "\n",
              "    .dataframe thead th {\n",
              "        text-align: right;\n",
              "    }\n",
              "</style>\n",
              "<table border=\"1\" class=\"dataframe\">\n",
              "  <thead>\n",
              "    <tr style=\"text-align: right;\">\n",
              "      <th></th>\n",
              "      <th>original word</th>\n",
              "      <th>stemmed</th>\n",
              "    </tr>\n",
              "  </thead>\n",
              "  <tbody>\n",
              "    <tr>\n",
              "      <th>0</th>\n",
              "      <td>candies</td>\n",
              "      <td>candi</td>\n",
              "    </tr>\n",
              "    <tr>\n",
              "      <th>1</th>\n",
              "      <td>babies</td>\n",
              "      <td>babi</td>\n",
              "    </tr>\n",
              "    <tr>\n",
              "      <th>2</th>\n",
              "      <td>dies</td>\n",
              "      <td>die</td>\n",
              "    </tr>\n",
              "    <tr>\n",
              "      <th>3</th>\n",
              "      <td>shoot</td>\n",
              "      <td>shoot</td>\n",
              "    </tr>\n",
              "    <tr>\n",
              "      <th>4</th>\n",
              "      <td>died</td>\n",
              "      <td>die</td>\n",
              "    </tr>\n",
              "    <tr>\n",
              "      <th>5</th>\n",
              "      <td>agreed</td>\n",
              "      <td>agre</td>\n",
              "    </tr>\n",
              "    <tr>\n",
              "      <th>6</th>\n",
              "      <td>owned</td>\n",
              "      <td>own</td>\n",
              "    </tr>\n",
              "    <tr>\n",
              "      <th>7</th>\n",
              "      <td>humbled</td>\n",
              "      <td>humbl</td>\n",
              "    </tr>\n",
              "    <tr>\n",
              "      <th>8</th>\n",
              "      <td>sized</td>\n",
              "      <td>size</td>\n",
              "    </tr>\n",
              "    <tr>\n",
              "      <th>9</th>\n",
              "      <td>meeting</td>\n",
              "      <td>meet</td>\n",
              "    </tr>\n",
              "    <tr>\n",
              "      <th>10</th>\n",
              "      <td>stating</td>\n",
              "      <td>state</td>\n",
              "    </tr>\n",
              "    <tr>\n",
              "      <th>11</th>\n",
              "      <td>sensational</td>\n",
              "      <td>sensat</td>\n",
              "    </tr>\n",
              "  </tbody>\n",
              "</table>\n",
              "</div>"
            ],
            "text/plain": [
              "   original word stemmed\n",
              "0        candies   candi\n",
              "1         babies    babi\n",
              "2           dies     die\n",
              "3          shoot   shoot\n",
              "4           died     die\n",
              "5         agreed    agre\n",
              "6          owned     own\n",
              "7        humbled   humbl\n",
              "8          sized    size\n",
              "9        meeting    meet\n",
              "10       stating   state\n",
              "11   sensational  sensat"
            ]
          },
          "metadata": {
            "tags": []
          },
          "execution_count": 89
        }
      ]
    },
    {
      "cell_type": "code",
      "metadata": {
        "id": "Df16RWkWWjpE"
      },
      "source": [
        "def lemmatize_stemming(text):\n",
        "    return stemmer.stem(WordNetLemmatizer().lemmatize(text, pos='v'))\n",
        "\n",
        "def preprocess(text):\n",
        "    result = []\n",
        "    for token in gensim.utils.simple_preprocess(text):\n",
        "        if token not in gensim.parsing.preprocessing.STOPWORDS and len(token) > 3:\n",
        "            result.append(lemmatize_stemming(token))\n",
        "    return result"
      ],
      "execution_count": null,
      "outputs": []
    },
    {
      "cell_type": "code",
      "metadata": {
        "id": "tgtGKzYjWvHT"
      },
      "source": [
        "#using the song https://genius.com/Lady-gaga-and-blackpink-sour-candy-lyrics to test\n",
        "sample = lyrics_df.iloc[342,1]"
      ],
      "execution_count": null,
      "outputs": []
    },
    {
      "cell_type": "code",
      "metadata": {
        "colab": {
          "base_uri": "https://localhost:8080/"
        },
        "id": "OdHcuNKBWm1Y",
        "outputId": "17ae573b-86b7-47c7-8b4f-c01fd210df24"
      },
      "source": [
        "print('original document: ')\n",
        "words = []\n",
        "for word in sample.split(' '):\n",
        "    words.append(word)\n",
        "print(words)\n",
        "print('\\n\\n tokenized and lemmatized document: ')\n",
        "print(preprocess(sample))"
      ],
      "execution_count": null,
      "outputs": [
        {
          "output_type": "stream",
          "text": [
            "original document: \n",
            "['sou-sour', 'candy', 'sour', 'candy', 'sweet', 'get', 'little', 'angry', 'sour', 'candy', 'super', 'psycho', 'make', 'crazy', 'turn', 'lights', 'low', 'sour', 'candy', 'ask', 'nice', \"i'll\", 'extra', 'mean', 'wanna', 'fix', \"let's\", 'break', 'uh-huh', 'uh-huh', 'hard', 'outside', 'give', 'time', 'could', 'make', 'time', 'love', 'hard', 'outside', 'see', 'inside', 'inside', 'inside', 'might', 'messed', 'know', \"what's\", 'want', 'real', 'taste', 'least', 'fake', 'come', 'come', 'unwrap', 'come', 'come', 'unwrap', \"i'll\", 'show', \"what's\", 'close', 'eyes', 'peek', 'undressing', 'unwrap', 'sour', 'candy', 'come', 'come', 'unwrap', 'come', 'come', 'unwrap', 'come', 'sour', 'candy', 'hard', 'outside', 'give', 'time', 'could', 'make', 'time', 'love', 'hard', 'outside', 'see', 'inside', 'inside', 'inside', 'sour', 'candy', 'sweet', \"'til\", 'get', 'little', 'angry', 'sour', 'candy', 'super', 'psycho', 'make', 'crazy', 'turn', 'lights', 'low', 'sour', 'candy', 'take', 'bite', 'take', 'bite', 's-sour', 'candy', 'take', 'bite', 'take', 'bite', 's-sour', 'candy', 'take', 'bite', 'take', 'bite', 's-sour', 'candy', 'take', 'bite', 'take', 'bite', 'sour', 'candy']\n",
            "\n",
            "\n",
            " tokenized and lemmatized document: \n",
            "['sour', 'candi', 'sour', 'candi', 'sweet', 'littl', 'angri', 'sour', 'candi', 'super', 'psycho', 'crazi', 'turn', 'light', 'sour', 'candi', 'nice', 'extra', 'mean', 'wanna', 'break', 'hard', 'outsid', 'time', 'time', 'love', 'hard', 'outsid', 'insid', 'insid', 'insid', 'mess', 'know', 'want', 'real', 'tast', 'fake', 'come', 'come', 'unwrap', 'come', 'come', 'unwrap', 'close', 'eye', 'peek', 'undress', 'unwrap', 'sour', 'candi', 'come', 'come', 'unwrap', 'come', 'come', 'unwrap', 'come', 'sour', 'candi', 'hard', 'outsid', 'time', 'time', 'love', 'hard', 'outsid', 'insid', 'insid', 'insid', 'sour', 'candi', 'sweet', 'littl', 'angri', 'sour', 'candi', 'super', 'psycho', 'crazi', 'turn', 'light', 'sour', 'candi', 'bite', 'bite', 'sour', 'candi', 'bite', 'bite', 'sour', 'candi', 'bite', 'bite', 'sour', 'candi', 'bite', 'bite', 'sour', 'candi']\n"
          ],
          "name": "stdout"
        }
      ]
    },
    {
      "cell_type": "code",
      "metadata": {
        "id": "mQTFGBa6XXDO"
      },
      "source": [
        "processed_lyrics = lyrics_df[\"Lyrics\"].map(preprocess)"
      ],
      "execution_count": null,
      "outputs": []
    },
    {
      "cell_type": "code",
      "metadata": {
        "colab": {
          "base_uri": "https://localhost:8080/"
        },
        "id": "9oDSHdSWXfoU",
        "outputId": "7062f025-af78-4be5-a872-98209128fe02"
      },
      "source": [
        "processed_lyrics[:10]"
      ],
      "execution_count": null,
      "outputs": [
        {
          "output_type": "execute_result",
          "data": {
            "text/plain": [
              "0    [time, troubl, mother, mari, come, speak, word...\n",
              "1    [shoot, shoot, shoot, shoot, come, flat, come,...\n",
              "2    [yesterday, troubl, away, look, stay, believ, ...\n",
              "3    [move, attract, like, lover, woo, want, leav, ...\n",
              "4    [come, come, right, littl, darl, long, cold, l...\n",
              "5    [jude, song, better, rememb, heart, start, bet...\n",
              "6    [read, news, today, lucki, grade, news, laugh,...\n",
              "7    [blackbird, sing, dead, night, break, wing, le...\n",
              "8    [like, pig, cri, sit, cornflak, wait, come, co...\n",
              "9    [look, lone, peopl, look, lone, peopl, eleanor...\n",
              "Name: Lyrics, dtype: object"
            ]
          },
          "metadata": {
            "tags": []
          },
          "execution_count": 23
        }
      ]
    },
    {
      "cell_type": "code",
      "metadata": {
        "colab": {
          "base_uri": "https://localhost:8080/"
        },
        "id": "-34ydqamt_ky",
        "outputId": "4e010bbf-f08d-4860-ef1f-499d4c4d2a31"
      },
      "source": [
        "#displaying the most common tokens in the dataset\n",
        "from collections import Counter\n",
        "from itertools import *\n",
        "\n",
        "text_word_frequency = Counter(chain.from_iterable(processed_lyrics))\n",
        "text_word_frequency.most_common()[:20]"
      ],
      "execution_count": 65,
      "outputs": [
        {
          "output_type": "execute_result",
          "data": {
            "text/plain": [
              "[('love', 3098),\n",
              " ('know', 2766),\n",
              " ('like', 2363),\n",
              " ('babi', 1631),\n",
              " ('come', 1575),\n",
              " ('want', 1287),\n",
              " ('time', 1259),\n",
              " ('feel', 1205),\n",
              " ('caus', 1151),\n",
              " ('girl', 997),\n",
              " ('wanna', 953),\n",
              " ('tell', 941),\n",
              " ('night', 854),\n",
              " ('gonna', 851),\n",
              " ('look', 845),\n",
              " ('think', 832),\n",
              " ('need', 814),\n",
              " ('right', 782),\n",
              " ('go', 751),\n",
              " ('away', 719)]"
            ]
          },
          "metadata": {
            "tags": []
          },
          "execution_count": 65
        }
      ]
    },
    {
      "cell_type": "code",
      "metadata": {
        "colab": {
          "base_uri": "https://localhost:8080/"
        },
        "id": "vWIarHJmRMSr",
        "outputId": "ebffc0a7-b4e3-4fc4-e09f-738ff6756127"
      },
      "source": [
        "#display the least frequent tokens in the dataset\n",
        "text_word_frequency.most_common()[-20:]"
      ],
      "execution_count": 70,
      "outputs": [
        {
          "output_type": "execute_result",
          "data": {
            "text/plain": [
              "[('gimmick', 1),\n",
              " ('crumb', 1),\n",
              " ('loxvill', 1),\n",
              " ('jada', 1),\n",
              " ('jackass', 1),\n",
              " ('knoxvill', 1),\n",
              " ('thousandair', 1),\n",
              " ('outrun', 1),\n",
              " ('distribut', 1),\n",
              " ('fluid', 1),\n",
              " ('beefin', 1),\n",
              " ('relatin', 1),\n",
              " ('jason', 1),\n",
              " ('scrappin', 1),\n",
              " ('olympus', 1),\n",
              " ('psychiatrist', 1),\n",
              " ('uninspir', 1),\n",
              " ('handout', 1),\n",
              " ('welfar', 1),\n",
              " ('backstabbin', 1)]"
            ]
          },
          "metadata": {
            "tags": []
          },
          "execution_count": 70
        }
      ]
    },
    {
      "cell_type": "markdown",
      "metadata": {
        "id": "a14vQDek8cAP"
      },
      "source": [
        "### LDA Model Training ###"
      ]
    },
    {
      "cell_type": "code",
      "metadata": {
        "id": "BYZAfN9NXteN"
      },
      "source": [
        "dictionary = gensim.corpora.Dictionary(processed_lyrics)"
      ],
      "execution_count": null,
      "outputs": []
    },
    {
      "cell_type": "code",
      "metadata": {
        "id": "mByckOtZYOWQ"
      },
      "source": [
        "#setting the threshold of what to incorporate in the the training, \n",
        "dictionary.filter_extremes(no_below=5, no_above=0.3)\n",
        "\n",
        "#the no_below is absolute frequency, no_above is percentage of of documents(songs) that has the token"
      ],
      "execution_count": 71,
      "outputs": []
    },
    {
      "cell_type": "code",
      "metadata": {
        "id": "OAAQjPNuYUcM"
      },
      "source": [
        "#Bag-of-words transformation\n",
        "bow_corpus = [dictionary.doc2bow(doc) for doc in processed_lyrics]"
      ],
      "execution_count": 96,
      "outputs": []
    },
    {
      "cell_type": "code",
      "metadata": {
        "colab": {
          "base_uri": "https://localhost:8080/"
        },
        "id": "8RxUr3HKYh1C",
        "outputId": "6a2bd220-d587-43e2-ca36-038ea55c961f"
      },
      "source": [
        "#testing on the same song https://genius.com/Lady-gaga-and-blackpink-sour-candy-lyrics\n",
        "bow_doc_342 = bow_corpus[342]\n",
        "\n",
        "for i in range(len(bow_doc_342)):\n",
        "    print(\"Word {} (\\\"{}\\\") appears {} time.\".format(bow_doc_342[i][0], \n",
        "                                                     dictionary[bow_doc_342[i][0]], \n",
        "                                                     bow_doc_342[i][1]))"
      ],
      "execution_count": 73,
      "outputs": [
        {
          "output_type": "stream",
          "text": [
            "Word 4 (\"light\") appears 2 time.\n",
            "Word 26 (\"hard\") appears 4 time.\n",
            "Word 65 (\"littl\") appears 2 time.\n",
            "Word 117 (\"turn\") appears 2 time.\n",
            "Word 119 (\"break\") appears 1 time.\n",
            "Word 121 (\"eye\") appears 1 time.\n",
            "Word 164 (\"mean\") appears 1 time.\n",
            "Word 182 (\"wanna\") appears 1 time.\n",
            "Word 184 (\"sweet\") appears 2 time.\n",
            "Word 195 (\"real\") appears 1 time.\n",
            "Word 271 (\"close\") appears 1 time.\n",
            "Word 333 (\"insid\") appears 6 time.\n",
            "Word 346 (\"bite\") appears 8 time.\n",
            "Word 412 (\"tast\") appears 1 time.\n",
            "Word 443 (\"mess\") appears 1 time.\n",
            "Word 454 (\"outsid\") appears 4 time.\n",
            "Word 538 (\"fake\") appears 1 time.\n",
            "Word 566 (\"crazi\") appears 2 time.\n",
            "Word 579 (\"nice\") appears 1 time.\n"
          ],
          "name": "stdout"
        }
      ]
    },
    {
      "cell_type": "code",
      "metadata": {
        "id": "goQqxi9vZNzY"
      },
      "source": [
        "#training the model with 10 topics\n",
        "lda_model = gensim.models.LdaMulticore(bow_corpus, num_topics=10, id2word=dictionary, passes=2, workers=2)"
      ],
      "execution_count": 104,
      "outputs": []
    },
    {
      "cell_type": "code",
      "metadata": {
        "colab": {
          "base_uri": "https://localhost:8080/"
        },
        "id": "0Gcdl-x6ZQPV",
        "outputId": "e08782c2-11b0-4c34-f13e-0e18777b5ffb"
      },
      "source": [
        "#print out the most prominent tokens for each topic\n",
        "for idx, topic in lda_model.print_topics(-1):\n",
        "    print('Topic: {} \\nWords: {}'.format(idx, topic))"
      ],
      "execution_count": 99,
      "outputs": [
        {
          "output_type": "stream",
          "text": [
            "Topic: 0 \n",
            "Words: 0.028*\"bodi\" + 0.024*\"gonna\" + 0.016*\"hear\" + 0.014*\"touch\" + 0.014*\"need\" + 0.012*\"girl\" + 0.011*\"leav\" + 0.010*\"heart\" + 0.009*\"bell\" + 0.009*\"talk\"\n",
            "Topic: 1 \n",
            "Words: 0.023*\"roll\" + 0.019*\"nigga\" + 0.018*\"leav\" + 0.016*\"face\" + 0.016*\"babe\" + 0.016*\"play\" + 0.015*\"girl\" + 0.014*\"bring\" + 0.014*\"okay\" + 0.011*\"hous\"\n",
            "Topic: 2 \n",
            "Words: 0.039*\"heart\" + 0.018*\"break\" + 0.017*\"dream\" + 0.015*\"work\" + 0.015*\"tonight\" + 0.014*\"thing\" + 0.013*\"mean\" + 0.012*\"world\" + 0.012*\"walk\" + 0.011*\"chang\"\n",
            "Topic: 3 \n",
            "Words: 0.031*\"stand\" + 0.021*\"gonna\" + 0.020*\"away\" + 0.020*\"rain\" + 0.017*\"shoot\" + 0.014*\"happi\" + 0.012*\"free\" + 0.011*\"place\" + 0.011*\"ladi\" + 0.011*\"guess\"\n",
            "Topic: 4 \n",
            "Words: 0.040*\"gonna\" + 0.036*\"away\" + 0.035*\"good\" + 0.025*\"thing\" + 0.022*\"gimm\" + 0.022*\"wait\" + 0.016*\"hold\" + 0.010*\"girl\" + 0.010*\"littl\" + 0.010*\"babe\"\n",
            "Topic: 5 \n",
            "Words: 0.020*\"danc\" + 0.019*\"wanna\" + 0.018*\"forev\" + 0.015*\"eye\" + 0.013*\"word\" + 0.013*\"beat\" + 0.012*\"lose\" + 0.012*\"believ\" + 0.011*\"fight\" + 0.010*\"live\"\n",
            "Topic: 6 \n",
            "Words: 0.045*\"girl\" + 0.021*\"need\" + 0.017*\"rock\" + 0.017*\"turn\" + 0.014*\"long\" + 0.012*\"burn\" + 0.012*\"play\" + 0.012*\"danc\" + 0.011*\"gonna\" + 0.010*\"better\"\n",
            "Topic: 7 \n",
            "Words: 0.046*\"wanna\" + 0.023*\"need\" + 0.017*\"woman\" + 0.017*\"littl\" + 0.015*\"home\" + 0.014*\"girl\" + 0.013*\"take\" + 0.012*\"care\" + 0.012*\"away\" + 0.011*\"thing\"\n",
            "Topic: 8 \n",
            "Words: 0.052*\"life\" + 0.022*\"light\" + 0.018*\"say\" + 0.012*\"good\" + 0.011*\"world\" + 0.010*\"river\" + 0.010*\"thing\" + 0.010*\"woah\" + 0.010*\"mind\" + 0.010*\"away\"\n",
            "Topic: 9 \n",
            "Words: 0.045*\"nigga\" + 0.041*\"bitch\" + 0.035*\"fuck\" + 0.021*\"shit\" + 0.012*\"round\" + 0.010*\"money\" + 0.010*\"girl\" + 0.010*\"need\" + 0.009*\"say\" + 0.009*\"shake\"\n"
          ],
          "name": "stdout"
        }
      ]
    },
    {
      "cell_type": "code",
      "metadata": {
        "colab": {
          "base_uri": "https://localhost:8080/"
        },
        "id": "NkPzQHfQaODQ",
        "outputId": "127e62be-366a-47d3-add3-f58707ca4f30"
      },
      "source": [
        "#testing it on the same song https://genius.com/Lady-gaga-and-blackpink-sour-candy-lyrics\n",
        "for index, score in sorted(lda_model[bow_corpus[342]], key=lambda tup: -1*tup[1]):\n",
        "    print(\"\\nScore: {}\\t \\nTopic: {}\".format(score, lda_model.print_topic(index, 10)))"
      ],
      "execution_count": 77,
      "outputs": [
        {
          "output_type": "stream",
          "text": [
            "\n",
            "Score: 0.8807077407836914\t \n",
            "Topic: 0.052*\"life\" + 0.022*\"light\" + 0.018*\"say\" + 0.012*\"good\" + 0.011*\"world\" + 0.010*\"river\" + 0.010*\"thing\" + 0.010*\"woah\" + 0.010*\"mind\" + 0.010*\"away\"\n",
            "\n",
            "Score: 0.10068244487047195\t \n",
            "Topic: 0.031*\"stand\" + 0.021*\"gonna\" + 0.020*\"away\" + 0.020*\"rain\" + 0.017*\"shoot\" + 0.014*\"happi\" + 0.012*\"free\" + 0.011*\"place\" + 0.011*\"ladi\" + 0.011*\"guess\"\n"
          ],
          "name": "stdout"
        }
      ]
    },
    {
      "cell_type": "markdown",
      "metadata": {
        "id": "vrMyRdhd9p8S"
      },
      "source": [
        "### LDA Visualization ###"
      ]
    },
    {
      "cell_type": "code",
      "metadata": {
        "id": "KyCCACwD9_6a",
        "colab": {
          "base_uri": "https://localhost:8080/"
        },
        "outputId": "9259d160-5327-4e2b-8cf4-decbfdb16b61"
      },
      "source": [
        "!pip install pyldavis"
      ],
      "execution_count": null,
      "outputs": [
        {
          "output_type": "stream",
          "text": [
            "Requirement already satisfied: pyldavis in /usr/local/lib/python3.7/dist-packages (3.3.1)\n",
            "Requirement already satisfied: scikit-learn in /usr/local/lib/python3.7/dist-packages (from pyldavis) (0.22.2.post1)\n",
            "Requirement already satisfied: setuptools in /usr/local/lib/python3.7/dist-packages (from pyldavis) (56.1.0)\n",
            "Requirement already satisfied: numexpr in /usr/local/lib/python3.7/dist-packages (from pyldavis) (2.7.3)\n",
            "Requirement already satisfied: jinja2 in /usr/local/lib/python3.7/dist-packages (from pyldavis) (2.11.3)\n",
            "Requirement already satisfied: funcy in /usr/local/lib/python3.7/dist-packages (from pyldavis) (1.15)\n",
            "Requirement already satisfied: joblib in /usr/local/lib/python3.7/dist-packages (from pyldavis) (1.0.1)\n",
            "Requirement already satisfied: pandas>=1.2.0 in /usr/local/lib/python3.7/dist-packages (from pyldavis) (1.2.4)\n",
            "Requirement already satisfied: sklearn in /usr/local/lib/python3.7/dist-packages (from pyldavis) (0.0)\n",
            "Requirement already satisfied: gensim in /usr/local/lib/python3.7/dist-packages (from pyldavis) (3.6.0)\n",
            "Requirement already satisfied: numpy>=1.20.0 in /usr/local/lib/python3.7/dist-packages (from pyldavis) (1.20.2)\n",
            "Requirement already satisfied: future in /usr/local/lib/python3.7/dist-packages (from pyldavis) (0.16.0)\n",
            "Requirement already satisfied: scipy in /usr/local/lib/python3.7/dist-packages (from pyldavis) (1.4.1)\n",
            "Requirement already satisfied: MarkupSafe>=0.23 in /usr/local/lib/python3.7/dist-packages (from jinja2->pyldavis) (1.1.1)\n",
            "Requirement already satisfied: pytz>=2017.3 in /usr/local/lib/python3.7/dist-packages (from pandas>=1.2.0->pyldavis) (2018.9)\n",
            "Requirement already satisfied: python-dateutil>=2.7.3 in /usr/local/lib/python3.7/dist-packages (from pandas>=1.2.0->pyldavis) (2.8.1)\n",
            "Requirement already satisfied: smart-open>=1.2.1 in /usr/local/lib/python3.7/dist-packages (from gensim->pyldavis) (5.0.0)\n",
            "Requirement already satisfied: six>=1.5.0 in /usr/local/lib/python3.7/dist-packages (from gensim->pyldavis) (1.15.0)\n"
          ],
          "name": "stdout"
        }
      ]
    },
    {
      "cell_type": "code",
      "metadata": {
        "id": "8E7FmSfV94Tx",
        "colab": {
          "base_uri": "https://localhost:8080/"
        },
        "outputId": "2f6710da-ec7a-4b7b-99f1-7b80edfa3aa9"
      },
      "source": [
        "import pickle\n",
        "import pyLDAvis"
      ],
      "execution_count": null,
      "outputs": [
        {
          "output_type": "stream",
          "text": [
            "/usr/local/lib/python3.7/dist-packages/past/types/oldstr.py:5: DeprecationWarning: Using or importing the ABCs from 'collections' instead of from 'collections.abc' is deprecated since Python 3.3,and in 3.9 it will stop working\n",
            "  from collections import Iterable\n",
            "/usr/local/lib/python3.7/dist-packages/sklearn/decomposition/_lda.py:29: DeprecationWarning: `np.float` is a deprecated alias for the builtin `float`. To silence this warning, use `float` by itself. Doing this will not modify any behavior and is safe. If you specifically wanted the numpy scalar type, use `np.float64` here.\n",
            "Deprecated in NumPy 1.20; for more details and guidance: https://numpy.org/devdocs/release/1.20.0-notes.html#deprecations\n",
            "  EPS = np.finfo(np.float).eps\n"
          ],
          "name": "stderr"
        }
      ]
    },
    {
      "cell_type": "code",
      "metadata": {
        "id": "jrpnQxVd_R-l"
      },
      "source": [
        "import pyLDAvis.gensim_models as gensimvis"
      ],
      "execution_count": null,
      "outputs": []
    },
    {
      "cell_type": "code",
      "metadata": {
        "id": "4edo-vBWAUb1"
      },
      "source": [
        "pyLDAvis.enable_notebook()"
      ],
      "execution_count": 78,
      "outputs": []
    },
    {
      "cell_type": "code",
      "metadata": {
        "id": "YE5YAJmeBf6M"
      },
      "source": [
        "LDAvis_prepared = gensimvis.prepare(lda_model, bow_corpus, dictionary)"
      ],
      "execution_count": 79,
      "outputs": []
    },
    {
      "cell_type": "code",
      "metadata": {
        "id": "gQcY2YwHDkcg",
        "colab": {
          "base_uri": "https://localhost:8080/",
          "height": 882
        },
        "outputId": "2f7c5c2c-f48f-4ab0-8367-5f6eae951d22"
      },
      "source": [
        "LDAvis_prepared"
      ],
      "execution_count": 82,
      "outputs": [
        {
          "output_type": "execute_result",
          "data": {
            "text/html": [
              "\n",
              "<link rel=\"stylesheet\" type=\"text/css\" href=\"https://cdn.jsdelivr.net/gh/bmabey/pyLDAvis@3.3.1/pyLDAvis/js/ldavis.v1.0.0.css\">\n",
              "\n",
              "\n",
              "<div id=\"ldavis_el9781401659263830565558245435\"></div>\n",
              "<script type=\"text/javascript\">\n",
              "\n",
              "var ldavis_el9781401659263830565558245435_data = {\"mdsDat\": {\"x\": [0.09812503602507187, -0.006756707811543375, -0.02414171346952752, 0.0209055357664578, -0.011570227870187749, -0.06369830198225783, -0.04474145354363999, -0.05964075240771016, 0.027098010670623642, 0.06442057462271328], \"y\": [-0.012614471716372425, 0.0043469364895396415, 0.05174094356599266, 0.011612649606264392, 0.05360711296457686, -0.057920029201242666, -0.056125515734903805, 0.023524118380502054, 0.01964374626600205, -0.03781549062035897], \"topics\": [1, 2, 3, 4, 5, 6, 7, 8, 9, 10], \"cluster\": [1, 1, 1, 1, 1, 1, 1, 1, 1, 1], \"Freq\": [14.20473982717282, 12.758183401413262, 12.328874240524632, 11.453756722763577, 9.148443647496354, 9.042271867003716, 8.666134240092537, 8.538442168341193, 7.091870589508048, 6.767283295683862]}, \"tinfo\": {\"Term\": [\"nigga\", \"bitch\", \"life\", \"gonna\", \"fuck\", \"gimm\", \"away\", \"stand\", \"bodi\", \"wanna\", \"heart\", \"girl\", \"good\", \"roll\", \"danc\", \"rain\", \"babe\", \"woman\", \"forev\", \"shoot\", \"rock\", \"shit\", \"wait\", \"okay\", \"thing\", \"light\", \"face\", \"river\", \"happi\", \"sail\", \"hoe\", \"bitch\", \"dick\", \"rich\", \"fuck\", \"rapper\", \"nigga\", \"fuckin\", \"poppin\", \"shake\", \"boss\", \"actin\", \"pussi\", \"round\", \"motherfuck\", \"paper\", \"shit\", \"hater\", \"bullet\", \"sick\", \"countri\", \"bang\", \"talkin\", \"type\", \"gettin\", \"busi\", \"bridg\", \"anybodi\", \"coupl\", \"gentl\", \"bout\", \"money\", \"real\", \"water\", \"okay\", \"blow\", \"better\", \"lie\", \"sweet\", \"kill\", \"say\", \"need\", \"gotta\", \"get\", \"girl\", \"pain\", \"turn\", \"wanna\", \"break\", \"hard\", \"long\", \"gonna\", \"littl\", \"leav\", \"stop\", \"life\", \"good\", \"sail\", \"woman\", \"cake\", \"sorri\", \"tender\", \"fever\", \"let\", \"chick\", \"wanna\", \"convers\", \"trip\", \"send\", \"bone\", \"middl\", \"beach\", \"messag\", \"drug\", \"care\", \"highway\", \"page\", \"team\", \"mouth\", \"home\", \"take\", \"price\", \"somethin\", \"wrong\", \"stone\", \"flower\", \"littl\", \"comin\", \"promis\", \"need\", \"magic\", \"true\", \"late\", \"mind\", \"money\", \"cold\", \"live\", \"place\", \"away\", \"girl\", \"thing\", \"long\", \"gotta\", \"say\", \"lose\", \"hand\", \"good\", \"life\", \"real\", \"turn\", \"gonna\", \"leav\", \"light\", \"world\", \"master\", \"bind\", \"heart\", \"laughter\", \"diamond\", \"sens\", \"work\", \"pray\", \"tomorrow\", \"aliv\", \"lord\", \"goin\", \"tonight\", \"beauti\", \"break\", \"feelin\", \"chang\", \"bright\", \"dream\", \"nothin\", \"mean\", \"church\", \"drown\", \"crawl\", \"million\", \"moment\", \"dirt\", \"deserv\", \"leg\", \"minut\", \"walk\", \"help\", \"hard\", \"stay\", \"peopl\", \"start\", \"world\", \"thing\", \"stop\", \"hold\", \"lose\", \"away\", \"better\", \"eye\", \"life\", \"say\", \"need\", \"good\", \"wanna\", \"girl\", \"dust\", \"rock\", \"hero\", \"ghost\", \"wind\", \"boy\", \"kid\", \"music\", \"burn\", \"engin\", \"guy\", \"storm\", \"favorit\", \"wheel\", \"bend\", \"guitar\", \"write\", \"girl\", \"daddi\", \"boot\", \"song\", \"desir\", \"corner\", \"readi\", \"bird\", \"dark\", \"rollin\", \"mess\", \"track\", \"cool\", \"turn\", \"bite\", \"danc\", \"learn\", \"long\", \"wonder\", \"need\", \"better\", \"lone\", \"play\", \"gotta\", \"work\", \"parti\", \"world\", \"sing\", \"believ\", \"stop\", \"home\", \"littl\", \"gonna\", \"nigga\", \"shoot\", \"say\", \"young\", \"watch\", \"live\", \"hear\", \"thing\", \"tonight\", \"walk\", \"lucki\", \"forev\", \"wild\", \"snow\", \"hungri\", \"radio\", \"doubl\", \"surpris\", \"one\", \"glad\", \"wake\", \"morn\", \"decid\", \"spirit\", \"beat\", \"fight\", \"rid\", \"danc\", \"word\", \"end\", \"check\", \"open\", \"shine\", \"land\", \"shin\", \"bore\", \"heat\", \"doubt\", \"somebodi\", \"whisper\", \"smile\", \"answer\", \"eye\", \"believ\", \"wonder\", \"start\", \"lose\", \"matter\", \"friend\", \"wanna\", \"live\", \"young\", \"long\", \"lover\", \"hear\", \"world\", \"lone\", \"heart\", \"say\", \"alright\", \"life\", \"need\", \"play\", \"face\", \"away\", \"gotta\", \"girl\", \"gimm\", \"slowli\", \"closer\", \"view\", \"travel\", \"movin\", \"ball\", \"crack\", \"midnight\", \"harder\", \"hall\", \"wait\", \"mirror\", \"good\", \"brother\", \"band\", \"thousand\", \"mile\", \"older\", \"whoa\", \"fast\", \"away\", \"tire\", \"glow\", \"fantasi\", \"hang\", \"gonna\", \"slow\", \"nice\", \"worri\", \"mama\", \"thing\", \"babe\", \"hold\", \"sleep\", \"sweet\", \"fall\", \"miss\", \"gotta\", \"littl\", \"bout\", \"sing\", \"life\", \"girl\", \"dream\", \"long\", \"close\", \"leav\", \"light\", \"wanna\", \"say\", \"hear\", \"heart\", \"rain\", \"happi\", \"stand\", \"beer\", \"rhythm\", \"freedom\", \"heavi\", \"shoot\", \"ladi\", \"guess\", \"wrap\", \"slip\", \"free\", \"tryin\", \"yesterday\", \"even\", \"drown\", \"dear\", \"crazi\", \"thank\", \"fill\", \"someday\", \"glow\", \"hop\", \"lovin\", \"steal\", \"earli\", \"town\", \"class\", \"straight\", \"place\", \"king\", \"ride\", \"cri\", \"line\", \"kind\", \"away\", \"gonna\", \"face\", \"friend\", \"everybodi\", \"hope\", \"hear\", \"blue\", \"lose\", \"sleep\", \"littl\", \"mean\", \"high\", \"say\", \"girl\", \"stay\", \"wanna\", \"peopl\", \"hold\", \"play\", \"live\", \"thing\", \"mind\", \"good\", \"dirti\", \"river\", \"woah\", \"life\", \"eas\", \"shin\", \"shoe\", \"allow\", \"school\", \"jesus\", \"blood\", \"goodby\", \"show\", \"summer\", \"earth\", \"load\", \"darl\", \"ocean\", \"light\", \"outsid\", \"earli\", \"surviv\", \"strong\", \"chanc\", \"sit\", \"power\", \"worri\", \"blue\", \"rememb\", \"bank\", \"citi\", \"miss\", \"insid\", \"road\", \"promis\", \"say\", \"star\", \"easi\", \"walk\", \"mind\", \"world\", \"good\", \"sing\", \"turn\", \"danc\", \"hold\", \"live\", \"thing\", \"away\", \"dream\", \"leav\", \"heart\", \"fight\", \"believ\", \"true\", \"bell\", \"heal\", \"bodi\", \"trap\", \"memori\", \"touch\", \"exact\", \"brand\", \"child\", \"quit\", \"ring\", \"wall\", \"follow\", \"crawl\", \"climb\", \"question\", \"higher\", \"hell\", \"allow\", \"tellin\", \"hater\", \"fill\", \"build\", \"tast\", \"deserv\", \"shadow\", \"lay\", \"tear\", \"apart\", \"clean\", \"deep\", \"reach\", \"cri\", \"drink\", \"hear\", \"stick\", \"gonna\", \"talk\", \"catch\", \"damn\", \"diamond\", \"everybodi\", \"burn\", \"bring\", \"leav\", \"fall\", \"song\", \"need\", \"eye\", \"shit\", \"girl\", \"heart\", \"play\", \"fuck\", \"say\", \"mind\", \"world\", \"wanna\", \"count\", \"bless\", \"strang\", \"jean\", \"read\", \"jack\", \"hous\", \"faith\", \"higher\", \"strike\", \"roll\", \"floor\", \"okay\", \"yeah\", \"person\", \"babe\", \"knock\", \"week\", \"paint\", \"bring\", \"thunder\", \"shall\", \"rid\", \"hole\", \"field\", \"reason\", \"control\", \"face\", \"race\", \"instead\", \"seat\", \"black\", \"river\", \"leav\", \"peopl\", \"sound\", \"play\", \"nigga\", \"alright\", \"head\", \"mayb\", \"girl\", \"thing\", \"turn\", \"say\", \"need\", \"light\", \"gonna\", \"heart\", \"fuck\"], \"Freq\": [687.0, 507.0, 686.0, 850.0, 522.0, 156.0, 720.0, 345.0, 253.0, 899.0, 677.0, 951.0, 611.0, 289.0, 367.0, 205.0, 239.0, 218.0, 236.0, 223.0, 230.0, 378.0, 367.0, 194.0, 663.0, 443.0, 331.0, 107.0, 151.0, 106.0, 73.40216754009856, 403.43198457798616, 40.06192502082383, 52.12109170466597, 342.33378479441893, 19.547722463038387, 439.4345887690261, 78.8720694713615, 27.52511088979813, 89.69716319534702, 13.237833510858446, 15.356826667605608, 47.3830371594427, 114.3071965060239, 22.59535062110944, 19.007422778591454, 203.65375267914166, 21.268621879726982, 16.966949316280587, 19.244560935541205, 18.659080736537412, 15.887619847798408, 40.85270311451642, 12.157707062496614, 21.610679689626526, 18.060541976402067, 19.29922505263152, 8.882663672990367, 19.39525425761346, 11.279225684375175, 79.20585746992361, 102.46238076705524, 81.21663770628724, 28.862459159059753, 58.22814698730225, 48.63233518320718, 78.43464660637973, 40.926217637898176, 49.76778417312887, 41.65219302275556, 91.65906199909195, 97.70006871928804, 67.9001528160986, 46.467137804988774, 100.71779181049558, 44.85711019845462, 68.88524284906995, 88.79855464000624, 60.751357804217726, 50.23119591073793, 57.78538802140211, 63.441073291162695, 54.83186761394798, 52.12463689102719, 48.067175680962464, 49.727220645461024, 48.74197488078905, 86.29971118644926, 154.20115923737106, 38.90312250453255, 74.14846187112347, 12.006424629631136, 23.244341998731695, 18.103631831975363, 28.078971879930087, 406.1951702631004, 9.680241816821717, 15.492696216527078, 39.61058566894609, 11.723201169090967, 27.159151285890015, 10.67550926874758, 12.326884022036339, 18.32418826308865, 106.89924783604452, 29.534594958485087, 7.94983751351481, 8.130478835784512, 33.81843130578684, 130.45657941436176, 115.22149352076495, 11.111959026014175, 27.91437476528625, 65.1989493767225, 9.209924382816672, 8.005704781485383, 152.62476235743748, 25.05167879184206, 35.57634371161075, 199.7297660783013, 18.589919423417232, 54.40525806321284, 30.016495076226192, 85.43450054987831, 69.95099272764159, 43.9608121246238, 85.23840742149508, 57.73291311670498, 106.15972505367499, 123.68741302782531, 94.3218643661757, 75.01516173927405, 65.81107703664325, 82.81620928231848, 62.494685839684365, 55.97852426570967, 74.22371331878819, 75.5183327738176, 47.79601951551116, 59.68760361516076, 71.3976372207752, 55.34072175968814, 47.992149668988915, 47.85556409530009, 31.641313319334387, 19.686956197347108, 334.46628937110296, 13.497474731653348, 41.953176073494966, 16.911584676094737, 131.58366924521556, 63.72092197169042, 35.22052643228422, 55.10904083853712, 47.45820918639352, 61.90670528134639, 124.64735240939225, 50.82997045931551, 156.78469280620308, 42.226437808695955, 95.81554199073571, 29.801023522943886, 148.05055808501277, 57.06292366620285, 110.45375536353401, 17.497139290075914, 12.798939308449413, 9.173632633243622, 30.817554633592135, 38.18582394344537, 16.259221330637256, 10.372182528200831, 5.859038091404937, 28.52749431616396, 100.7319315511156, 49.18468730077576, 71.43456999169865, 74.46253280294525, 70.55894138888067, 70.61570311917438, 104.97641933530814, 115.40833326830398, 55.008668225674256, 68.05455564747187, 63.234869343107874, 80.05833777379286, 58.67852200613333, 57.51939483834083, 66.11404629373163, 63.1240651025457, 64.63477867357722, 60.638538980727425, 59.18885281701758, 57.034662065092185, 21.239799283363645, 134.12788079198026, 23.923711078949886, 13.655979054326854, 69.1378896132595, 38.18564549775762, 24.091947580937354, 65.6262998030274, 97.88394276162015, 9.27676927937272, 10.030805968231498, 16.92201898852964, 10.075105070863406, 21.885813859708044, 12.150852917753179, 14.168478620919245, 40.44226457339327, 359.21503939964254, 24.46913350815735, 8.430852901846196, 80.03299066671457, 9.03591172148036, 8.132200055920897, 44.30928871094954, 13.972106676533187, 47.493694128079966, 11.032594654087067, 11.789392996536492, 10.156903015781147, 10.456873441002283, 133.1486876215611, 17.0597840455828, 92.37251318373404, 32.63626372689595, 111.51734107364916, 36.285070141411964, 166.352808635219, 81.30652384991896, 35.741137952557324, 97.63080503229496, 78.59705637125619, 59.32898357285579, 29.20675162789317, 80.49957808860789, 50.40880369557884, 56.25232973513976, 51.4131038149906, 62.224732942264176, 65.44339357444407, 84.26564998377468, 75.68042517048504, 43.59279149050765, 64.10624725657529, 41.430122189581276, 41.39300098565003, 50.303862705776595, 50.48305349001061, 53.595506335756255, 44.61947291484661, 44.10913484309063, 32.92931204912578, 117.01677998348026, 53.655002146729714, 13.007263146408869, 12.675174522614581, 31.657560854089553, 16.06577060971476, 11.473578616506408, 17.279915527642796, 15.420180885275444, 51.09746987884455, 56.15410215647481, 8.525977543805233, 7.924862473033556, 79.42169283093583, 70.76325816642479, 14.014054376083521, 129.7295956416899, 82.0690505360365, 17.305652211616085, 21.84319080990517, 35.57823321832248, 29.81746686068709, 21.260678011944034, 22.106653684646485, 6.248448420824519, 11.254060145109598, 13.649444224125608, 46.50688264878382, 13.125909421772016, 39.146123183980606, 16.512071760690425, 92.34696851013516, 72.91219531743901, 34.440140503903585, 58.62857023187674, 74.10787365944032, 34.26816535320441, 54.34420071971934, 122.0900380793091, 65.74522870230528, 38.613943605148854, 59.96005165524596, 27.42045810648072, 57.74393864688293, 59.5109185693039, 30.550811169897738, 63.5730342853795, 60.45145137056156, 36.55689979386207, 55.07597861490169, 52.89745954321762, 43.61290765709354, 40.38986182230752, 43.44741645749451, 38.34342006755121, 38.75271431836698, 138.99758428867185, 32.42254451245096, 30.168191757976743, 26.938089348577247, 14.599698020166473, 18.089243519801656, 33.729298666277764, 18.853580360733527, 17.687502754477748, 14.582552264114586, 12.620221140007974, 138.48614771396743, 35.927022754135244, 220.79864081807003, 25.7733442158383, 23.20080582420596, 18.862557791714522, 15.886465071240846, 8.639266988178433, 43.22025677671015, 24.789101135629604, 227.81956915321123, 26.72215283072966, 8.599442212143451, 8.564533301205568, 28.300183430958562, 252.2797242720025, 26.005054654311802, 18.418749350458874, 35.45800957039332, 31.03165792245764, 159.37894758584375, 60.273585234541095, 98.75868014977532, 47.62894513238117, 45.1327936279056, 53.53538620351337, 41.24560974858804, 58.04915919380152, 63.64972324254867, 41.067323625757545, 40.87861097055029, 59.53039740160555, 65.48465881879794, 45.927437681027136, 49.26748810759534, 35.0090301405554, 46.04751191378435, 42.373086442613406, 48.3453464572224, 44.06696643068511, 40.44005515739216, 41.10979949926556, 117.44114613919545, 82.91992393567034, 188.07343139963308, 15.220856151535358, 29.812385860816182, 26.071192470968885, 15.30353158688893, 102.40399734234066, 66.19108919258368, 65.53999149646448, 11.463722744378671, 12.774170730055094, 73.9144771298066, 25.55664924315981, 15.244630997881204, 8.902903110341033, 13.003285861615867, 14.980757588667302, 53.652328004220294, 18.692826232858796, 8.045410238962774, 14.278460699465299, 8.328874563082545, 12.110134912334908, 21.06546256485639, 18.617685925992713, 5.8044276774874435, 34.39436154597825, 8.049734589541076, 24.745845385973652, 68.65509996048428, 29.139723697225097, 37.40906403867075, 32.47026725516038, 35.30013345124428, 29.117717712860554, 121.9296962909912, 127.9876322097555, 55.681774373327386, 48.039904985422865, 42.68499250264593, 32.956830048500606, 58.48855873692226, 33.79782192461885, 51.30568807508534, 34.07704782628974, 51.51016628459533, 42.145112352902466, 38.3202095957378, 55.512874601014786, 57.68913930898069, 38.840548431365555, 53.98734990459681, 36.78430366352119, 39.97718896091474, 40.28115657503816, 39.36018586990435, 41.646419022657284, 37.65624084387473, 38.42008183461892, 55.65620668719049, 60.89653470469551, 58.487877051964986, 304.9239677237082, 11.00246518556567, 32.297899672867395, 21.39353435706169, 9.22958964799533, 18.197118017365792, 18.934586092400867, 32.39909762163067, 31.88572094516294, 19.26944155881349, 30.702302947529237, 15.96223086567441, 9.218455560912984, 26.846238753219264, 7.898880398213303, 129.71969141528032, 13.830011890862526, 5.610256615366981, 11.437314059916027, 30.681378352616818, 32.044133894830836, 12.56785271530806, 16.14091451666371, 33.09638772119773, 44.992609121450094, 45.40605158455781, 5.135030844235127, 33.91279383053991, 45.218385500555115, 46.449660249342465, 32.776475444112364, 28.173463782624758, 105.53545209445754, 42.038882290668035, 24.110471864047973, 53.49619379321533, 57.66180157718433, 66.4648392280357, 68.1000467621903, 40.47472476918579, 56.055012946804204, 47.594824783592856, 50.206451006973865, 50.69067917208136, 60.485724335368886, 57.323114982637414, 39.222285893939, 37.62464626736071, 38.526507321030756, 33.31295177206894, 33.69835252475784, 33.21726855535955, 43.417304316826886, 23.06942735801516, 137.15150468598551, 33.67931196340239, 27.90293718117076, 69.24463283291496, 10.476781051324751, 11.901649160728573, 36.07934017481973, 11.306599861097, 32.702915853263, 27.99016665381017, 13.526306949935444, 7.039818629645257, 10.954729729113811, 5.926977398609091, 22.503747257940756, 35.77108363576297, 5.967491252378028, 7.420639479248448, 9.580792357873756, 5.974357328969975, 11.179658053371575, 17.915436978343276, 7.351923258755334, 11.84162558757772, 6.537269273935458, 34.09502688884789, 16.25885564901198, 7.631763044849613, 25.52392453807316, 19.87559150789359, 25.844017484270605, 36.701433012095386, 79.66357533562962, 20.974772047825294, 116.35132421705848, 43.304899611148095, 29.914284857640517, 24.419015597854084, 17.734099379146528, 39.04446078217021, 36.27377877411482, 37.250373834683344, 54.78089089854714, 38.551086585763, 35.916093343955666, 66.35618817831319, 42.41841766104826, 38.42661222071625, 58.73990381986882, 49.39249003422165, 41.17493174317875, 39.11758306863286, 36.327081481619125, 30.740237854763745, 31.25490660744879, 31.70286522313457, 35.33162496078748, 45.31400092585948, 21.051518902469056, 23.803049164816663, 42.044609285383196, 14.908786541824927, 53.42507786191305, 33.51898139209309, 33.56577919723107, 13.952040264279526, 109.71864340293143, 25.235267994429567, 67.1368653170629, 19.25847297846105, 7.31843229239519, 73.26434463947544, 15.865430259599671, 7.680863247033529, 7.276999236111615, 67.15778314603114, 16.17958174773246, 7.919106321082915, 9.74200423025081, 5.280508550025477, 10.432639543724571, 25.942413248856138, 15.568992153132816, 76.18262836041835, 5.125783497723742, 6.384953990051991, 9.25310071247295, 27.407283181624862, 22.55351983646076, 84.43337424712297, 46.285076112639175, 26.71616125477118, 72.74894469584251, 88.8449980567441, 36.15676632241501, 34.99951023793046, 28.658512383626316, 69.3287596427832, 51.21760317954419, 43.01637402296134, 44.98237499850516, 47.52875080557657, 36.847233612434714, 37.686425662642094, 30.741357305543296, 28.902142027757915], \"Total\": [687.0, 507.0, 686.0, 850.0, 522.0, 156.0, 720.0, 345.0, 253.0, 899.0, 677.0, 951.0, 611.0, 289.0, 367.0, 205.0, 239.0, 218.0, 236.0, 223.0, 230.0, 378.0, 367.0, 194.0, 663.0, 443.0, 331.0, 107.0, 151.0, 106.0, 85.53751715569072, 507.98687395502014, 53.82431089680653, 73.49930774686818, 522.3916003222912, 30.20574189875522, 687.6047915142824, 124.28432882382008, 44.43859645034437, 146.584938328513, 22.32231221309134, 26.035315719530946, 81.13875443006214, 200.79769638247342, 39.986782306245026, 35.00817960589295, 378.0366440638475, 40.026931884198056, 32.167895724176574, 37.0900909513786, 37.06158335920279, 31.61277459771581, 85.87627138625096, 25.71144247552573, 46.50068054230891, 39.50580719700586, 42.440705368207745, 19.727995969545983, 43.6530971573091, 25.611691724068237, 211.50087310959427, 299.29141460902844, 247.98063288223156, 73.28604389680616, 194.83213994240896, 170.36689460105475, 365.2689365480498, 135.4775343681809, 186.0992803208488, 146.16179108101394, 648.5817846173746, 775.0244434655966, 402.55661840269573, 195.71405805290834, 951.6913303642931, 186.0448195937158, 481.4601037430405, 899.1840026097728, 393.7204276486874, 254.84323830114894, 470.46088236673984, 850.1209786454272, 485.6626403275102, 463.7072356737385, 268.33866914300876, 686.1286248331922, 611.195744061515, 106.80437994354779, 218.4433465477072, 55.13491711813633, 118.87647894619137, 20.90366466129116, 42.14605293567928, 35.6373626244003, 60.215265070002665, 899.1840026097728, 22.39133060240548, 38.30867108102266, 99.01126553056139, 30.101220160074423, 70.23129049155158, 27.738533789279117, 32.84978802722402, 49.113120662904926, 287.4680705815445, 80.17174279345409, 22.04344623456878, 23.16822795861968, 97.63235807432712, 386.3451699167975, 343.7983579040986, 33.426707734997684, 84.65015034450614, 202.44089594863445, 28.939465088248717, 25.35069537560068, 485.6626403275102, 80.25086732135568, 115.72237243089593, 775.0244434655966, 59.42539539601485, 205.073843516961, 103.71399227512086, 377.4983291871868, 299.29141460902844, 173.29049971384828, 429.68051619344465, 255.40732561601592, 720.377566715336, 951.6913303642931, 663.0632724215384, 470.46088236673984, 402.55661840269573, 648.5817846173746, 386.03403784117216, 312.8236215331274, 611.195744061515, 686.1286248331922, 247.98063288223156, 481.4601037430405, 850.1209786454272, 463.7072356737385, 443.9582305281897, 485.5447854365576, 45.4431167754382, 36.70733853401961, 677.1474087489402, 27.451437433978406, 87.18080804323583, 36.1692805903083, 281.9880055352397, 137.07516165085516, 76.78377440275311, 120.84118507412164, 113.11584535435824, 148.77358799966447, 302.69940420563785, 126.44932241012458, 393.7204276486874, 106.55992741506867, 243.75806304418774, 77.18754484450615, 384.025557427169, 149.9174650830713, 309.3760844286419, 49.05729451282144, 36.20281642961936, 26.128021830715756, 90.40869522214113, 114.93316502873029, 50.75501106745334, 32.75979705168688, 18.778578772194543, 91.61787626693064, 331.06940838801836, 170.5690690910482, 254.84323830114894, 274.44443814703675, 260.8606051417963, 269.2347259178787, 485.5447854365576, 663.0632724215384, 268.33866914300876, 419.62455815378775, 386.03403784117216, 720.377566715336, 365.2689365480498, 383.5374605500557, 686.1286248331922, 648.5817846173746, 775.0244434655966, 611.195744061515, 899.1840026097728, 951.6913303642931, 32.48472188825899, 230.79211937556357, 43.76442971278485, 25.451380632033995, 139.14300078029945, 77.63283344586814, 53.042363150450626, 152.19276948776013, 229.26291322600235, 22.19599197014132, 24.12658141534681, 41.85302224873232, 25.888244312408762, 56.35944408625353, 31.54522769129113, 37.012702328589185, 106.61888340626227, 951.6913303642931, 70.87084186400843, 25.24290232978048, 258.66627125256144, 29.25802452679474, 26.435759476179964, 144.56227162898014, 45.81344849285935, 156.87044897052542, 36.65172021223809, 40.35896957324953, 35.17789927965134, 36.52618664032221, 481.4601037430405, 60.551236147975054, 367.86600696606354, 120.7348743034746, 470.46088236673984, 137.87999761647905, 775.0244434655966, 365.2689365480498, 140.9204663364447, 475.9162040023031, 402.55661840269573, 281.9880055352397, 110.99422664132993, 485.5447854365576, 245.63986471279256, 304.20933045701673, 268.33866914300876, 386.3451699167975, 485.6626403275102, 850.1209786454272, 687.6047915142824, 223.76268305770336, 648.5817846173746, 202.18993993831336, 206.96316222955969, 429.68051619344465, 455.7295476580811, 663.0632724215384, 302.69940420563785, 331.06940838801836, 48.61049350309113, 236.67598392450384, 114.78507389615909, 28.88114290386383, 28.410903115293245, 73.25764083692931, 38.23204930043514, 27.498785404937664, 42.50684495614489, 37.94682457310344, 126.02998547517842, 149.69251603075716, 23.013691322418197, 21.39856416687233, 216.5788927544802, 199.84168233109662, 39.66065721591648, 367.86600696606354, 238.15911134246417, 52.60124340983985, 67.31797347692594, 113.76748649809947, 97.33876012352141, 73.6020926778345, 77.48736658617258, 21.989593875203926, 39.73543502052913, 48.21188815341987, 167.29992101334417, 47.60435733662441, 143.8056084584561, 60.63604370198295, 383.5374605500557, 304.20933045701673, 137.87999761647905, 269.2347259178787, 386.03403784117216, 141.98610527183854, 277.5275621987678, 899.1840026097728, 429.68051619344465, 202.18993993831336, 470.46088236673984, 113.98240400234455, 455.7295476580811, 485.5447854365576, 140.9204663364447, 677.1474087489402, 648.5817846173746, 222.4986383140743, 686.1286248331922, 775.0244434655966, 475.9162040023031, 331.1345850968115, 720.377566715336, 402.55661840269573, 951.6913303642931, 156.77228509746837, 49.43969303716174, 51.639546960465196, 51.60737552880592, 29.666330052549764, 38.77394769660044, 76.78840704473225, 43.22043917855361, 41.79235628116261, 35.09328680891181, 32.93388750569569, 367.75297513339206, 97.97495054757766, 611.195744061515, 71.35544622488707, 64.32853602159561, 52.34162375083369, 46.66535510805902, 25.883871412826952, 131.4463687360175, 76.54959597930804, 720.377566715336, 84.75067407086352, 27.622184976546908, 27.655755390049382, 92.31493671830744, 850.1209786454272, 88.85777185219624, 63.23018458614437, 124.85243248229317, 110.62283193191249, 663.0632724215384, 239.3851773717785, 419.62455815378775, 190.8408021310428, 186.0992803208488, 278.0947319809448, 186.60098137203943, 402.55661840269573, 485.6626403275102, 211.50087310959427, 245.63986471279256, 686.1286248331922, 951.6913303642931, 384.025557427169, 470.46088236673984, 189.06552416921173, 463.7072356737385, 443.9582305281897, 899.1840026097728, 648.5817846173746, 455.7295476580811, 677.1474087489402, 205.79876594689838, 151.6839143339796, 345.29200189984317, 30.090391367087456, 62.871337496100935, 55.468454020021724, 32.93171606241902, 223.76268305770336, 163.26917328809347, 161.67880373184414, 28.8641029081964, 32.77958402705076, 192.66953252908368, 66.6189234097233, 40.58196596431912, 24.21382714429512, 36.20281642961936, 42.39946683081393, 162.06931164080115, 59.184804082982346, 25.802807290734265, 47.324170793156426, 27.622184976546908, 40.277256180006795, 70.20798790493487, 62.35104318171532, 19.681206144663307, 120.1265243682389, 28.84779819617431, 89.67741311781263, 255.40732561601592, 109.39857063937991, 143.5651588971986, 127.7022364395419, 145.09462370836425, 115.45128349394537, 720.377566715336, 850.1209786454272, 331.1345850968115, 277.5275621987678, 246.46923085266843, 162.98774236666603, 455.7295476580811, 172.7463495505886, 386.03403784117216, 190.8408021310428, 485.6626403275102, 309.3760844286419, 251.4450303677172, 648.5817846173746, 951.6913303642931, 274.44443814703675, 899.1840026097728, 260.8606051417963, 419.62455815378775, 475.9162040023031, 429.68051619344465, 663.0632724215384, 377.4983291871868, 611.195744061515, 96.56356448971007, 107.2862736311564, 119.88579606378491, 686.1286248331922, 25.019815408203495, 77.48736658617258, 54.943892379561206, 24.437655780521734, 48.432932043736535, 51.75296366346606, 89.25959457098529, 88.93767216374152, 55.105346113505995, 95.17246439861151, 50.36160517811729, 29.265535695510863, 86.57336214631641, 26.369505031765247, 443.9582305281897, 48.12272141312804, 19.681206144663307, 40.265150688501144, 109.75268254937929, 116.7248620805934, 45.98638016135272, 59.99848833339444, 124.85243248229317, 172.7463495505886, 177.38901628878878, 20.282158080119345, 134.429084332267, 186.60098137203943, 197.9491093362357, 134.137657333023, 115.72237243089593, 648.5817846173746, 215.94484900086877, 104.66133406012113, 331.06940838801836, 377.4983291871868, 485.5447854365576, 611.195744061515, 245.63986471279256, 481.4601037430405, 367.86600696606354, 419.62455815378775, 429.68051619344465, 663.0632724215384, 720.377566715336, 384.025557427169, 463.7072356737385, 677.1474087489402, 199.84168233109662, 304.20933045701673, 205.073843516961, 63.909183361137735, 38.49669508952199, 253.41872250961057, 73.22001405136608, 66.12268943993125, 188.80942414961444, 29.366788916477137, 33.45094125572838, 102.89025750333981, 34.380881189583555, 107.05879742803005, 100.37094617487892, 49.42813636815311, 26.128021830715756, 41.43049705745848, 22.660430206752974, 86.10971472636612, 138.1255473035381, 24.437655780521734, 30.654969659506477, 40.026931884198056, 25.802807290734265, 48.96551661561317, 78.48951940491435, 32.75979705168688, 53.01961388222162, 29.4388286184953, 153.90567950106131, 73.91078602940722, 34.80859041272528, 119.77765759641268, 94.62420464603449, 127.7022364395419, 190.95382058195014, 455.7295476580811, 106.29264459204737, 850.1209786454272, 258.35138204479335, 164.08297152021427, 130.398307017994, 87.18080804323583, 246.46923085266843, 229.26291322600235, 257.8999460775974, 463.7072356737385, 278.0947319809448, 258.66627125256144, 775.0244434655966, 383.5374605500557, 378.0366440638475, 951.6913303642931, 677.1474087489402, 475.9162040023031, 522.3916003222912, 648.5817846173746, 377.4983291871868, 485.5447854365576, 899.1840026097728, 60.51410733887934, 82.93016593724778, 38.5383552113865, 43.57726960680209, 78.76507682327431, 28.610870132262033, 121.27173169845015, 83.11759293211551, 86.10971472636612, 36.13216281323815, 289.5525225207938, 72.929099309712, 194.83213994240896, 57.88581317031515, 23.34682953444962, 239.3851773717785, 58.24077090764494, 28.74577348299451, 27.649707380418302, 257.8999460775974, 63.00886499966481, 31.841762375635543, 39.66065721591648, 21.870044819169532, 43.91853960399998, 110.46667380342413, 66.81815135435602, 331.1345850968115, 22.358914883107502, 27.865542035139903, 40.45826694497054, 126.42378821245411, 107.2862736311564, 463.7072356737385, 260.8606051417963, 135.87730721154853, 475.9162040023031, 687.6047915142824, 222.4986383140743, 248.71718902055252, 193.25561639990434, 951.6913303642931, 663.0632724215384, 481.4601037430405, 648.5817846173746, 775.0244434655966, 443.9582305281897, 850.1209786454272, 677.1474087489402, 522.3916003222912], \"Category\": [\"Default\", \"Default\", \"Default\", \"Default\", \"Default\", \"Default\", \"Default\", \"Default\", \"Default\", \"Default\", \"Default\", \"Default\", \"Default\", \"Default\", \"Default\", \"Default\", \"Default\", \"Default\", \"Default\", \"Default\", \"Default\", \"Default\", \"Default\", \"Default\", \"Default\", \"Default\", \"Default\", \"Default\", \"Default\", \"Default\", \"Topic1\", \"Topic1\", \"Topic1\", \"Topic1\", \"Topic1\", \"Topic1\", \"Topic1\", \"Topic1\", \"Topic1\", \"Topic1\", \"Topic1\", \"Topic1\", \"Topic1\", \"Topic1\", \"Topic1\", \"Topic1\", \"Topic1\", \"Topic1\", \"Topic1\", \"Topic1\", \"Topic1\", \"Topic1\", \"Topic1\", \"Topic1\", \"Topic1\", \"Topic1\", \"Topic1\", \"Topic1\", \"Topic1\", \"Topic1\", \"Topic1\", \"Topic1\", \"Topic1\", \"Topic1\", \"Topic1\", \"Topic1\", \"Topic1\", \"Topic1\", \"Topic1\", \"Topic1\", \"Topic1\", \"Topic1\", \"Topic1\", \"Topic1\", \"Topic1\", \"Topic1\", \"Topic1\", \"Topic1\", \"Topic1\", \"Topic1\", \"Topic1\", \"Topic1\", \"Topic1\", \"Topic1\", \"Topic1\", \"Topic1\", \"Topic1\", \"Topic2\", \"Topic2\", \"Topic2\", \"Topic2\", \"Topic2\", \"Topic2\", \"Topic2\", \"Topic2\", \"Topic2\", \"Topic2\", \"Topic2\", \"Topic2\", \"Topic2\", \"Topic2\", \"Topic2\", \"Topic2\", \"Topic2\", \"Topic2\", \"Topic2\", \"Topic2\", \"Topic2\", \"Topic2\", \"Topic2\", \"Topic2\", \"Topic2\", \"Topic2\", \"Topic2\", \"Topic2\", \"Topic2\", \"Topic2\", \"Topic2\", \"Topic2\", \"Topic2\", \"Topic2\", \"Topic2\", \"Topic2\", \"Topic2\", \"Topic2\", \"Topic2\", \"Topic2\", \"Topic2\", \"Topic2\", \"Topic2\", \"Topic2\", \"Topic2\", \"Topic2\", \"Topic2\", \"Topic2\", \"Topic2\", \"Topic2\", \"Topic2\", \"Topic2\", \"Topic2\", \"Topic2\", \"Topic2\", \"Topic2\", \"Topic2\", \"Topic3\", \"Topic3\", \"Topic3\", \"Topic3\", \"Topic3\", \"Topic3\", \"Topic3\", \"Topic3\", \"Topic3\", \"Topic3\", \"Topic3\", \"Topic3\", \"Topic3\", \"Topic3\", \"Topic3\", \"Topic3\", \"Topic3\", \"Topic3\", \"Topic3\", \"Topic3\", \"Topic3\", \"Topic3\", \"Topic3\", \"Topic3\", \"Topic3\", \"Topic3\", \"Topic3\", \"Topic3\", \"Topic3\", \"Topic3\", \"Topic3\", \"Topic3\", \"Topic3\", \"Topic3\", \"Topic3\", \"Topic3\", \"Topic3\", \"Topic3\", \"Topic3\", \"Topic3\", \"Topic3\", \"Topic3\", \"Topic3\", \"Topic3\", \"Topic3\", \"Topic3\", \"Topic3\", \"Topic3\", \"Topic3\", \"Topic3\", \"Topic4\", \"Topic4\", \"Topic4\", \"Topic4\", \"Topic4\", \"Topic4\", \"Topic4\", \"Topic4\", \"Topic4\", \"Topic4\", \"Topic4\", \"Topic4\", \"Topic4\", \"Topic4\", \"Topic4\", \"Topic4\", \"Topic4\", \"Topic4\", \"Topic4\", \"Topic4\", \"Topic4\", \"Topic4\", \"Topic4\", \"Topic4\", \"Topic4\", \"Topic4\", \"Topic4\", \"Topic4\", \"Topic4\", \"Topic4\", \"Topic4\", \"Topic4\", \"Topic4\", \"Topic4\", \"Topic4\", \"Topic4\", \"Topic4\", \"Topic4\", \"Topic4\", \"Topic4\", \"Topic4\", \"Topic4\", \"Topic4\", \"Topic4\", \"Topic4\", \"Topic4\", \"Topic4\", \"Topic4\", \"Topic4\", \"Topic4\", \"Topic4\", \"Topic4\", \"Topic4\", \"Topic4\", \"Topic4\", \"Topic4\", \"Topic4\", \"Topic4\", \"Topic4\", \"Topic4\", \"Topic5\", \"Topic5\", \"Topic5\", \"Topic5\", \"Topic5\", \"Topic5\", \"Topic5\", \"Topic5\", \"Topic5\", \"Topic5\", \"Topic5\", \"Topic5\", \"Topic5\", \"Topic5\", \"Topic5\", \"Topic5\", \"Topic5\", \"Topic5\", \"Topic5\", \"Topic5\", \"Topic5\", \"Topic5\", \"Topic5\", \"Topic5\", \"Topic5\", \"Topic5\", \"Topic5\", \"Topic5\", \"Topic5\", \"Topic5\", \"Topic5\", \"Topic5\", \"Topic5\", \"Topic5\", \"Topic5\", \"Topic5\", \"Topic5\", \"Topic5\", \"Topic5\", \"Topic5\", \"Topic5\", \"Topic5\", \"Topic5\", \"Topic5\", \"Topic5\", \"Topic5\", \"Topic5\", \"Topic5\", \"Topic5\", \"Topic5\", \"Topic5\", \"Topic5\", \"Topic5\", \"Topic5\", \"Topic5\", \"Topic5\", \"Topic5\", \"Topic6\", \"Topic6\", \"Topic6\", \"Topic6\", \"Topic6\", \"Topic6\", \"Topic6\", \"Topic6\", \"Topic6\", \"Topic6\", \"Topic6\", \"Topic6\", \"Topic6\", \"Topic6\", \"Topic6\", \"Topic6\", \"Topic6\", \"Topic6\", \"Topic6\", \"Topic6\", \"Topic6\", \"Topic6\", \"Topic6\", \"Topic6\", \"Topic6\", \"Topic6\", \"Topic6\", \"Topic6\", \"Topic6\", \"Topic6\", \"Topic6\", \"Topic6\", \"Topic6\", \"Topic6\", \"Topic6\", \"Topic6\", \"Topic6\", \"Topic6\", \"Topic6\", \"Topic6\", \"Topic6\", \"Topic6\", \"Topic6\", \"Topic6\", \"Topic6\", \"Topic6\", \"Topic6\", \"Topic6\", \"Topic6\", \"Topic6\", \"Topic6\", \"Topic6\", \"Topic6\", \"Topic7\", \"Topic7\", \"Topic7\", \"Topic7\", \"Topic7\", \"Topic7\", \"Topic7\", \"Topic7\", \"Topic7\", \"Topic7\", \"Topic7\", \"Topic7\", \"Topic7\", \"Topic7\", \"Topic7\", \"Topic7\", \"Topic7\", \"Topic7\", \"Topic7\", \"Topic7\", \"Topic7\", \"Topic7\", \"Topic7\", \"Topic7\", \"Topic7\", \"Topic7\", \"Topic7\", \"Topic7\", \"Topic7\", \"Topic7\", \"Topic7\", \"Topic7\", \"Topic7\", \"Topic7\", \"Topic7\", \"Topic7\", \"Topic7\", \"Topic7\", \"Topic7\", \"Topic7\", \"Topic7\", \"Topic7\", \"Topic7\", \"Topic7\", \"Topic7\", \"Topic7\", \"Topic7\", \"Topic7\", \"Topic7\", \"Topic7\", \"Topic7\", \"Topic7\", \"Topic7\", \"Topic7\", \"Topic7\", \"Topic7\", \"Topic7\", \"Topic7\", \"Topic7\", \"Topic7\", \"Topic8\", \"Topic8\", \"Topic8\", \"Topic8\", \"Topic8\", \"Topic8\", \"Topic8\", \"Topic8\", \"Topic8\", \"Topic8\", \"Topic8\", \"Topic8\", \"Topic8\", \"Topic8\", \"Topic8\", \"Topic8\", \"Topic8\", \"Topic8\", \"Topic8\", \"Topic8\", \"Topic8\", \"Topic8\", \"Topic8\", \"Topic8\", \"Topic8\", \"Topic8\", \"Topic8\", \"Topic8\", \"Topic8\", \"Topic8\", \"Topic8\", \"Topic8\", \"Topic8\", \"Topic8\", \"Topic8\", \"Topic8\", \"Topic8\", \"Topic8\", \"Topic8\", \"Topic8\", \"Topic8\", \"Topic8\", \"Topic8\", \"Topic8\", \"Topic8\", \"Topic8\", \"Topic8\", \"Topic8\", \"Topic8\", \"Topic8\", \"Topic8\", \"Topic8\", \"Topic8\", \"Topic8\", \"Topic8\", \"Topic9\", \"Topic9\", \"Topic9\", \"Topic9\", \"Topic9\", \"Topic9\", \"Topic9\", \"Topic9\", \"Topic9\", \"Topic9\", \"Topic9\", \"Topic9\", \"Topic9\", \"Topic9\", \"Topic9\", \"Topic9\", \"Topic9\", \"Topic9\", \"Topic9\", \"Topic9\", \"Topic9\", \"Topic9\", \"Topic9\", \"Topic9\", \"Topic9\", \"Topic9\", \"Topic9\", \"Topic9\", \"Topic9\", \"Topic9\", \"Topic9\", \"Topic9\", \"Topic9\", \"Topic9\", \"Topic9\", \"Topic9\", \"Topic9\", \"Topic9\", \"Topic9\", \"Topic9\", \"Topic9\", \"Topic9\", \"Topic9\", \"Topic9\", \"Topic9\", \"Topic9\", \"Topic9\", \"Topic9\", \"Topic9\", \"Topic9\", \"Topic9\", \"Topic9\", \"Topic9\", \"Topic9\", \"Topic9\", \"Topic9\", \"Topic9\", \"Topic9\", \"Topic10\", \"Topic10\", \"Topic10\", \"Topic10\", \"Topic10\", \"Topic10\", \"Topic10\", \"Topic10\", \"Topic10\", \"Topic10\", \"Topic10\", \"Topic10\", \"Topic10\", \"Topic10\", \"Topic10\", \"Topic10\", \"Topic10\", \"Topic10\", \"Topic10\", \"Topic10\", \"Topic10\", \"Topic10\", \"Topic10\", \"Topic10\", \"Topic10\", \"Topic10\", \"Topic10\", \"Topic10\", \"Topic10\", \"Topic10\", \"Topic10\", \"Topic10\", \"Topic10\", \"Topic10\", \"Topic10\", \"Topic10\", \"Topic10\", \"Topic10\", \"Topic10\", \"Topic10\", \"Topic10\", \"Topic10\", \"Topic10\", \"Topic10\", \"Topic10\", \"Topic10\", \"Topic10\", \"Topic10\", \"Topic10\", \"Topic10\"], \"logprob\": [30.0, 29.0, 28.0, 27.0, 26.0, 25.0, 24.0, 23.0, 22.0, 21.0, 20.0, 19.0, 18.0, 17.0, 16.0, 15.0, 14.0, 13.0, 12.0, 11.0, 10.0, 9.0, 8.0, 7.0, 6.0, 5.0, 4.0, 3.0, 2.0, 1.0, -4.8979, -3.1938, -5.5034, -5.2403, -3.358, -6.221, -3.1083, -4.826, -5.8787, -4.6974, -6.6107, -6.4623, -5.3356, -4.4549, -6.0761, -6.249, -3.8774, -6.1366, -6.3626, -6.2366, -6.2675, -6.4283, -5.4839, -6.6959, -6.1206, -6.3001, -6.2338, -7.0097, -6.2288, -6.7709, -4.8218, -4.5643, -4.7967, -5.8313, -5.1295, -5.3095, -4.8316, -5.4821, -5.2865, -5.4645, -4.6758, -4.6119, -4.9758, -5.3551, -4.5815, -5.3903, -4.9614, -4.7075, -5.087, -5.2772, -5.1371, -5.0437, -5.1896, -5.2402, -5.3212, -5.2873, -5.3073, -4.6286, -4.0482, -5.4253, -4.7804, -6.601, -5.9404, -6.1903, -5.7514, -3.0796, -6.8163, -6.3461, -5.4073, -6.6249, -5.7847, -6.7185, -6.5746, -6.1782, -4.4145, -5.7009, -7.0133, -6.9908, -5.5654, -4.2154, -4.3396, -6.6784, -5.7573, -4.909, -6.8661, -7.0063, -4.0584, -5.8655, -5.5147, -3.7895, -6.1638, -5.09, -5.6847, -4.6387, -4.8386, -5.3031, -4.641, -5.0306, -4.4215, -4.2687, -4.5397, -4.7687, -4.8996, -4.6698, -4.9513, -5.0615, -4.7793, -4.762, -5.2195, -4.9973, -4.8182, -5.0729, -5.2154, -5.2182, -5.5977, -6.0722, -3.2397, -6.4497, -5.3156, -6.2242, -4.1726, -4.8977, -5.4906, -5.0429, -5.1923, -4.9266, -4.2267, -5.1237, -3.9973, -5.3091, -4.4898, -5.6577, -4.0546, -5.008, -4.3476, -6.1902, -6.5028, -6.8359, -5.6241, -5.4097, -6.2635, -6.7131, -7.2842, -5.7013, -4.4397, -5.1566, -4.7834, -4.7419, -4.7957, -4.7949, -4.3985, -4.3037, -5.0447, -4.8319, -4.9053, -4.6694, -4.9801, -5.0001, -4.8608, -4.9071, -4.8834, -4.9473, -4.9715, -5.0085, -5.9227, -4.0798, -5.8037, -6.3644, -4.7425, -5.3361, -5.7967, -4.7946, -4.3948, -6.7511, -6.6729, -6.15, -6.6685, -5.8927, -6.4812, -6.3275, -5.2787, -3.0946, -5.7812, -6.8467, -4.5961, -6.7774, -6.8827, -5.1874, -6.3415, -5.118, -6.5777, -6.5114, -6.6604, -6.6313, -4.0871, -6.1418, -4.4527, -5.4931, -4.2644, -5.3872, -3.8645, -4.5803, -5.4023, -4.3974, -4.6142, -4.8955, -5.6042, -4.5903, -5.0584, -4.9487, -5.0387, -4.8478, -4.7974, -4.5446, -4.652, -5.2037, -4.818, -5.2546, -5.2555, -5.0605, -5.0569, -4.9971, -5.1804, -5.1919, -5.2595, -3.9915, -4.7713, -6.1883, -6.2142, -5.2989, -5.9771, -6.3138, -5.9043, -6.0182, -4.8201, -4.7257, -6.6107, -6.6838, -4.3791, -4.4945, -6.1138, -3.8884, -4.3463, -5.9028, -5.6699, -5.1821, -5.3587, -5.697, -5.658, -6.9215, -6.3331, -6.1401, -4.9142, -6.1792, -5.0865, -5.9497, -4.2283, -4.4646, -5.2146, -4.6826, -4.4483, -5.2196, -4.7585, -3.9491, -4.568, -5.1002, -4.6602, -5.4425, -4.6978, -4.6677, -5.3344, -4.6016, -4.652, -5.155, -4.7451, -4.7855, -4.9785, -5.0553, -4.9823, -5.1073, -5.0966, -3.8077, -5.2633, -5.3354, -5.4486, -6.0612, -5.8468, -5.2238, -5.8055, -5.8693, -6.0623, -6.2069, -3.8114, -5.1607, -3.3449, -5.4928, -5.598, -5.805, -5.9767, -6.5858, -4.9759, -5.5318, -3.3136, -5.4567, -6.5905, -6.5945, -5.3993, -3.2116, -5.4839, -5.8288, -5.1738, -5.3072, -3.6709, -4.6433, -4.1495, -4.8787, -4.9326, -4.7618, -5.0226, -4.6809, -4.5888, -5.0269, -5.0316, -4.6557, -4.5603, -4.9151, -4.8449, -5.1866, -4.9125, -4.9956, -4.8638, -4.9565, -5.0423, -5.0259, -3.9337, -4.2818, -3.4628, -5.977, -5.3047, -5.4388, -5.9716, -4.0707, -4.5071, -4.517, -6.2605, -6.1522, -4.3968, -5.4588, -5.9754, -6.5133, -6.1345, -5.9929, -4.7171, -5.7715, -6.6146, -6.0409, -6.5799, -6.2056, -5.652, -5.7756, -6.9411, -5.1618, -6.614, -5.491, -4.4706, -5.3276, -5.0778, -5.2193, -5.1358, -5.3283, -3.8962, -3.8477, -4.68, -4.8276, -4.9458, -5.2045, -4.6308, -5.1793, -4.7619, -5.171, -4.7579, -4.9586, -5.0537, -4.6831, -4.6446, -5.0402, -4.7109, -5.0946, -5.0114, -5.0038, -5.0269, -4.9705, -5.0712, -5.0511, -4.6656, -4.5757, -4.616, -2.9648, -6.2867, -5.2098, -5.6217, -6.4624, -5.7836, -5.7438, -5.2067, -5.2227, -5.7263, -5.2605, -5.9146, -6.4636, -5.3947, -6.6181, -3.8195, -6.058, -6.9602, -6.2479, -5.2612, -5.2177, -6.1537, -5.9035, -5.1854, -4.8783, -4.8692, -7.0487, -5.161, -4.8733, -4.8465, -5.1951, -5.3464, -4.0258, -4.9462, -5.5022, -4.7052, -4.6302, -4.4882, -4.4639, -4.9842, -4.6585, -4.8221, -4.7687, -4.7591, -4.5824, -4.6361, -5.0156, -5.0572, -5.0335, -5.1789, -5.1674, -5.1818, -4.7283, -5.3607, -3.5781, -4.9823, -5.1705, -4.2616, -6.15, -6.0225, -4.9135, -6.0738, -5.0117, -5.1673, -5.8946, -6.5476, -6.1054, -6.7197, -5.3855, -4.9221, -6.7129, -6.4949, -6.2394, -6.7117, -6.0851, -5.6135, -6.5042, -6.0276, -6.6217, -4.97, -5.7106, -6.4669, -5.2596, -5.5097, -5.2471, -4.8964, -4.1214, -5.4559, -3.7426, -4.7309, -5.1009, -5.3038, -5.6237, -4.8345, -4.9081, -4.8815, -4.4959, -4.8472, -4.918, -4.3042, -4.7516, -4.8504, -4.4261, -4.5994, -4.7814, -4.8326, -4.9066, -5.0736, -5.057, -5.0428, -4.8876, -4.6387, -5.4054, -5.2825, -4.7136, -5.7504, -4.4741, -4.9402, -4.9388, -5.8167, -3.7544, -5.2241, -4.2456, -5.4944, -6.462, -4.1583, -5.6882, -6.4136, -6.4676, -4.2453, -5.6686, -6.3831, -6.1759, -6.7883, -6.1074, -5.1965, -5.7071, -4.1192, -6.8181, -6.5984, -6.2274, -5.1415, -5.3365, -4.0164, -4.6175, -5.1671, -4.1653, -3.9655, -4.8645, -4.897, -5.0969, -4.2135, -4.5163, -4.6908, -4.6461, -4.591, -4.8456, -4.8231, -5.0267, -5.0884], \"loglift\": [30.0, 29.0, 28.0, 27.0, 26.0, 25.0, 24.0, 23.0, 22.0, 21.0, 20.0, 19.0, 18.0, 17.0, 16.0, 15.0, 14.0, 13.0, 12.0, 11.0, 10.0, 9.0, 8.0, 7.0, 6.0, 5.0, 4.0, 3.0, 2.0, 1.0, 1.7986, 1.7211, 1.6563, 1.6079, 1.529, 1.5164, 1.5039, 1.4968, 1.4726, 1.4604, 1.4291, 1.4237, 1.4137, 1.3882, 1.3808, 1.3408, 1.333, 1.3193, 1.3119, 1.2955, 1.2653, 1.2636, 1.2087, 1.2026, 1.1853, 1.1689, 1.1636, 1.1537, 1.1403, 1.1315, 0.9694, 0.8797, 0.8354, 1.0198, 0.7438, 0.6979, 0.4132, 0.7546, 0.6327, 0.6962, -0.0051, -0.1194, 0.1718, 0.5137, -0.2943, 0.5291, 0.0072, -0.3635, 0.0827, 0.3276, -0.1454, -0.6437, -0.2296, -0.234, 0.2319, -0.6729, -0.5773, 1.8458, 1.7107, 1.7103, 1.587, 1.5045, 1.4639, 1.3817, 1.2961, 1.2643, 1.2204, 1.1537, 1.1429, 1.116, 1.1089, 1.1041, 1.0788, 1.0731, 1.0698, 1.0604, 1.0391, 1.0118, 0.9988, 0.9733, 0.9658, 0.9577, 0.9496, 0.926, 0.9141, 0.9063, 0.9015, 0.8948, 0.8795, 0.7031, 0.8969, 0.7321, 0.8191, 0.5732, 0.6054, 0.6873, 0.4414, 0.572, 0.1442, 0.0185, 0.1088, 0.223, 0.2479, 0.0008, 0.2382, 0.3383, -0.0493, -0.1477, 0.4126, -0.0287, -0.4181, -0.0667, -0.1657, -0.2581, 1.7312, 1.4702, 1.3879, 1.3833, 1.3618, 1.333, 1.331, 1.3272, 1.3139, 1.3081, 1.2247, 1.2164, 1.206, 1.1819, 1.1725, 1.1676, 1.1595, 1.1415, 1.1401, 1.1273, 1.0633, 1.0623, 1.0535, 1.0466, 1.017, 0.9913, 0.9549, 0.9432, 0.9285, 0.9265, 0.9034, 0.8497, 0.8214, 0.7888, 0.7857, 0.7549, 0.5617, 0.3448, 0.5085, 0.2742, 0.2842, -0.1038, 0.2647, 0.1959, -0.2465, -0.2365, -0.3909, -0.2173, -0.6275, -0.7214, 1.742, 1.6241, 1.5629, 1.5443, 1.4675, 1.4573, 1.3776, 1.3257, 1.3158, 1.2945, 1.2892, 1.2613, 1.2231, 1.2209, 1.2128, 1.2066, 1.1975, 1.1925, 1.1034, 1.0702, 0.9938, 0.9919, 0.988, 0.9843, 0.9793, 0.972, 0.9662, 0.9362, 0.9246, 0.9161, 0.8815, 0.9001, 0.785, 0.8587, 0.7273, 0.8319, 0.6281, 0.6644, 0.795, 0.5828, 0.5334, 0.6081, 0.8318, 0.3698, 0.5832, 0.479, 0.5145, 0.3409, 0.1625, -0.1446, -0.0398, 0.5312, -0.1474, 0.5817, 0.5574, 0.0219, -0.0334, -0.3486, 0.2523, 0.1512, 2.0021, 1.6872, 1.6311, 1.5939, 1.5845, 1.5526, 1.5246, 1.5175, 1.4915, 1.4911, 1.4888, 1.4111, 1.3986, 1.3983, 1.3884, 1.3534, 1.3513, 1.3493, 1.3262, 1.2799, 1.266, 1.2292, 1.2085, 1.1498, 1.1374, 1.1334, 1.1301, 1.1297, 1.1114, 1.1033, 1.0904, 1.0908, 0.9677, 0.9631, 1.0044, 0.8672, 0.7412, 0.9701, 0.761, 0.3949, 0.5143, 0.736, 0.3316, 0.9668, 0.3257, 0.2925, 0.8628, 0.0259, 0.0186, 0.5855, -0.1308, -0.293, 0.0017, 0.2876, -0.4166, 0.0403, -0.8095, 2.2829, 1.9814, 1.8658, 1.7531, 1.6942, 1.6408, 1.5806, 1.5736, 1.5434, 1.5251, 1.4441, 1.4266, 1.4, 1.3851, 1.3849, 1.3834, 1.3826, 1.3257, 1.306, 1.291, 1.2757, 1.252, 1.249, 1.2363, 1.2311, 1.2209, 1.1884, 1.1745, 1.1698, 1.1445, 1.1321, 0.9777, 1.0241, 0.9566, 1.0153, 0.9866, 0.7556, 0.8938, 0.4667, 0.3711, 0.7642, 0.61, -0.0413, -0.2732, 0.2796, 0.1468, 0.7168, 0.0937, 0.054, -0.5199, -0.2858, -0.0188, -0.3984, 1.8848, 1.8418, 1.8382, 1.7642, 1.6996, 1.6908, 1.6794, 1.6641, 1.5429, 1.5428, 1.5223, 1.5034, 1.4877, 1.4877, 1.4667, 1.4452, 1.4218, 1.4054, 1.3402, 1.2932, 1.2804, 1.2475, 1.2469, 1.244, 1.2419, 1.2371, 1.2247, 1.1951, 1.1694, 1.1582, 1.132, 1.1229, 1.1009, 1.0764, 1.0322, 1.0682, 0.6694, 0.5523, 0.6629, 0.6919, 0.6924, 0.8473, 0.3927, 0.8143, 0.4276, 0.7229, 0.202, 0.4523, 0.5645, -0.0124, -0.3574, 0.4905, -0.367, 0.4868, 0.0947, -0.0236, 0.0555, -0.3219, 0.1407, -0.3211, 1.9096, 1.8943, 1.7429, 1.6496, 1.639, 1.5855, 1.5174, 1.4869, 1.4817, 1.4551, 1.4472, 1.4348, 1.4099, 1.3292, 1.3116, 1.3054, 1.2897, 1.2551, 1.2302, 1.2137, 1.2055, 1.202, 1.186, 1.1679, 1.1634, 1.1476, 1.1329, 1.1153, 1.0979, 1.0869, 1.0833, 1.0431, 1.011, 1.0514, 1.0478, 0.6449, 0.8242, 0.9925, 0.6379, 0.5816, 0.472, 0.2662, 0.6574, 0.3101, 0.4156, 0.3374, 0.3233, 0.0661, -0.0705, 0.1791, -0.051, -0.406, 0.669, 0.2603, 0.6403, 2.2596, 2.1342, 2.0323, 1.8696, 1.7834, 1.6431, 1.6155, 1.6128, 1.5983, 1.5341, 1.4603, 1.3692, 1.3503, 1.3348, 1.316, 1.3051, 1.3043, 1.2952, 1.2364, 1.2277, 1.2164, 1.1832, 1.1692, 1.1689, 1.152, 1.1472, 1.1414, 1.139, 1.132, 1.1287, 1.1002, 1.0858, 1.0486, 0.997, 0.9021, 1.0233, 0.6575, 0.8602, 0.9442, 0.971, 1.0537, 0.8037, 0.8024, 0.7113, 0.5103, 0.6702, 0.6719, 0.1884, 0.4444, 0.36, -0.1389, 0.0281, 0.1988, 0.0544, -0.236, 0.1382, -0.0969, -0.6989, 2.155, 2.0887, 2.0884, 2.0883, 2.0653, 2.0412, 1.8733, 1.7849, 1.751, 1.7415, 1.7227, 1.6318, 1.6277, 1.5925, 1.533, 1.5091, 1.3926, 1.3733, 1.3582, 1.3475, 1.3335, 1.3016, 1.2892, 1.272, 1.2557, 1.2442, 1.2364, 1.2237, 1.2201, 1.2196, 1.2178, 1.1642, 1.1335, 0.9898, 0.9639, 1.0666, 0.8148, 0.6467, 0.876, 0.7321, 0.7845, 0.0737, 0.1323, 0.2778, 0.0246, -0.0985, 0.2041, -0.423, -0.3992, -0.2014]}, \"token.table\": {\"Topic\": [1, 2, 3, 4, 5, 9, 10, 1, 2, 3, 4, 5, 6, 7, 8, 9, 10, 1, 2, 3, 4, 5, 6, 7, 8, 9, 1, 2, 3, 4, 5, 6, 7, 8, 9, 10, 1, 2, 3, 4, 5, 6, 7, 8, 9, 10, 1, 2, 4, 5, 8, 9, 1, 2, 3, 4, 5, 6, 8, 9, 10, 1, 2, 3, 4, 5, 6, 7, 8, 9, 10, 1, 2, 3, 4, 5, 6, 7, 8, 9, 10, 1, 2, 3, 4, 5, 6, 7, 8, 9, 10, 1, 2, 3, 4, 5, 6, 7, 8, 9, 10, 1, 2, 3, 4, 5, 7, 9, 10, 1, 2, 4, 5, 6, 8, 10, 1, 2, 5, 7, 8, 9, 1, 2, 3, 4, 5, 6, 7, 8, 9, 10, 1, 2, 3, 4, 5, 6, 7, 8, 9, 10, 1, 2, 3, 4, 6, 7, 8, 9, 10, 1, 2, 3, 4, 5, 6, 7, 8, 9, 10, 1, 2, 3, 4, 5, 6, 8, 9, 10, 1, 2, 3, 4, 5, 6, 7, 10, 1, 2, 3, 4, 5, 6, 7, 8, 9, 10, 1, 2, 3, 4, 6, 7, 9, 1, 2, 3, 4, 5, 6, 7, 8, 9, 10, 1, 2, 3, 4, 5, 6, 7, 8, 9, 10, 1, 2, 3, 4, 5, 6, 7, 8, 9, 10, 1, 2, 3, 4, 5, 6, 7, 8, 9, 10, 1, 2, 3, 4, 5, 6, 7, 8, 9, 10, 1, 2, 3, 4, 5, 6, 7, 8, 9, 10, 1, 2, 3, 4, 5, 6, 7, 8, 9, 10, 1, 2, 3, 4, 5, 6, 7, 8, 9, 10, 1, 2, 3, 4, 5, 6, 7, 8, 9, 10, 1, 2, 3, 4, 5, 6, 8, 9, 10, 1, 2, 4, 7, 8, 9, 10, 1, 2, 3, 4, 5, 6, 8, 9, 10, 1, 2, 3, 4, 5, 10, 1, 2, 3, 4, 5, 6, 7, 8, 9, 10, 1, 2, 3, 4, 5, 6, 7, 8, 9, 10, 1, 2, 3, 4, 5, 6, 7, 9, 1, 2, 3, 4, 5, 6, 7, 8, 9, 10, 1, 2, 3, 4, 5, 7, 8, 9, 10, 1, 2, 3, 4, 5, 8, 9, 10, 1, 2, 3, 4, 5, 6, 7, 8, 9, 10, 1, 2, 3, 4, 5, 6, 7, 8, 9, 10, 1, 2, 3, 4, 5, 6, 7, 8, 9, 10, 1, 2, 3, 4, 7, 9, 10, 1, 2, 3, 4, 5, 6, 7, 8, 9, 10, 1, 2, 3, 4, 5, 6, 7, 8, 9, 10, 2, 3, 4, 5, 7, 9, 10, 1, 2, 3, 4, 5, 6, 7, 8, 9, 10, 1, 2, 3, 4, 5, 6, 7, 8, 9, 10, 1, 2, 3, 4, 5, 6, 7, 8, 9, 10, 1, 2, 3, 4, 5, 6, 7, 8, 9, 10, 1, 2, 3, 4, 5, 6, 7, 8, 9, 10, 1, 2, 3, 4, 5, 7, 9, 10, 1, 2, 3, 4, 5, 6, 8, 9, 10, 1, 2, 3, 5, 7, 8, 9, 10, 1, 2, 3, 4, 5, 6, 7, 8, 9, 10, 1, 2, 4, 5, 6, 7, 9, 1, 2, 3, 4, 5, 6, 7, 8, 9, 10, 1, 2, 3, 4, 5, 6, 7, 8, 9, 1, 2, 3, 4, 5, 6, 7, 8, 9, 10, 1, 2, 3, 5, 6, 9, 10, 1, 2, 3, 4, 5, 6, 7, 8, 9, 10, 1, 2, 3, 4, 5, 6, 7, 8, 9, 10, 1, 2, 3, 4, 5, 6, 7, 8, 9, 10, 1, 2, 3, 4, 6, 9, 10, 1, 2, 3, 4, 5, 6, 7, 9, 1, 2, 3, 4, 5, 7, 8, 9, 10, 1, 2, 3, 4, 5, 6, 7, 8, 10, 1, 2, 3, 4, 6, 7, 9, 10, 1, 2, 3, 4, 5, 6, 7, 8, 9, 10, 1, 2, 3, 4, 5, 6, 7, 8, 9, 10, 1, 2, 3, 4, 5, 6, 9, 1, 2, 3, 4, 5, 6, 7, 8, 9, 10, 1, 2, 3, 4, 5, 6, 7, 8, 9, 10, 1, 2, 3, 4, 5, 6, 7, 8, 9, 10, 1, 2, 3, 4, 5, 6, 7, 8, 9, 10, 1, 2, 3, 4, 5, 6, 7, 8, 9, 10, 1, 2, 3, 4, 5, 6, 7, 8, 9, 10, 1, 2, 3, 4, 5, 6, 7, 8, 9, 1, 2, 3, 4, 5, 6, 7, 8, 9, 10, 1, 2, 3, 4, 5, 8, 9, 10, 1, 2, 3, 4, 5, 6, 7, 8, 9, 10, 1, 2, 3, 4, 5, 6, 8, 9, 10, 1, 2, 3, 4, 5, 7, 9, 10, 1, 2, 3, 4, 5, 6, 7, 8, 9, 10, 1, 2, 3, 4, 5, 7, 9, 10, 1, 2, 3, 4, 6, 7, 8, 9, 10, 1, 2, 3, 4, 5, 6, 7, 8, 10, 1, 2, 3, 4, 5, 6, 8, 10, 1, 2, 3, 4, 5, 6, 7, 8, 9, 10, 1, 2, 3, 4, 5, 6, 7, 8, 9, 10, 1, 2, 3, 4, 5, 6, 7, 8, 9, 10, 1, 2, 3, 4, 5, 6, 7, 8, 9, 1, 2, 3, 4, 5, 6, 7, 8, 9, 10, 1, 2, 3, 4, 5, 6, 7, 8, 10, 1, 2, 7, 8, 9, 10, 1, 2, 3, 4, 5, 6, 7, 8, 9, 10, 1, 2, 3, 4, 6, 7, 8, 9, 1, 2, 3, 4, 5, 6, 7, 8, 9, 10, 1, 2, 3, 4, 5, 6, 7, 8, 9, 10, 1, 2, 4, 5, 6, 8, 10, 1, 2, 3, 4, 5, 6, 7, 8, 9, 1, 2, 3, 4, 5, 6, 7, 8, 9, 10, 1, 2, 3, 4, 5, 6, 7, 8, 9, 10, 1, 2, 3, 4, 5, 6, 7, 8, 9, 10, 1, 2, 3, 4, 5, 6, 7, 8, 9, 10, 1, 2, 3, 4, 5, 7, 8, 9, 10, 1, 2, 3, 4, 5, 6, 7, 8, 9, 10, 2, 3, 4, 6, 7, 8, 9, 1, 2, 3, 4, 5, 6, 7, 8, 9, 10, 1, 2, 3, 4, 5, 6, 7, 8, 9, 10, 1, 2, 3, 4, 5, 6, 7, 8, 9, 10, 1, 2, 4, 5, 8, 9, 10, 1, 2, 3, 4, 5, 6, 7, 8, 9, 10, 1, 2, 3, 4, 5, 6, 7, 8, 9, 10, 1, 2, 3, 4, 5, 6, 7, 8, 9, 10, 1, 2, 3, 4, 5, 6, 7, 8, 9, 10, 1, 2, 3, 6, 8, 9, 10, 1, 2, 3, 4, 5, 7, 8, 9, 10, 1, 2, 3, 4, 5, 6, 7, 8, 9, 10, 1, 2, 3, 4, 5, 6, 7, 8, 9, 10, 2, 3, 4, 5, 6, 7, 9, 10, 1, 2, 3, 4, 5, 6, 7, 8, 9, 10, 1, 2, 3, 4, 5, 6, 7, 8, 9, 10, 1, 2, 3, 4, 5, 6, 7, 8, 9, 10, 1, 4, 5, 6, 8, 9, 10, 1, 2, 3, 4, 5, 6, 7, 8, 9, 10, 1, 2, 3, 4, 5, 6, 7, 8, 9, 10, 1, 2, 3, 4, 5, 8, 10, 1, 2, 3, 4, 6, 7, 8, 9, 10, 1, 2, 3, 4, 5, 6, 7, 8, 9, 10, 1, 2, 3, 4, 5, 8, 10, 1, 2, 3, 5, 6, 7, 8, 9, 1, 2, 3, 4, 5, 6, 7, 8, 9, 10, 1, 2, 3, 4, 5, 6, 7, 8, 9, 10, 1, 2, 3, 4, 5, 6, 7, 8, 9, 10, 1, 2, 3, 4, 5, 6, 7, 8, 9, 10, 1, 2, 3, 4, 5, 6, 7, 8, 9, 10, 1, 2, 3, 4, 5, 6, 7, 8, 9, 10, 1, 2, 3, 4, 5, 8, 9, 10, 1, 2, 4, 7, 10, 1, 2, 3, 4, 5, 6, 7, 8, 9, 10, 1, 2, 3, 4, 5, 6, 7, 8, 9, 10, 1, 2, 3, 4, 5, 6, 7, 8, 9, 10, 1, 2, 3, 4, 5, 6, 7, 8, 9, 10, 1, 2, 3, 4, 5, 6, 7, 8, 9, 10, 1, 2, 3, 4, 5, 6, 7, 10, 1, 2, 3, 4, 5, 6, 7, 9, 10, 1, 2, 3, 4, 5, 6, 7, 8, 9, 10, 1, 2, 3, 5, 8, 9, 10, 1, 2, 3, 4, 5, 6, 7, 8, 9, 10, 1, 2, 3, 4, 5, 6, 7, 8, 9, 10, 1, 2, 3, 4, 5, 7, 8, 9, 10, 1, 2, 3, 4, 5, 6, 7, 8, 10, 1, 2, 3, 4, 5, 6, 7, 8, 9, 10, 1, 2, 3, 4, 5, 6, 7, 8, 9, 10, 1, 2, 3, 4, 5, 8, 9, 10, 1, 2, 3, 4, 5, 6, 7, 8, 9, 10, 1, 2, 3, 4, 5, 6, 7, 8, 9, 10, 1, 2, 3, 4, 5, 6, 7, 8, 9, 10, 1, 2, 3, 4, 6, 7, 8, 9, 10, 1, 2, 3, 4, 5, 6, 7, 8, 9, 10, 1, 2, 3, 4, 5, 7, 9, 10, 1, 2, 3, 4, 5, 6, 7, 8, 9, 10, 1, 2, 3, 4, 5, 6, 7, 8, 9, 10, 1, 2, 3, 4, 5, 6, 7, 8, 9, 10, 1, 2, 3, 4, 5, 6, 7, 8, 9, 10, 1, 2, 3, 4, 5, 7, 9, 10, 1, 2, 3, 4, 5, 6, 7, 8, 9, 10, 1, 2, 5, 7, 8, 9, 10, 1, 2, 3, 4, 5, 6, 7, 9, 10, 1, 2, 3, 4, 6, 8, 9, 10, 1, 2, 3, 4, 5, 6, 7, 8, 9, 10, 1, 2, 3, 4, 5, 6, 7, 8, 9, 10, 1, 2, 3, 4, 5, 6, 7, 8, 9, 10, 1, 2, 3, 4, 5, 6, 7, 8, 9, 10, 1, 2, 3, 4, 5, 6, 7, 8, 9, 10, 1, 2, 3, 4, 5, 6, 7, 8, 9, 10, 1, 2, 3, 4, 5, 6, 7, 8, 9, 10, 1, 2, 3, 4, 5, 6, 8, 9, 10, 1, 2, 3, 4, 5, 6, 7, 8, 9, 10, 1, 2, 3, 4, 5, 8, 1, 2, 3, 5, 6, 7, 8, 9, 10, 1, 2, 3, 4, 5, 6, 7, 8, 9, 10, 1, 2, 3, 4, 5, 6, 7, 8, 9, 10, 1, 2, 3, 4, 5, 6, 7, 9, 10, 1, 2, 3, 5, 6, 7, 8, 9, 10, 1, 2, 3, 4, 5, 6, 7, 8, 9, 10, 1, 2, 3, 4, 5, 6, 7, 8, 9, 10, 1, 2, 3, 4, 5, 6, 7, 8, 9, 10, 1, 2, 3, 4, 5, 6, 7, 8, 9, 10, 1, 2, 3, 4, 5, 6, 7, 8, 9, 10, 1, 2, 3, 4, 5, 6, 7, 8, 9, 10, 1, 2, 3, 5, 6, 7, 8, 10, 1, 2, 3, 4, 5, 6, 7, 8, 9, 10, 1, 2, 3, 4, 5, 6, 7, 8, 9, 10, 1, 2, 3, 4, 5, 6, 7, 8, 9, 10, 1, 2, 3, 4, 5, 6, 7, 8, 9, 10, 1, 2, 3, 4, 5, 6, 7, 8, 9, 10, 1, 2, 3, 4, 5, 6, 7, 8, 9, 1, 2, 3, 4, 5, 6, 7, 10, 1, 2, 3, 4, 5, 6, 7, 8, 9, 10, 1, 2, 3, 4, 5, 6, 7, 8, 9, 10, 1, 3, 4, 5, 6, 7, 8, 9, 10, 1, 2, 3, 4, 5, 6, 7, 8, 9, 10, 1, 2, 3, 4, 5, 6, 7, 8, 9, 10, 1, 2, 3, 4, 5, 6, 7, 8, 9, 10, 1, 2, 3, 4, 5, 6, 7, 8, 9, 10, 1, 2, 3, 4, 5, 6, 7, 8, 9, 10, 1, 2, 3, 4, 5, 6, 9, 1, 2, 3, 4, 5, 6, 7, 8, 9, 10, 1, 2, 3, 4, 5, 6, 7, 8, 10, 1, 2, 3, 4, 5, 6, 7, 8, 9, 10, 1, 2, 3, 4, 5, 6, 7, 8, 9, 10, 1, 2, 3, 4, 5, 6, 7, 8, 9, 10, 1, 2, 3, 4, 5, 6, 7, 8, 9, 10, 1, 2, 3, 4, 5, 6, 7, 8, 9, 10, 1, 2, 3, 4, 5, 6, 7, 8, 9, 10, 1, 2, 3, 4, 5, 6, 7, 8, 9, 10, 1, 2, 3, 4, 5, 6, 7, 8, 9, 10, 1, 2, 3, 4, 5, 6, 7, 8, 9, 10, 1, 2, 4, 5, 9, 10, 1, 2, 3, 4, 5, 6, 7, 8, 9, 10, 1, 2, 4, 5, 6, 7, 8, 10, 1, 2, 3, 4, 5, 6, 7, 8, 9, 10, 1, 2, 3, 4, 5, 6, 7, 8, 9, 10, 1, 2, 3, 4, 5, 6, 7, 8, 9, 10, 1, 2, 3, 4, 5, 6, 7, 8, 9, 10, 1, 2, 3, 4, 5, 6, 7, 8, 9, 10, 1, 2, 3, 4, 6, 7, 8, 10, 1, 2, 3, 4, 5, 6, 7, 8, 9, 10, 1, 2, 3, 4, 5, 6, 7, 8, 9, 10, 1, 2, 3, 4, 5, 7, 9, 1, 2, 3, 4, 5, 6, 7, 8, 9, 10, 1, 2, 3, 4, 5, 6, 7, 8, 9, 10, 1, 2, 3, 4, 5, 6, 7, 9, 1, 2, 3, 4, 5, 6, 7, 8, 9, 10, 1, 2, 3, 4, 6, 8, 10, 1, 2, 3, 4, 5, 6, 8, 9, 10, 1, 2, 3, 4, 5, 6, 7, 8, 9, 10, 1, 2, 3, 4, 5, 6, 7, 8, 9, 10, 1, 2, 3, 4, 8, 10, 1, 2, 3, 4, 5, 6, 7, 8, 9, 10, 1, 2, 3, 4, 5, 6, 7, 8, 9, 10, 1, 2, 3, 4, 5, 8, 9, 10, 1, 2, 3, 4, 5, 6, 7, 8, 9, 10, 1, 2, 3, 4, 5, 6, 7, 8, 9, 10, 1, 2, 3, 4, 5, 6, 7, 8, 10, 1, 2, 3, 4, 5, 6, 7, 8, 9, 10, 1, 2, 3, 4, 5, 7, 8, 9, 10, 1, 2, 3, 4, 5, 6, 8, 9, 10, 1, 3, 4, 5, 6, 7, 8, 9, 10, 1, 4, 5, 6, 7, 8, 9, 10, 1, 2, 3, 4, 5, 6, 7, 8, 9, 10, 1, 2, 3, 4, 5, 6, 7, 8, 9, 10, 1, 2, 3, 4, 5, 7, 9, 10, 1, 2, 3, 4, 5, 6, 7, 8, 9, 10, 1, 2, 3, 4, 5, 6, 7, 8, 9, 10, 1, 2, 3, 4, 5, 6, 7, 8, 9, 10, 1, 2, 3, 4, 5, 6, 7, 8, 9, 10, 1, 2, 3, 4, 5, 6, 8, 9, 10, 1, 2, 3, 4, 5, 6, 7, 8, 9, 10, 1, 2, 3, 4, 5, 6, 7, 8, 9, 1, 2, 3, 4, 5, 7, 8, 9, 10, 1, 2, 3, 4, 5, 7, 8, 10, 1, 2, 3, 4, 5, 6, 7, 8, 9, 10, 1, 2, 3, 4, 5, 6, 7, 8, 9, 10, 1, 2, 3, 4, 5, 6, 7, 8, 9, 10, 1, 2, 3, 4, 5, 6, 7, 8, 9, 10, 1, 2, 3, 4, 5, 6, 7, 8, 9, 10, 1, 2, 3, 4, 5, 6, 7, 8, 9, 10, 1, 2, 3, 4, 5, 6, 7, 9, 1, 2, 3, 4, 5, 6, 7, 8, 9, 10, 1, 2, 3, 4, 5, 6, 7, 1, 2, 3, 4, 5, 6, 7, 8, 9, 10, 1, 2, 3, 4, 5, 6, 7, 8, 9, 10, 1, 2, 3, 4, 5, 6, 7, 8, 9, 10, 1, 2, 3, 4, 5, 6, 7, 8, 9, 10, 1, 2, 3, 4, 5, 6, 7, 8, 9, 1, 2, 3, 4, 5, 6, 7, 8, 9, 1, 2, 3, 4, 5, 6, 7, 8, 9, 10, 2, 3, 4, 8, 9, 10, 1, 2, 3, 4, 5, 6, 7, 8, 10, 1, 2, 3, 4, 5, 6, 7, 8, 9, 10, 1, 2, 3, 4, 5, 6, 7, 8, 9, 10, 1, 2, 3, 4, 5, 6, 7, 8, 9, 10, 1, 2, 3, 4, 5, 6, 7, 8, 9, 10, 1, 2, 3, 4, 5, 6, 7, 8, 10, 1, 2, 3, 4, 5, 6, 7, 8, 9, 10, 1, 2, 3, 4, 5, 6, 7, 8, 9, 10, 1, 2, 3, 4, 5, 6, 7, 8, 9, 10, 1, 2, 3, 4, 5, 6, 7, 8, 9, 10, 1, 2, 3, 4, 5, 6, 7, 8, 9, 1, 2, 3, 4, 5, 6, 7, 8, 9, 10, 1, 2, 3, 4, 5, 6, 7, 9, 1, 2, 3, 4, 5, 6, 7, 8, 9, 10, 1, 3, 4, 5, 6, 7, 8, 9, 10, 1, 2, 3, 4, 5, 6, 7, 8, 9, 10, 1, 2, 3, 4, 5, 6, 7, 8, 9, 1, 2, 3, 4, 5, 6, 7, 8, 9, 10, 1, 2, 3, 4, 5, 6, 7, 8, 9, 10, 1, 2, 3, 4, 5, 6, 7, 8, 9, 10, 1, 2, 3, 4, 5, 6, 7, 8, 9, 10, 1, 2, 3, 4, 5, 6, 7, 8, 9, 1, 2, 3, 4, 5, 6, 7, 8, 9, 10, 1, 2, 3, 4, 5, 6, 7, 8, 9, 10, 1, 2, 3, 4, 5, 6, 7, 8, 9, 10, 1, 2, 3, 4, 5, 6, 7, 8, 9, 10, 1, 2, 3, 4, 5, 6, 7, 8, 9, 10, 1, 2, 3, 4, 5, 6, 7, 8, 9, 10, 1, 2, 3, 4, 5, 6, 7, 8, 9, 1, 2, 3, 4, 5, 6, 7, 8, 9, 10, 1, 2, 3, 4, 6, 7, 10, 1, 2, 3, 4, 5, 6, 7, 8, 9, 10, 2, 3, 5, 6, 8, 9, 10, 1, 2, 3, 4, 5, 6, 7, 9, 10, 1, 2, 3, 4, 5, 6, 7, 8, 9, 10, 1, 2, 3, 4, 5, 6, 7, 8, 9, 10, 1, 2, 3, 4, 5, 6, 7, 8, 9, 10, 1, 2, 3, 4, 5, 6, 8, 9, 1, 2, 3, 4, 5, 6, 7, 8, 9, 10, 1, 2, 3, 4, 5, 6, 7, 8, 9, 10, 1, 2, 3, 4, 5, 6, 7, 8, 9, 10, 1, 2, 3, 4, 5, 6, 7, 8, 9, 10, 1, 2, 3, 4, 5, 6, 7, 8, 9, 10, 1, 2, 3, 4, 5, 6, 9, 10, 1, 2, 3, 4, 5, 6, 7, 8, 9, 10, 1, 2, 3, 4, 5, 6, 7, 9, 10, 1, 2, 3, 6, 9, 1, 2, 3, 4, 5, 6, 7, 8, 9, 10, 1, 2, 3, 4, 5, 6, 7, 8, 9, 10, 1, 2, 3, 4, 5, 6, 7, 8, 9, 10, 1, 2, 3, 4, 5, 6, 7, 8, 9, 10, 1, 2, 3, 4, 5, 6, 7, 8, 9, 10, 1, 2, 3, 4, 5, 6, 7, 8, 9, 10, 1, 2, 3, 4, 5, 6, 7, 8, 9, 10, 1, 2, 3, 4, 5, 6, 7, 8, 9, 10, 1, 2, 3, 4, 5, 6, 7, 8, 9, 10, 1, 2, 4, 5, 7, 8, 9, 10, 1, 2, 3, 4, 5, 6, 7, 8, 9, 10, 1, 2, 3, 4, 5, 6, 7, 8, 10, 1, 2, 3, 4, 5, 6, 7, 8, 9, 10, 1, 2, 3, 4, 5, 6, 7, 8, 9, 10, 1, 2, 3, 4, 5, 6, 7, 9, 10, 1, 2, 3, 4, 5, 6, 7, 8, 9, 10, 1, 2, 4, 5, 7, 9, 10, 1, 2, 3, 4, 5, 6, 8, 9, 10, 1, 2, 3, 4, 5, 6, 7, 8, 9, 10, 1, 2, 3, 4, 5, 6, 7, 8, 9, 10, 1, 2, 3, 4, 5, 6, 7, 8, 9, 10, 1, 2, 3, 4, 5, 6, 7, 8, 9, 10, 1, 2, 3, 4, 5, 6, 7, 8, 9, 10, 1, 2, 3, 4, 5, 6, 7, 8, 9, 10, 1, 2, 3, 4, 5, 6, 7, 8, 9, 10, 1, 2, 3, 4, 5, 6, 7, 8, 9, 10, 1, 2, 3, 4, 5, 6, 7, 8, 9, 10, 1, 2, 3, 4, 5, 6, 7, 8, 9, 10, 1, 2, 3, 4, 5, 6, 7, 8, 9, 10, 1, 2, 3, 4, 5, 6, 7, 8, 9, 10, 1, 2, 3, 4, 5, 6, 7, 8, 9, 10, 1, 2, 3, 4, 5, 6, 7, 8, 9, 10, 1, 2, 3, 4, 5, 6, 7, 8, 9, 10, 1, 2, 3, 4, 5, 6, 7, 8, 9, 10, 1, 2, 3, 4, 5, 6, 7, 8, 9, 10, 1, 2, 3, 4, 5, 6, 7, 8, 9, 10, 1, 2, 3, 4, 5, 6, 7, 8, 9, 10, 1, 2, 3, 4, 5, 6, 7, 8, 9, 10, 1, 2, 3, 4, 7, 8, 9, 1, 2, 3, 4, 5, 6, 7, 8, 9, 10, 1, 2, 3, 4, 5, 6, 7, 8, 9, 10, 1, 2, 3, 4, 5, 6, 7, 9, 10, 1, 2, 3, 4, 5, 6, 7, 8, 10, 1, 2, 3, 4, 5, 6, 7, 8, 9, 10], \"Freq\": [0.5761405070554774, 0.1536374685481273, 0.03840936713703182, 0.07681873427406365, 0.03840936713703182, 0.03840936713703182, 0.03840936713703182, 0.024825973017062505, 0.06620259471216668, 0.4551428386461459, 0.04137662169510417, 0.14895583810237503, 0.03310129735608334, 0.1406805137633542, 0.04137662169510417, 0.03310129735608334, 0.024825973017062505, 0.040920455258931156, 0.08184091051786231, 0.08184091051786231, 0.08184091051786231, 0.040920455258931156, 0.040920455258931156, 0.040920455258931156, 0.3682840973303804, 0.24552273155358695, 0.03595527622379141, 0.121349057255296, 0.06741614291960889, 0.08089937150353067, 0.16629315253503527, 0.13932669536719172, 0.13483228583921777, 0.04943850480771319, 0.03595527622379141, 0.16179874300706135, 0.04947552341548782, 0.06596736455398376, 0.06596736455398376, 0.23088577593894316, 0.280361299354431, 0.18141025252345533, 0.03298368227699188, 0.04947552341548782, 0.04947552341548782, 0.01649184113849594, 0.45620447276516374, 0.10137877172559194, 0.1520681575883879, 0.10137877172559194, 0.10137877172559194, 0.05068938586279597, 0.12176842492811711, 0.027059649984026025, 0.28412632483227324, 0.027059649984026025, 0.09470877494409109, 0.040589474976039035, 0.08117894995207807, 0.2164771998722082, 0.09470877494409109, 0.0347040234942227, 0.14714505961550425, 0.11105287518151263, 0.037480345373760514, 0.05969092041006304, 0.31650069426731103, 0.16935563465180678, 0.07912517356682776, 0.029151379735147066, 0.01388160939768908, 0.0417736808510472, 0.06683788936167552, 0.06683788936167552, 0.0417736808510472, 0.1462078829786652, 0.25064208510628316, 0.02506420851062832, 0.01253210425531416, 0.03341894468083776, 0.3049478702126445, 0.3385927772255255, 0.026045598248117346, 0.026045598248117346, 0.013022799124058673, 0.05209119649623469, 0.4427751702179949, 0.013022799124058673, 0.03906839737217602, 0.026045598248117346, 0.013022799124058673, 0.062180802601463955, 0.062180802601463955, 0.04663560195109796, 0.21763280910512384, 0.062180802601463955, 0.35753961495841774, 0.04663560195109796, 0.04663560195109796, 0.062180802601463955, 0.04663560195109796, 0.5061245083231665, 0.18979669062118742, 0.031632781770197904, 0.15816390885098952, 0.031632781770197904, 0.031632781770197904, 0.031632781770197904, 0.031632781770197904, 0.3451309260261327, 0.049304418003733246, 0.049304418003733246, 0.049304418003733246, 0.049304418003733246, 0.24652209001866623, 0.14791325401119976, 0.07210186433044258, 0.39656025381743415, 0.18025466082610642, 0.18025466082610642, 0.03605093216522129, 0.10815279649566385, 0.11081412271881481, 0.04155529601955556, 0.13390039828523456, 0.16160392896493828, 0.3647631539494321, 0.06925882669925926, 0.02308627556641975, 0.009234510226567901, 0.027703530679703704, 0.06002431647269135, 0.18979935631571532, 0.10280798467101246, 0.403323632170895, 0.031633226052619215, 0.07117475861839324, 0.05535814559208363, 0.007908306513154804, 0.07908306513154804, 0.031633226052619215, 0.031633226052619215, 0.06646640037349526, 0.06646640037349526, 0.03323320018674763, 0.06646640037349526, 0.03323320018674763, 0.49849800280121437, 0.16616600093373812, 0.03323320018674763, 0.03323320018674763, 0.052595362462956145, 0.14792445692706416, 0.13806282646525989, 0.1840837686203465, 0.23996634123723742, 0.029584891385412832, 0.016436050769673798, 0.11176514523378181, 0.03944652184721711, 0.03615931169328235, 0.015647203538014316, 0.03129440707602863, 0.04694161061404295, 0.015647203538014316, 0.12517762830411452, 0.015647203538014316, 0.03129440707602863, 0.6728297521346156, 0.03129440707602863, 0.0951015484611077, 0.03170051615370256, 0.1902030969222154, 0.3804061938444308, 0.0951015484611077, 0.06340103230740513, 0.06340103230740513, 0.06340103230740513, 0.2135412902535154, 0.09034439203033344, 0.16152482211483857, 0.22175441680172753, 0.06844272123510109, 0.05475417698808087, 0.06022959468688896, 0.062967303536293, 0.0438033415904647, 0.02190167079523235, 0.10897003595869206, 0.08172752696901905, 0.5448501797934603, 0.05448501797934603, 0.10897003595869206, 0.027242508989673016, 0.027242508989673016, 0.08731060707258163, 0.06548295530443622, 0.02182765176814541, 0.3055871247540357, 0.06548295530443622, 0.06548295530443622, 0.08731060707258163, 0.06548295530443622, 0.13096591060887244, 0.08731060707258163, 0.7933275851448157, 0.029528322027722667, 0.04921387004620445, 0.03937109603696356, 0.00984277400924089, 0.013779883612937246, 0.00984277400924089, 0.003937109603696356, 0.01968554801848178, 0.029528322027722667, 0.03302987894602848, 0.08257469736507121, 0.03302987894602848, 0.2807539710412421, 0.26423903156822787, 0.03302987894602848, 0.04954481841904272, 0.16514939473014242, 0.03302987894602848, 0.03302987894602848, 0.1977475944478717, 0.16610797933621224, 0.06327923022331895, 0.07118913400123382, 0.06327923022331895, 0.07118913400123382, 0.08700894155706355, 0.039549518889574344, 0.023729711333744605, 0.21356740200370145, 0.07235003007880299, 0.036175015039401494, 0.012058338346467166, 0.02411667669293433, 0.036175015039401494, 0.1808750751970075, 0.012058338346467166, 0.060291691732335825, 0.012058338346467166, 0.5426252255910224, 0.2240655483158692, 0.08962621932634768, 0.02240655483158692, 0.08962621932634768, 0.04481310966317384, 0.03360983224738038, 0.03360983224738038, 0.3585048773053907, 0.08962621932634768, 0.02240655483158692, 0.2876145633501301, 0.10565432939392534, 0.058696849663291854, 0.18782991892253395, 0.06456653462962104, 0.029348424831645927, 0.04695747973063349, 0.07043621959595023, 0.0821755895286086, 0.06456653462962104, 0.04631067470202725, 0.13893202410608174, 0.06367717771528747, 0.034733006026520435, 0.08683251506630109, 0.06946601205304087, 0.1968203674836158, 0.2604975451989033, 0.011577668675506813, 0.0926213494040545, 0.051298498671529656, 0.0789207671869687, 0.06708265210892339, 0.09470492062436243, 0.035514345234135915, 0.06708265210892339, 0.02367623015609061, 0.015784153437393738, 0.5406072552307356, 0.027622268515439044, 0.16610622338266165, 0.3986549361183879, 0.03322124467653233, 0.19932746805919396, 0.06644248935306465, 0.03322124467653233, 0.03322124467653233, 0.03322124467653233, 0.03322124467653233, 0.07923019207028689, 0.11884528810543034, 0.31692076828114757, 0.19807548017571724, 0.07923019207028689, 0.039615096035143446, 0.11884528810543034, 0.22738027943472564, 0.13642816766083538, 0.09095211177389025, 0.04547605588694512, 0.27285633532167075, 0.09095211177389025, 0.04547605588694512, 0.04547605588694512, 0.04547605588694512, 0.5823769453585504, 0.04479822656604235, 0.0895964531320847, 0.04479822656604235, 0.13439467969812705, 0.04479822656604235, 0.373520916668104, 0.13711527320727868, 0.028368677215299037, 0.0756498059074641, 0.056737354430598075, 0.19385262763787675, 0.028368677215299037, 0.014184338607649519, 0.056737354430598075, 0.03309679008451555, 0.05152459110988293, 0.06440573888735367, 0.10304918221976586, 0.48948361554388786, 0.038643443332412195, 0.012881147777470733, 0.05152459110988293, 0.15457377332964878, 0.038643443332412195, 0.012881147777470733, 0.08968357503202569, 0.02989452501067523, 0.08968357503202569, 0.14947262505337616, 0.02989452501067523, 0.11957810004270092, 0.11957810004270092, 0.35873430012810276, 0.1549322710134554, 0.07619619885907643, 0.3987601073625, 0.10921455169800955, 0.048257592610748405, 0.06349683238256369, 0.020318986362420383, 0.038098099429538214, 0.0685765789731688, 0.02285885965772293, 0.4476834170205113, 0.1178114255317135, 0.0235622851063427, 0.0471245702126854, 0.0471245702126854, 0.0235622851063427, 0.0706868553190281, 0.1884982808507416, 0.0235622851063427, 0.02591091612032729, 0.05182183224065458, 0.38866374180490937, 0.07773274836098187, 0.19433187090245468, 0.09068820642114551, 0.09068820642114551, 0.06477729030081822, 0.13571154446643094, 0.0697945085827359, 0.0736719812817768, 0.06591703588369502, 0.0697945085827359, 0.08918187207794033, 0.04265219968944972, 0.05428461778657237, 0.1434664898645127, 0.2597906708357392, 0.08408608336762588, 0.04204304168381294, 0.07007173613968823, 0.09810043059556353, 0.04204304168381294, 0.3643730279263788, 0.12612912505143883, 0.08408608336762588, 0.04204304168381294, 0.056057388911750584, 0.14295774830583483, 0.10211267736131058, 0.10211267736131058, 0.16338028377809694, 0.06126760641678635, 0.08169014188904847, 0.020422535472262117, 0.06126760641678635, 0.2246478901948833, 0.06126760641678635, 0.5284772167183827, 0.09326068530324401, 0.062173790202162675, 0.09326068530324401, 0.031086895101081338, 0.031086895101081338, 0.12434758040432535, 0.06106526259744029, 0.05670345812619455, 0.047979849183703085, 0.427456838182082, 0.06542706706868602, 0.03925624024121161, 0.02617082682747441, 0.07415067601117749, 0.15702496096484644, 0.04361804471245735, 0.4556292169968424, 0.05062546855520471, 0.1771891399432165, 0.025312734277602354, 0.05062546855520471, 0.05062546855520471, 0.025312734277602354, 0.025312734277602354, 0.07593820283280707, 0.05062546855520471, 0.7073557382236667, 0.14509861296895726, 0.036274653242239316, 0.018137326621119658, 0.018137326621119658, 0.036274653242239316, 0.036274653242239316, 0.07653023849046699, 0.37221525083999857, 0.16001777138915826, 0.04522241365345777, 0.05217970806168204, 0.04522241365345777, 0.11131671053158836, 0.07305159128635486, 0.024350530428784954, 0.04174376644934563, 0.12798403030757458, 0.14626746320865666, 0.18283432901082083, 0.05485029870324625, 0.018283432901082083, 0.042661343435858194, 0.12188955267388055, 0.036566865802164165, 0.18283432901082083, 0.08532268687171639, 0.08567155121670171, 0.11137301658171221, 0.05140293073002102, 0.16277594731173325, 0.07710439609503153, 0.03426862048668068, 0.07710439609503153, 0.27414896389344545, 0.03426862048668068, 0.09423870633837188, 0.10256070994241563, 0.098458281544719, 0.393833126178876, 0.05743399756775275, 0.10256070994241563, 0.0492291407723595, 0.04102428397696625, 0.06974128276084263, 0.05743399756775275, 0.02461457038617975, 0.2228231068949429, 0.029709747585992385, 0.04456462137898858, 0.08912924275797716, 0.32680722344591623, 0.08912924275797716, 0.04456462137898858, 0.08912924275797716, 0.014854873792996192, 0.07427436896498096, 0.11624959205713399, 0.46499836822853596, 0.03321416915918114, 0.13285667663672457, 0.03321416915918114, 0.04982125373877171, 0.01660708457959057, 0.14946376121631513, 0.058314559080632496, 0.058314559080632496, 0.07775274544084332, 0.09719093180105415, 0.0680336522607379, 0.09719093180105415, 0.15550549088168664, 0.34988735448379493, 0.029157279540316248, 0.04076865672804861, 0.04076865672804861, 0.3465335821884132, 0.08153731345609722, 0.18345895527621875, 0.06115298509207291, 0.16307462691219443, 0.06115298509207291, 0.1041441297435036, 0.19341052666650668, 0.14133846179475487, 0.0520720648717518, 0.02231659923075077, 0.014877732820500512, 0.05951093128200205, 0.25292145794850873, 0.13389959538450463, 0.04463319846150154, 0.24265283445196573, 0.0693293812719902, 0.1039940719079853, 0.0346646906359951, 0.17332345317997552, 0.2773175250879608, 0.0693293812719902, 0.25855686464999145, 0.11491416206666286, 0.05745708103333143, 0.11491416206666286, 0.028728540516665714, 0.028728540516665714, 0.028728540516665714, 0.05745708103333143, 0.2298283241333257, 0.08618562154999715, 0.04827361827752805, 0.07241042741629208, 0.024136809138764027, 0.024136809138764027, 0.07241042741629208, 0.24136809138764026, 0.14482085483258417, 0.0965472365550561, 0.2655049005264043, 0.12694011827624502, 0.10578343189687085, 0.14280763306077565, 0.10578343189687085, 0.052891715948435426, 0.185121005819524, 0.13222928987108856, 0.07933757392265314, 0.031735029569061254, 0.042313372758748344, 0.03873000670457437, 0.03873000670457437, 0.13555502346601028, 0.07746001340914874, 0.5809501005686155, 0.05809501005686155, 0.05809501005686155, 0.1096424791397935, 0.2539088990605744, 0.0634772247651436, 0.13849576312394968, 0.028853283984156184, 0.07501853835880608, 0.04039459757781866, 0.08655985195246854, 0.07501853835880608, 0.13272510632711845, 0.1370701696712102, 0.31152311288911405, 0.07476554709338737, 0.07476554709338737, 0.049843698062258246, 0.037382773546693684, 0.09968739612451649, 0.07476554709338737, 0.07476554709338737, 0.06230462257782281, 0.07482996608935723, 0.05986397287148579, 0.17959191861445736, 0.08979595930722868, 0.14965993217871446, 0.05986397287148579, 0.014965993217871447, 0.029931986435742894, 0.08979595930722868, 0.23945589148594315, 0.13398042542758548, 0.44660141809195164, 0.08932028361839033, 0.08932028361839033, 0.04466014180919516, 0.08932028361839033, 0.04466014180919516, 0.38328665781237165, 0.05475523683033881, 0.027377618415169405, 0.273776184151694, 0.136888092075847, 0.027377618415169405, 0.05475523683033881, 0.027377618415169405, 0.22696529696475418, 0.0756550989882514, 0.1513101979765028, 0.3026203959530056, 0.0378275494941257, 0.0378275494941257, 0.0378275494941257, 0.0756550989882514, 0.0378275494941257, 0.06610028926973965, 0.08262536158717457, 0.08262536158717457, 0.016525072317434913, 0.08262536158717457, 0.04957521695230474, 0.016525072317434913, 0.016525072317434913, 0.578377531110222, 0.5126602340717884, 0.05396423516545141, 0.026982117582725704, 0.0809463527481771, 0.10792847033090282, 0.10792847033090282, 0.05396423516545141, 0.026982117582725704, 0.4352497586031812, 0.045815764063492755, 0.045815764063492755, 0.13744729219047827, 0.045815764063492755, 0.022907882031746377, 0.022907882031746377, 0.06872364609523914, 0.06872364609523914, 0.06872364609523914, 0.18509761011335754, 0.046274402528339385, 0.023137201264169693, 0.09254880505667877, 0.11568600632084847, 0.4396068240192242, 0.023137201264169693, 0.023137201264169693, 0.06941160379250909, 0.023137201264169693, 0.03827308498435244, 0.03827308498435244, 0.34445776485917196, 0.03827308498435244, 0.07654616996870488, 0.11481925495305732, 0.2679115948904671, 0.08638279423947083, 0.12340399177067261, 0.055531796296802674, 0.06787219547386994, 0.09255299382800446, 0.06787219547386994, 0.33319077778081607, 0.055531796296802674, 0.06170199588533631, 0.06787219547386994, 0.14878361201602897, 0.04698429853137757, 0.09396859706275514, 0.08613788064085888, 0.07830716421896261, 0.039153582109481305, 0.2505829255006804, 0.023492149265688784, 0.2035986269693028, 0.023492149265688784, 0.16932210320044425, 0.05644070106681475, 0.04233052580011106, 0.3386442064008885, 0.028220350533407376, 0.09877122686692581, 0.07055087633351845, 0.05644070106681475, 0.07055087633351845, 0.04233052580011106, 0.22239552539587967, 0.11503216830821363, 0.20705790295478452, 0.13036979074930877, 0.038344056102737875, 0.007668811220547575, 0.053681678543833024, 0.01533762244109515, 0.1840514692931418, 0.023006433661642726, 0.05980438415998994, 0.05164924086544586, 0.03533895427635769, 0.2500910610326852, 0.3533895427635769, 0.02718381098181361, 0.03533895427635769, 0.13048229271270534, 0.02174704878545089, 0.032620573178176335, 0.050997495401464234, 0.08924561695256242, 0.08287093002737939, 0.2996102854836024, 0.057372182326647266, 0.15936717312957574, 0.025498747700732117, 0.057372182326647266, 0.050997495401464234, 0.1338684254288436, 0.06930538275571976, 0.057754485629766476, 0.11550897125953295, 0.09240717700762635, 0.08085627988167306, 0.2310179425190659, 0.011550897125953294, 0.311874222400739, 0.011550897125953294, 0.023585202238280204, 0.09434080895312082, 0.023585202238280204, 0.09434080895312082, 0.14151121342968123, 0.023585202238280204, 0.35377803357420307, 0.14151121342968123, 0.04717040447656041, 0.04717040447656041, 0.13035718425047385, 0.0869047895003159, 0.04345239475015795, 0.04345239475015795, 0.3910715527514215, 0.13035718425047385, 0.04345239475015795, 0.0869047895003159, 0.15027844392023823, 0.09183682684014559, 0.05009281464007941, 0.05844161708009265, 0.10018562928015882, 0.09183682684014559, 0.09183682684014559, 0.05844161708009265, 0.21706886344034412, 0.09183682684014559, 0.030525219628871527, 0.030525219628871527, 0.3052521962887153, 0.061050439257743054, 0.12210087851548611, 0.061050439257743054, 0.030525219628871527, 0.21367653740210069, 0.09157565888661458, 0.034178657519553034, 0.1025359725586591, 0.2050719451173182, 0.3076079176759773, 0.13671463007821213, 0.06835731503910607, 0.06835731503910607, 0.034178657519553034, 0.0802929011225552, 0.011470414446079316, 0.48175740673533124, 0.02294082889215863, 0.09176331556863453, 0.034411243338237946, 0.04588165778431726, 0.011470414446079316, 0.20646746002942767, 0.034411243338237946, 0.7431586086942964, 0.018578965217357413, 0.018578965217357413, 0.037157930434714825, 0.05573689565207223, 0.037157930434714825, 0.037157930434714825, 0.018578965217357413, 0.03940497613806059, 0.03940497613806059, 0.31523980910448474, 0.11821492841418177, 0.059107464207090885, 0.13791741648321207, 0.19702488069030297, 0.059107464207090885, 0.019702488069030296, 0.0828469831481054, 0.06213523736107905, 0.0414234915740527, 0.06213523736107905, 0.031067618680539526, 0.09320285604161858, 0.031067618680539526, 0.5799288820367379, 0.02071174578702635, 0.1830924611179639, 0.07846819762198452, 0.02615606587399484, 0.13078032936997422, 0.41849705398391746, 0.02615606587399484, 0.10462426349597936, 0.02615606587399484, 0.062225316512255234, 0.12445063302451047, 0.062225316512255234, 0.062225316512255234, 0.29038481039052444, 0.14519240519526222, 0.08296708868300698, 0.020741772170751745, 0.020741772170751745, 0.12445063302451047, 0.049475873760311845, 0.10415973423223546, 0.38539101665927117, 0.07291181396256483, 0.05468386047192361, 0.11978369436707077, 0.0572878538277295, 0.10155574087642957, 0.023435940202252977, 0.03385191362547652, 0.09950049672792967, 0.09950049672792967, 0.10473736497676808, 0.1623429157139905, 0.02618434124419202, 0.1204479697232833, 0.06807928723489926, 0.08902676023025287, 0.19376412520702094, 0.03665807774186883, 0.027622160335068553, 0.08286648100520566, 0.3590880843558912, 0.08286648100520566, 0.027622160335068553, 0.027622160335068553, 0.3590880843558912, 0.027622160335068553, 0.027622160335068553, 0.16288926242152618, 0.3665008404484339, 0.10180578901345386, 0.020361157802690773, 0.06108347340807232, 0.040722315605381545, 0.12216694681614464, 0.020361157802690773, 0.020361157802690773, 0.06108347340807232, 0.030783702056609935, 0.06156740411321987, 0.0923511061698298, 0.6464577431888087, 0.030783702056609935, 0.030783702056609935, 0.030783702056609935, 0.030783702056609935, 0.030783702056609935, 0.050809894101493204, 0.050809894101493204, 0.30485936460895924, 0.30485936460895924, 0.15242968230447962, 0.10161978820298641, 0.1389947753897563, 0.0992819824212545, 0.1191383789055054, 0.0992819824212545, 0.019856396484250898, 0.039712792968501796, 0.07942558593700359, 0.31770234374801437, 0.019856396484250898, 0.0595691894527527, 0.1598732818263911, 0.1598732818263911, 0.07993664091319555, 0.039968320456597775, 0.039968320456597775, 0.039968320456597775, 0.43965152502257554, 0.039968320456597775, 0.11465552305215965, 0.17198328457823947, 0.038218507684053216, 0.04777313460506652, 0.18153791149925277, 0.019109253842026608, 0.16242865765722617, 0.2293110461043193, 0.009554626921013304, 0.019109253842026608, 0.019010957444647307, 0.07604382977858923, 0.22813148933576768, 0.07604382977858923, 0.3231862765590042, 0.05703287233394192, 0.11406574466788384, 0.038021914889294614, 0.038021914889294614, 0.038021914889294614, 0.1351595370928087, 0.04505317903093623, 0.4054786112784261, 0.04505317903093623, 0.1351595370928087, 0.04505317903093623, 0.1351595370928087, 0.04129871721809182, 0.16519486887236728, 0.04129871721809182, 0.04129871721809182, 0.04129871721809182, 0.12389615165427546, 0.3716884549628264, 0.12389615165427546, 0.08259743443618364, 0.0486876189716891, 0.09331793636240411, 0.13389095217214503, 0.0973752379433782, 0.10954714268630047, 0.10143253952435229, 0.17446396798188593, 0.02028650790487046, 0.15823476165798958, 0.060859523714611376, 0.03405207163929725, 0.0681041432785945, 0.0681041432785945, 0.17026035819648627, 0.03405207163929725, 0.10215621491789176, 0.03405207163929725, 0.136208286557189, 0.34052071639297254, 0.0681041432785945, 0.0938630608555683, 0.09647036810155629, 0.15122382026730447, 0.08082652462562825, 0.23987226663089675, 0.07039729564167621, 0.04693153042778415, 0.05214614491976016, 0.10950690433149633, 0.05996806665772419, 0.0905976039658591, 0.09965736436244502, 0.11173704489122623, 0.057378482511710766, 0.12079680528781214, 0.039258961718538946, 0.169115527402937, 0.039258961718538946, 0.039258961718538946, 0.22951393004684306, 0.02406229450885875, 0.08421803078100562, 0.15640491430758188, 0.19249835607087, 0.0481245890177175, 0.060155736272146876, 0.02406229450885875, 0.012031147254429376, 0.40905900665059874, 0.08270562997063882, 0.11506870256784532, 0.17979484776225832, 0.07910973301539366, 0.05753435128392266, 0.194178435583239, 0.05034255737343233, 0.07910973301539366, 0.1402399812545615, 0.021575381731471, 0.21695303257414608, 0.03615883876235768, 0.10847651628707304, 0.32542954886121916, 0.07231767752471537, 0.14463535504943073, 0.07231767752471537, 0.10450740983874642, 0.14369768852827633, 0.026126852459686604, 0.15676111475811963, 0.07838055737905981, 0.32658565574608256, 0.05225370491937321, 0.05225370491937321, 0.03919027868952991, 0.026126852459686604, 0.038627571183754615, 0.038627571183754615, 0.11588271355126384, 0.38627571183754617, 0.11588271355126384, 0.038627571183754615, 0.038627571183754615, 0.07725514236750923, 0.07725514236750923, 0.07725514236750923, 0.2627629417476547, 0.03753756310680781, 0.39414441262148203, 0.04692195388350976, 0.02815317233010586, 0.05630634466021172, 0.07507512621361562, 0.03753756310680781, 0.03753756310680781, 0.018768781553403904, 0.047454028567094464, 0.5457213285215863, 0.047454028567094464, 0.047454028567094464, 0.16608909998483062, 0.047454028567094464, 0.0711810428506417, 0.06830828226644331, 0.06830828226644331, 0.04553885484429554, 0.13661656453288662, 0.13661656453288662, 0.04553885484429554, 0.04553885484429554, 0.09107770968859108, 0.13661656453288662, 0.2276942742214777, 0.06505149400444733, 0.08506733831350805, 0.08506733831350805, 0.08506733831350805, 0.3552812364858277, 0.020015844309060716, 0.08006337723624286, 0.16513071554975092, 0.04003168861812143, 0.030023766463591076, 0.03875547295038311, 0.07751094590076622, 0.03875547295038311, 0.07751094590076622, 0.11626641885114934, 0.03875547295038311, 0.3100437836030649, 0.03875547295038311, 0.23253283770229868, 0.03875547295038311, 0.13711947761115836, 0.06855973880557918, 0.12340752985004254, 0.12340752985004254, 0.013711947761115837, 0.06855973880557918, 0.027423895522231675, 0.027423895522231675, 0.06855973880557918, 0.3427986940278959, 0.11833994908429275, 0.31557319755811397, 0.11833994908429275, 0.039446649694764246, 0.15778659877905699, 0.07889329938952849, 0.11833994908429275, 0.12138835167303295, 0.08092556778202198, 0.2225453114005604, 0.04046278389101099, 0.020231391945505495, 0.12138835167303295, 0.08092556778202198, 0.2832394872370769, 0.04046278389101099, 0.033801486181005515, 0.029576300408379826, 0.13943113049664774, 0.04225185772625689, 0.49434673539720564, 0.122530387406145, 0.04225185772625689, 0.03802667195363121, 0.029576300408379826, 0.025351114635754138, 0.020760936861650377, 0.192038665970266, 0.08823398166201411, 0.05709257636953854, 0.03633163950788816, 0.03114140529247557, 0.384077331940532, 0.15570702646237783, 0.015570702646237784, 0.025951171077062973, 0.12619785648746046, 0.0360565304249887, 0.09014132606247174, 0.0721130608499774, 0.0721130608499774, 0.4687348955248531, 0.0360565304249887, 0.0721130608499774, 0.06485842291623718, 0.16214605729059295, 0.043238948610824786, 0.15493956585545549, 0.19457526874871153, 0.05404868576353099, 0.17295579444329914, 0.06485842291623718, 0.05765193148109972, 0.03242921145811859, 0.6546812770132636, 0.07657090959219458, 0.019142727398048644, 0.028714091097072965, 0.059342454933950795, 0.015314181918438915, 0.007657090959219457, 0.007657090959219457, 0.07465663685238971, 0.055513909454341065, 0.6356392696297767, 0.05632246692922072, 0.016092133408348776, 0.05632246692922072, 0.11264493385844145, 0.016092133408348776, 0.016092133408348776, 0.008046066704174388, 0.024138200112523166, 0.0724146003375695, 0.4294913478777702, 0.07808933597777641, 0.039044667988888206, 0.15617867195555282, 0.07808933597777641, 0.07808933597777641, 0.039044667988888206, 0.2350367697529658, 0.10729939488722352, 0.08175191991407506, 0.09197090990333444, 0.07664242491944537, 0.13284686986037197, 0.04087595995703753, 0.07664242491944537, 0.07153292992481568, 0.08175191991407506, 0.4731113554345333, 0.08602024644264242, 0.08602024644264242, 0.12903036966396364, 0.06451518483198182, 0.021505061610660604, 0.021505061610660604, 0.04301012322132121, 0.06451518483198182, 0.021505061610660604, 0.078581198753624, 0.078581198753624, 0.078581198753624, 0.5500683912753681, 0.11787179813043601, 0.039290599376812, 0.039290599376812, 0.019136035416813895, 0.019136035416813895, 0.006378678472271299, 0.03189339236135649, 0.8866363076457104, 0.006378678472271299, 0.012757356944542598, 0.006378678472271299, 0.006378678472271299, 0.10612684678060345, 0.13029434654252306, 0.05989336897519205, 0.37722314845778854, 0.04097967350934193, 0.06829945584890322, 0.06094412983440595, 0.022065978043491807, 0.06199489069361984, 0.0725024992857588, 0.026352666165083968, 0.13176333082541986, 0.026352666165083968, 0.21082132932067174, 0.39528999247625957, 0.15811599699050383, 0.026352666165083968, 0.07240556826688889, 0.036202784133444445, 0.07240556826688889, 0.036202784133444445, 0.325825057201, 0.28962227306755556, 0.036202784133444445, 0.10860835240033334, 0.07393785515225194, 0.19492707267411877, 0.4167406381308746, 0.03360811597829634, 0.013443246391318536, 0.04032973917395561, 0.020164869586977805, 0.06049460876093341, 0.12098921752186682, 0.02688649278263707, 0.07410709955703418, 0.08351752489760995, 0.05999146154617053, 0.09880946607604557, 0.03176018552444322, 0.2964283982281367, 0.1505668054492123, 0.022349760183867452, 0.13645116743834865, 0.044699520367734905, 0.0801707153168074, 0.121074141498852, 0.0998043598841888, 0.06380934484398956, 0.04253956322932638, 0.3615862874492742, 0.062173207796707784, 0.1112573192151613, 0.031086603898353892, 0.027814329803790325, 0.011243829253355297, 0.14616978029361885, 0.04497531701342119, 0.20238892656039534, 0.022487658506710594, 0.05621914626677648, 0.04497531701342119, 0.3598025361073695, 0.08995063402684238, 0.022487658506710594, 0.1689203378889091, 0.16395209265688235, 0.07700780109641443, 0.19624568666505615, 0.09439665940850801, 0.14407911172877538, 0.04968245232026738, 0.014904735696080213, 0.02484122616013369, 0.0645871880163476, 0.08040633465819941, 0.08040633465819941, 0.04329571866210737, 0.14225736131835282, 0.04948082132812272, 0.037110615996092035, 0.4082167759570124, 0.06803612932616873, 0.02474041066406136, 0.07422123199218407, 0.10807100666384843, 0.10807100666384843, 0.054035503331924216, 0.3782485233234695, 0.21614201332769686, 0.027017751665962108, 0.027017751665962108, 0.054035503331924216, 0.2486883614677141, 0.16579224097847606, 0.4144806024461901, 0.041448060244619014, 0.041448060244619014, 0.09109158460206591, 0.030363861534021968, 0.030363861534021968, 0.030363861534021968, 0.09109158460206591, 0.3947301999422856, 0.09109158460206591, 0.09109158460206591, 0.09109158460206591, 0.060727723068043936, 0.13426096083844577, 0.17901461445126104, 0.13426096083844577, 0.1374576503822183, 0.10868744448826563, 0.05754041178790534, 0.04795034315658778, 0.09270399676940304, 0.07991723859431296, 0.02877020589395267, 0.032497449563923655, 0.17331973100759285, 0.05416241593987276, 0.04332993275189821, 0.05416241593987276, 0.30330952926328747, 0.14082228144366918, 0.06499489912784731, 0.05416241593987276, 0.07582738231582187, 0.04614859809450401, 0.07911188244772116, 0.07911188244772116, 0.032963284353217145, 0.03955594122386058, 0.07251922557707773, 0.5471905202634046, 0.03955594122386058, 0.013185313741286859, 0.04614859809450401, 0.19619904508086208, 0.06278369442587586, 0.27860264401482415, 0.06278369442587586, 0.11771942704851725, 0.08632757983557932, 0.058859713524258624, 0.07455563713072759, 0.03923980901617242, 0.02354388540970345, 0.1709728710414301, 0.02849547850690502, 0.02849547850690502, 0.08548643552071505, 0.1424773925345251, 0.42743217760357527, 0.08548643552071505, 0.02849547850690502, 0.5246467568574857, 0.02498317889797551, 0.02498317889797551, 0.04996635779595102, 0.02498317889797551, 0.02498317889797551, 0.02498317889797551, 0.2498317889797551, 0.04996635779595102, 0.1447427101511073, 0.1367014484760458, 0.13268081763851503, 0.08443324758814592, 0.0482475700503691, 0.09247450926320744, 0.08041261675061516, 0.10051577093826895, 0.032165046700246065, 0.14072207931357653, 0.025976255823377925, 0.12988127911688963, 0.025976255823377925, 0.05195251164675585, 0.07792876747013378, 0.5974538839376923, 0.07792876747013378, 0.10532562623306756, 0.06582851639566722, 0.10971419399277871, 0.10971419399277871, 0.12726846503162328, 0.08777135519422297, 0.12726846503162328, 0.03730282595754476, 0.17554271038844593, 0.05266281311653378, 0.048733849636918736, 0.04725706631458786, 0.4932456296585108, 0.051687416281580474, 0.09451413262917573, 0.0605481162155657, 0.028058883124286546, 0.05759454957090396, 0.07236238279421267, 0.04578028299225699, 0.12583227030021876, 0.10066581624017501, 0.050332908120087505, 0.2768309946604813, 0.2768309946604813, 0.025166454060043753, 0.050332908120087505, 0.050332908120087505, 0.050332908120087505, 0.06073172731749493, 0.030365863658747466, 0.030365863658747466, 0.0910975909762424, 0.030365863658747466, 0.12146345463498986, 0.455487954881212, 0.0910975909762424, 0.030365863658747466, 0.10135706444828971, 0.08687748381281975, 0.18823454826110947, 0.08687748381281975, 0.057918322541879834, 0.036198951588674894, 0.050678532224144854, 0.09411727413055473, 0.26063245143845926, 0.036198951588674894, 0.1113918256179142, 0.07621545963330972, 0.28727365554093665, 0.07035273196920896, 0.058627276641007475, 0.07035273196920896, 0.03517636598460448, 0.1465681916025187, 0.09380364262561196, 0.05276454897690673, 0.02284960655406121, 0.04569921310812242, 0.04569921310812242, 0.5483905572974691, 0.11424803277030605, 0.02284960655406121, 0.02284960655406121, 0.1827968524324897, 0.06760921055046874, 0.1749885449541544, 0.07954024770643382, 0.06363219816514705, 0.05965518577982536, 0.13521842110093749, 0.15112647064222426, 0.11135634678900734, 0.11533335917432903, 0.03977012385321691, 0.0232261830892771, 0.0464523661785542, 0.15097019008030113, 0.0232261830892771, 0.034839274633915646, 0.0232261830892771, 0.0232261830892771, 0.0232261830892771, 0.26710110552668664, 0.3948451125177107, 0.04989289069473234, 0.37419668021049257, 0.27441089882102787, 0.04989289069473234, 0.04989289069473234, 0.09978578138946469, 0.012473222673683086, 0.012473222673683086, 0.04989289069473234, 0.037419668021049256, 0.8534266883983712, 0.011690776553402346, 0.023381553106804693, 0.023381553106804693, 0.011690776553402346, 0.011690776553402346, 0.023381553106804693, 0.011690776553402346, 0.011690776553402346, 0.06196014864904854, 0.1048556361753129, 0.1620496195436654, 0.1048556361753129, 0.05242781808765645, 0.23592518139445404, 0.09532330561392083, 0.11915413201740102, 0.04051240488591635, 0.023830826403480207, 0.13717393013161272, 0.32007250364042966, 0.045724643377204235, 0.045724643377204235, 0.09144928675440847, 0.045724643377204235, 0.09144928675440847, 0.2286232168860212, 0.10612271924825585, 0.33648667078715266, 0.04400210310293535, 0.16047825837541127, 0.07247405216954057, 0.05176718012110041, 0.03364866707871527, 0.08023912918770564, 0.06988569316348556, 0.04400210310293535, 0.0248279077286399, 0.0993116309145596, 0.07448372318591971, 0.0248279077286399, 0.14896744637183942, 0.24827907728639903, 0.29793489274367885, 0.0248279077286399, 0.0248279077286399, 0.0496558154572798, 0.15338576776993848, 0.12884404492674834, 0.12884404492674834, 0.061354307107975396, 0.06748973781877293, 0.05521887639717785, 0.2024692134563188, 0.10430232208355818, 0.06748973781877293, 0.03681258426478524, 0.07421350280029868, 0.05772161328912119, 0.041229723777943705, 0.04947566853353245, 0.06596755804470994, 0.13193511608941988, 0.041229723777943705, 0.03298377902235497, 0.06596755804470994, 0.4370350720462033, 0.07039550949450193, 0.03519775474725097, 0.14079101898900387, 0.14079101898900387, 0.45757081171426256, 0.10559326424175289, 0.03519775474725097, 0.07039550949450193, 0.10608787314283627, 0.1363986940407895, 0.10608787314283627, 0.045466231346929835, 0.11619148010882069, 0.045466231346929835, 0.09093246269385967, 0.23238296021764138, 0.045466231346929835, 0.07072524876189085, 0.35886615761464385, 0.03588661576146439, 0.07177323152292878, 0.07177323152292878, 0.03588661576146439, 0.17943307880732193, 0.2153196945687863, 0.13980700277582755, 0.03495175069395689, 0.03495175069395689, 0.03495175069395689, 0.03495175069395689, 0.03495175069395689, 0.10485525208187067, 0.03495175069395689, 0.5242762604093534, 0.06884323013050185, 0.06884323013050185, 0.02294774337683395, 0.0917909735073358, 0.1376864602610037, 0.0458954867536679, 0.02294774337683395, 0.5507458410440148, 0.07729025966533618, 0.19322564916334045, 0.09661282458167023, 0.03864512983266809, 0.03864512983266809, 0.019322564916334044, 0.09661282458167023, 0.36712873341034685, 0.05796769474900214, 0.019322564916334044, 0.07541142140772093, 0.037705710703860466, 0.07541142140772093, 0.45246852844632557, 0.056558566055790696, 0.056558566055790696, 0.018852855351930233, 0.018852855351930233, 0.018852855351930233, 0.1885285535193023, 0.2873528005463508, 0.1026260001951253, 0.041050400078050116, 0.06841733346341687, 0.10946773354146698, 0.0478921334243918, 0.16420160031220046, 0.0478921334243918, 0.034208666731708436, 0.0957842668487836, 0.06929329634017924, 0.1645715788079257, 0.12992493063783606, 0.12126326859531367, 0.008661662042522405, 0.04330831021261202, 0.2511881992331497, 0.12126326859531367, 0.008661662042522405, 0.07795495838270164, 0.17367685783236933, 0.018281774508670457, 0.09140887254335228, 0.0639862107803466, 0.1279724215606932, 0.027422661763005687, 0.26508573037572164, 0.07312709803468183, 0.027422661763005687, 0.1279724215606932, 0.18887112633593406, 0.03434020478835165, 0.03434020478835165, 0.17170102394175824, 0.17170102394175824, 0.0686804095767033, 0.017170102394175824, 0.017170102394175824, 0.017170102394175824, 0.2747216383068132, 0.12249709848600376, 0.06737340416730207, 0.07962311401590244, 0.05512369431870169, 0.06124854924300188, 0.09799767878880301, 0.4042404250038124, 0.036749129545801125, 0.036749129545801125, 0.042873984470101316, 0.10869256170496391, 0.12227913191808441, 0.08151942127872294, 0.13586570213120489, 0.2853179744755303, 0.08151942127872294, 0.06793285106560244, 0.08151942127872294, 0.02717314042624098, 0.06749330390668198, 0.2892570167429228, 0.05785140334858456, 0.07713520446477941, 0.1060609061390717, 0.08677710502287683, 0.13498660781336397, 0.08677710502287683, 0.07713520446477941, 0.02892570167429228, 0.07285592985103474, 0.03642796492551737, 0.47356354403172585, 0.03642796492551737, 0.21856778955310424, 0.10928389477655212, 0.06793748575795831, 0.27174994303183325, 0.10190622863693746, 0.1698437143948958, 0.033968742878979157, 0.033968742878979157, 0.033968742878979157, 0.2377812001528541, 0.10190622863693746, 0.008282611016651559, 0.0828261101665156, 0.281608774566153, 0.27332616354950146, 0.07454349914986404, 0.06626088813321247, 0.057978277116560915, 0.057978277116560915, 0.06626088813321247, 0.033130444066606236, 0.11213972092638828, 0.118609320210603, 0.1013570554526971, 0.07979172450531474, 0.06685252593688533, 0.09920052235795887, 0.038817595705288255, 0.08194825760005298, 0.118609320210603, 0.18114877995801185, 0.05325216631839577, 0.2130086652735831, 0.31951299791037463, 0.15975649895518731, 0.05325216631839577, 0.05325216631839577, 0.05325216631839577, 0.05325216631839577, 0.10650433263679154, 0.05612087575275937, 0.5050878817748343, 0.028060437876379685, 0.11224175150551874, 0.11224175150551874, 0.08418131362913905, 0.028060437876379685, 0.028060437876379685, 0.05612087575275937, 0.30263320181614933, 0.13286335689489484, 0.08119427365799128, 0.07381297605271936, 0.05905038084217548, 0.022143892815815806, 0.08857557126326322, 0.06643167844744742, 0.05905038084217548, 0.11810076168435096, 0.0728726337749802, 0.1107664033379699, 0.09619187658297386, 0.03497886421199049, 0.08015989715247822, 0.08744716052997624, 0.027691600834492475, 0.4445230660273792, 0.023319242807993662, 0.023319242807993662, 0.0923510303012541, 0.10811827937707798, 0.07658378122543023, 0.06532146045698461, 0.07883624537911936, 0.09460349445494323, 0.04279681892009336, 0.2928203399795862, 0.06757392461067373, 0.0833411736864976, 0.21365367790821146, 0.08270464951285605, 0.055136433008570705, 0.013784108252142676, 0.08270464951285605, 0.11027286601714141, 0.24122189441249683, 0.06202848713464204, 0.08270464951285605, 0.04824437888249936, 0.11324733556386042, 0.31503349711401174, 0.03500372190155686, 0.13383776021183505, 0.04323989176074671, 0.1317787177470376, 0.10707020816946804, 0.05765318901432894, 0.030885636971961936, 0.0329446794367594, 0.09076511158919287, 0.1978213970533691, 0.09076511158919287, 0.1163655276784524, 0.1536024965355572, 0.025600416089259528, 0.09076511158919287, 0.11869283823202145, 0.053528142732088106, 0.0581827638392262, 0.3758687390672752, 0.03416988536975229, 0.06833977073950458, 0.06833977073950458, 0.03416988536975229, 0.03416988536975229, 0.3075289683277706, 0.06833977073950458, 0.028384805301808206, 0.09225061723087667, 0.17030883181084924, 0.2554632477162739, 0.2199822410890136, 0.06386581192906847, 0.04257720795271231, 0.06386581192906847, 0.05676961060361641, 0.021288603976356155, 0.12328336355664758, 0.15941814253014774, 0.07652070841447091, 0.23806442617835397, 0.1275345140241182, 0.10415318645302986, 0.055264956077117885, 0.04463707990844137, 0.029758053272294246, 0.04038592944097076, 0.044202472114640436, 0.06188346096049661, 0.4155032378776201, 0.09724543865220896, 0.08840494422928087, 0.06188346096049661, 0.06188346096049661, 0.0707239553834247, 0.044202472114640436, 0.044202472114640436, 0.08030379956483133, 0.16060759912966266, 0.16319804427691528, 0.0880751350065892, 0.19169294089669411, 0.0440375675032946, 0.1321127025098838, 0.03885667720878935, 0.06217068353406296, 0.03885667720878935, 0.061412987919223165, 0.1842389637576695, 0.05263970393076271, 0.2017855317345904, 0.23687866768843222, 0.017546567976920904, 0.03509313595384181, 0.07018627190768362, 0.03509313595384181, 0.10527940786152543, 0.028486787040644154, 0.22789429632515323, 0.04273018056096623, 0.04273018056096623, 0.014243393520322077, 0.2421376898454753, 0.2991112639267636, 0.028486787040644154, 0.04273018056096623, 0.08228675974551958, 0.06171506980913968, 0.04114337987275979, 0.020571689936379894, 0.6788657679005365, 0.06171506980913968, 0.020571689936379894, 0.06171506980913968, 0.03365564480760902, 0.31972862567228566, 0.3029008032684812, 0.05048346721141353, 0.03365564480760902, 0.01682782240380451, 0.03365564480760902, 0.10096693442282706, 0.05048346721141353, 0.05048346721141353, 0.08135752667712784, 0.09039725186347539, 0.09039725186347539, 0.1446356029815606, 0.04519862593173769, 0.2802314807767737, 0.04519862593173769, 0.09943697704982292, 0.09943697704982292, 0.03615890074539015, 0.08802213148729231, 0.7041770518983385, 0.022005532871823077, 0.022005532871823077, 0.044011065743646154, 0.06601659861546923, 0.022005532871823077, 0.022005532871823077, 0.022005532871823077, 0.09155825476803478, 0.2535459362807117, 0.07042942674464214, 0.028171770697856858, 0.2394600509317833, 0.10564414011696321, 0.03521471337232107, 0.10564414011696321, 0.06338648407017793, 0.014085885348928429, 0.08796639557849567, 0.1811072850145499, 0.1655838034418742, 0.07244291400581997, 0.04657044471802712, 0.10866437100872994, 0.07244291400581997, 0.0672684201482614, 0.056919432433144256, 0.1500603218691985, 0.10989860467977497, 0.054949302339887485, 0.3555543092580955, 0.04848467853519484, 0.05818161424223381, 0.06141392614458013, 0.13575709989854556, 0.08080779755865806, 0.06464623804692646, 0.029090807121116904, 0.07561700896244124, 0.015123401792488248, 0.07561700896244124, 0.030246803584976497, 0.15123401792488247, 0.030246803584976497, 0.045370205377464744, 0.15123401792488247, 0.42345525018967095, 0.015123401792488248, 0.14866583719661863, 0.0991105581310791, 0.07433291859830932, 0.29733167439323727, 0.04955527906553955, 0.07433291859830932, 0.04955527906553955, 0.12388819766384887, 0.07433291859830932, 0.024777639532769773, 0.091324790209111, 0.365299160836444, 0.21309117715459233, 0.091324790209111, 0.06088319347274066, 0.12176638694548132, 0.03044159673637033, 0.12814800834512144, 0.38444402503536435, 0.14238667593902382, 0.028477335187804768, 0.08543200556341429, 0.028477335187804768, 0.014238667593902384, 0.14238667593902382, 0.042716002781707146, 0.014238667593902384, 0.023927820515129407, 0.047855641030258814, 0.14356692309077643, 0.047855641030258814, 0.21535038463616465, 0.4307007692723293, 0.023927820515129407, 0.023927820515129407, 0.07178346154538821, 0.10714586845898681, 0.0642875210753921, 0.02142917369179736, 0.10714586845898681, 0.10714586845898681, 0.3428667790687578, 0.02142917369179736, 0.10714586845898681, 0.04285834738359472, 0.08571669476718945, 0.11060882999615501, 0.055304414998077506, 0.34288737298808053, 0.0995479469965395, 0.088487063996924, 0.0331826489988465, 0.0331826489988465, 0.11060882999615501, 0.055304414998077506, 0.066365297997693, 0.07682153206463603, 0.22516655949979528, 0.10860975222931302, 0.09536466049403093, 0.05827840363524113, 0.055629385288184716, 0.10066269718814377, 0.15364306412927206, 0.08211956875874886, 0.04503331189995905, 0.08731920369657804, 0.0982341041586503, 0.3165321134000954, 0.0764043032345058, 0.05457450231036128, 0.03274470138621677, 0.02182980092414451, 0.04365960184828902, 0.13097880554486707, 0.13097880554486707, 0.09186021477632189, 0.04082676212280973, 0.08165352424561946, 0.030620071592107296, 0.08165352424561946, 0.36744085910528757, 0.010206690530702433, 0.18372042955264378, 0.05103345265351216, 0.05103345265351216, 0.0696673720813986, 0.11253960105456697, 0.10182154381127488, 0.0803854293246907, 0.03751320035152232, 0.2197201734874879, 0.10182154381127488, 0.24115628797407207, 0.010718057243292093, 0.02679514310823023, 0.02610212639015099, 0.06090496157701898, 0.3306269342752459, 0.16531346713762296, 0.06090496157701898, 0.11310921435732096, 0.05220425278030198, 0.06960567037373598, 0.09570779676388698, 0.008700708796716998, 0.34080496473059557, 0.23388576010923226, 0.15369635664320977, 0.04677715202184646, 0.02338857601092323, 0.05011837716626406, 0.030071026299758434, 0.03341225144417604, 0.010023675433252811, 0.07350695317718729, 0.040082164152863774, 0.08016432830572755, 0.026721442768575847, 0.040082164152863774, 0.37410019876006184, 0.0868446889978715, 0.0868446889978715, 0.06680360692143962, 0.15364829591931112, 0.040082164152863774, 0.5751900671539636, 0.05001652757860553, 0.0750247913679083, 0.025008263789302765, 0.12504131894651382, 0.12504131894651382, 0.2458201407132756, 0.3482451993438071, 0.0409700234522126, 0.0409700234522126, 0.0204850117261063, 0.03072751758915945, 0.0409700234522126, 0.01024250586305315, 0.15363758794579724, 0.0614550351783189, 0.07737153883516043, 0.05158102589010695, 0.1289525647252674, 0.025790512945053475, 0.4642292330109626, 0.1031620517802139, 0.07737153883516043, 0.05158102589010695, 0.10512983010856357, 0.03285307190892611, 0.04599430067249656, 0.4336605491978247, 0.07884737258142267, 0.07227675819963746, 0.026282457527140892, 0.0854179869632079, 0.039423686290711336, 0.07884737258142267, 0.12644762475075436, 0.25805637704235584, 0.08386832253876565, 0.21418679294515536, 0.0683849399162243, 0.038708456556353375, 0.023225073933812027, 0.03999873844156516, 0.08515860442397742, 0.0619335304901654, 0.06326092555605982, 0.04744569416704487, 0.03163046277802991, 0.09489138833408974, 0.015815231389014955, 0.2846741650022692, 0.23722847083522433, 0.09489138833408974, 0.06326092555605982, 0.07907615694507478, 0.6384481397129436, 0.029086475613345947, 0.04217538963935163, 0.11052860733071461, 0.01745188536800757, 0.002908647561334595, 0.002908647561334595, 0.007271618903336487, 0.02181485671000946, 0.12943481647938948, 0.10672539047491353, 0.22012111785450916, 0.38020920356687943, 0.06003303214213886, 0.08004404285618515, 0.013340673809364191, 0.04002202142809257, 0.0066703369046820955, 0.06003303214213886, 0.03335168452341048, 0.037922592737155265, 0.1137677782114658, 0.18961296368577632, 0.037922592737155265, 0.15169037094862106, 0.037922592737155265, 0.3033807418972421, 0.1137677782114658, 0.2976921570391025, 0.025663116986129525, 0.06672410416393676, 0.07185672756116267, 0.005132623397225905, 0.07698935095838857, 0.06159148076671086, 0.03079574038335543, 0.015397870191677715, 0.34388576761413564, 0.03863409704254837, 0.07726819408509673, 0.03863409704254837, 0.15453638817019347, 0.03863409704254837, 0.3477068733829353, 0.03863409704254837, 0.11590229112764511, 0.11590229112764511, 0.03863409704254837, 0.0235256227798539, 0.0705768683395617, 0.1882049822388312, 0.0470512455597078, 0.39993558725751627, 0.0470512455597078, 0.2117306050186851, 0.15821743587787446, 0.16700729342664525, 0.07031886039016642, 0.017579715097541606, 0.3164348717557489, 0.052739145292624814, 0.026369572646312407, 0.052739145292624814, 0.07910871793893723, 0.052739145292624814, 0.12468122798980316, 0.08312081865986878, 0.10390102332483597, 0.08312081865986878, 0.04156040932993439, 0.06234061399490158, 0.06234061399490158, 0.2909228653095407, 0.12468122798980316, 0.04156040932993439, 0.18145982971243194, 0.36291965942486387, 0.045364957428107984, 0.13609487228432396, 0.045364957428107984, 0.09072991485621597, 0.13609487228432396, 0.045364957428107984, 0.24187719979664515, 0.1343762221092473, 0.05375048884369892, 0.04300039107495914, 0.12362612434050753, 0.02150019553747957, 0.1397512709936172, 0.16662651541546666, 0.037625342190589245, 0.032250293306219355, 0.18083374016251005, 0.18083374016251005, 0.036166748032502014, 0.07233349606500403, 0.036166748032502014, 0.14466699213000805, 0.2531672362275141, 0.5427303051427935, 0.02856475290225229, 0.02856475290225229, 0.05712950580450458, 0.05712950580450458, 0.05712950580450458, 0.02856475290225229, 0.02856475290225229, 0.199953270315766, 0.04504738806061643, 0.11712320895760271, 0.07207582089698629, 0.2612748507515753, 0.063066343284863, 0.063066343284863, 0.04504738806061643, 0.22523694030308214, 0.08108529850910957, 0.018018955224246572, 0.07666930002377544, 0.06133544001902035, 0.2721760150844028, 0.08816969502734175, 0.030667720009510176, 0.030667720009510176, 0.14183820504398456, 0.10733702003328562, 0.01916732500594386, 0.1763393900546835, 0.12849710473849665, 0.042832368246165556, 0.2998265777231589, 0.12849710473849665, 0.042832368246165556, 0.2998265777231589, 0.05481440270451701, 0.22708823977585618, 0.09396754749345773, 0.14486663571908068, 0.05089908822562294, 0.03132251583115258, 0.270156699043691, 0.06656034614119923, 0.04306845926783479, 0.01957657239447036, 0.08614961973390085, 0.09875688115837415, 0.0903520402087253, 0.2059186032663972, 0.0924532504461375, 0.04832783546048097, 0.08404840949648865, 0.05463146617271762, 0.08614961973390085, 0.15338834733109177, 0.6300829062251586, 0.06750888280983842, 0.04500592187322562, 0.09001184374645124, 0.02250296093661281, 0.02250296093661281, 0.06750888280983842, 0.06750888280983842, 0.016667086584636698, 0.2000050390156404, 0.06666834633854679, 0.0833354329231835, 0.15000377926173028, 0.033334173169273396, 0.016667086584636698, 0.26667338535418716, 0.0500012597539101, 0.1000025195078202, 0.03647633852685525, 0.029181070821484204, 0.46689713314374726, 0.03647633852685525, 0.06565740934833945, 0.10942901558056577, 0.15320062181279206, 0.03647633852685525, 0.043771606232226305, 0.014590535410742102, 0.26924578009149913, 0.32907817566738784, 0.0598323955758887, 0.02991619778794435, 0.1196647911517774, 0.0598323955758887, 0.0598323955758887, 0.02991619778794435, 0.02991619778794435, 0.025924114213882556, 0.3110893705665907, 0.12097919966478526, 0.05184822842776511, 0.05184822842776511, 0.025924114213882556, 0.06913097123702015, 0.24195839932957053, 0.07777234264164767, 0.025924114213882556, 0.5792546401548699, 0.07394740087083446, 0.024649133623611486, 0.13557023492986317, 0.024649133623611486, 0.012324566811805743, 0.03697370043541723, 0.0862719676826402, 0.03697370043541723, 0.08825957767580182, 0.13238936651370273, 0.13238936651370273, 0.08825957767580182, 0.04412978883790091, 0.04412978883790091, 0.17651915535160365, 0.26477873302740546, 0.08825957767580182, 0.058171865606689105, 0.20360152962341188, 0.058171865606689105, 0.029085932803344552, 0.11634373121337821, 0.058171865606689105, 0.058171865606689105, 0.3199452608367901, 0.058171865606689105, 0.08944977922479727, 0.044724889612398636, 0.08944977922479727, 0.2236244480619932, 0.08944977922479727, 0.13417466883719592, 0.044724889612398636, 0.2236244480619932, 0.06825226615104825, 0.05460181292083859, 0.04095135969062895, 0.05460181292083859, 0.43681450336670874, 0.10920362584167718, 0.027300906460419296, 0.04095135969062895, 0.12285407907188683, 0.06825226615104825, 0.029154693772790462, 0.08260496568957297, 0.01943646251519364, 0.06802761880317774, 0.048591156287984105, 0.024295578143992053, 0.568516528569414, 0.048591156287984105, 0.05345027191678251, 0.048591156287984105, 0.6621257662545346, 0.033106288312726724, 0.033106288312726724, 0.033106288312726724, 0.09931886493818018, 0.033106288312726724, 0.033106288312726724, 0.1324251532509069, 0.08454496426074071, 0.11624932585851847, 0.11624932585851847, 0.10568120532592588, 0.15852180798888882, 0.06340872319555553, 0.09511308479333329, 0.031704361597777765, 0.21136241065185177, 0.031704361597777765, 0.08887187421534475, 0.0761758921845812, 0.06347991015381767, 0.025391964061527068, 0.050783928123054135, 0.012695982030763534, 0.050783928123054135, 0.06347991015381767, 0.025391964061527068, 0.5332312452920684, 0.034587170937881544, 0.062256907688186786, 0.2628624991278998, 0.3043671042533576, 0.02075230256272893, 0.04842203931303417, 0.08992664443849202, 0.11067894700122095, 0.034587170937881544, 0.02766973675030524, 0.32663841147009126, 0.19356350309338743, 0.06855374067890804, 0.06855374067890804, 0.02419543788667343, 0.0524234487544591, 0.0524234487544591, 0.04032572981112238, 0.07661888664113252, 0.09678175154669372, 0.10863004729692546, 0.04526251970705228, 0.2625226143009032, 0.13578755912115684, 0.01810500788282091, 0.04526251970705228, 0.11768255123833592, 0.027157511824231366, 0.23536510247667183, 0.0676479313717149, 0.08455991421464362, 0.0450986209144766, 0.08455991421464362, 0.11838387990050107, 0.12402120751481065, 0.10147189705757236, 0.2536797426439309, 0.07892258660033405, 0.05637327614309575, 0.01590549906882475, 0.01590549906882475, 0.0318109981376495, 0.27039348417002074, 0.04771649720647425, 0.04771649720647425, 0.4771649720647425, 0.04771649720647425, 0.01590549906882475, 0.7074896566249051, 0.02721114063941943, 0.013605570319709714, 0.04081671095912914, 0.04081671095912914, 0.08163342191825829, 0.013605570319709714, 0.013605570319709714, 0.06802785159854857, 0.10085561563500096, 0.05042780781750048, 0.02521390390875024, 0.07564171172625073, 0.35299465472250335, 0.02521390390875024, 0.10085561563500096, 0.2521390390875024, 0.16020600107070132, 0.06268930476679617, 0.05572382645937437, 0.1880679143003885, 0.041792869844530775, 0.013930956614843592, 0.25772269737460646, 0.11144765291874874, 0.06268930476679617, 0.041792869844530775, 0.09340661617951079, 0.12142860103336403, 0.10274727779746187, 0.056043969707706476, 0.08406595456155971, 0.09340661617951079, 0.046703308089755396, 0.08406595456155971, 0.30824183339238564, 0.028021984853853238, 0.0186417137282247, 0.0372834274564494, 0.0186417137282247, 0.00932085686411235, 0.0186417137282247, 0.02796257059233705, 0.08388771177701115, 0.5685722687108533, 0.00932085686411235, 0.21437970787458405, 0.08200530871573482, 0.09691536484586842, 0.17892067356160324, 0.20874078582187044, 0.05964022452053441, 0.05218519645546761, 0.03727514032533401, 0.24601592614720444, 0.014910056130133603, 0.022365084195200405, 0.08232516799709988, 0.04766193936674203, 0.03899613220915257, 0.5806090795584938, 0.02599742147276838, 0.08232516799709988, 0.01299871073638419, 0.00866580715758946, 0.09099097515468933, 0.03466322863035784, 0.09670093617640378, 0.09670093617640378, 0.04835046808820189, 0.14850500912804868, 0.010360814590328978, 0.01381441945377197, 0.10706175076673276, 0.06561849240541685, 0.034536048634429925, 0.37989653497872916, 0.27283849003793764, 0.027283849003793766, 0.13641924501896882, 0.3001223390417314, 0.05456769800758753, 0.027283849003793766, 0.05456769800758753, 0.10913539601517507, 0.5677355968409927, 0.02988082088636804, 0.03984109451515739, 0.10956300991668282, 0.03984109451515739, 0.03984109451515739, 0.05478150495834141, 0.01494041044318402, 0.04482123132955206, 0.05976164177273608, 0.009362911900509672, 0.8052104234438318, 0.018725823801019344, 0.018725823801019344, 0.03745164760203869, 0.056177471403058024, 0.046814559502548356, 0.14184795531110178, 0.12797152490023314, 0.09713501287608058, 0.0986768384772882, 0.09250953607245768, 0.06784032645313563, 0.08634223366762717, 0.16343351372800857, 0.05550572164347461, 0.06938215205434327, 0.16517686752426503, 0.061941325321599384, 0.041294216881066256, 0.10323554220266563, 0.061941325321599384, 0.061941325321599384, 0.061941325321599384, 0.3716479519295963, 0.061941325321599384, 0.020647108440533128, 0.17301779163010308, 0.04943365475145802, 0.02471682737572901, 0.17301779163010308, 0.09886730950291604, 0.09886730950291604, 0.02471682737572901, 0.02471682737572901, 0.07415048212718704, 0.2224514463815611, 0.13129819046689536, 0.40399443220583187, 0.040399443220583184, 0.19189735529777013, 0.040399443220583184, 0.040399443220583184, 0.06059916483087478, 0.05049930402572898, 0.010099860805145796, 0.040399443220583184, 0.11059108543817198, 0.05529554271908599, 0.4700121131122309, 0.027647771359542994, 0.08294331407862898, 0.027647771359542994, 0.05529554271908599, 0.05529554271908599, 0.08294331407862898, 0.07544377838898725, 0.07544377838898725, 0.16974850137522132, 0.11316566758348089, 0.05658283379174044, 0.16974850137522132, 0.07544377838898725, 0.037721889194493624, 0.22633133516696177, 0.6139784961965197, 0.06139784961965197, 0.06821983291072442, 0.04093189974643465, 0.04775388303750709, 0.06139784961965197, 0.020465949873217325, 0.013643966582144883, 0.013643966582144883, 0.05457586632857953, 0.06281059372298896, 0.03140529686149448, 0.21983707803046137, 0.1884317811689669, 0.21983707803046137, 0.25124237489195583, 0.06452664763667729, 0.06452664763667729, 0.03871598858200637, 0.012905329527335458, 0.2839172496013801, 0.051621318109341834, 0.025810659054670917, 0.41297054487473467, 0.03871598858200637, 0.051366999062398944, 0.09246059831231809, 0.24656159549951492, 0.12328079774975746, 0.30820199437439366, 0.010273399812479789, 0.030820199437439365, 0.041093599249919156, 0.08218719849983831, 0.010273399812479789, 0.5396302268664356, 0.03438820073168462, 0.05555017041272131, 0.050259677992462136, 0.07406689388362842, 0.03174295452155503, 0.018516723470907104, 0.029097708311425448, 0.10051935598492427, 0.06877640146336925, 0.16380346586708053, 0.03640077019268456, 0.01820038509634228, 0.05460115528902684, 0.01820038509634228, 0.01820038509634228, 0.12740269567439597, 0.3822080870231879, 0.03640077019268456, 0.12740269567439597, 0.08044236757457097, 0.06703530631214248, 0.04469020420809499, 0.19663689851561794, 0.017876081683237996, 0.008938040841618998, 0.4558400829225689, 0.05362824504971399, 0.022345102104047495, 0.049159224628904485, 0.10888235757817762, 0.05444117878908881, 0.05444117878908881, 0.05444117878908881, 0.10888235757817762, 0.03629411919272587, 0.10888235757817762, 0.3447941323308958, 0.10888235757817762, 0.5122662013664809, 0.026961379019288467, 0.0808841370578654, 0.026961379019288467, 0.1617682741157308, 0.026961379019288467, 0.053922758038576935, 0.026961379019288467, 0.053922758038576935, 0.053922758038576935, 0.016284001803521943, 0.04885200541056583, 0.15062701668257797, 0.2035500225440243, 0.056994006312326796, 0.1669110184860999, 0.056994006312326796, 0.1628400180352194, 0.08956200991937069, 0.044781004959685344, 0.06523670681349304, 0.06523670681349304, 0.06523670681349304, 0.08698227575132404, 0.10872784468915506, 0.06523670681349304, 0.13047341362698608, 0.28269239619180314, 0.08698227575132404, 0.04349113787566202, 0.07335957428216401, 0.07859954387374717, 0.09431945264849659, 0.07859954387374717, 0.07335957428216401, 0.2515185403959909, 0.1781589661138269, 0.08907948305691345, 0.036679787141082006, 0.04191975673266515, 0.09152038041496513, 0.030506793471655042, 0.09152038041496513, 0.061013586943310084, 0.030506793471655042, 0.21354755430158529, 0.39658831513151555, 0.030506793471655042, 0.061013586943310084, 0.11253939629089221, 0.09003151703271377, 0.06752363777453534, 0.12379333591998144, 0.03376181888726767, 0.2926024303563198, 0.022507879258178442, 0.07877757740362455, 0.11253939629089221, 0.07877757740362455, 0.020226662800036845, 0.10113331400018423, 0.020226662800036845, 0.10113331400018423, 0.020226662800036845, 0.647253209601179, 0.04045332560007369, 0.020226662800036845, 0.12516897075818853, 0.041722990252729505, 0.09735364392303551, 0.11126130734061201, 0.2711994366427418, 0.09039981221424727, 0.11126130734061201, 0.09039981221424727, 0.020861495126364753, 0.041722990252729505, 0.034624668536445496, 0.06924933707289099, 0.06924933707289099, 0.4501206909737914, 0.17312334268222748, 0.06924933707289099, 0.034624668536445496, 0.06924933707289099, 0.034624668536445496, 0.11356849354689487, 0.20322783055760135, 0.20322783055760135, 0.05379560220642389, 0.28093258930021364, 0.047818313072376786, 0.017931867402141297, 0.03586373480428259, 0.04184102393832969, 0.017931867402141297, 0.14791595674429173, 0.06339255289041074, 0.08452340385388099, 0.21130850963470246, 0.021130850963470248, 0.021130850963470248, 0.29583191348858345, 0.08452340385388099, 0.06339255289041074, 0.07087996861885555, 0.33077318688799257, 0.1299466091345685, 0.08269329672199814, 0.047253312412570365, 0.08269329672199814, 0.09450662482514073, 0.047253312412570365, 0.08269329672199814, 0.035439984309427776, 0.05798977936846671, 0.13530948519308897, 0.06185576465969782, 0.3092788232984891, 0.05412379407723559, 0.06185576465969782, 0.05025780878600448, 0.0850516764070845, 0.13917547048432008, 0.05025780878600448, 0.050472558181302286, 0.6224948842360615, 0.050472558181302286, 0.025236279090651143, 0.016824186060434097, 0.016824186060434097, 0.03364837212086819, 0.050472558181302286, 0.11776930242303867, 0.008412093030217048, 0.09567454836119316, 0.05887664514534964, 0.05151706450218094, 0.1324724515770367, 0.05887664514534964, 0.08095538707485575, 0.10303412900436187, 0.1471916128633741, 0.08095538707485575, 0.19870867736555503, 0.04673210745364523, 0.04673210745364523, 0.04673210745364523, 0.2336605372682261, 0.3738568596291618, 0.04673210745364523, 0.04673210745364523, 0.04673210745364523, 0.04673210745364523, 0.05502589082706647, 0.0231687961377122, 0.0810907864819927, 0.0810907864819927, 0.043441492758210375, 0.037649293723782326, 0.5444667092362367, 0.0695063884131366, 0.03185709468935428, 0.03185709468935428, 0.11577030022095791, 0.07409299214141306, 0.1991249163800476, 0.03241568406186821, 0.15281679629166445, 0.08335461615908969, 0.07409299214141306, 0.1944941043712093, 0.041677308079544846, 0.03241568406186821, 0.0928557782238887, 0.04828500467642212, 0.2637104101558439, 0.10028424048179979, 0.21913963660837732, 0.06685616032119986, 0.05571346693433322, 0.0779988537080665, 0.03714231128955548, 0.04085654241851103, 0.12024291773885347, 0.09838056905906194, 0.269635633717429, 0.05101214691951359, 0.07651822037927039, 0.03279352301968731, 0.14210526641864502, 0.09473684427909668, 0.05829959647944411, 0.061943321259409365, 0.016038224045195348, 0.12830579236156278, 0.14434401640675812, 0.06415289618078139, 0.11226756831636743, 0.016038224045195348, 0.3047262568587116, 0.11226756831636743, 0.06415289618078139, 0.032076448090390695, 0.08467189836645916, 0.15993580802553398, 0.11289586448861222, 0.037631954829537406, 0.04703994353692176, 0.04703994353692176, 0.19756776285507138, 0.018815977414768703, 0.19756776285507138, 0.10348787578122787, 0.034554888867177586, 0.3109939998045983, 0.13821955546871034, 0.06910977773435517, 0.034554888867177586, 0.13821955546871034, 0.034554888867177586, 0.13821955546871034, 0.06910977773435517, 0.178878430579153, 0.05962614352638434, 0.20496486837194616, 0.19005833249035006, 0.0708060454375814, 0.05962614352638434, 0.10434575117117259, 0.052172875585586295, 0.04844624161518727, 0.03726633970399021, 0.09557254853014002, 0.09557254853014002, 0.07167941139760502, 0.4061833312530951, 0.11946568566267503, 0.04778627426507001, 0.16725195992774503, 0.18956835850813908, 0.055755399561217375, 0.24532375806935647, 0.06690647947346086, 0.0446043196489739, 0.0446043196489739, 0.2787769978060869, 0.02230215982448695, 0.011151079912243475, 0.0446043196489739, 0.10379270153226892, 0.10379270153226892, 0.02594817538306723, 0.07784452614920169, 0.10379270153226892, 0.02594817538306723, 0.5449116830444118, 0.11070469323066578, 0.08302851992299934, 0.027676173307666446, 0.05535234661533289, 0.08302851992299934, 0.08302851992299934, 0.05535234661533289, 0.13838086653833223, 0.38746642630733025, 0.03644557843222049, 0.11844812990471659, 0.1640051029449922, 0.12755952451277172, 0.12755952451277172, 0.0820025514724961, 0.02733418382416537, 0.2824532328497088, 0.02733418382416537, 0.018222789216110244, 0.04202896315941522, 0.08405792631883044, 0.05253620394926903, 0.11557964868839186, 0.08405792631883044, 0.08405792631883044, 0.12608688947824567, 0.325724464485468, 0.05253620394926903, 0.04202896315941522, 0.0727304850213814, 0.0363652425106907, 0.0363652425106907, 0.0363652425106907, 0.40001766761759766, 0.1454609700427628, 0.1818262125534535, 0.0727304850213814, 0.0363652425106907, 0.0363652425106907, 0.024835372099714464, 0.09934148839885786, 0.2731890930968591, 0.024835372099714464, 0.04967074419942893, 0.1490122325982868, 0.2731890930968591, 0.0745061162991434, 0.2686737955880127, 0.18807165691160888, 0.05373475911760253, 0.07522866276464354, 0.04836128320584228, 0.2418064160292114, 0.026867379558801266, 0.04836128320584228, 0.01612042773528076, 0.03224085547056152, 0.13670804097647984, 0.33449839813394006, 0.06980836134969184, 0.07562572479549949, 0.0872604516871148, 0.06689967962678801, 0.040721544120653576, 0.07853440651840332, 0.05526495273517271, 0.05526495273517271, 0.13547440591562868, 0.09289673548500253, 0.061931156990001686, 0.16256928709875443, 0.030965578495000843, 0.08128464354937721, 0.10063813010875274, 0.08128464354937721, 0.16643998441062954, 0.08128464354937721, 0.4774310684215875, 0.06986796123242744, 0.03493398061621372, 0.04657864082161829, 0.03493398061621372, 0.19795922349187775, 0.023289320410809146, 0.03493398061621372, 0.04657864082161829, 0.03493398061621372, 0.08918388153057948, 0.11466499053931647, 0.15288665405242197, 0.06370277252184248, 0.025481109008736992, 0.06370277252184248, 0.20384887206989594, 0.025481109008736992, 0.22932998107863295, 0.012740554504368496, 0.21581279366425443, 0.3453004698628071, 0.08632511746570178, 0.08632511746570178, 0.08632511746570178, 0.08632511746570178, 0.04316255873285089, 0.04316255873285089, 0.0844673181791862, 0.16243715034458883, 0.20142206642729016, 0.058477374124051976, 0.0844673181791862, 0.03898491608270132, 0.032487430068917765, 0.07796983216540264, 0.22091452446864082, 0.03898491608270132, 0.35883251956143325, 0.032621138141948475, 0.06524227628389695, 0.06524227628389695, 0.09786341442584542, 0.06524227628389695, 0.032621138141948475, 0.22834796699363932, 0.032621138141948475, 0.047838501822686286, 0.5740620218722354, 0.23919250911343143, 0.047838501822686286, 0.047838501822686286, 0.1858585184226854, 0.05068868684255056, 0.05068868684255056, 0.16896228947516853, 0.033792457895033705, 0.08448114473758427, 0.3210283500028202, 0.06758491579006741, 0.016896228947516852, 0.033792457895033705, 0.0588179162111787, 0.14176625958591788, 0.17343744523809104, 0.08144019167701666, 0.051277157722566045, 0.23979611993788238, 0.06334237130434629, 0.09048910186335184, 0.02111412376811543, 0.07691573658384906, 0.05731576105244951, 0.17194728315734853, 0.07642101473659935, 0.03821050736829967, 0.03821050736829967, 0.3629998199988469, 0.07642101473659935, 0.019105253684149837, 0.05731576105244951, 0.11463152210489902, 0.047612347881777574, 0.2380617394088879, 0.015870782627259192, 0.2380617394088879, 0.031741565254518385, 0.015870782627259192, 0.09522469576355515, 0.031741565254518385, 0.031741565254518385, 0.2539325220361471, 0.0471972647280119, 0.11799316182002975, 0.0471972647280119, 0.058996580910014876, 0.0471972647280119, 0.31858153691408037, 0.02359863236400595, 0.1887890589120476, 0.1415917941840357, 0.011799316182002976, 0.0651179241824393, 0.0651179241824393, 0.45582546927707507, 0.10418867869190288, 0.11721226352839073, 0.02604716967297572, 0.01302358483648786, 0.11721226352839073, 0.01302358483648786, 0.01302358483648786, 0.049554111410836474, 0.06607214854778196, 0.4129509284236373, 0.1486623342325094, 0.06937575597517107, 0.06276854112039286, 0.06937575597517107, 0.08259018568472745, 0.006607214854778196, 0.03303607427389098, 0.10592691593694922, 0.1641867197022713, 0.10063057014010177, 0.03707442057793223, 0.06355614956216954, 0.04237076637477969, 0.03177807478108477, 0.03707442057793223, 0.3654478599824748, 0.058259803765322075, 0.1748156796381294, 0.09157011790568684, 0.058271893212709806, 0.058271893212709806, 0.041622780866221294, 0.06659644938595406, 0.2830349098903048, 0.11654378642541961, 0.06659644938595406, 0.041622780866221294, 0.14213469543055546, 0.14213469543055546, 0.2842693908611109, 0.11370775634444437, 0.056853878172222184, 0.11370775634444437, 0.028426939086111092, 0.08528081725833328, 0.2731493603097288, 0.08194480809291865, 0.027314936030972882, 0.013657468015486441, 0.027314936030972882, 0.027314936030972882, 0.027314936030972882, 0.013657468015486441, 0.464353912526539, 0.054629872061945764, 0.10112474292188885, 0.06741649528125923, 0.033708247640629616, 0.06741649528125923, 0.033708247640629616, 0.5056237146094442, 0.033708247640629616, 0.10112474292188885, 0.10112474292188885, 0.18272625498271744, 0.39155626067725163, 0.026103750711816778, 0.052207501423633555, 0.052207501423633555, 0.07831125213545033, 0.052207501423633555, 0.026103750711816778, 0.10441500284726711, 0.026103750711816778, 0.1219073070034518, 0.2633197831274559, 0.136536183843866, 0.068268091921933, 0.0877732610424853, 0.03901033824110458, 0.07314438420207109, 0.16091764524455637, 0.03901033824110458, 0.009752584560276145, 0.04503224979408986, 0.15010749931363288, 0.19513974910772272, 0.04503224979408986, 0.030021499862726574, 0.015010749931363287, 0.39027949821544544, 0.030021499862726574, 0.09006449958817972, 0.14331405544004516, 0.1246209177739523, 0.07684956596060392, 0.2762430343989276, 0.047771351813348385, 0.03530926003595315, 0.06646448947944122, 0.11631285658902216, 0.022847168258557923, 0.08931165773799915, 0.4667182718909135, 0.11667956797272838, 0.15557275729697118, 0.07778637864848559, 0.038893189324242794, 0.038893189324242794, 0.07778637864848559, 0.038754150535782454, 0.07750830107156491, 0.05813122580367368, 0.07750830107156491, 0.05813122580367368, 0.5231810322330631, 0.09688537633945613, 0.038754150535782454, 0.038754150535782454, 0.06526119874705208, 0.09517258150611761, 0.11692631442180164, 0.04622668244582855, 0.07341884859043359, 0.37525189279554944, 0.09517258150611761, 0.05166511567474956, 0.057103548903670566, 0.02447294953014453, 0.0952154358723099, 0.11901929484038738, 0.14282315380846486, 0.039673098280129125, 0.4046656024573171, 0.031738478624103304, 0.039673098280129125, 0.015869239312051652, 0.07141157690423243, 0.031738478624103304, 0.10571801293999193, 0.07249235173028018, 0.3050719801982624, 0.132902644838847, 0.05436926379771014, 0.04530771983142511, 0.042287205175996774, 0.16008727673770207, 0.04530771983142511, 0.03322566120971175, 0.11955650970044744, 0.05977825485022372, 0.1594086796005966, 0.069741297325261, 0.05977825485022372, 0.05977825485022372, 0.08966738227533558, 0.02988912742511186, 0.278965189301044, 0.069741297325261, 0.09897862922570716, 0.451520488377945, 0.06561504634063732, 0.048933254898102414, 0.13567857039928397, 0.053381732616111725, 0.06005444919312569, 0.03447570231457216, 0.03558782174407448, 0.015569672013032585, 0.12562622120723727, 0.05798133286487874, 0.18843933181085593, 0.1981028872883357, 0.08697199929731811, 0.08697199929731811, 0.06764488834235853, 0.04831777738739895, 0.1014673325135378, 0.033822444171179265, 0.39570972122379544, 0.1637419536098464, 0.013645162800820532, 0.05458065120328213, 0.0409354884024616, 0.06822581400410266, 0.06822581400410266, 0.0818709768049232, 0.0409354884024616, 0.06822581400410266, 0.1739386140699227, 0.03478772281398454, 0.10436316844195362, 0.13915089125593816, 0.06957544562796908, 0.03478772281398454, 0.03478772281398454, 0.06957544562796908, 0.10436316844195362, 0.2783017825118763, 0.08871627605744137, 0.0709730208459531, 0.03548651042297655, 0.39035161465274204, 0.053229765634464826, 0.0709730208459531, 0.053229765634464826, 0.12420278648041792, 0.017743255211488274, 0.10645953126892965, 0.021006480413729902, 0.0630194412411897, 0.2730842453784887, 0.2310712845510289, 0.2730842453784887, 0.021006480413729902, 0.021006480413729902, 0.021006480413729902, 0.021006480413729902, 0.042012960827459804, 0.07607665465512331, 0.15215330931024662, 0.038038327327561655, 0.13693797837922195, 0.09129198558614797, 0.32712961501703025, 0.015215330931024661, 0.06846898918961097, 0.022822996396536992, 0.06846898918961097, 0.034847736419271906, 0.21779835262044941, 0.060983538733725834, 0.043559670524089884, 0.47044444166017074, 0.017423868209635953, 0.043559670524089884, 0.052271604628907856, 0.026135802314453928, 0.026135802314453928, 0.03593425448610797, 0.08624221076665912, 0.07186850897221594, 0.49589271190829, 0.07186850897221594, 0.07905535986943753, 0.06468165807499435, 0.05030795628055116, 0.04312110538332956, 0.007186850897221594, 0.11677780404070003, 0.05838890202035001, 0.016682543434385716, 0.09175398888912145, 0.025023815151578577, 0.008341271717192858, 0.10843653232350717, 0.4837937595971858, 0.016682543434385716, 0.05838890202035001, 0.05035630598891984, 0.7049882838448778, 0.08240122798186883, 0.013733537996978138, 0.022889229994963563, 0.009155691997985426, 0.027467075993956275, 0.03204492199294899, 0.022889229994963563, 0.03204492199294899, 0.10153757065576535, 0.0942848870374964, 0.05802146894615163, 0.2610966102576823, 0.24659124302114444, 0.04351610170961372, 0.02175805085480686, 0.10879025427403431, 0.029010734473075814, 0.03626341809134477, 0.10497183945253687, 0.13436395449924718, 0.08397747156202949, 0.029392115046710323, 0.3443076334043209, 0.041988735781014745, 0.09237521871823244, 0.050386482937217696, 0.05458535651531917, 0.06298310367152211, 0.05319375188149791, 0.08511000301039665, 0.46810501655718156, 0.20922875740055843, 0.024823750878032357, 0.024823750878032357, 0.02127750075259916, 0.06383250225779749, 0.01773125062716597, 0.031916251128898745, 0.03295267600415945, 0.09885802801247834, 0.21625193627729639, 0.16476338002079724, 0.12357253501559792, 0.057667183007279035, 0.055607640757019065, 0.13592978851715773, 0.06384580975805892, 0.04942901400623917, 0.10412292128824713, 0.09611346580453581, 0.03203782193484527, 0.024028366451133952, 0.024028366451133952, 0.2803309419298961, 0.07208509935340185, 0.26431203096247347, 0.016018910967422636, 0.08009455483711317, 0.20787065577902333, 0.10393532788951167, 0.034645109296503884, 0.034645109296503884, 0.3810962022615428, 0.10393532788951167, 0.10393532788951167, 0.10317121741076041, 0.09379201582796401, 0.0562752094967784, 0.37516806331185604, 0.0562752094967784, 0.0281376047483892, 0.10317121741076041, 0.037516806331185606, 0.10317121741076041, 0.0281376047483892, 0.16795025452083978, 0.3210813689368996, 0.08397512726041989, 0.054336847050859935, 0.14819140104779982, 0.07409570052389991, 0.04445742031433995, 0.04445742031433995, 0.019758853473039975, 0.03951770694607995, 0.08637695017410736, 0.03455078006964295, 0.03455078006964295, 0.0691015601392859, 0.10365234020892884, 0.1382031202785718, 0.03455078006964295, 0.1382031202785718, 0.328232410661608, 0.12320743663321167, 0.073924461979927, 0.04928297465328466, 0.073924461979927, 0.147848923959854, 0.02464148732664233, 0.36962230989963496, 0.04928297465328466, 0.073924461979927, 0.12364611220334362, 0.03462091141693621, 0.09891688976267489, 0.20277962401348354, 0.19288793503721605, 0.09891688976267489, 0.024729222440668722, 0.11870026771520988, 0.06924182283387242, 0.03462091141693621], \"Term\": [\"actin\", \"actin\", \"actin\", \"actin\", \"actin\", \"actin\", \"actin\", \"aliv\", \"aliv\", \"aliv\", \"aliv\", \"aliv\", \"aliv\", \"aliv\", \"aliv\", \"aliv\", \"aliv\", \"allow\", \"allow\", \"allow\", \"allow\", \"allow\", \"allow\", \"allow\", \"allow\", \"allow\", \"alright\", \"alright\", \"alright\", \"alright\", \"alright\", \"alright\", \"alright\", \"alright\", \"alright\", \"alright\", \"answer\", \"answer\", \"answer\", \"answer\", \"answer\", \"answer\", \"answer\", \"answer\", \"answer\", \"answer\", \"anybodi\", \"anybodi\", \"anybodi\", \"anybodi\", \"anybodi\", \"anybodi\", \"apart\", \"apart\", \"apart\", \"apart\", \"apart\", \"apart\", \"apart\", \"apart\", \"apart\", \"away\", \"away\", \"away\", \"away\", \"away\", \"away\", \"away\", \"away\", \"away\", \"away\", \"babe\", \"babe\", \"babe\", \"babe\", \"babe\", \"babe\", \"babe\", \"babe\", \"babe\", \"babe\", \"ball\", \"ball\", \"ball\", \"ball\", \"ball\", \"ball\", \"ball\", \"ball\", \"ball\", \"ball\", \"band\", \"band\", \"band\", \"band\", \"band\", \"band\", \"band\", \"band\", \"band\", \"band\", \"bang\", \"bang\", \"bang\", \"bang\", \"bang\", \"bang\", \"bang\", \"bang\", \"bank\", \"bank\", \"bank\", \"bank\", \"bank\", \"bank\", \"bank\", \"beach\", \"beach\", \"beach\", \"beach\", \"beach\", \"beach\", \"beat\", \"beat\", \"beat\", \"beat\", \"beat\", \"beat\", \"beat\", \"beat\", \"beat\", \"beat\", \"beauti\", \"beauti\", \"beauti\", \"beauti\", \"beauti\", \"beauti\", \"beauti\", \"beauti\", \"beauti\", \"beauti\", \"beer\", \"beer\", \"beer\", \"beer\", \"beer\", \"beer\", \"beer\", \"beer\", \"beer\", \"believ\", \"believ\", \"believ\", \"believ\", \"believ\", \"believ\", \"believ\", \"believ\", \"believ\", \"believ\", \"bell\", \"bell\", \"bell\", \"bell\", \"bell\", \"bell\", \"bell\", \"bell\", \"bell\", \"bend\", \"bend\", \"bend\", \"bend\", \"bend\", \"bend\", \"bend\", \"bend\", \"better\", \"better\", \"better\", \"better\", \"better\", \"better\", \"better\", \"better\", \"better\", \"better\", \"bind\", \"bind\", \"bind\", \"bind\", \"bind\", \"bind\", \"bind\", \"bird\", \"bird\", \"bird\", \"bird\", \"bird\", \"bird\", \"bird\", \"bird\", \"bird\", \"bird\", \"bitch\", \"bitch\", \"bitch\", \"bitch\", \"bitch\", \"bitch\", \"bitch\", \"bitch\", \"bitch\", \"bitch\", \"bite\", \"bite\", \"bite\", \"bite\", \"bite\", \"bite\", \"bite\", \"bite\", \"bite\", \"bite\", \"black\", \"black\", \"black\", \"black\", \"black\", \"black\", \"black\", \"black\", \"black\", \"black\", \"bless\", \"bless\", \"bless\", \"bless\", \"bless\", \"bless\", \"bless\", \"bless\", \"bless\", \"bless\", \"blood\", \"blood\", \"blood\", \"blood\", \"blood\", \"blood\", \"blood\", \"blood\", \"blood\", \"blood\", \"blow\", \"blow\", \"blow\", \"blow\", \"blow\", \"blow\", \"blow\", \"blow\", \"blow\", \"blow\", \"blue\", \"blue\", \"blue\", \"blue\", \"blue\", \"blue\", \"blue\", \"blue\", \"blue\", \"blue\", \"bodi\", \"bodi\", \"bodi\", \"bodi\", \"bodi\", \"bodi\", \"bodi\", \"bodi\", \"bodi\", \"bodi\", \"bone\", \"bone\", \"bone\", \"bone\", \"bone\", \"bone\", \"bone\", \"bone\", \"bone\", \"boot\", \"boot\", \"boot\", \"boot\", \"boot\", \"boot\", \"boot\", \"bore\", \"bore\", \"bore\", \"bore\", \"bore\", \"bore\", \"bore\", \"bore\", \"bore\", \"boss\", \"boss\", \"boss\", \"boss\", \"boss\", \"boss\", \"bout\", \"bout\", \"bout\", \"bout\", \"bout\", \"bout\", \"bout\", \"bout\", \"bout\", \"bout\", \"boy\", \"boy\", \"boy\", \"boy\", \"boy\", \"boy\", \"boy\", \"boy\", \"boy\", \"boy\", \"brand\", \"brand\", \"brand\", \"brand\", \"brand\", \"brand\", \"brand\", \"brand\", \"break\", \"break\", \"break\", \"break\", \"break\", \"break\", \"break\", \"break\", \"break\", \"break\", \"bridg\", \"bridg\", \"bridg\", \"bridg\", \"bridg\", \"bridg\", \"bridg\", \"bridg\", \"bridg\", \"bright\", \"bright\", \"bright\", \"bright\", \"bright\", \"bright\", \"bright\", \"bright\", \"bring\", \"bring\", \"bring\", \"bring\", \"bring\", \"bring\", \"bring\", \"bring\", \"bring\", \"bring\", \"brother\", \"brother\", \"brother\", \"brother\", \"brother\", \"brother\", \"brother\", \"brother\", \"brother\", \"brother\", \"build\", \"build\", \"build\", \"build\", \"build\", \"build\", \"build\", \"build\", \"build\", \"build\", \"bullet\", \"bullet\", \"bullet\", \"bullet\", \"bullet\", \"bullet\", \"bullet\", \"burn\", \"burn\", \"burn\", \"burn\", \"burn\", \"burn\", \"burn\", \"burn\", \"burn\", \"burn\", \"busi\", \"busi\", \"busi\", \"busi\", \"busi\", \"busi\", \"busi\", \"busi\", \"busi\", \"busi\", \"cake\", \"cake\", \"cake\", \"cake\", \"cake\", \"cake\", \"cake\", \"care\", \"care\", \"care\", \"care\", \"care\", \"care\", \"care\", \"care\", \"care\", \"care\", \"catch\", \"catch\", \"catch\", \"catch\", \"catch\", \"catch\", \"catch\", \"catch\", \"catch\", \"catch\", \"chanc\", \"chanc\", \"chanc\", \"chanc\", \"chanc\", \"chanc\", \"chanc\", \"chanc\", \"chanc\", \"chanc\", \"chang\", \"chang\", \"chang\", \"chang\", \"chang\", \"chang\", \"chang\", \"chang\", \"chang\", \"chang\", \"check\", \"check\", \"check\", \"check\", \"check\", \"check\", \"check\", \"check\", \"check\", \"check\", \"chick\", \"chick\", \"chick\", \"chick\", \"chick\", \"chick\", \"chick\", \"chick\", \"child\", \"child\", \"child\", \"child\", \"child\", \"child\", \"child\", \"child\", \"child\", \"church\", \"church\", \"church\", \"church\", \"church\", \"church\", \"church\", \"church\", \"citi\", \"citi\", \"citi\", \"citi\", \"citi\", \"citi\", \"citi\", \"citi\", \"citi\", \"citi\", \"class\", \"class\", \"class\", \"class\", \"class\", \"class\", \"class\", \"clean\", \"clean\", \"clean\", \"clean\", \"clean\", \"clean\", \"clean\", \"clean\", \"clean\", \"clean\", \"climb\", \"climb\", \"climb\", \"climb\", \"climb\", \"climb\", \"climb\", \"climb\", \"climb\", \"close\", \"close\", \"close\", \"close\", \"close\", \"close\", \"close\", \"close\", \"close\", \"close\", \"closer\", \"closer\", \"closer\", \"closer\", \"closer\", \"closer\", \"closer\", \"cold\", \"cold\", \"cold\", \"cold\", \"cold\", \"cold\", \"cold\", \"cold\", \"cold\", \"cold\", \"comin\", \"comin\", \"comin\", \"comin\", \"comin\", \"comin\", \"comin\", \"comin\", \"comin\", \"comin\", \"control\", \"control\", \"control\", \"control\", \"control\", \"control\", \"control\", \"control\", \"control\", \"control\", \"convers\", \"convers\", \"convers\", \"convers\", \"convers\", \"convers\", \"convers\", \"cool\", \"cool\", \"cool\", \"cool\", \"cool\", \"cool\", \"cool\", \"cool\", \"corner\", \"corner\", \"corner\", \"corner\", \"corner\", \"corner\", \"corner\", \"corner\", \"corner\", \"count\", \"count\", \"count\", \"count\", \"count\", \"count\", \"count\", \"count\", \"count\", \"countri\", \"countri\", \"countri\", \"countri\", \"countri\", \"countri\", \"countri\", \"countri\", \"coupl\", \"coupl\", \"coupl\", \"coupl\", \"coupl\", \"coupl\", \"coupl\", \"coupl\", \"coupl\", \"coupl\", \"crack\", \"crack\", \"crack\", \"crack\", \"crack\", \"crack\", \"crack\", \"crack\", \"crack\", \"crack\", \"crawl\", \"crawl\", \"crawl\", \"crawl\", \"crawl\", \"crawl\", \"crawl\", \"crazi\", \"crazi\", \"crazi\", \"crazi\", \"crazi\", \"crazi\", \"crazi\", \"crazi\", \"crazi\", \"crazi\", \"cri\", \"cri\", \"cri\", \"cri\", \"cri\", \"cri\", \"cri\", \"cri\", \"cri\", \"cri\", \"daddi\", \"daddi\", \"daddi\", \"daddi\", \"daddi\", \"daddi\", \"daddi\", \"daddi\", \"daddi\", \"daddi\", \"damn\", \"damn\", \"damn\", \"damn\", \"damn\", \"damn\", \"damn\", \"damn\", \"damn\", \"damn\", \"danc\", \"danc\", \"danc\", \"danc\", \"danc\", \"danc\", \"danc\", \"danc\", \"danc\", \"danc\", \"dark\", \"dark\", \"dark\", \"dark\", \"dark\", \"dark\", \"dark\", \"dark\", \"dark\", \"dark\", \"darl\", \"darl\", \"darl\", \"darl\", \"darl\", \"darl\", \"darl\", \"darl\", \"darl\", \"dear\", \"dear\", \"dear\", \"dear\", \"dear\", \"dear\", \"dear\", \"dear\", \"dear\", \"dear\", \"decid\", \"decid\", \"decid\", \"decid\", \"decid\", \"decid\", \"decid\", \"decid\", \"deep\", \"deep\", \"deep\", \"deep\", \"deep\", \"deep\", \"deep\", \"deep\", \"deep\", \"deep\", \"deserv\", \"deserv\", \"deserv\", \"deserv\", \"deserv\", \"deserv\", \"deserv\", \"deserv\", \"deserv\", \"desir\", \"desir\", \"desir\", \"desir\", \"desir\", \"desir\", \"desir\", \"desir\", \"diamond\", \"diamond\", \"diamond\", \"diamond\", \"diamond\", \"diamond\", \"diamond\", \"diamond\", \"diamond\", \"diamond\", \"dick\", \"dick\", \"dick\", \"dick\", \"dick\", \"dick\", \"dick\", \"dick\", \"dirt\", \"dirt\", \"dirt\", \"dirt\", \"dirt\", \"dirt\", \"dirt\", \"dirt\", \"dirt\", \"dirti\", \"dirti\", \"dirti\", \"dirti\", \"dirti\", \"dirti\", \"dirti\", \"dirti\", \"dirti\", \"doubl\", \"doubl\", \"doubl\", \"doubl\", \"doubl\", \"doubl\", \"doubl\", \"doubl\", \"doubt\", \"doubt\", \"doubt\", \"doubt\", \"doubt\", \"doubt\", \"doubt\", \"doubt\", \"doubt\", \"doubt\", \"dream\", \"dream\", \"dream\", \"dream\", \"dream\", \"dream\", \"dream\", \"dream\", \"dream\", \"dream\", \"drink\", \"drink\", \"drink\", \"drink\", \"drink\", \"drink\", \"drink\", \"drink\", \"drink\", \"drink\", \"drown\", \"drown\", \"drown\", \"drown\", \"drown\", \"drown\", \"drown\", \"drown\", \"drown\", \"drug\", \"drug\", \"drug\", \"drug\", \"drug\", \"drug\", \"drug\", \"drug\", \"drug\", \"drug\", \"dust\", \"dust\", \"dust\", \"dust\", \"dust\", \"dust\", \"dust\", \"dust\", \"dust\", \"earli\", \"earli\", \"earli\", \"earli\", \"earli\", \"earli\", \"earth\", \"earth\", \"earth\", \"earth\", \"earth\", \"earth\", \"earth\", \"earth\", \"earth\", \"earth\", \"eas\", \"eas\", \"eas\", \"eas\", \"eas\", \"eas\", \"eas\", \"eas\", \"easi\", \"easi\", \"easi\", \"easi\", \"easi\", \"easi\", \"easi\", \"easi\", \"easi\", \"easi\", \"end\", \"end\", \"end\", \"end\", \"end\", \"end\", \"end\", \"end\", \"end\", \"end\", \"engin\", \"engin\", \"engin\", \"engin\", \"engin\", \"engin\", \"engin\", \"even\", \"even\", \"even\", \"even\", \"even\", \"even\", \"even\", \"even\", \"even\", \"everybodi\", \"everybodi\", \"everybodi\", \"everybodi\", \"everybodi\", \"everybodi\", \"everybodi\", \"everybodi\", \"everybodi\", \"everybodi\", \"exact\", \"exact\", \"exact\", \"exact\", \"exact\", \"exact\", \"exact\", \"exact\", \"exact\", \"exact\", \"eye\", \"eye\", \"eye\", \"eye\", \"eye\", \"eye\", \"eye\", \"eye\", \"eye\", \"eye\", \"face\", \"face\", \"face\", \"face\", \"face\", \"face\", \"face\", \"face\", \"face\", \"face\", \"faith\", \"faith\", \"faith\", \"faith\", \"faith\", \"faith\", \"faith\", \"faith\", \"faith\", \"fall\", \"fall\", \"fall\", \"fall\", \"fall\", \"fall\", \"fall\", \"fall\", \"fall\", \"fall\", \"fantasi\", \"fantasi\", \"fantasi\", \"fantasi\", \"fantasi\", \"fantasi\", \"fantasi\", \"fast\", \"fast\", \"fast\", \"fast\", \"fast\", \"fast\", \"fast\", \"fast\", \"fast\", \"fast\", \"favorit\", \"favorit\", \"favorit\", \"favorit\", \"favorit\", \"favorit\", \"favorit\", \"favorit\", \"favorit\", \"favorit\", \"feelin\", \"feelin\", \"feelin\", \"feelin\", \"feelin\", \"feelin\", \"feelin\", \"feelin\", \"feelin\", \"feelin\", \"fever\", \"fever\", \"fever\", \"fever\", \"fever\", \"fever\", \"fever\", \"field\", \"field\", \"field\", \"field\", \"field\", \"field\", \"field\", \"field\", \"field\", \"field\", \"fight\", \"fight\", \"fight\", \"fight\", \"fight\", \"fight\", \"fight\", \"fight\", \"fight\", \"fight\", \"fill\", \"fill\", \"fill\", \"fill\", \"fill\", \"fill\", \"fill\", \"fill\", \"fill\", \"fill\", \"floor\", \"floor\", \"floor\", \"floor\", \"floor\", \"floor\", \"floor\", \"floor\", \"floor\", \"floor\", \"flower\", \"flower\", \"flower\", \"flower\", \"flower\", \"flower\", \"flower\", \"follow\", \"follow\", \"follow\", \"follow\", \"follow\", \"follow\", \"follow\", \"follow\", \"follow\", \"forev\", \"forev\", \"forev\", \"forev\", \"forev\", \"forev\", \"forev\", \"forev\", \"forev\", \"forev\", \"free\", \"free\", \"free\", \"free\", \"free\", \"free\", \"free\", \"free\", \"free\", \"free\", \"freedom\", \"freedom\", \"freedom\", \"freedom\", \"freedom\", \"freedom\", \"freedom\", \"freedom\", \"friend\", \"friend\", \"friend\", \"friend\", \"friend\", \"friend\", \"friend\", \"friend\", \"friend\", \"friend\", \"fuck\", \"fuck\", \"fuck\", \"fuck\", \"fuck\", \"fuck\", \"fuck\", \"fuck\", \"fuck\", \"fuck\", \"fuckin\", \"fuckin\", \"fuckin\", \"fuckin\", \"fuckin\", \"fuckin\", \"fuckin\", \"fuckin\", \"fuckin\", \"fuckin\", \"gentl\", \"gentl\", \"gentl\", \"gentl\", \"gentl\", \"gentl\", \"gentl\", \"get\", \"get\", \"get\", \"get\", \"get\", \"get\", \"get\", \"get\", \"get\", \"get\", \"gettin\", \"gettin\", \"gettin\", \"gettin\", \"gettin\", \"gettin\", \"gettin\", \"gettin\", \"gettin\", \"gettin\", \"ghost\", \"ghost\", \"ghost\", \"ghost\", \"ghost\", \"ghost\", \"ghost\", \"gimm\", \"gimm\", \"gimm\", \"gimm\", \"gimm\", \"gimm\", \"gimm\", \"gimm\", \"gimm\", \"girl\", \"girl\", \"girl\", \"girl\", \"girl\", \"girl\", \"girl\", \"girl\", \"girl\", \"girl\", \"glad\", \"glad\", \"glad\", \"glad\", \"glad\", \"glad\", \"glad\", \"glow\", \"glow\", \"glow\", \"glow\", \"glow\", \"glow\", \"glow\", \"glow\", \"goin\", \"goin\", \"goin\", \"goin\", \"goin\", \"goin\", \"goin\", \"goin\", \"goin\", \"goin\", \"gonna\", \"gonna\", \"gonna\", \"gonna\", \"gonna\", \"gonna\", \"gonna\", \"gonna\", \"gonna\", \"gonna\", \"good\", \"good\", \"good\", \"good\", \"good\", \"good\", \"good\", \"good\", \"good\", \"good\", \"goodby\", \"goodby\", \"goodby\", \"goodby\", \"goodby\", \"goodby\", \"goodby\", \"goodby\", \"goodby\", \"goodby\", \"gotta\", \"gotta\", \"gotta\", \"gotta\", \"gotta\", \"gotta\", \"gotta\", \"gotta\", \"gotta\", \"gotta\", \"guess\", \"guess\", \"guess\", \"guess\", \"guess\", \"guess\", \"guess\", \"guess\", \"guess\", \"guess\", \"guitar\", \"guitar\", \"guitar\", \"guitar\", \"guitar\", \"guitar\", \"guitar\", \"guitar\", \"guy\", \"guy\", \"guy\", \"guy\", \"guy\", \"hall\", \"hall\", \"hall\", \"hall\", \"hall\", \"hall\", \"hall\", \"hall\", \"hall\", \"hall\", \"hand\", \"hand\", \"hand\", \"hand\", \"hand\", \"hand\", \"hand\", \"hand\", \"hand\", \"hand\", \"hang\", \"hang\", \"hang\", \"hang\", \"hang\", \"hang\", \"hang\", \"hang\", \"hang\", \"hang\", \"happi\", \"happi\", \"happi\", \"happi\", \"happi\", \"happi\", \"happi\", \"happi\", \"happi\", \"happi\", \"hard\", \"hard\", \"hard\", \"hard\", \"hard\", \"hard\", \"hard\", \"hard\", \"hard\", \"hard\", \"harder\", \"harder\", \"harder\", \"harder\", \"harder\", \"harder\", \"harder\", \"harder\", \"hater\", \"hater\", \"hater\", \"hater\", \"hater\", \"hater\", \"hater\", \"hater\", \"hater\", \"head\", \"head\", \"head\", \"head\", \"head\", \"head\", \"head\", \"head\", \"head\", \"head\", \"heal\", \"heal\", \"heal\", \"heal\", \"heal\", \"heal\", \"heal\", \"hear\", \"hear\", \"hear\", \"hear\", \"hear\", \"hear\", \"hear\", \"hear\", \"hear\", \"hear\", \"heart\", \"heart\", \"heart\", \"heart\", \"heart\", \"heart\", \"heart\", \"heart\", \"heart\", \"heart\", \"heat\", \"heat\", \"heat\", \"heat\", \"heat\", \"heat\", \"heat\", \"heat\", \"heat\", \"heavi\", \"heavi\", \"heavi\", \"heavi\", \"heavi\", \"heavi\", \"heavi\", \"heavi\", \"heavi\", \"hell\", \"hell\", \"hell\", \"hell\", \"hell\", \"hell\", \"hell\", \"hell\", \"hell\", \"hell\", \"help\", \"help\", \"help\", \"help\", \"help\", \"help\", \"help\", \"help\", \"help\", \"help\", \"hero\", \"hero\", \"hero\", \"hero\", \"hero\", \"hero\", \"hero\", \"hero\", \"high\", \"high\", \"high\", \"high\", \"high\", \"high\", \"high\", \"high\", \"high\", \"high\", \"higher\", \"higher\", \"higher\", \"higher\", \"higher\", \"higher\", \"higher\", \"higher\", \"higher\", \"higher\", \"highway\", \"highway\", \"highway\", \"highway\", \"highway\", \"highway\", \"highway\", \"highway\", \"highway\", \"highway\", \"hoe\", \"hoe\", \"hoe\", \"hoe\", \"hoe\", \"hoe\", \"hoe\", \"hoe\", \"hoe\", \"hold\", \"hold\", \"hold\", \"hold\", \"hold\", \"hold\", \"hold\", \"hold\", \"hold\", \"hold\", \"hole\", \"hole\", \"hole\", \"hole\", \"hole\", \"hole\", \"hole\", \"hole\", \"home\", \"home\", \"home\", \"home\", \"home\", \"home\", \"home\", \"home\", \"home\", \"home\", \"hop\", \"hop\", \"hop\", \"hop\", \"hop\", \"hop\", \"hop\", \"hop\", \"hop\", \"hop\", \"hope\", \"hope\", \"hope\", \"hope\", \"hope\", \"hope\", \"hope\", \"hope\", \"hope\", \"hope\", \"hous\", \"hous\", \"hous\", \"hous\", \"hous\", \"hous\", \"hous\", \"hous\", \"hous\", \"hous\", \"hungri\", \"hungri\", \"hungri\", \"hungri\", \"hungri\", \"hungri\", \"hungri\", \"hungri\", \"insid\", \"insid\", \"insid\", \"insid\", \"insid\", \"insid\", \"insid\", \"insid\", \"insid\", \"insid\", \"instead\", \"instead\", \"instead\", \"instead\", \"instead\", \"instead\", \"instead\", \"jack\", \"jack\", \"jack\", \"jack\", \"jack\", \"jack\", \"jack\", \"jack\", \"jack\", \"jean\", \"jean\", \"jean\", \"jean\", \"jean\", \"jean\", \"jean\", \"jean\", \"jesus\", \"jesus\", \"jesus\", \"jesus\", \"jesus\", \"jesus\", \"jesus\", \"jesus\", \"jesus\", \"jesus\", \"kid\", \"kid\", \"kid\", \"kid\", \"kid\", \"kid\", \"kid\", \"kid\", \"kid\", \"kid\", \"kill\", \"kill\", \"kill\", \"kill\", \"kill\", \"kill\", \"kill\", \"kill\", \"kill\", \"kill\", \"kind\", \"kind\", \"kind\", \"kind\", \"kind\", \"kind\", \"kind\", \"kind\", \"kind\", \"kind\", \"king\", \"king\", \"king\", \"king\", \"king\", \"king\", \"king\", \"king\", \"king\", \"king\", \"knock\", \"knock\", \"knock\", \"knock\", \"knock\", \"knock\", \"knock\", \"knock\", \"knock\", \"knock\", \"ladi\", \"ladi\", \"ladi\", \"ladi\", \"ladi\", \"ladi\", \"ladi\", \"ladi\", \"ladi\", \"ladi\", \"land\", \"land\", \"land\", \"land\", \"land\", \"land\", \"land\", \"land\", \"land\", \"late\", \"late\", \"late\", \"late\", \"late\", \"late\", \"late\", \"late\", \"late\", \"late\", \"laughter\", \"laughter\", \"laughter\", \"laughter\", \"laughter\", \"laughter\", \"lay\", \"lay\", \"lay\", \"lay\", \"lay\", \"lay\", \"lay\", \"lay\", \"lay\", \"learn\", \"learn\", \"learn\", \"learn\", \"learn\", \"learn\", \"learn\", \"learn\", \"learn\", \"learn\", \"leav\", \"leav\", \"leav\", \"leav\", \"leav\", \"leav\", \"leav\", \"leav\", \"leav\", \"leav\", \"leg\", \"leg\", \"leg\", \"leg\", \"leg\", \"leg\", \"leg\", \"leg\", \"leg\", \"let\", \"let\", \"let\", \"let\", \"let\", \"let\", \"let\", \"let\", \"let\", \"lie\", \"lie\", \"lie\", \"lie\", \"lie\", \"lie\", \"lie\", \"lie\", \"lie\", \"lie\", \"life\", \"life\", \"life\", \"life\", \"life\", \"life\", \"life\", \"life\", \"life\", \"life\", \"light\", \"light\", \"light\", \"light\", \"light\", \"light\", \"light\", \"light\", \"light\", \"light\", \"line\", \"line\", \"line\", \"line\", \"line\", \"line\", \"line\", \"line\", \"line\", \"line\", \"littl\", \"littl\", \"littl\", \"littl\", \"littl\", \"littl\", \"littl\", \"littl\", \"littl\", \"littl\", \"live\", \"live\", \"live\", \"live\", \"live\", \"live\", \"live\", \"live\", \"live\", \"live\", \"load\", \"load\", \"load\", \"load\", \"load\", \"load\", \"load\", \"load\", \"lone\", \"lone\", \"lone\", \"lone\", \"lone\", \"lone\", \"lone\", \"lone\", \"lone\", \"lone\", \"long\", \"long\", \"long\", \"long\", \"long\", \"long\", \"long\", \"long\", \"long\", \"long\", \"lord\", \"lord\", \"lord\", \"lord\", \"lord\", \"lord\", \"lord\", \"lord\", \"lord\", \"lord\", \"lose\", \"lose\", \"lose\", \"lose\", \"lose\", \"lose\", \"lose\", \"lose\", \"lose\", \"lose\", \"lover\", \"lover\", \"lover\", \"lover\", \"lover\", \"lover\", \"lover\", \"lover\", \"lover\", \"lover\", \"lovin\", \"lovin\", \"lovin\", \"lovin\", \"lovin\", \"lovin\", \"lovin\", \"lovin\", \"lovin\", \"lucki\", \"lucki\", \"lucki\", \"lucki\", \"lucki\", \"lucki\", \"lucki\", \"lucki\", \"magic\", \"magic\", \"magic\", \"magic\", \"magic\", \"magic\", \"magic\", \"magic\", \"magic\", \"magic\", \"mama\", \"mama\", \"mama\", \"mama\", \"mama\", \"mama\", \"mama\", \"mama\", \"mama\", \"mama\", \"master\", \"master\", \"master\", \"master\", \"master\", \"master\", \"master\", \"master\", \"master\", \"matter\", \"matter\", \"matter\", \"matter\", \"matter\", \"matter\", \"matter\", \"matter\", \"matter\", \"matter\", \"mayb\", \"mayb\", \"mayb\", \"mayb\", \"mayb\", \"mayb\", \"mayb\", \"mayb\", \"mayb\", \"mayb\", \"mean\", \"mean\", \"mean\", \"mean\", \"mean\", \"mean\", \"mean\", \"mean\", \"mean\", \"mean\", \"memori\", \"memori\", \"memori\", \"memori\", \"memori\", \"memori\", \"memori\", \"memori\", \"memori\", \"memori\", \"mess\", \"mess\", \"mess\", \"mess\", \"mess\", \"mess\", \"mess\", \"mess\", \"mess\", \"mess\", \"messag\", \"messag\", \"messag\", \"messag\", \"messag\", \"messag\", \"messag\", \"middl\", \"middl\", \"middl\", \"middl\", \"middl\", \"middl\", \"middl\", \"middl\", \"middl\", \"middl\", \"midnight\", \"midnight\", \"midnight\", \"midnight\", \"midnight\", \"midnight\", \"midnight\", \"midnight\", \"midnight\", \"mile\", \"mile\", \"mile\", \"mile\", \"mile\", \"mile\", \"mile\", \"mile\", \"mile\", \"mile\", \"million\", \"million\", \"million\", \"million\", \"million\", \"million\", \"million\", \"million\", \"million\", \"million\", \"mind\", \"mind\", \"mind\", \"mind\", \"mind\", \"mind\", \"mind\", \"mind\", \"mind\", \"mind\", \"minut\", \"minut\", \"minut\", \"minut\", \"minut\", \"minut\", \"minut\", \"minut\", \"minut\", \"minut\", \"mirror\", \"mirror\", \"mirror\", \"mirror\", \"mirror\", \"mirror\", \"mirror\", \"mirror\", \"mirror\", \"mirror\", \"miss\", \"miss\", \"miss\", \"miss\", \"miss\", \"miss\", \"miss\", \"miss\", \"miss\", \"miss\", \"moment\", \"moment\", \"moment\", \"moment\", \"moment\", \"moment\", \"moment\", \"moment\", \"moment\", \"moment\", \"money\", \"money\", \"money\", \"money\", \"money\", \"money\", \"money\", \"money\", \"money\", \"money\", \"morn\", \"morn\", \"morn\", \"morn\", \"morn\", \"morn\", \"morn\", \"morn\", \"morn\", \"morn\", \"motherfuck\", \"motherfuck\", \"motherfuck\", \"motherfuck\", \"motherfuck\", \"motherfuck\", \"mouth\", \"mouth\", \"mouth\", \"mouth\", \"mouth\", \"mouth\", \"mouth\", \"mouth\", \"mouth\", \"mouth\", \"movin\", \"movin\", \"movin\", \"movin\", \"movin\", \"movin\", \"movin\", \"movin\", \"music\", \"music\", \"music\", \"music\", \"music\", \"music\", \"music\", \"music\", \"music\", \"music\", \"need\", \"need\", \"need\", \"need\", \"need\", \"need\", \"need\", \"need\", \"need\", \"need\", \"nice\", \"nice\", \"nice\", \"nice\", \"nice\", \"nice\", \"nice\", \"nice\", \"nice\", \"nice\", \"nigga\", \"nigga\", \"nigga\", \"nigga\", \"nigga\", \"nigga\", \"nigga\", \"nigga\", \"nigga\", \"nigga\", \"nothin\", \"nothin\", \"nothin\", \"nothin\", \"nothin\", \"nothin\", \"nothin\", \"nothin\", \"nothin\", \"nothin\", \"ocean\", \"ocean\", \"ocean\", \"ocean\", \"ocean\", \"ocean\", \"ocean\", \"ocean\", \"okay\", \"okay\", \"okay\", \"okay\", \"okay\", \"okay\", \"okay\", \"okay\", \"okay\", \"okay\", \"older\", \"older\", \"older\", \"older\", \"older\", \"older\", \"older\", \"older\", \"older\", \"older\", \"one\", \"one\", \"one\", \"one\", \"one\", \"one\", \"one\", \"open\", \"open\", \"open\", \"open\", \"open\", \"open\", \"open\", \"open\", \"open\", \"open\", \"outsid\", \"outsid\", \"outsid\", \"outsid\", \"outsid\", \"outsid\", \"outsid\", \"outsid\", \"outsid\", \"outsid\", \"page\", \"page\", \"page\", \"page\", \"page\", \"page\", \"page\", \"page\", \"pain\", \"pain\", \"pain\", \"pain\", \"pain\", \"pain\", \"pain\", \"pain\", \"pain\", \"pain\", \"paint\", \"paint\", \"paint\", \"paint\", \"paint\", \"paint\", \"paint\", \"paper\", \"paper\", \"paper\", \"paper\", \"paper\", \"paper\", \"paper\", \"paper\", \"paper\", \"parti\", \"parti\", \"parti\", \"parti\", \"parti\", \"parti\", \"parti\", \"parti\", \"parti\", \"parti\", \"peopl\", \"peopl\", \"peopl\", \"peopl\", \"peopl\", \"peopl\", \"peopl\", \"peopl\", \"peopl\", \"peopl\", \"person\", \"person\", \"person\", \"person\", \"person\", \"person\", \"place\", \"place\", \"place\", \"place\", \"place\", \"place\", \"place\", \"place\", \"place\", \"place\", \"play\", \"play\", \"play\", \"play\", \"play\", \"play\", \"play\", \"play\", \"play\", \"play\", \"poppin\", \"poppin\", \"poppin\", \"poppin\", \"poppin\", \"poppin\", \"poppin\", \"poppin\", \"power\", \"power\", \"power\", \"power\", \"power\", \"power\", \"power\", \"power\", \"power\", \"power\", \"pray\", \"pray\", \"pray\", \"pray\", \"pray\", \"pray\", \"pray\", \"pray\", \"pray\", \"pray\", \"price\", \"price\", \"price\", \"price\", \"price\", \"price\", \"price\", \"price\", \"price\", \"promis\", \"promis\", \"promis\", \"promis\", \"promis\", \"promis\", \"promis\", \"promis\", \"promis\", \"promis\", \"pussi\", \"pussi\", \"pussi\", \"pussi\", \"pussi\", \"pussi\", \"pussi\", \"pussi\", \"pussi\", \"question\", \"question\", \"question\", \"question\", \"question\", \"question\", \"question\", \"question\", \"question\", \"quit\", \"quit\", \"quit\", \"quit\", \"quit\", \"quit\", \"quit\", \"quit\", \"quit\", \"race\", \"race\", \"race\", \"race\", \"race\", \"race\", \"race\", \"race\", \"radio\", \"radio\", \"radio\", \"radio\", \"radio\", \"radio\", \"radio\", \"radio\", \"radio\", \"radio\", \"rain\", \"rain\", \"rain\", \"rain\", \"rain\", \"rain\", \"rain\", \"rain\", \"rain\", \"rain\", \"rapper\", \"rapper\", \"rapper\", \"rapper\", \"rapper\", \"rapper\", \"rapper\", \"rapper\", \"reach\", \"reach\", \"reach\", \"reach\", \"reach\", \"reach\", \"reach\", \"reach\", \"reach\", \"reach\", \"read\", \"read\", \"read\", \"read\", \"read\", \"read\", \"read\", \"read\", \"read\", \"read\", \"readi\", \"readi\", \"readi\", \"readi\", \"readi\", \"readi\", \"readi\", \"readi\", \"readi\", \"readi\", \"real\", \"real\", \"real\", \"real\", \"real\", \"real\", \"real\", \"real\", \"real\", \"real\", \"reason\", \"reason\", \"reason\", \"reason\", \"reason\", \"reason\", \"reason\", \"reason\", \"reason\", \"rememb\", \"rememb\", \"rememb\", \"rememb\", \"rememb\", \"rememb\", \"rememb\", \"rememb\", \"rememb\", \"rememb\", \"rhythm\", \"rhythm\", \"rhythm\", \"rhythm\", \"rhythm\", \"rhythm\", \"rhythm\", \"rhythm\", \"rhythm\", \"rich\", \"rich\", \"rich\", \"rich\", \"rich\", \"rich\", \"rich\", \"rich\", \"rich\", \"rid\", \"rid\", \"rid\", \"rid\", \"rid\", \"rid\", \"rid\", \"rid\", \"ride\", \"ride\", \"ride\", \"ride\", \"ride\", \"ride\", \"ride\", \"ride\", \"ride\", \"ride\", \"ring\", \"ring\", \"ring\", \"ring\", \"ring\", \"ring\", \"ring\", \"ring\", \"ring\", \"ring\", \"river\", \"river\", \"river\", \"river\", \"river\", \"river\", \"river\", \"river\", \"river\", \"river\", \"road\", \"road\", \"road\", \"road\", \"road\", \"road\", \"road\", \"road\", \"road\", \"road\", \"rock\", \"rock\", \"rock\", \"rock\", \"rock\", \"rock\", \"rock\", \"rock\", \"rock\", \"rock\", \"roll\", \"roll\", \"roll\", \"roll\", \"roll\", \"roll\", \"roll\", \"roll\", \"roll\", \"roll\", \"rollin\", \"rollin\", \"rollin\", \"rollin\", \"rollin\", \"rollin\", \"rollin\", \"rollin\", \"round\", \"round\", \"round\", \"round\", \"round\", \"round\", \"round\", \"round\", \"round\", \"round\", \"sail\", \"sail\", \"sail\", \"sail\", \"sail\", \"sail\", \"sail\", \"say\", \"say\", \"say\", \"say\", \"say\", \"say\", \"say\", \"say\", \"say\", \"say\", \"school\", \"school\", \"school\", \"school\", \"school\", \"school\", \"school\", \"school\", \"school\", \"school\", \"seat\", \"seat\", \"seat\", \"seat\", \"seat\", \"seat\", \"seat\", \"seat\", \"seat\", \"seat\", \"send\", \"send\", \"send\", \"send\", \"send\", \"send\", \"send\", \"send\", \"send\", \"send\", \"sens\", \"sens\", \"sens\", \"sens\", \"sens\", \"sens\", \"sens\", \"sens\", \"sens\", \"shadow\", \"shadow\", \"shadow\", \"shadow\", \"shadow\", \"shadow\", \"shadow\", \"shadow\", \"shadow\", \"shake\", \"shake\", \"shake\", \"shake\", \"shake\", \"shake\", \"shake\", \"shake\", \"shake\", \"shake\", \"shall\", \"shall\", \"shall\", \"shall\", \"shall\", \"shall\", \"shin\", \"shin\", \"shin\", \"shin\", \"shin\", \"shin\", \"shin\", \"shin\", \"shin\", \"shine\", \"shine\", \"shine\", \"shine\", \"shine\", \"shine\", \"shine\", \"shine\", \"shine\", \"shine\", \"shit\", \"shit\", \"shit\", \"shit\", \"shit\", \"shit\", \"shit\", \"shit\", \"shit\", \"shit\", \"shoe\", \"shoe\", \"shoe\", \"shoe\", \"shoe\", \"shoe\", \"shoe\", \"shoe\", \"shoe\", \"shoe\", \"shoot\", \"shoot\", \"shoot\", \"shoot\", \"shoot\", \"shoot\", \"shoot\", \"shoot\", \"shoot\", \"shoot\", \"show\", \"show\", \"show\", \"show\", \"show\", \"show\", \"show\", \"show\", \"show\", \"sick\", \"sick\", \"sick\", \"sick\", \"sick\", \"sick\", \"sick\", \"sick\", \"sick\", \"sick\", \"sing\", \"sing\", \"sing\", \"sing\", \"sing\", \"sing\", \"sing\", \"sing\", \"sing\", \"sing\", \"sit\", \"sit\", \"sit\", \"sit\", \"sit\", \"sit\", \"sit\", \"sit\", \"sit\", \"sit\", \"sleep\", \"sleep\", \"sleep\", \"sleep\", \"sleep\", \"sleep\", \"sleep\", \"sleep\", \"sleep\", \"sleep\", \"slip\", \"slip\", \"slip\", \"slip\", \"slip\", \"slip\", \"slip\", \"slip\", \"slip\", \"slow\", \"slow\", \"slow\", \"slow\", \"slow\", \"slow\", \"slow\", \"slow\", \"slow\", \"slow\", \"slowli\", \"slowli\", \"slowli\", \"slowli\", \"slowli\", \"slowli\", \"slowli\", \"slowli\", \"smile\", \"smile\", \"smile\", \"smile\", \"smile\", \"smile\", \"smile\", \"smile\", \"smile\", \"smile\", \"snow\", \"snow\", \"snow\", \"snow\", \"snow\", \"snow\", \"snow\", \"snow\", \"snow\", \"somebodi\", \"somebodi\", \"somebodi\", \"somebodi\", \"somebodi\", \"somebodi\", \"somebodi\", \"somebodi\", \"somebodi\", \"somebodi\", \"someday\", \"someday\", \"someday\", \"someday\", \"someday\", \"someday\", \"someday\", \"someday\", \"someday\", \"somethin\", \"somethin\", \"somethin\", \"somethin\", \"somethin\", \"somethin\", \"somethin\", \"somethin\", \"somethin\", \"somethin\", \"song\", \"song\", \"song\", \"song\", \"song\", \"song\", \"song\", \"song\", \"song\", \"song\", \"sorri\", \"sorri\", \"sorri\", \"sorri\", \"sorri\", \"sorri\", \"sorri\", \"sorri\", \"sorri\", \"sorri\", \"sound\", \"sound\", \"sound\", \"sound\", \"sound\", \"sound\", \"sound\", \"sound\", \"sound\", \"sound\", \"spirit\", \"spirit\", \"spirit\", \"spirit\", \"spirit\", \"spirit\", \"spirit\", \"spirit\", \"spirit\", \"stand\", \"stand\", \"stand\", \"stand\", \"stand\", \"stand\", \"stand\", \"stand\", \"stand\", \"stand\", \"star\", \"star\", \"star\", \"star\", \"star\", \"star\", \"star\", \"star\", \"star\", \"star\", \"start\", \"start\", \"start\", \"start\", \"start\", \"start\", \"start\", \"start\", \"start\", \"start\", \"stay\", \"stay\", \"stay\", \"stay\", \"stay\", \"stay\", \"stay\", \"stay\", \"stay\", \"stay\", \"steal\", \"steal\", \"steal\", \"steal\", \"steal\", \"steal\", \"steal\", \"steal\", \"steal\", \"steal\", \"stick\", \"stick\", \"stick\", \"stick\", \"stick\", \"stick\", \"stick\", \"stick\", \"stick\", \"stick\", \"stone\", \"stone\", \"stone\", \"stone\", \"stone\", \"stone\", \"stone\", \"stone\", \"stone\", \"stop\", \"stop\", \"stop\", \"stop\", \"stop\", \"stop\", \"stop\", \"stop\", \"stop\", \"stop\", \"storm\", \"storm\", \"storm\", \"storm\", \"storm\", \"storm\", \"storm\", \"straight\", \"straight\", \"straight\", \"straight\", \"straight\", \"straight\", \"straight\", \"straight\", \"straight\", \"straight\", \"strang\", \"strang\", \"strang\", \"strang\", \"strang\", \"strang\", \"strang\", \"strike\", \"strike\", \"strike\", \"strike\", \"strike\", \"strike\", \"strike\", \"strike\", \"strike\", \"strong\", \"strong\", \"strong\", \"strong\", \"strong\", \"strong\", \"strong\", \"strong\", \"strong\", \"strong\", \"summer\", \"summer\", \"summer\", \"summer\", \"summer\", \"summer\", \"summer\", \"summer\", \"summer\", \"summer\", \"surpris\", \"surpris\", \"surpris\", \"surpris\", \"surpris\", \"surpris\", \"surpris\", \"surpris\", \"surpris\", \"surpris\", \"surviv\", \"surviv\", \"surviv\", \"surviv\", \"surviv\", \"surviv\", \"surviv\", \"surviv\", \"sweet\", \"sweet\", \"sweet\", \"sweet\", \"sweet\", \"sweet\", \"sweet\", \"sweet\", \"sweet\", \"sweet\", \"take\", \"take\", \"take\", \"take\", \"take\", \"take\", \"take\", \"take\", \"take\", \"take\", \"talk\", \"talk\", \"talk\", \"talk\", \"talk\", \"talk\", \"talk\", \"talk\", \"talk\", \"talk\", \"talkin\", \"talkin\", \"talkin\", \"talkin\", \"talkin\", \"talkin\", \"talkin\", \"talkin\", \"talkin\", \"talkin\", \"tast\", \"tast\", \"tast\", \"tast\", \"tast\", \"tast\", \"tast\", \"tast\", \"tast\", \"tast\", \"team\", \"team\", \"team\", \"team\", \"team\", \"team\", \"team\", \"team\", \"tear\", \"tear\", \"tear\", \"tear\", \"tear\", \"tear\", \"tear\", \"tear\", \"tear\", \"tear\", \"tellin\", \"tellin\", \"tellin\", \"tellin\", \"tellin\", \"tellin\", \"tellin\", \"tellin\", \"tellin\", \"tender\", \"tender\", \"tender\", \"tender\", \"tender\", \"thank\", \"thank\", \"thank\", \"thank\", \"thank\", \"thank\", \"thank\", \"thank\", \"thank\", \"thank\", \"thing\", \"thing\", \"thing\", \"thing\", \"thing\", \"thing\", \"thing\", \"thing\", \"thing\", \"thing\", \"thousand\", \"thousand\", \"thousand\", \"thousand\", \"thousand\", \"thousand\", \"thousand\", \"thousand\", \"thousand\", \"thousand\", \"thunder\", \"thunder\", \"thunder\", \"thunder\", \"thunder\", \"thunder\", \"thunder\", \"thunder\", \"thunder\", \"thunder\", \"tire\", \"tire\", \"tire\", \"tire\", \"tire\", \"tire\", \"tire\", \"tire\", \"tire\", \"tire\", \"tomorrow\", \"tomorrow\", \"tomorrow\", \"tomorrow\", \"tomorrow\", \"tomorrow\", \"tomorrow\", \"tomorrow\", \"tomorrow\", \"tomorrow\", \"tonight\", \"tonight\", \"tonight\", \"tonight\", \"tonight\", \"tonight\", \"tonight\", \"tonight\", \"tonight\", \"tonight\", \"touch\", \"touch\", \"touch\", \"touch\", \"touch\", \"touch\", \"touch\", \"touch\", \"touch\", \"touch\", \"town\", \"town\", \"town\", \"town\", \"town\", \"town\", \"town\", \"town\", \"town\", \"town\", \"track\", \"track\", \"track\", \"track\", \"track\", \"track\", \"track\", \"track\", \"trap\", \"trap\", \"trap\", \"trap\", \"trap\", \"trap\", \"trap\", \"trap\", \"trap\", \"trap\", \"travel\", \"travel\", \"travel\", \"travel\", \"travel\", \"travel\", \"travel\", \"travel\", \"travel\", \"trip\", \"trip\", \"trip\", \"trip\", \"trip\", \"trip\", \"trip\", \"trip\", \"trip\", \"trip\", \"true\", \"true\", \"true\", \"true\", \"true\", \"true\", \"true\", \"true\", \"true\", \"true\", \"tryin\", \"tryin\", \"tryin\", \"tryin\", \"tryin\", \"tryin\", \"tryin\", \"tryin\", \"tryin\", \"turn\", \"turn\", \"turn\", \"turn\", \"turn\", \"turn\", \"turn\", \"turn\", \"turn\", \"turn\", \"type\", \"type\", \"type\", \"type\", \"type\", \"type\", \"type\", \"view\", \"view\", \"view\", \"view\", \"view\", \"view\", \"view\", \"view\", \"view\", \"wait\", \"wait\", \"wait\", \"wait\", \"wait\", \"wait\", \"wait\", \"wait\", \"wait\", \"wait\", \"wake\", \"wake\", \"wake\", \"wake\", \"wake\", \"wake\", \"wake\", \"wake\", \"wake\", \"wake\", \"walk\", \"walk\", \"walk\", \"walk\", \"walk\", \"walk\", \"walk\", \"walk\", \"walk\", \"walk\", \"wall\", \"wall\", \"wall\", \"wall\", \"wall\", \"wall\", \"wall\", \"wall\", \"wall\", \"wall\", \"wanna\", \"wanna\", \"wanna\", \"wanna\", \"wanna\", \"wanna\", \"wanna\", \"wanna\", \"wanna\", \"wanna\", \"watch\", \"watch\", \"watch\", \"watch\", \"watch\", \"watch\", \"watch\", \"watch\", \"watch\", \"watch\", \"water\", \"water\", \"water\", \"water\", \"water\", \"water\", \"water\", \"water\", \"water\", \"water\", \"week\", \"week\", \"week\", \"week\", \"week\", \"week\", \"week\", \"week\", \"week\", \"week\", \"wheel\", \"wheel\", \"wheel\", \"wheel\", \"wheel\", \"wheel\", \"wheel\", \"wheel\", \"wheel\", \"wheel\", \"whisper\", \"whisper\", \"whisper\", \"whisper\", \"whisper\", \"whisper\", \"whisper\", \"whisper\", \"whisper\", \"whisper\", \"whoa\", \"whoa\", \"whoa\", \"whoa\", \"whoa\", \"whoa\", \"whoa\", \"whoa\", \"whoa\", \"whoa\", \"wild\", \"wild\", \"wild\", \"wild\", \"wild\", \"wild\", \"wild\", \"wild\", \"wild\", \"wild\", \"wind\", \"wind\", \"wind\", \"wind\", \"wind\", \"wind\", \"wind\", \"wind\", \"wind\", \"wind\", \"woah\", \"woah\", \"woah\", \"woah\", \"woah\", \"woah\", \"woah\", \"woah\", \"woah\", \"woah\", \"woman\", \"woman\", \"woman\", \"woman\", \"woman\", \"woman\", \"woman\", \"woman\", \"woman\", \"woman\", \"wonder\", \"wonder\", \"wonder\", \"wonder\", \"wonder\", \"wonder\", \"wonder\", \"wonder\", \"wonder\", \"wonder\", \"word\", \"word\", \"word\", \"word\", \"word\", \"word\", \"word\", \"word\", \"word\", \"word\", \"work\", \"work\", \"work\", \"work\", \"work\", \"work\", \"work\", \"work\", \"work\", \"work\", \"world\", \"world\", \"world\", \"world\", \"world\", \"world\", \"world\", \"world\", \"world\", \"world\", \"worri\", \"worri\", \"worri\", \"worri\", \"worri\", \"worri\", \"worri\", \"worri\", \"worri\", \"worri\", \"wrap\", \"wrap\", \"wrap\", \"wrap\", \"wrap\", \"wrap\", \"wrap\", \"write\", \"write\", \"write\", \"write\", \"write\", \"write\", \"write\", \"write\", \"write\", \"write\", \"wrong\", \"wrong\", \"wrong\", \"wrong\", \"wrong\", \"wrong\", \"wrong\", \"wrong\", \"wrong\", \"wrong\", \"yeah\", \"yeah\", \"yeah\", \"yeah\", \"yeah\", \"yeah\", \"yeah\", \"yeah\", \"yeah\", \"yesterday\", \"yesterday\", \"yesterday\", \"yesterday\", \"yesterday\", \"yesterday\", \"yesterday\", \"yesterday\", \"yesterday\", \"young\", \"young\", \"young\", \"young\", \"young\", \"young\", \"young\", \"young\", \"young\", \"young\"]}, \"R\": 30, \"lambda.step\": 0.01, \"plot.opts\": {\"xlab\": \"PC1\", \"ylab\": \"PC2\"}, \"topic.order\": [10, 8, 3, 7, 6, 5, 4, 9, 1, 2]};\n",
              "\n",
              "function LDAvis_load_lib(url, callback){\n",
              "  var s = document.createElement('script');\n",
              "  s.src = url;\n",
              "  s.async = true;\n",
              "  s.onreadystatechange = s.onload = callback;\n",
              "  s.onerror = function(){console.warn(\"failed to load library \" + url);};\n",
              "  document.getElementsByTagName(\"head\")[0].appendChild(s);\n",
              "}\n",
              "\n",
              "if(typeof(LDAvis) !== \"undefined\"){\n",
              "   // already loaded: just create the visualization\n",
              "   !function(LDAvis){\n",
              "       new LDAvis(\"#\" + \"ldavis_el9781401659263830565558245435\", ldavis_el9781401659263830565558245435_data);\n",
              "   }(LDAvis);\n",
              "}else if(typeof define === \"function\" && define.amd){\n",
              "   // require.js is available: use it to load d3/LDAvis\n",
              "   require.config({paths: {d3: \"https://d3js.org/d3.v5\"}});\n",
              "   require([\"d3\"], function(d3){\n",
              "      window.d3 = d3;\n",
              "      LDAvis_load_lib(\"https://cdn.jsdelivr.net/gh/bmabey/pyLDAvis@3.3.1/pyLDAvis/js/ldavis.v3.0.0.js\", function(){\n",
              "        new LDAvis(\"#\" + \"ldavis_el9781401659263830565558245435\", ldavis_el9781401659263830565558245435_data);\n",
              "      });\n",
              "    });\n",
              "}else{\n",
              "    // require.js not available: dynamically load d3 & LDAvis\n",
              "    LDAvis_load_lib(\"https://d3js.org/d3.v5.js\", function(){\n",
              "         LDAvis_load_lib(\"https://cdn.jsdelivr.net/gh/bmabey/pyLDAvis@3.3.1/pyLDAvis/js/ldavis.v3.0.0.js\", function(){\n",
              "                 new LDAvis(\"#\" + \"ldavis_el9781401659263830565558245435\", ldavis_el9781401659263830565558245435_data);\n",
              "            })\n",
              "         });\n",
              "}\n",
              "</script>"
            ],
            "text/plain": [
              "PreparedData(topic_coordinates=              x         y  topics  cluster       Freq\n",
              "topic                                                \n",
              "9      0.098125 -0.012614       1        1  14.204740\n",
              "7     -0.006757  0.004347       2        1  12.758183\n",
              "2     -0.024142  0.051741       3        1  12.328874\n",
              "6      0.020906  0.011613       4        1  11.453757\n",
              "5     -0.011570  0.053607       5        1   9.148444\n",
              "4     -0.063698 -0.057920       6        1   9.042272\n",
              "3     -0.044741 -0.056126       7        1   8.666134\n",
              "8     -0.059641  0.023524       8        1   8.538442\n",
              "0      0.027098  0.019644       9        1   7.091871\n",
              "1      0.064421 -0.037815      10        1   6.767283, topic_info=      Term        Freq       Total Category  logprob  loglift\n",
              "518  nigga  687.000000  687.000000  Default  30.0000  30.0000\n",
              "437  bitch  507.000000  507.000000  Default  29.0000  29.0000\n",
              "123   life  686.000000  686.000000  Default  28.0000  28.0000\n",
              "313  gonna  850.000000  850.000000  Default  27.0000  27.0000\n",
              "521   fuck  522.000000  522.000000  Default  26.0000  26.0000\n",
              "..     ...         ...         ...      ...      ...      ...\n",
              "44    need   47.528751  775.024443  Topic10  -4.5910  -0.0985\n",
              "4    light   36.847234  443.958231  Topic10  -4.8456   0.2041\n",
              "313  gonna   37.686426  850.120979  Topic10  -4.8231  -0.4230\n",
              "75   heart   30.741357  677.147409  Topic10  -5.0267  -0.3992\n",
              "521   fuck   28.902142  522.391600  Topic10  -5.0884  -0.2014\n",
              "\n",
              "[587 rows x 6 columns], token_table=      Topic      Freq   Term\n",
              "term                        \n",
              "269       1  0.576141  actin\n",
              "269       2  0.153637  actin\n",
              "269       3  0.038409  actin\n",
              "269       4  0.076819  actin\n",
              "269       5  0.038409  actin\n",
              "...     ...       ...    ...\n",
              "249       6  0.098917  young\n",
              "249       7  0.024729  young\n",
              "249       8  0.118700  young\n",
              "249       9  0.069242  young\n",
              "249      10  0.034621  young\n",
              "\n",
              "[3490 rows x 3 columns], R=30, lambda_step=0.01, plot_opts={'xlab': 'PC1', 'ylab': 'PC2'}, topic_order=[10, 8, 3, 7, 6, 5, 4, 9, 1, 2])"
            ]
          },
          "metadata": {
            "tags": []
          },
          "execution_count": 82
        }
      ]
    },
    {
      "cell_type": "markdown",
      "metadata": {
        "id": "8HlHVudH_8A-"
      },
      "source": [
        "### Recommender ###"
      ]
    },
    {
      "cell_type": "code",
      "metadata": {
        "id": "jNmX881yc3-V"
      },
      "source": [
        "doc_lda = lda_model[bow_corpus]"
      ],
      "execution_count": null,
      "outputs": []
    },
    {
      "cell_type": "code",
      "metadata": {
        "id": "oG15x2NxwqKZ"
      },
      "source": [
        "from gensim import similarities"
      ],
      "execution_count": null,
      "outputs": []
    },
    {
      "cell_type": "code",
      "metadata": {
        "id": "a2qqwHWWFXVU"
      },
      "source": [
        "index = similarities.MatrixSimilarity(doc_lda)"
      ],
      "execution_count": 103,
      "outputs": []
    },
    {
      "cell_type": "code",
      "metadata": {
        "id": "6xuq9SVKcmBt"
      },
      "source": [
        "def song_recommender(url):\n",
        "    songs_checked = 0\n",
        "    for i in range(len(lyrics_df)):\n",
        "        recommendation_scores = []\n",
        "        if lyrics_df.iloc[i,0] == url:\n",
        "            lda_vectors = doc_lda[i]\n",
        "            sims = index[lda_vectors]\n",
        "            sims = list(enumerate(sims))\n",
        "            for sim in sims:\n",
        "                song_num = sim[0]\n",
        "                recommendation_score = [lyrics_df.iloc[song_num, 0], sim[1]]\n",
        "                recommendation_scores.append(recommendation_score)\n",
        "            \n",
        "            recommendation = sorted(recommendation_scores, key=lambda x: x[1], reverse=True)\n",
        "            print(\"Your song's most prominent tokens are:\")\n",
        "            article_tokens = bow_corpus[i]\n",
        "            sorted_tokens = sorted(article_tokens, key=lambda x: x[1], reverse=True)\n",
        "            sorted_tokens_10 = sorted_tokens[:10]\n",
        "            for i in range(len(sorted_tokens_10)):\n",
        "                print(\"Word {} (\\\"{}\\\") appears {} time(s).\".format(sorted_tokens_10[i][0], \n",
        "                                                             dictionary[sorted_tokens_10[i][0]], \n",
        "                                                             sorted_tokens_10[i][1]))\n",
        "            print('-----')\n",
        "            print(\"Your song's most prominant topic is:\")\n",
        "            print(lda_model.print_topic(max(lda_vectors, key=lambda item: item[1])[0]))\n",
        "            print('-----')\n",
        "            print('Here are your recommendations for \"{}\":'.format(url))\n",
        "            display(recommendation[1:21])\n",
        "        \n",
        "        else:\n",
        "            songs_checked +=1\n",
        "            \n",
        "        if songs_checked == len(lyrics_df):\n",
        "            book_suggestions = []\n",
        "            print('Sorry, but it looks like \"{}\" is not available.'.format(url))\n",
        "           "
      ],
      "execution_count": 84,
      "outputs": []
    },
    {
      "cell_type": "code",
      "metadata": {
        "colab": {
          "base_uri": "https://localhost:8080/",
          "height": 753
        },
        "id": "P3LJlvtVLRu5",
        "outputId": "e01fd343-8387-4f3a-f432-34d6113faa8c"
      },
      "source": [
        "song_recommender('https://genius.com/The-beatles-yesterday-lyrics')"
      ],
      "execution_count": 85,
      "outputs": [
        {
          "output_type": "stream",
          "text": [
            "Your song's most prominent tokens are:\n",
            "Word 51 (\"yesterday\") appears 9 time(s).\n",
            "Word 36 (\"away\") appears 3 time(s).\n",
            "Word 37 (\"believ\") appears 3 time(s).\n",
            "Word 38 (\"easi\") appears 2 time(s).\n",
            "Word 39 (\"game\") appears 2 time(s).\n",
            "Word 42 (\"hide\") appears 2 time(s).\n",
            "Word 43 (\"long\") appears 2 time(s).\n",
            "Word 44 (\"need\") appears 2 time(s).\n",
            "Word 45 (\"place\") appears 2 time(s).\n",
            "Word 46 (\"play\") appears 2 time(s).\n",
            "-----\n",
            "Your song's most prominant topic is:\n",
            "0.040*\"gonna\" + 0.036*\"away\" + 0.035*\"good\" + 0.025*\"thing\" + 0.022*\"gimm\" + 0.022*\"wait\" + 0.016*\"hold\" + 0.010*\"girl\" + 0.010*\"littl\" + 0.010*\"babe\"\n",
            "-----\n",
            "Here are your recommendations for \"https://genius.com/The-beatles-yesterday-lyrics\":\n"
          ],
          "name": "stdout"
        },
        {
          "output_type": "display_data",
          "data": {
            "text/plain": [
              "[['https://genius.com/Madonna-hung-up-lyrics', 1.0],\n",
              " ['https://genius.com/Mariah-carey-fantasy-bad-boy-remix-lyrics', 1.0],\n",
              " ['https://genius.com/Ac-dc-big-balls-lyrics', 1.0],\n",
              " ['https://genius.com/Drake-gods-plan-lyrics', 1.0],\n",
              " ['https://genius.com/U2-with-or-without-you-lyrics', 1.0],\n",
              " ['https://genius.com/Abba-gimme-gimme-gimme-a-man-after-midnight-lyrics',\n",
              "  1.0],\n",
              " ['https://genius.com/Fleetwood-mac-landslide-lyrics', 1.0],\n",
              " ['https://genius.com/Bee-gees-too-much-heaven-lyrics', 1.0],\n",
              " ['https://genius.com/Britney-spears-gimme-more-lyrics', 1.0],\n",
              " ['https://genius.com/Shania-twain-im-gonna-getcha-good-lyrics', 1.0],\n",
              " ['https://genius.com/Neil-diamond-brother-loves-travelling-salvation-show-lyrics',\n",
              "  1.0],\n",
              " ['https://genius.com/Dire-straits-so-far-away-lyrics', 1.0],\n",
              " ['https://genius.com/Sonny-and-cher-i-got-you-babe-lyrics', 1.0],\n",
              " ['https://genius.com/Stevie-wonder-dont-you-worry-bout-a-thing-lyrics', 1.0],\n",
              " ['https://genius.com/Linda-ronstadt-youre-no-good-lyrics', 1.0],\n",
              " ['https://genius.com/The-beach-boys-good-vibrations-lyrics', 1.0],\n",
              " ['https://genius.com/Red-hot-chili-peppers-give-it-away-lyrics', 1.0],\n",
              " ['https://genius.com/Meat-loaf-objects-in-the-rear-view-mirror-may-appear-closer-than-they-are-lyrics',\n",
              "  1.0],\n",
              " ['https://genius.com/Nirvana-lithium-lyrics', 1.0],\n",
              " ['https://genius.com/Enya-so-i-could-find-my-way-lyrics', 1.0]]"
            ]
          },
          "metadata": {
            "tags": []
          }
        }
      ]
    },
    {
      "cell_type": "code",
      "metadata": {
        "colab": {
          "base_uri": "https://localhost:8080/",
          "height": 735
        },
        "id": "DjbpOKUWkAhu",
        "outputId": "2f863a6c-3225-4ecd-988d-f8d6e5959843"
      },
      "source": [
        "song_recommender('https://genius.com/Lady-gaga-and-blackpink-sour-candy-lyrics')"
      ],
      "execution_count": 86,
      "outputs": [
        {
          "output_type": "stream",
          "text": [
            "Your song's most prominent tokens are:\n",
            "Word 346 (\"bite\") appears 8 time(s).\n",
            "Word 333 (\"insid\") appears 6 time(s).\n",
            "Word 26 (\"hard\") appears 4 time(s).\n",
            "Word 454 (\"outsid\") appears 4 time(s).\n",
            "Word 4 (\"light\") appears 2 time(s).\n",
            "Word 65 (\"littl\") appears 2 time(s).\n",
            "Word 117 (\"turn\") appears 2 time(s).\n",
            "Word 184 (\"sweet\") appears 2 time(s).\n",
            "Word 566 (\"crazi\") appears 2 time(s).\n",
            "Word 119 (\"break\") appears 1 time(s).\n",
            "-----\n",
            "Your song's most prominant topic is:\n",
            "0.039*\"heart\" + 0.018*\"break\" + 0.017*\"dream\" + 0.015*\"work\" + 0.015*\"tonight\" + 0.014*\"thing\" + 0.013*\"mean\" + 0.012*\"world\" + 0.012*\"walk\" + 0.011*\"chang\"\n",
            "-----\n",
            "Here are your recommendations for \"https://genius.com/Lady-gaga-and-blackpink-sour-candy-lyrics\":\n"
          ],
          "name": "stdout"
        },
        {
          "output_type": "display_data",
          "data": {
            "text/plain": [
              "[['https://genius.com/Linkin-park-one-more-light-lyrics', 0.9968595],\n",
              " ['https://genius.com/Elvis-presley-dont-be-cruel-lyrics', 0.9962783],\n",
              " ['https://genius.com/Rod-stewart-young-turks-lyrics', 0.98471946],\n",
              " ['https://genius.com/Aerosmith-amazing-lyrics', 0.9744961],\n",
              " ['https://genius.com/Phil-collins-in-the-air-tonight-lyrics', 0.9725146],\n",
              " ['https://genius.com/George-strait-i-cross-my-heart-lyrics', 0.9712481],\n",
              " ['https://genius.com/Garth-brooks-if-tomorrow-never-comes-lyrics', 0.9704274],\n",
              " ['https://genius.com/Stevie-wonder-sir-duke-lyrics', 0.9664204],\n",
              " ['https://genius.com/Coldplay-the-scientist-lyrics', 0.9616801],\n",
              " ['https://genius.com/Bryan-adams-heaven-lyrics', 0.95439106],\n",
              " ['https://genius.com/The-beatles-blackbird-lyrics', 0.95062566],\n",
              " ['https://genius.com/Bee-gees-stayin-alive-lyrics', 0.9450908],\n",
              " ['https://genius.com/Alicia-keys-unthinkable-remix-lyrics', 0.92848206],\n",
              " ['https://genius.com/The-beatles-eleanor-rigby-lyrics', 0.9246526],\n",
              " ['https://genius.com/Elton-john-and-kiki-dee-dont-go-breaking-my-heart-lyrics',\n",
              "  0.9246526],\n",
              " ['https://genius.com/Madonna-4-minutes-lyrics', 0.9246526],\n",
              " ['https://genius.com/Rihanna-work-lyrics', 0.9246526],\n",
              " ['https://genius.com/Rihanna-diamonds-lyrics', 0.9246526],\n",
              " ['https://genius.com/Garth-brooks-ask-me-how-i-know-lyrics', 0.9246526],\n",
              " ['https://genius.com/Frank-sinatra-the-way-you-look-tonight-lyrics',\n",
              "  0.9246526]]"
            ]
          },
          "metadata": {
            "tags": []
          }
        }
      ]
    },
    {
      "cell_type": "code",
      "metadata": {
        "colab": {
          "base_uri": "https://localhost:8080/",
          "height": 808
        },
        "id": "5t3yicIsogDQ",
        "outputId": "7367e52d-b015-4d15-aeea-9b768423cd8a"
      },
      "source": [
        "song_recommender(\"https://genius.com/Eminem-lose-yourself-lyrics\")"
      ],
      "execution_count": 87,
      "outputs": [
        {
          "output_type": "stream",
          "text": [
            "Your song's most prominent tokens are:\n",
            "Word 71 (\"better\") appears 16 time(s).\n",
            "Word 31 (\"shoot\") appears 9 time(s).\n",
            "Word 124 (\"moment\") appears 8 time(s).\n",
            "Word 85 (\"blow\") appears 7 time(s).\n",
            "Word 1 (\"chanc\") appears 6 time(s).\n",
            "Word 7 (\"music\") appears 6 time(s).\n",
            "Word 213 (\"miss\") appears 6 time(s).\n",
            "Word 406 (\"lose\") appears 6 time(s).\n",
            "Word 53 (\"grow\") appears 4 time(s).\n",
            "Word 123 (\"life\") appears 3 time(s).\n",
            "-----\n",
            "Your song's most prominant topic is:\n",
            "0.023*\"roll\" + 0.019*\"nigga\" + 0.018*\"leav\" + 0.016*\"face\" + 0.016*\"babe\" + 0.016*\"play\" + 0.015*\"girl\" + 0.014*\"bring\" + 0.014*\"okay\" + 0.011*\"hous\"\n",
            "-----\n",
            "Here are your recommendations for \"https://genius.com/Eminem-lose-yourself-lyrics\":\n"
          ],
          "name": "stdout"
        },
        {
          "output_type": "display_data",
          "data": {
            "text/plain": [
              "[['https://genius.com/Eric-clapton-lay-down-sally-lyrics', 0.90180737],\n",
              " ['https://genius.com/Flo-rida-low-lyrics', 0.88613725],\n",
              " ['https://genius.com/Gloria-estefan-and-miami-sound-machine-1-2-3-lyrics',\n",
              "  0.88204443],\n",
              " ['https://genius.com/The-rolling-stones-paint-it-black-lyrics', 0.8649461],\n",
              " ['https://genius.com/Beyonce-partition-lyrics', 0.84398973],\n",
              " ['https://genius.com/Def-leppard-rocket-lyrics', 0.81760895],\n",
              " ['https://genius.com/George-michael-faith-lyrics', 0.817442],\n",
              " ['https://genius.com/Barry-white-basketball-jones-lyrics', 0.81722224],\n",
              " ['https://genius.com/Garth-brooks-the-thunder-rolls-lyrics', 0.8171139],\n",
              " ['https://genius.com/Hercules-lillias-white-cheryl-freeman-lachanze-roz-ryan-vaneese-thomas-and-tawatha-agee-zero-to-hero-lyrics',\n",
              "  0.81478715],\n",
              " ['https://genius.com/Bryan-adams-empty-spaces-what-shall-we-do-now-lyrics',\n",
              "  0.8084644],\n",
              " ['https://genius.com/Michael-jackson-smooth-criminal-lyrics', 0.80560404],\n",
              " ['https://genius.com/Pink-floyd-another-brick-in-the-wall-pt-2-lyrics',\n",
              "  0.80560404],\n",
              " ['https://genius.com/Kygo-and-whitney-houston-higher-love-lyrics',\n",
              "  0.80560404],\n",
              " ['https://genius.com/Ac-dc-thunderstruck-lyrics', 0.80560404],\n",
              " ['https://genius.com/Barbra-streisand-people-2014-lyrics', 0.80560404],\n",
              " ['https://genius.com/Lady-gaga-poker-face-lyrics', 0.80560404],\n",
              " ['https://genius.com/Britney-spears-3-lyrics', 0.80560404],\n",
              " ['https://genius.com/Bj-the-chicago-kid-his-pain-ii-lyrics', 0.80560404],\n",
              " ['https://genius.com/Susan-egan-cheryl-freeman-lachanze-vaneese-thomas-and-lillias-white-i-wont-say-im-in-love-lyrics',\n",
              "  0.80560404]]"
            ]
          },
          "metadata": {
            "tags": []
          }
        }
      ]
    }
  ]
}